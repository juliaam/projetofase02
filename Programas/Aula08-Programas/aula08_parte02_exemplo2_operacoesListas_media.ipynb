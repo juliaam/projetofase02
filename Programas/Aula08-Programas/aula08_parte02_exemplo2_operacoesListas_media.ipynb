{
  "nbformat": 4,
  "nbformat_minor": 0,
  "metadata": {
    "colab": {
      "provenance": []
    },
    "kernelspec": {
      "name": "python3",
      "display_name": "Python 3"
    },
    "language_info": {
      "name": "python"
    }
  },
  "cells": [
    {
      "cell_type": "code",
      "execution_count": 1,
      "metadata": {
        "colab": {
          "base_uri": "https://localhost:8080/"
        },
        "id": "7a4Rn1JG00ML",
        "outputId": "4e8745cd-521f-4b13-c11c-105737fdde20"
      },
      "outputs": [
        {
          "output_type": "stream",
          "name": "stdout",
          "text": [
            "Notas:  [9.9, 2.9, 3.3, 8.8, 6.2, 4.3, 2.1, 9.3, 7.9, 1.2, 0.8, 2.8, 6.1, 4.1]\n",
            "Media:  4.978571428571428\n",
            "Quantidade de notas acima da media:  6\n",
            "Quantidade de notas abaixo da media:  8\n",
            "Quantidade de notas iguais a media:  0\n",
            "Maior nota:  9.9\n",
            "Menor nota:  0.8\n"
          ]
        }
      ],
      "source": [
        "#-----------------------------------------------------------------------------------------------------\n",
        "# LOGICA E PROGRAMACAO DE COMPUTADORES\n",
        "# AULA 08 - PARTE 2\n",
        "# Professora: Silvia Moraes\n",
        "# Exemplo 2: Listas\n",
        "# ----------------------------------------------------------------------------------------------------\n",
        "#Exemplos\n",
        "import random\n",
        "\n",
        "lista = []\n",
        "for i in range(1,16):\n",
        "  lista.append(random.randint(1,100)/10)\n",
        "print(\"Notas: \", lista)\n",
        "media = sum(lista)/len(lista)\n",
        "print(\"Media: \", media)\n",
        "acima = 0\n",
        "abaixo = 0\n",
        "for nota in lista:\n",
        "  if nota>media: acima = acima + 1\n",
        "  if nota<media: abaixo = abaixo + 1\n",
        "print(\"Quantidade de notas acima da media: \", acima)\n",
        "print(\"Quantidade de notas abaixo da media: \", abaixo)\n",
        "print(\"Quantidade de notas iguais a media: \", lista.count(media))\n",
        "print(\"Maior nota: \", max(lista))\n",
        "print(\"Menor nota: \", min(lista))"
      ]
    },
    {
      "cell_type": "code",
      "source": [],
      "metadata": {
        "id": "qNJQ4M1Q3mrl"
      },
      "execution_count": null,
      "outputs": []
    }
  ]
}