{
  "nbformat": 4,
  "nbformat_minor": 0,
  "metadata": {
    "colab": {
      "provenance": []
    },
    "kernelspec": {
      "name": "python3",
      "display_name": "Python 3"
    },
    "language_info": {
      "name": "python"
    }
  },
  "cells": [
    {
      "cell_type": "code",
      "execution_count": 26,
      "metadata": {
        "colab": {
          "base_uri": "https://localhost:8080/"
        },
        "id": "7a4Rn1JG00ML",
        "outputId": "bf0eb370-c716-4929-b1cf-e5de957227f8"
      },
      "outputs": [
        {
          "output_type": "stream",
          "name": "stdout",
          "text": [
            "Um banco de dados é uma coleção organizada de informações.\n",
            "SQL é uma linguagem de programação usada em bancos de dados relacionais. \n",
            "Um NoSQL, ou banco de dados não relacional, permite que dados não estruturados sejam manipulados.\n",
            "Palavras da sentença:  ['Um', 'banco', 'de', 'dados', 'é', 'uma', 'coleção', 'organizada', 'de', 'informações.']\n",
            "Um\n",
            "banco\n",
            "de\n",
            "dados\n",
            "é\n",
            "uma\n",
            "coleção\n",
            "organizada\n",
            "de\n",
            "informações.\n",
            "Palavras da sentença:  ['SQL', 'é', 'uma', 'linguagem', 'de', 'programação', 'usada', 'em', 'bancos', 'de', 'dados', 'relacionais.']\n",
            "SQL\n",
            "é\n",
            "uma\n",
            "linguagem\n",
            "de\n",
            "programação\n",
            "usada\n",
            "em\n",
            "bancos\n",
            "de\n",
            "dados\n",
            "relacionais.\n",
            "Palavras da sentença:  ['Um', 'NoSQL,', 'ou', 'banco', 'de', 'dados', 'não', 'relacional,', 'permite', 'que', 'dados', 'não', 'estruturados', 'sejam', 'manipulados.']\n",
            "Um\n",
            "NoSQL,\n",
            "ou\n",
            "banco\n",
            "de\n",
            "dados\n",
            "não\n",
            "relacional,\n",
            "permite\n",
            "que\n",
            "dados\n",
            "não\n",
            "estruturados\n",
            "sejam\n",
            "manipulados.\n"
          ]
        }
      ],
      "source": [
        "#-----------------------------------------------------------------------------------------------------\n",
        "# LOGICA E PROGRAMACAO DE COMPUTADORES\n",
        "# AULA 08 - PARTE 5\n",
        "# Professora: Silvia Moraes\n",
        "# Exercicio 1: lista de lista - strings\n",
        "# ----------------------------------------------------------------------------------------------------\n",
        "frases = [\"Um banco de dados é uma coleção organizada de informações.\",\n",
        "          \"SQL é uma linguagem de programação usada em bancos de dados relacionais. \", \n",
        "          \"Um NoSQL, ou banco de dados não relacional, permite que dados não estruturados sejam manipulados.\"]\n",
        "\n",
        "for sentenca in frases:\n",
        "  print(sentenca)\n",
        "\n",
        "#Tokenização : segmentação em palavras\n",
        "#Lista de lista\n",
        "\n",
        "tokens = []\n",
        "for sentenca in frases:\n",
        "  tokens.append(sentenca.split())\n",
        "\n",
        "for sentenca in tokens:\n",
        "  print(\"Palavras da sentença: \", sentenca)\n",
        "  for palavra in sentenca:\n",
        "    print(palavra)"
      ]
    },
    {
      "cell_type": "markdown",
      "source": [
        "# Nova seção"
      ],
      "metadata": {
        "id": "7dI8dKvN8776"
      }
    },
    {
      "cell_type": "code",
      "source": [],
      "metadata": {
        "id": "qNJQ4M1Q3mrl"
      },
      "execution_count": null,
      "outputs": []
    }
  ]
}