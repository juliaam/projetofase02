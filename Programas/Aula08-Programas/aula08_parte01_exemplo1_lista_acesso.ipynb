{
  "nbformat": 4,
  "nbformat_minor": 0,
  "metadata": {
    "colab": {
      "provenance": []
    },
    "kernelspec": {
      "name": "python3",
      "display_name": "Python 3"
    },
    "language_info": {
      "name": "python"
    }
  },
  "cells": [
    {
      "cell_type": "code",
      "execution_count": 47,
      "metadata": {
        "colab": {
          "base_uri": "https://localhost:8080/"
        },
        "id": "7a4Rn1JG00ML",
        "outputId": "435e6aa4-21d3-4f4d-e859-5a1d3be525ed"
      },
      "outputs": [
        {
          "output_type": "stream",
          "name": "stdout",
          "text": [
            "3\n",
            "menino\n",
            "1\n",
            "morango\n",
            "Elementos da lista\n",
            "1\n",
            "2\n",
            "3\n",
            "abacaxi\n",
            "morango\n"
          ]
        }
      ],
      "source": [
        "#-----------------------------------------------------------------------------------------------------\n",
        "# LOGICA E PROGRAMACAO DE COMPUTADORES\n",
        "# AULA 08 - PARTE 1\n",
        "# Professora: Silvia Moraes\n",
        "# Exemplo 1: Listas\n",
        "# ----------------------------------------------------------------------------------------------------\n",
        "#Exemplos\n",
        "lista = []\n",
        "lista1 = [1,2,3]\n",
        "lista2 = [\"o\",\"menino\",\"jogou\", \"a\", \"bola\"]\n",
        "lista3 = [1,2,3,\"abacaxi\",\"morango\"]\n",
        "\n",
        "#Acessando os elementos da lista\n",
        "print(lista1[2])\n",
        "print(lista2[1])\n",
        "print(lista3[0])\n",
        "print(lista3[4])\n",
        "\n",
        "#Percorrendo a lista\n",
        "print(\"Elementos da lista:\")\n",
        "for item in lista3:\n",
        "  print(item)"
      ]
    },
    {
      "cell_type": "code",
      "source": [],
      "metadata": {
        "id": "qNJQ4M1Q3mrl"
      },
      "execution_count": null,
      "outputs": []
    }
  ]
}