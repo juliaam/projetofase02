{
  "nbformat": 4,
  "nbformat_minor": 0,
  "metadata": {
    "colab": {
      "provenance": []
    },
    "kernelspec": {
      "name": "python3",
      "display_name": "Python 3"
    },
    "language_info": {
      "name": "python"
    }
  },
  "cells": [
    {
      "cell_type": "code",
      "execution_count": 12,
      "metadata": {
        "colab": {
          "base_uri": "https://localhost:8080/"
        },
        "id": "7a4Rn1JG00ML",
        "outputId": "32e9f8c0-0d9b-4dce-8a90-620328909d3c"
      },
      "outputs": [
        {
          "name": "stdout",
          "output_type": "stream",
          "text": [
            "Informe o nome: Lucas\n",
            "Informe a altura: 1.78\n",
            "Informe o nome: Marcelo\n",
            "Informe a altura: 1.89\n",
            "Informe o nome: Vitor\n",
            "Informe a altura: 1.92\n",
            "Informe o nome: Silvia\n",
            "Informe a altura: 1.63\n",
            "Informe o nome: Carlos\n",
            "Informe a altura: 1.60\n"
          ]
        }
      ],
      "source": [
        "#-----------------------------------------------------------------------------------------------------\n",
        "# LOGICA E PROGRAMACAO DE COMPUTADORES\n",
        "# AULA 08 - PARTE 4\n",
        "# Professora: Silvia Moraes\n",
        "# Exemplo 7: gravando em arquivo\n",
        "# ----------------------------------------------------------------------------------------------------\n",
        "arquivo = open(\"alturas.txt\", \"w\")\n",
        "\n",
        "cont=1\n",
        "while cont<=5:\n",
        "  nome = input(\"Informe o nome: \")\n",
        "  altura = float(input(\"Informe a altura: \"))\n",
        "  arquivo.write(nome + ' - '+ str(altura) +\"\\n\")\n",
        "  cont = cont + 1\n",
        "arquivo.close()"
      ]
    },
    {
      "cell_type": "markdown",
      "source": [
        "# Nova seção"
      ],
      "metadata": {
        "id": "7dI8dKvN8776"
      }
    },
    {
      "cell_type": "code",
      "source": [],
      "metadata": {
        "id": "qNJQ4M1Q3mrl"
      },
      "execution_count": null,
      "outputs": []
    }
  ]
}