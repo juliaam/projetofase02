{
  "nbformat": 4,
  "nbformat_minor": 0,
  "metadata": {
    "colab": {
      "provenance": []
    },
    "kernelspec": {
      "name": "python3",
      "display_name": "Python 3"
    },
    "language_info": {
      "name": "python"
    }
  },
  "cells": [
    {
      "cell_type": "code",
      "execution_count": 5,
      "metadata": {
        "colab": {
          "base_uri": "https://localhost:8080/"
        },
        "id": "7a4Rn1JG00ML",
        "outputId": "b810aa4b-e40c-4916-b60f-3af09d0a2f77"
      },
      "outputs": [
        {
          "name": "stdout",
          "output_type": "stream",
          "text": [
            "Informe o nome: maria\n",
            "Informe o nome: lucas\n",
            "Informe o nome: vitor\n"
          ]
        }
      ],
      "source": [
        "#-----------------------------------------------------------------------------------------------------\n",
        "# LOGICA E PROGRAMACAO DE COMPUTADORES\n",
        "# AULA 08 - PARTE 4\n",
        "# Professora: Silvia Moraes\n",
        "# Exemplo 4: gravado dados em um arquivo\n",
        "# ----------------------------------------------------------------------------------------------------\n",
        "ref_arquivo = open (\"dados.txt\",\"a\")\n",
        "cont=1\n",
        "while cont <=3:\n",
        "  nome = input(\"Informe o nome: \")\n",
        "  ref_arquivo.write(nome +\"\\n\")\n",
        "  cont = cont + 1\n",
        "ref_arquivo.close()"
      ]
    },
    {
      "cell_type": "markdown",
      "source": [
        "# Nova seção"
      ],
      "metadata": {
        "id": "7dI8dKvN8776"
      }
    },
    {
      "cell_type": "code",
      "source": [],
      "metadata": {
        "id": "qNJQ4M1Q3mrl"
      },
      "execution_count": null,
      "outputs": []
    }
  ]
}