{
  "nbformat": 4,
  "nbformat_minor": 0,
  "metadata": {
    "colab": {
      "provenance": []
    },
    "kernelspec": {
      "name": "python3",
      "display_name": "Python 3"
    },
    "language_info": {
      "name": "python"
    }
  },
  "cells": [
    {
      "cell_type": "code",
      "execution_count": 64,
      "metadata": {
        "colab": {
          "base_uri": "https://localhost:8080/"
        },
        "id": "7a4Rn1JG00ML",
        "outputId": "bf6827d4-825d-44f2-c628-b7ef7ef8b088"
      },
      "outputs": [
        {
          "output_type": "stream",
          "name": "stdout",
          "text": [
            "Ocorrencias de a: 5\n",
            "Soma dos elementos: 32\n",
            "Maior:  9\n",
            "Menor: 1\n",
            "['a', 'a', 'a', 'a', 'a', 'b', 'b', 'b', 'b', 'c', 'c', 'c']\n",
            "[1, 1, 2, 2, 2, 4, 5, 6, 9]\n",
            "['c', 'c', 'c', 'b', 'b', 'b', 'b', 'a', 'a', 'a', 'a', 'a']\n"
          ]
        }
      ],
      "source": [
        "#-----------------------------------------------------------------------------------------------------\n",
        "# LOGICA E PROGRAMACAO DE COMPUTADORES\n",
        "# AULA 08 - PARTE 2\n",
        "# Professora: Silvia Moraes\n",
        "# Exemplo 1: Listas\n",
        "# ----------------------------------------------------------------------------------------------------\n",
        "#Exemplos\n",
        "import random\n",
        "\n",
        "#conta ocorrencias\n",
        "lista = ['a','b','b','b','a','c','c','c','a','a','a','b']\n",
        "print(\"Ocorrencias de a:\", lista.count('a'))\n",
        "\n",
        "#soma os elementos da lista\n",
        "lista1 = [1,2,5,4,1,2,6,9,2]\n",
        "print(\"Soma dos elementos:\", sum(lista1))\n",
        "\n",
        "#maior e menor valor\n",
        "print(\"Maior: \", max(lista1))\n",
        "print(\"Menor:\", min(lista1))\n",
        "\n",
        "#ordenacao\n",
        "lista.sort()\n",
        "lista1.sort()\n",
        "print(lista)\n",
        "print(lista1)\n",
        "\n",
        "#inverte a lista\n",
        "lista.reverse()\n",
        "print(lista)"
      ]
    },
    {
      "cell_type": "code",
      "source": [],
      "metadata": {
        "id": "qNJQ4M1Q3mrl"
      },
      "execution_count": null,
      "outputs": []
    }
  ]
}