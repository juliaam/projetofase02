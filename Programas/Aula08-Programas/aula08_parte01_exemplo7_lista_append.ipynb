{
  "nbformat": 4,
  "nbformat_minor": 0,
  "metadata": {
    "colab": {
      "provenance": []
    },
    "kernelspec": {
      "name": "python3",
      "display_name": "Python 3"
    },
    "language_info": {
      "name": "python"
    }
  },
  "cells": [
    {
      "cell_type": "code",
      "execution_count": 53,
      "metadata": {
        "colab": {
          "base_uri": "https://localhost:8080/"
        },
        "id": "7a4Rn1JG00ML",
        "outputId": "dd9d3bf8-142e-471e-fe7a-6022d537908e"
      },
      "outputs": [
        {
          "output_type": "stream",
          "name": "stdout",
          "text": [
            "['linguagem', 'python', ['o', 'menino', 'jogou', 'a', 'bola']]\n",
            "['linguagem', 'python', 'o', 'menino', 'jogou', 'a', 'bola']\n"
          ]
        }
      ],
      "source": [
        "#-----------------------------------------------------------------------------------------------------\n",
        "# LOGICA E PROGRAMACAO DE COMPUTADORES\n",
        "# AULA 08 - PARTE 1\n",
        "# Professora: Silvia Moraes\n",
        "# Exemplo 7: Listas\n",
        "# ----------------------------------------------------------------------------------------------------\n",
        "#Exemplos\n",
        "lista = []\n",
        "lista1 = [\"o\",\"menino\",\"jogou\", \"a\", \"bola\"]\n",
        "lista.append(\"linguagem\")\n",
        "lista.append(\"python\")\n",
        "lista.append(lista1) #anexa a lista toda como elemento\n",
        "print(lista)\n",
        "\n",
        "lista2 = []\n",
        "lista2.append('linguagem')\n",
        "lista2.append('python')\n",
        "for item in lista1:  #anexa elemento a elemento \n",
        "  lista2.append(item)\n",
        "print(lista2)"
      ]
    },
    {
      "cell_type": "code",
      "source": [],
      "metadata": {
        "id": "qNJQ4M1Q3mrl"
      },
      "execution_count": null,
      "outputs": []
    }
  ]
}