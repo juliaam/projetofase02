{
  "nbformat": 4,
  "nbformat_minor": 0,
  "metadata": {
    "colab": {
      "provenance": []
    },
    "kernelspec": {
      "name": "python3",
      "display_name": "Python 3"
    },
    "language_info": {
      "name": "python"
    }
  },
  "cells": [
    {
      "cell_type": "code",
      "execution_count": null,
      "metadata": {
        "colab": {
          "base_uri": "https://localhost:8080/"
        },
        "id": "a8RE3yKK7zKz",
        "outputId": "33d19db7-ef53-4c55-b6df-fd2d26fb8898"
      },
      "outputs": [
        {
          "output_type": "stream",
          "name": "stdout",
          "text": [
            "Informe o valor da nota: 3.5\n",
            "Informe o valor da nota: 5.6\n",
            "Informe o valor da nota: 7.9\n",
            "Informe o valor da nota: 10\n",
            "Informe o valor da nota: 2.3\n",
            "[3.5, 5.6, 7.9, 10.0, 2.3]\n",
            "Media das notas:  5.86\n",
            "Maior nota:  10.0\n",
            "Menor nota:  2.3\n"
          ]
        }
      ],
      "source": [
        "#-----------------------------------------------------------------------------------------------------\n",
        "# LOGICA E PROGRAMACAO DE COMPUTADORES\n",
        "# AULA 08 - PARTE 2\n",
        "# Professora: Silvia Moraes\n",
        "# Exercicio 2: Listas - Media, maior, menor para notas de 20 pessoas\n",
        "# ----------------------------------------------------------------------------------------------------\n",
        "\n",
        "lista = []\n",
        "for cont in range(1,21):\n",
        "  notas = float(input(\"Informe o valor da nota: \"))\n",
        "  lista.append(notas)\n",
        "print(lista)\n",
        "media = sum(lista)/len(lista)\n",
        "maior = max(lista)\n",
        "menor = min(lista)\n",
        "print(\"Media das notas: \", media)\n",
        "print(\"Maior nota: \", maior)\n",
        "print(\"Menor nota: \", menor)"
      ]
    }
  ]
}