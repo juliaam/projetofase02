{
  "nbformat": 4,
  "nbformat_minor": 0,
  "metadata": {
    "colab": {
      "provenance": []
    },
    "kernelspec": {
      "name": "python3",
      "display_name": "Python 3"
    },
    "language_info": {
      "name": "python"
    }
  },
  "cells": [
    {
      "cell_type": "code",
      "execution_count": 13,
      "metadata": {
        "colab": {
          "base_uri": "https://localhost:8080/"
        },
        "id": "7a4Rn1JG00ML",
        "outputId": "64555780-8c07-438d-efc5-1f57b3fd5ec4"
      },
      "outputs": [
        {
          "output_type": "stream",
          "name": "stdout",
          "text": [
            "[1, 4, 9, 16, 25]\n",
            "[4, 16]\n"
          ]
        }
      ],
      "source": [
        "#-----------------------------------------------------------------------------------------------------\n",
        "# LOGICA E PROGRAMACAO DE COMPUTADORES\n",
        "# AULA 08 - PARTE 5\n",
        "# Professora: Silvia Moraes\n",
        "# Exemplo 1: list comprehensions\n",
        "# ----------------------------------------------------------------------------------------------------\n",
        "lista = [1, 2, 3, 4, 5]\n",
        "quadrados = [item ** 2 for item in lista]\n",
        "print(quadrados)\n",
        "quadrados2 = [item ** 2 for item in lista if item%2==0]\n",
        "print(quadrados2)"
      ]
    },
    {
      "cell_type": "markdown",
      "source": [
        "# Nova seção"
      ],
      "metadata": {
        "id": "7dI8dKvN8776"
      }
    },
    {
      "cell_type": "code",
      "source": [],
      "metadata": {
        "id": "qNJQ4M1Q3mrl"
      },
      "execution_count": null,
      "outputs": []
    }
  ]
}