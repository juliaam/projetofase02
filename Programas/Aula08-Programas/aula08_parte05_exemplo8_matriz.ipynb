{
  "nbformat": 4,
  "nbformat_minor": 0,
  "metadata": {
    "colab": {
      "provenance": []
    },
    "kernelspec": {
      "name": "python3",
      "display_name": "Python 3"
    },
    "language_info": {
      "name": "python"
    }
  },
  "cells": [
    {
      "cell_type": "code",
      "execution_count": 20,
      "metadata": {
        "colab": {
          "base_uri": "https://localhost:8080/"
        },
        "id": "7a4Rn1JG00ML",
        "outputId": "af28bfb5-741b-4423-c9b5-ca25b6da9a96"
      },
      "outputs": [
        {
          "output_type": "stream",
          "name": "stdout",
          "text": [
            "4\n",
            "3\n",
            "3\n",
            "Soma da diagonal secundaria:  10\n"
          ]
        }
      ],
      "source": [
        "#-----------------------------------------------------------------------------------------------------\n",
        "# LOGICA E PROGRAMACAO DE COMPUTADORES\n",
        "# AULA 08 - PARTE 5\n",
        "# Professora: Silvia Moraes\n",
        "# Exemplo 8: lista de lista - matriz\n",
        "# ----------------------------------------------------------------------------------------------------\n",
        "matriz = [[1,2,4],[2,3,5],[3,4,5]]\n",
        "soma = 0\n",
        "coluna = 2\n",
        "for elem in range(0,3):\n",
        "  print(matriz[elem][coluna])\n",
        "  soma = soma + matriz[elem][coluna]\n",
        "  coluna = coluna - 1\n",
        "print('Soma da diagonal secundaria: ', soma)"
      ]
    },
    {
      "cell_type": "markdown",
      "source": [
        "# Nova seção"
      ],
      "metadata": {
        "id": "7dI8dKvN8776"
      }
    },
    {
      "cell_type": "code",
      "source": [],
      "metadata": {
        "id": "qNJQ4M1Q3mrl"
      },
      "execution_count": null,
      "outputs": []
    }
  ]
}