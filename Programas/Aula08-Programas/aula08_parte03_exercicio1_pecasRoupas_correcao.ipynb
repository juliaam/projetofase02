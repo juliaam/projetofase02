{
  "nbformat": 4,
  "nbformat_minor": 0,
  "metadata": {
    "colab": {
      "provenance": []
    },
    "kernelspec": {
      "name": "python3",
      "display_name": "Python 3"
    },
    "language_info": {
      "name": "python"
    }
  },
  "cells": [
    {
      "cell_type": "code",
      "execution_count": null,
      "metadata": {
        "colab": {
          "base_uri": "https://localhost:8080/"
        },
        "id": "5Gui1uGGCui0",
        "outputId": "73a317f6-b060-4c68-b445-78bf98f3f9f0"
      },
      "outputs": [
        {
          "output_type": "stream",
          "name": "stdout",
          "text": [
            "Cont:  1\n",
            "Informe o tamanho usando os valor P, M e G: P\n",
            "Informe a cor usando 1-Branco, 2-Preto e 3-Azul: 1\n",
            "Cont:  2\n",
            "Informe o tamanho usando os valor P, M e G: M\n",
            "Informe a cor usando 1-Branco, 2-Preto e 3-Azul: 2\n",
            "Cont:  3\n",
            "Informe o tamanho usando os valor P, M e G: P\n",
            "Informe a cor usando 1-Branco, 2-Preto e 3-Azul: 3\n",
            "Cont:  4\n",
            "Informe o tamanho usando os valor P, M e G: M\n",
            "Informe a cor usando 1-Branco, 2-Preto e 3-Azul: 4\n",
            "Informe a cor usando 1-Branco, 2-Preto e 3-Azul: 2\n",
            "Cont:  5\n",
            "Informe o tamanho usando os valor P, M e G: M\n",
            "Informe a cor usando 1-Branco, 2-Preto e 3-Azul: 1\n",
            "[('P', 'branco'), ('M', 'preto'), ('P', 'azul'), ('M', 'preto'), ('M', 'branco')]\n",
            "[('Pequeno', 2), ('Media', 3), ('Grande', 0)]\n",
            "Tamanho que mais vendeu:  Media  vendeu  3  pecas\n",
            "Quantidade de tamanho M vendido:  ('Media', 3)\n",
            "Quantidade de pecas brancas vendidas:  2\n",
            "Quantidade de pecas pretas vendidas:  2\n",
            "Quantidade de pecas brancas vendidas:  1\n"
          ]
        }
      ],
      "source": [
        "#-----------------------------------------------------------------------------------------------------\n",
        "# LOGICA E PROGRAMACAO DE COMPUTADORES\n",
        "# AULA 08 - PARTE 3\n",
        "# Professora: Silvia Moraes\n",
        "# Exercicio1: Listas de tuplas - pecas de roupas\n",
        "# ----------------------------------------------------------------------------------------------------\n",
        "pecas = []\n",
        "for i in range(1,6):\n",
        "  print(\"Cont: \", i)\n",
        "  tamanho = input(\"Informe o tamanho usando os valor P, M e G: \")\n",
        "  while(tamanho!='P'and tamanho!='p'and tamanho!='M'and tamanho!='m'and tamanho!='G'and tamanho!='g'):\n",
        "    tamanho = input(\"Informe o tamanho usando os valor P, M e G: \")\n",
        "  op = int(input (\"Informe a cor usando 1-Branco, 2-Preto e 3-Azul: \"))\n",
        "  while(op<1 or op>3):\n",
        "    op = int(input (\"Informe a cor usando 1-Branco, 2-Preto e 3-Azul: \"))\n",
        "  if op==1: tupla = (tamanho, \"branco\")\n",
        "  else: \n",
        "    if op==2: tupla = (tamanho, \"preto\")\n",
        "    else: tupla = (tamanho,\"azul\")\n",
        "  pecas.append(tupla)\n",
        "print(pecas)\n",
        "\n",
        "contP = 0\n",
        "contM = 0\n",
        "contG = 0\n",
        "cores = []\n",
        "for item in pecas:\n",
        "  if item[0]=='P' or item[0]=='p': contP = contP + 1\n",
        "  else : \n",
        "    if item[0]=='M' or item[0]=='m': contM = contM + 1\n",
        "    else: \n",
        "      contG = contG + 1\n",
        "  cores.append(item[1])\n",
        "\n",
        "totalizaTamanho = []\n",
        "totalizaTamanho.append((\"Pequeno\", contP))\n",
        "totalizaTamanho.append((\"Media\", contM))\n",
        "totalizaTamanho.append((\"Grande\", contG))\n",
        "print(totalizaTamanho)\n",
        "maior = 0\n",
        "tamanho = \"\"\n",
        "for item in totalizaTamanho:\n",
        "  if item[1] > maior :\n",
        "    maior = item[1]\n",
        "    tamanho = item[0]\n",
        "print(\"Tamanho que mais vendeu: \", tamanho, \" vendeu \", maior, \" pecas\")\n",
        "print(\"Quantidade de tamanho M vendido: \", totalizaTamanho[1])\n",
        "print(\"Quantidade de pecas brancas vendidas: \", cores.count(\"branco\"))\n",
        "print(\"Quantidade de pecas pretas vendidas: \", cores.count(\"preto\"))\n",
        "print(\"Quantidade de pecas brancas vendidas: \", cores.count(\"azul\"))\n",
        "\n",
        "\n",
        "\n"
      ]
    }
  ]
}