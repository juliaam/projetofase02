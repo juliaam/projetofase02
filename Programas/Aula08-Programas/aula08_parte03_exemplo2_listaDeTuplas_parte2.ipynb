{
  "nbformat": 4,
  "nbformat_minor": 0,
  "metadata": {
    "colab": {
      "provenance": []
    },
    "kernelspec": {
      "name": "python3",
      "display_name": "Python 3"
    },
    "language_info": {
      "name": "python"
    }
  },
  "cells": [
    {
      "cell_type": "code",
      "execution_count": null,
      "metadata": {
        "colab": {
          "base_uri": "https://localhost:8080/"
        },
        "id": "BSmd19zbGwKt",
        "outputId": "11048011-0e13-42c8-cbbc-f50d472e6f43"
      },
      "outputs": [
        {
          "output_type": "stream",
          "name": "stdout",
          "text": [
            "[('João ', 22.333333333333332), ('Maria', 46.333333333333336), ('Carlos', 21.666666666666668)]\n",
            "Melhor jogador:  ('Maria', 46.333333333333336)\n"
          ]
        }
      ],
      "source": [
        "#-----------------------------------------------------------------------------------------------------\n",
        "# LOGICA E PROGRAMACAO DE COMPUTADORES\n",
        "# AULA 08 - PARTE 3\n",
        "# Professora: Silvia Moraes\n",
        "# Exemplo 2: Lista de tuplas - Parte 2\n",
        "# ----------------------------------------------------------------------------------------------------\n",
        "jogadores = [('João ', 50, 4, 13), ('Maria', 78, 23, 38), ('Carlos', 45, 12, 8)]\n",
        "estatisticas = []\n",
        "for dados in jogadores:\n",
        "  soma=0\n",
        "  for i in range(1,4):\n",
        "    soma = soma + dados[i]\n",
        "  media = soma/3\n",
        "  estatisticas.append((dados[0],media))\n",
        "print(estatisticas)\n",
        "\n",
        "melhor = estatisticas[0]\n",
        "for item in estatisticas:\n",
        "  if item[1]>melhor[1]: melhor = item\n",
        "print(\"Melhor jogador: \", melhor)"
      ]
    }
  ]
}