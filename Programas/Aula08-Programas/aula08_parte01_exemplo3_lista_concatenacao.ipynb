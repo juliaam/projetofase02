{
  "nbformat": 4,
  "nbformat_minor": 0,
  "metadata": {
    "colab": {
      "provenance": []
    },
    "kernelspec": {
      "name": "python3",
      "display_name": "Python 3"
    },
    "language_info": {
      "name": "python"
    }
  },
  "cells": [
    {
      "cell_type": "code",
      "execution_count": 49,
      "metadata": {
        "colab": {
          "base_uri": "https://localhost:8080/"
        },
        "id": "7a4Rn1JG00ML",
        "outputId": "2e9c9965-f4bc-4f16-b622-017ea2d5cd40"
      },
      "outputs": [
        {
          "output_type": "stream",
          "name": "stdout",
          "text": [
            "[1]\n",
            "[1, 2]\n",
            "[1, 2, 'o', 'menino', 'jogou', 'a', 'bola']\n",
            "['a', 'b', 'c', 1, 2, 'o', 'menino', 'jogou', 'a', 'bola']\n"
          ]
        }
      ],
      "source": [
        "#-----------------------------------------------------------------------------------------------------\n",
        "# LOGICA E PROGRAMACAO DE COMPUTADORES\n",
        "# AULA 08 - PARTE 1\n",
        "# Professora: Silvia Moraes\n",
        "# Exemplo 3: Listas\n",
        "# ----------------------------------------------------------------------------------------------------\n",
        "#Exemplos\n",
        "lista = []\n",
        "lista1 = [\"o\",\"menino\",\"jogou\", \"a\", \"bola\"]\n",
        "\n",
        "lista = lista + [1]\n",
        "print(lista)\n",
        "lista = lista + [2]\n",
        "print(lista)\n",
        "lista2 = lista + lista1\n",
        "print(lista2)\n",
        "lista3 = ['a','b','c'] + lista2\n",
        "print(lista3)"
      ]
    },
    {
      "cell_type": "code",
      "source": [],
      "metadata": {
        "id": "qNJQ4M1Q3mrl"
      },
      "execution_count": null,
      "outputs": []
    }
  ]
}