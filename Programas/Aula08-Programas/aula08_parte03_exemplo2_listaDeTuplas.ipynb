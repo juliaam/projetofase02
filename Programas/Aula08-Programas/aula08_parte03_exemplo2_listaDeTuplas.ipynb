{
  "nbformat": 4,
  "nbformat_minor": 0,
  "metadata": {
    "colab": {
      "provenance": []
    },
    "kernelspec": {
      "name": "python3",
      "display_name": "Python 3"
    },
    "language_info": {
      "name": "python"
    }
  },
  "cells": [
    {
      "cell_type": "code",
      "execution_count": null,
      "metadata": {
        "colab": {
          "base_uri": "https://localhost:8080/"
        },
        "id": "bswDTSQp-4Y-",
        "outputId": "0324f7e6-c230-41da-abfb-223b7c263bf3"
      },
      "outputs": [
        {
          "output_type": "stream",
          "name": "stdout",
          "text": [
            "Cont:  1\n",
            "Informe o nome do jogador: João \n",
            "Quantos pontos ele fez? 50\n",
            "Quantas assistencias ele fez? 4\n",
            "Quantos rebotes ele pegou? 13\n",
            "Cont:  2\n",
            "Informe o nome do jogador: Maria\n",
            "Quantos pontos ele fez? 78\n",
            "Quantas assistencias ele fez? 23\n",
            "Quantos rebotes ele pegou? 38\n",
            "Cont:  3\n",
            "Informe o nome do jogador: Carlos\n",
            "Quantos pontos ele fez? 45\n",
            "Quantas assistencias ele fez? 12\n",
            "Quantos rebotes ele pegou? 10\n",
            "[('João ', 50, 4, 13), ('Maria', 78, 23, 38), ('Carlos', 45, 12, 10)]\n"
          ]
        }
      ],
      "source": [
        "#-----------------------------------------------------------------------------------------------------\n",
        "# LOGICA E PROGRAMACAO DE COMPUTADORES\n",
        "# AULA 08 - PARTE 3\n",
        "# Professora: Silvia Moraes\n",
        "# Exemplo 2: Lista de tuplas\n",
        "# ----------------------------------------------------------------------------------------------------\n",
        "jogadores = []\n",
        "cont = 1\n",
        "while cont<=3:\n",
        "  print(\"Cont: \", cont)\n",
        "  nome = input(\"Informe o nome do jogador: \")\n",
        "  pontos = int(input(\"Quantos pontos ele fez? \"))\n",
        "  assistencias = int(input(\"Quantas assistencias ele fez? \"))\n",
        "  rebotes = int(input(\"Quantos rebotes ele pegou? \"))\n",
        "  jogadores.append((nome,pontos,assistencias,rebotes))\n",
        "  cont = cont + 1\n",
        "print(jogadores)\n",
        "\n",
        "#jogadores = [('João ', 50, 4, 13), ('Maria', 78, 23, 38), ('Carlos', 45, 12, 10)]\n",
        "estatisticas = []\n",
        "for tupla in jogadores:\n",
        "  soma=0\n",
        "  for i in range(1,4):\n",
        "    print(tupla[i])\n",
        "    soma = soma + tupla[i]\n",
        "  "
      ]
    }
  ]
}