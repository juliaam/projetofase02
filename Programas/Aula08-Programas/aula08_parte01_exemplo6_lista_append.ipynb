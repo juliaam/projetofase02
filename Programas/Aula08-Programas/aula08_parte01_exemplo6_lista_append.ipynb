{
  "nbformat": 4,
  "nbformat_minor": 0,
  "metadata": {
    "colab": {
      "provenance": []
    },
    "kernelspec": {
      "name": "python3",
      "display_name": "Python 3"
    },
    "language_info": {
      "name": "python"
    }
  },
  "cells": [
    {
      "cell_type": "code",
      "execution_count": 52,
      "metadata": {
        "colab": {
          "base_uri": "https://localhost:8080/"
        },
        "id": "7a4Rn1JG00ML",
        "outputId": "08b7e5c6-15b0-40d1-9044-84b0a16b6afb"
      },
      "outputs": [
        {
          "output_type": "stream",
          "name": "stdout",
          "text": [
            "['linguagem', 'python', ['o', 'menino', 'jogou', 'a', 'bola']]\n"
          ]
        }
      ],
      "source": [
        "#-----------------------------------------------------------------------------------------------------\n",
        "# LOGICA E PROGRAMACAO DE COMPUTADORES\n",
        "# AULA 08 - PARTE 1\n",
        "# Professora: Silvia Moraes\n",
        "# Exemplo 6: Listas\n",
        "# ----------------------------------------------------------------------------------------------------\n",
        "#Exemplos\n",
        "lista = []\n",
        "lista1 = [\"o\",\"menino\",\"jogou\", \"a\", \"bola\"]\n",
        "lista.append(\"linguagem\")\n",
        "lista.append(\"python\")\n",
        "lista.append(lista1)\n",
        "print(lista)"
      ]
    },
    {
      "cell_type": "code",
      "source": [],
      "metadata": {
        "id": "qNJQ4M1Q3mrl"
      },
      "execution_count": null,
      "outputs": []
    }
  ]
}