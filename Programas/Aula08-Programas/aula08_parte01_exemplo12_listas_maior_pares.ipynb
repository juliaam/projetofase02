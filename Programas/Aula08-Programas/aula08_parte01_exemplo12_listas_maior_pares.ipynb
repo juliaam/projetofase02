{
  "nbformat": 4,
  "nbformat_minor": 0,
  "metadata": {
    "colab": {
      "provenance": []
    },
    "kernelspec": {
      "name": "python3",
      "display_name": "Python 3"
    },
    "language_info": {
      "name": "python"
    }
  },
  "cells": [
    {
      "cell_type": "code",
      "execution_count": 58,
      "metadata": {
        "colab": {
          "base_uri": "https://localhost:8080/"
        },
        "id": "7a4Rn1JG00ML",
        "outputId": "b087846e-48f1-4394-c945-1d47bf6d999f"
      },
      "outputs": [
        {
          "output_type": "stream",
          "name": "stdout",
          "text": [
            "[464, 221, 253, 62, 352, 414, 216, 296, 412, 195, 218, 363, 168, 473, 119, 261, 451, 188, 317, 262, 468, 310, 68, 462, 197, 206, 361, 465, 348]\n",
            "Maior:  473\n",
            "Quantidade de pares:  17\n"
          ]
        }
      ],
      "source": [
        "#-----------------------------------------------------------------------------------------------------\n",
        "# LOGICA E PROGRAMACAO DE COMPUTADORES\n",
        "# AULA 08 - PARTE 1\n",
        "# Professora: Silvia Moraes\n",
        "# Exemplo 12: Listas\n",
        "# ----------------------------------------------------------------------------------------------------\n",
        "#Exemplos\n",
        "import random\n",
        "lista = []\n",
        "for i in range(1,30):\n",
        "  lista.append(random.randint(1,500))\n",
        "print(lista)\n",
        "\n",
        "maior = lista[0]\n",
        "pares = 0\n",
        "for num in lista:\n",
        "  if num > maior: maior = num\n",
        "  if num%2 ==0 : pares = pares + 1\n",
        "print(\"Maior: \", maior)\n",
        "print(\"Quantidade de pares: \", pares)"
      ]
    },
    {
      "cell_type": "code",
      "source": [],
      "metadata": {
        "id": "qNJQ4M1Q3mrl"
      },
      "execution_count": null,
      "outputs": []
    }
  ]
}