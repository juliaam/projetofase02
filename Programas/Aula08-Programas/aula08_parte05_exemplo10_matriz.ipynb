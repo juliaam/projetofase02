{
  "nbformat": 4,
  "nbformat_minor": 0,
  "metadata": {
    "colab": {
      "provenance": []
    },
    "kernelspec": {
      "name": "python3",
      "display_name": "Python 3"
    },
    "language_info": {
      "name": "python"
    }
  },
  "cells": [
    {
      "cell_type": "code",
      "execution_count": 22,
      "metadata": {
        "colab": {
          "base_uri": "https://localhost:8080/"
        },
        "id": "7a4Rn1JG00ML",
        "outputId": "1ca73f57-d121-4bdc-848f-16d3addb6670"
      },
      "outputs": [
        {
          "output_type": "stream",
          "name": "stdout",
          "text": [
            "Matriz original\n",
            "[1, 2, 4]\n",
            "[2, 3, 5]\n",
            "[3, 4, 5]\n",
            "Matriz apos a troca da coluna 0 com a coluna 1\n",
            "[2, 1, 4]\n",
            "[3, 2, 5]\n",
            "[4, 3, 5]\n"
          ]
        }
      ],
      "source": [
        "#-----------------------------------------------------------------------------------------------------\n",
        "# LOGICA E PROGRAMACAO DE COMPUTADORES\n",
        "# AULA 08 - PARTE 5\n",
        "# Professora: Silvia Moraes\n",
        "# Exemplo 10: lista de lista - matriz\n",
        "# ----------------------------------------------------------------------------------------------------\n",
        "matriz = [[1,2,4],[2,3,5],[3,4,5]]\n",
        "print('Matriz original')\n",
        "for linha in matriz:\n",
        "  print(linha)\n",
        "\n",
        "for e in range(0,3):\n",
        "  aux = matriz[e][0]\n",
        "  matriz[e][0] = matriz[e][1]\n",
        "  matriz[e][1] = aux\n",
        "print('Matriz apos a troca da coluna 0 com a coluna 1')\n",
        "for linha in matriz:\n",
        "  print(linha)"
      ]
    },
    {
      "cell_type": "markdown",
      "source": [
        "# Nova seção"
      ],
      "metadata": {
        "id": "7dI8dKvN8776"
      }
    },
    {
      "cell_type": "code",
      "source": [],
      "metadata": {
        "id": "qNJQ4M1Q3mrl"
      },
      "execution_count": null,
      "outputs": []
    }
  ]
}