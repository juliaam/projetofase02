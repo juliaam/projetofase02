{
  "nbformat": 4,
  "nbformat_minor": 0,
  "metadata": {
    "colab": {
      "provenance": []
    },
    "kernelspec": {
      "name": "python3",
      "display_name": "Python 3"
    },
    "language_info": {
      "name": "python"
    }
  },
  "cells": [
    {
      "cell_type": "code",
      "execution_count": null,
      "metadata": {
        "colab": {
          "base_uri": "https://localhost:8080/"
        },
        "id": "zUJfDCJUO4KN",
        "outputId": "df87a73f-29d9-4d17-8720-ae267889e7b2"
      },
      "outputs": [
        {
          "name": "stdout",
          "output_type": "stream",
          "text": [
            "Informe o nome: Lucas\n",
            "Informe a altura: 1.78\n",
            "Informe o nome: Marcelo\n",
            "Informe a altura: 1.89\n",
            "Informe o nome: Vitor\n",
            "Informe a altura: 1.92\n",
            "Informe o nome: Silvia\n",
            "Informe a altura: 1.63\n",
            "Informe o nome: Carlos\n",
            "Informe a altura: 1.6\n"
          ]
        }
      ],
      "source": [
        "#-----------------------------------------------------------------------------------------------------\n",
        "# LOGICA E PROGRAMACAO DE COMPUTADORES\n",
        "# AULA 08 - PARTE 4\n",
        "# Professora: Silvia Moraes\n",
        "# Exemplo 7: gravando em arquivo\n",
        "# ----------------------------------------------------------------------------------------------------\n",
        "\n",
        "arquivo = open(\"alturas.txt\", \"w\")\n",
        "\n",
        "cont=1\n",
        "while cont<=5:\n",
        "  nome = input(\"Informe o nome: \")\n",
        "  altura = float(input(\"Informe a altura: \"))\n",
        "  arquivo.write(nome + ' - '+ str(altura) +\"\\n\")\n",
        "  cont = cont + 1\n",
        "arquivo.close()\n",
        "\n"
      ]
    },
    {
      "cell_type": "code",
      "source": [
        "lista = []\n",
        "soma = 0\n",
        "nomeAlto =\"\"\n",
        "alturaAlto = 0\n",
        "arquivo = open(\"alturas.txt\", \"r\")\n",
        "for linha in arquivo:\n",
        "  saida =linha[:-1].split('-')\n",
        "  altura = float(saida[1])\n",
        "  nome = saida[0]\n",
        "  dados = (nome, altura)\n",
        "  soma = soma + altura\n",
        "  \n",
        "  if altura >alturaAlto:\n",
        "    alturaAlto = altura\n",
        "    nomeAlto = nome\n",
        "  lista.append(dados)\n",
        "arquivo.close()\n",
        "print(lista)\n",
        "print(\"Media: \", soma/len(lista))\n",
        "print(\"Nome do mais alto:\" , nomeAlto)"
      ],
      "metadata": {
        "colab": {
          "base_uri": "https://localhost:8080/"
        },
        "id": "XbxsM4jciZhq",
        "outputId": "ef1c037c-3557-4edb-c3d3-c2837b2be85a"
      },
      "execution_count": null,
      "outputs": [
        {
          "output_type": "stream",
          "name": "stdout",
          "text": [
            "[('Lucas ', 1.78), ('Marcelo ', 1.89), ('Vitor ', 1.92), ('Silvia ', 1.63), ('Carlos ', 1.6)]\n",
            "Media:  1.764\n",
            "Nome do mais alto: Vitor \n"
          ]
        }
      ]
    }
  ]
}