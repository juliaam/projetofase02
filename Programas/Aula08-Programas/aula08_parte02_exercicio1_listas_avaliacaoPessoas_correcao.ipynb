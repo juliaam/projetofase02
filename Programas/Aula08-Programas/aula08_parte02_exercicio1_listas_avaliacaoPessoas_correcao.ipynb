{
  "nbformat": 4,
  "nbformat_minor": 0,
  "metadata": {
    "colab": {
      "provenance": []
    },
    "kernelspec": {
      "name": "python3",
      "display_name": "Python 3"
    },
    "language_info": {
      "name": "python"
    }
  },
  "cells": [
    {
      "cell_type": "code",
      "execution_count": null,
      "metadata": {
        "colab": {
          "base_uri": "https://localhost:8080/"
        },
        "id": "rFBwsB0tJvVy",
        "outputId": "e5e0cd2f-43e4-4c59-8ae0-3fde6c98295c"
      },
      "outputs": [
        {
          "output_type": "stream",
          "name": "stdout",
          "text": [
            "Notas:  [5, 5, 2, 5, 4, 5, 3, 4, 4, 4, 1, 4, 3, 4, 5, 3, 6, 2, 5, 5, 5, 2, 2, 4]\n",
            "Excelente  -  8\n",
            "Bom  -  7\n",
            "Regular  -  3\n",
            "Ruim  -  4\n",
            "Pessimo  -  1\n",
            "Conceito mais votado:  Excelente\n",
            "Recebeu  8  votos\n"
          ]
        }
      ],
      "source": [
        "#-----------------------------------------------------------------------------------------------------\n",
        "# LOGICA E PROGRAMACAO DE COMPUTADORES\n",
        "# AULA 08 - PARTE 2\n",
        "# Professora: Silvia Moraes\n",
        "# Exercicio1: Listas - avaliacao de pessoas\n",
        "# ----------------------------------------------------------------------------------------------------\n",
        "\n",
        "import random\n",
        "lista = [] #lista vazia\n",
        "for i in range(1,26):\n",
        "  lista.append(random.randint(1,6))\n",
        "print(\"Notas: \" , lista)\n",
        "\n",
        "conceito = []\n",
        "quantidade = []\n",
        "conceito.append('Excelente')\n",
        "quantidade.append(lista.count(5))\n",
        "conceito.append('Bom')\n",
        "quantidade.append(lista.count(4))\n",
        "conceito.append('Regular')\n",
        "quantidade.append(lista.count(3))\n",
        "conceito.append('Ruim')\n",
        "quantidade.append(lista.count(2))\n",
        "conceito.append('Pessimo')\n",
        "quantidade.append(lista.count(1))\n",
        "maiorQuantidade = quantidade[0]\n",
        "maiorConceito = conceito[0]\n",
        "for i in range(0,5):\n",
        "  print(conceito[i],\" - \", quantidade[i])\n",
        "  if quantidade[i] > maiorQuantidade:\n",
        "    maiorQuantidade = quantidade[i]\n",
        "    maiorConceito = conceito[i]\n",
        "print(\"Conceito mais votado: \", maiorConceito)\n",
        "print(\"Recebeu \", maiorQuantidade, \" votos\")\n",
        "\n"
      ]
    }
  ]
}