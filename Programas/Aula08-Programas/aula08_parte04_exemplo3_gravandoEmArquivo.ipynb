{
  "nbformat": 4,
  "nbformat_minor": 0,
  "metadata": {
    "colab": {
      "provenance": []
    },
    "kernelspec": {
      "name": "python3",
      "display_name": "Python 3"
    },
    "language_info": {
      "name": "python"
    }
  },
  "cells": [
    {
      "cell_type": "code",
      "execution_count": 4,
      "metadata": {
        "colab": {
          "base_uri": "https://localhost:8080/"
        },
        "id": "7a4Rn1JG00ML",
        "outputId": "a2cdda00-22c7-4db3-8526-36988b588eec"
      },
      "outputs": [
        {
          "name": "stdout",
          "output_type": "stream",
          "text": [
            "Informe o nome: joao\n",
            "Informe o nome: pedro\n",
            "Informe o nome: silvia\n"
          ]
        }
      ],
      "source": [
        "#-----------------------------------------------------------------------------------------------------\n",
        "# LOGICA E PROGRAMACAO DE COMPUTADORES\n",
        "# AULA 08 - PARTE 4\n",
        "# Professora: Silvia Moraes\n",
        "# Exemplo 3: gravado dados em um arquivo\n",
        "# ----------------------------------------------------------------------------------------------------\n",
        "ref_arquivo = open (\"dados.txt\",\"w\")\n",
        "cont=1\n",
        "while cont <=3:\n",
        "  nome = input(\"Informe o nome: \")\n",
        "  ref_arquivo.write(nome +\"\\n\")\n",
        "  cont = cont + 1\n",
        "ref_arquivo.close()"
      ]
    },
    {
      "cell_type": "markdown",
      "source": [
        "# Nova seção"
      ],
      "metadata": {
        "id": "7dI8dKvN8776"
      }
    },
    {
      "cell_type": "code",
      "source": [],
      "metadata": {
        "id": "qNJQ4M1Q3mrl"
      },
      "execution_count": null,
      "outputs": []
    }
  ]
}