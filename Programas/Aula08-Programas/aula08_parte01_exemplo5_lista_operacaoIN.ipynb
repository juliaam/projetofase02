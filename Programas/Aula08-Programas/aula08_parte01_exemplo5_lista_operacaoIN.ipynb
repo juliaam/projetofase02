{
  "nbformat": 4,
  "nbformat_minor": 0,
  "metadata": {
    "colab": {
      "provenance": []
    },
    "kernelspec": {
      "name": "python3",
      "display_name": "Python 3"
    },
    "language_info": {
      "name": "python"
    }
  },
  "cells": [
    {
      "cell_type": "code",
      "execution_count": 51,
      "metadata": {
        "colab": {
          "base_uri": "https://localhost:8080/"
        },
        "id": "7a4Rn1JG00ML",
        "outputId": "09e944cc-d53c-44ce-b99d-cd5ccc7bd69a"
      },
      "outputs": [
        {
          "output_type": "stream",
          "name": "stdout",
          "text": [
            "achou\n",
            "nao pertence a lista\n",
            "Informe um valor:10\n",
            "10  nao pertence a  [1, 2, 3]\n"
          ]
        }
      ],
      "source": [
        "#-----------------------------------------------------------------------------------------------------\n",
        "# LOGICA E PROGRAMACAO DE COMPUTADORES\n",
        "# AULA 08 - PARTE 1\n",
        "# Professora: Silvia Moraes\n",
        "# Exemplo 5: Listas\n",
        "# ----------------------------------------------------------------------------------------------------\n",
        "#Exemplos\n",
        "lista = []\n",
        "lista1 = [\"o\",\"menino\",\"jogou\", \"a\", \"bola\"]\n",
        "lista2 = [1,2,3]\n",
        "\n",
        "if \"menino\" in lista1: print('achou')\n",
        "if \"menino\" in lista: print('pertence a lista')\n",
        "else: print(\"nao pertence a lista\")\n",
        "valor = int(input('Informe um valor:'))\n",
        "if valor in lista2: print(valor, \" pertence a \", lista2)\n",
        "else: print(valor, \" nao pertence a \", lista2)"
      ]
    },
    {
      "cell_type": "code",
      "source": [],
      "metadata": {
        "id": "qNJQ4M1Q3mrl"
      },
      "execution_count": null,
      "outputs": []
    }
  ]
}