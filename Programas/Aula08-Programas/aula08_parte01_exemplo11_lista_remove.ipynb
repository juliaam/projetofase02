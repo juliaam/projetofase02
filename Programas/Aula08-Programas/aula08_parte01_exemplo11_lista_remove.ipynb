{
  "nbformat": 4,
  "nbformat_minor": 0,
  "metadata": {
    "colab": {
      "provenance": []
    },
    "kernelspec": {
      "name": "python3",
      "display_name": "Python 3"
    },
    "language_info": {
      "name": "python"
    }
  },
  "cells": [
    {
      "cell_type": "code",
      "execution_count": 57,
      "metadata": {
        "colab": {
          "base_uri": "https://localhost:8080/"
        },
        "id": "7a4Rn1JG00ML",
        "outputId": "257c3855-9a9b-4415-c031-72d5890d3636"
      },
      "outputs": [
        {
          "output_type": "stream",
          "name": "stdout",
          "text": [
            "['o', 'menino', 'jogou', 'bola']\n",
            "['a', 'a', 'a', 'a']\n",
            "['a', 'a', 'a']\n"
          ]
        }
      ],
      "source": [
        "#-----------------------------------------------------------------------------------------------------\n",
        "# LOGICA E PROGRAMACAO DE COMPUTADORES\n",
        "# AULA 08 - PARTE 1\n",
        "# Professora: Silvia Moraes\n",
        "# Exemplo 11: Listas\n",
        "# ----------------------------------------------------------------------------------------------------\n",
        "#Exemplos\n",
        "lista = []\n",
        "lista1 = [\"o\",\"menino\",\"jogou\", \"a\", \"bola\"]\n",
        "\n",
        "lista1.remove(\"a\")\n",
        "print(lista1)\n",
        "lista2 = ['a']*4\n",
        "print(lista2)\n",
        "lista2.remove('a')\n",
        "print(lista2)\n"
      ]
    },
    {
      "cell_type": "code",
      "source": [],
      "metadata": {
        "id": "qNJQ4M1Q3mrl"
      },
      "execution_count": null,
      "outputs": []
    }
  ]
}