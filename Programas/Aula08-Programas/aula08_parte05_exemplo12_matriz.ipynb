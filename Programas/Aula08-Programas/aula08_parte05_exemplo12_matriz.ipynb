{
  "nbformat": 4,
  "nbformat_minor": 0,
  "metadata": {
    "colab": {
      "provenance": []
    },
    "kernelspec": {
      "name": "python3",
      "display_name": "Python 3"
    },
    "language_info": {
      "name": "python"
    }
  },
  "cells": [
    {
      "cell_type": "code",
      "execution_count": 24,
      "metadata": {
        "colab": {
          "base_uri": "https://localhost:8080/"
        },
        "id": "7a4Rn1JG00ML",
        "outputId": "960809cd-72e7-4492-9afb-df23753d7573"
      },
      "outputs": [
        {
          "output_type": "stream",
          "name": "stdout",
          "text": [
            "Matriz original\n",
            "[1, 2, 4]\n",
            "[2, 3, 5]\n",
            "[3, 4, 5]\n",
            "Total por coluna:  [6, 9, 14]\n"
          ]
        }
      ],
      "source": [
        "#-----------------------------------------------------------------------------------------------------\n",
        "# LOGICA E PROGRAMACAO DE COMPUTADORES\n",
        "# AULA 08 - PARTE 5\n",
        "# Professora: Silvia Moraes\n",
        "# Exemplo 12: lista de lista - matriz\n",
        "# ----------------------------------------------------------------------------------------------------\n",
        "matriz = [[1,2,4],[2,3,5],[3,4,5]]\n",
        "print('Matriz original')\n",
        "for linha in matriz:\n",
        "  print(linha)\n",
        "somaColuna = []\n",
        "for col in range(0,3):\n",
        "  soma = 0\n",
        "  for lin in range(0,3):\n",
        "    soma = soma + matriz[lin][col]\n",
        "  somaColuna.append(soma)\n",
        "print(\"Total por coluna: \", somaColuna)"
      ]
    },
    {
      "cell_type": "markdown",
      "source": [
        "# Nova seção"
      ],
      "metadata": {
        "id": "7dI8dKvN8776"
      }
    },
    {
      "cell_type": "code",
      "source": [],
      "metadata": {
        "id": "qNJQ4M1Q3mrl"
      },
      "execution_count": null,
      "outputs": []
    }
  ]
}