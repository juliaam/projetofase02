{
  "nbformat": 4,
  "nbformat_minor": 0,
  "metadata": {
    "colab": {
      "provenance": []
    },
    "kernelspec": {
      "name": "python3",
      "display_name": "Python 3"
    },
    "language_info": {
      "name": "python"
    }
  },
  "cells": [
    {
      "cell_type": "code",
      "execution_count": 21,
      "metadata": {
        "colab": {
          "base_uri": "https://localhost:8080/"
        },
        "id": "7a4Rn1JG00ML",
        "outputId": "107a4a06-4dba-4a9d-eae1-38b1f764e41c"
      },
      "outputs": [
        {
          "output_type": "stream",
          "name": "stdout",
          "text": [
            "Matriz original\n",
            "[1, 2, 4]\n",
            "[2, 3, 5]\n",
            "[3, 4, 5]\n",
            "Matriz apos a troca da linha 0 com a linha 2\n",
            "[3, 4, 5]\n",
            "[2, 3, 5]\n",
            "[1, 2, 4]\n"
          ]
        }
      ],
      "source": [
        "#-----------------------------------------------------------------------------------------------------\n",
        "# LOGICA E PROGRAMACAO DE COMPUTADORES\n",
        "# AULA 08 - PARTE 5\n",
        "# Professora: Silvia Moraes\n",
        "# Exemplo 9: lista de lista - matriz\n",
        "# ----------------------------------------------------------------------------------------------------\n",
        "matriz = [[1,2,4],[2,3,5],[3,4,5]]\n",
        "print('Matriz original')\n",
        "for linha in matriz:\n",
        "  print(linha)\n",
        "\n",
        "aux = matriz[0]\n",
        "matriz[0] = matriz[2]\n",
        "matriz[2] = aux\n",
        "print('Matriz apos a troca da linha 0 com a linha 2')\n",
        "for linha in matriz:\n",
        "  print(linha)"
      ]
    },
    {
      "cell_type": "markdown",
      "source": [
        "# Nova seção"
      ],
      "metadata": {
        "id": "7dI8dKvN8776"
      }
    },
    {
      "cell_type": "code",
      "source": [],
      "metadata": {
        "id": "qNJQ4M1Q3mrl"
      },
      "execution_count": null,
      "outputs": []
    }
  ]
}