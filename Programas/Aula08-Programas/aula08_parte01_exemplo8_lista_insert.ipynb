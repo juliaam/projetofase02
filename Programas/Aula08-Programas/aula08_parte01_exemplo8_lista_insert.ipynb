{
  "nbformat": 4,
  "nbformat_minor": 0,
  "metadata": {
    "colab": {
      "provenance": []
    },
    "kernelspec": {
      "name": "python3",
      "display_name": "Python 3"
    },
    "language_info": {
      "name": "python"
    }
  },
  "cells": [
    {
      "cell_type": "code",
      "execution_count": 54,
      "metadata": {
        "colab": {
          "base_uri": "https://localhost:8080/"
        },
        "id": "7a4Rn1JG00ML",
        "outputId": "75226a45-7c9a-419e-fa1a-9d5b5a3051cf"
      },
      "outputs": [
        {
          "output_type": "stream",
          "name": "stdout",
          "text": [
            "['python', ['o', 'menino', 'jogou', 'a', 'bola'], 'logica', 'linguagem']\n"
          ]
        }
      ],
      "source": [
        "#-----------------------------------------------------------------------------------------------------\n",
        "# LOGICA E PROGRAMACAO DE COMPUTADORES\n",
        "# AULA 08 - PARTE 1\n",
        "# Professora: Silvia Moraes\n",
        "# Exemplo 8: Listas\n",
        "# ----------------------------------------------------------------------------------------------------\n",
        "#Exemplos\n",
        "lista = []\n",
        "lista1 = [\"o\",\"menino\",\"jogou\", \"a\", \"bola\"]\n",
        "lista.insert(0,\"linguagem\")\n",
        "lista.insert(0,\"python\")\n",
        "lista.insert(1,lista1)\n",
        "lista.insert(2,'logica')\n",
        "print(lista)"
      ]
    },
    {
      "cell_type": "code",
      "source": [],
      "metadata": {
        "id": "qNJQ4M1Q3mrl"
      },
      "execution_count": null,
      "outputs": []
    }
  ]
}