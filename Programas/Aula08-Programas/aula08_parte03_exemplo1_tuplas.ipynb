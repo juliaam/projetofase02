{
  "nbformat": 4,
  "nbformat_minor": 0,
  "metadata": {
    "colab": {
      "provenance": []
    },
    "kernelspec": {
      "name": "python3",
      "display_name": "Python 3"
    },
    "language_info": {
      "name": "python"
    }
  },
  "cells": [
    {
      "cell_type": "code",
      "execution_count": 3,
      "metadata": {
        "colab": {
          "base_uri": "https://localhost:8080/"
        },
        "id": "7a4Rn1JG00ML",
        "outputId": "68b59c2b-7453-4d8a-e96e-3a1885b3de38"
      },
      "outputs": [
        {
          "output_type": "stream",
          "name": "stdout",
          "text": [
            "('banana', 'ameixa', 'pera')\n",
            "banana\n",
            "ameixa\n",
            "pera\n",
            "----------------\n",
            "banana\n",
            "ameixa\n",
            "pera\n"
          ]
        }
      ],
      "source": [
        "#-----------------------------------------------------------------------------------------------------\n",
        "# LOGICA E PROGRAMACAO DE COMPUTADORES\n",
        "# AULA 08 - PARTE 3\n",
        "# Professora: Silvia Moraes\n",
        "# Exemplo 1:Tuplas\n",
        "# ----------------------------------------------------------------------------------------------------\n",
        "tupla = ('banana','ameixa', 'pera')\n",
        "print(tupla)\n",
        "\n",
        "#printando item a item\n",
        "print(tupla[0])\n",
        "print(tupla[1])\n",
        "print(tupla[2])\n",
        "\n",
        "print(\"----------------\")\n",
        "#printando usando for\n",
        "for item in tupla:\n",
        "  print(item)"
      ]
    },
    {
      "cell_type": "code",
      "source": [],
      "metadata": {
        "id": "qNJQ4M1Q3mrl"
      },
      "execution_count": null,
      "outputs": []
    }
  ]
}