{
  "nbformat": 4,
  "nbformat_minor": 0,
  "metadata": {
    "colab": {
      "provenance": []
    },
    "kernelspec": {
      "name": "python3",
      "display_name": "Python 3"
    },
    "language_info": {
      "name": "python"
    }
  },
  "cells": [
    {
      "cell_type": "code",
      "execution_count": null,
      "metadata": {
        "colab": {
          "base_uri": "https://localhost:8080/"
        },
        "id": "8hLBUcfM9EWW",
        "outputId": "9e74502c-c9f6-4eab-c768-30d24f7cf338"
      },
      "outputs": [
        {
          "output_type": "stream",
          "name": "stdout",
          "text": [
            "[3, 8, 12, 14, 21, 7, 18, 8, 17, 2, 17, 12, 17, 18, 21, 21, 6, 18, 12, 18, 6, 13, 13, 4, 3, 20, 16, 21, 10, 6]\n",
            "[2, 3, 3, 4, 6, 6, 6, 7, 8, 8, 10, 12, 12, 12, 13, 13, 14, 16, 17, 17, 17, 18, 18, 18, 18, 20, 21, 21, 21, 21]\n",
            "[21, 21, 21, 21, 20, 18, 18, 18, 18, 17, 17, 17, 16, 14, 13, 13, 12, 12, 12, 10, 8, 8, 7, 6, 6, 6, 4, 3, 3, 2]\n",
            "[21, 21, 21, 21, 20, 18, 18, 18, 18, 17]\n"
          ]
        }
      ],
      "source": [
        "#-----------------------------------------------------------------------------------------------------\n",
        "# LOGICA E PROGRAMACAO DE COMPUTADORES\n",
        "# AULA 08 - PARTE 2\n",
        "# Professora: Silvia Moraes\n",
        "# Exercicio 3: Listas - 10 maiores valores\n",
        "# ----------------------------------------------------------------------------------------------------\n",
        "\n",
        "import random\n",
        "\n",
        "lista = []\n",
        "for i in range(1,31):\n",
        "  lista.append(random.randint(1,21))\n",
        "print(lista)\n",
        "lista.sort()\n",
        "print(lista)\n",
        "lista.reverse()\n",
        "print(lista)\n",
        "indice = 0\n",
        "maiores = []\n",
        "while(indice<10):\n",
        "  maiores.append(lista[indice])\n",
        "  indice = indice + 1\n",
        "print(maiores)\n"
      ]
    }
  ]
}