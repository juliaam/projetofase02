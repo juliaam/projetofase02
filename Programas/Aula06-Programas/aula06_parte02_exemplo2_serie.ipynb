{
  "nbformat": 4,
  "nbformat_minor": 0,
  "metadata": {
    "colab": {
      "provenance": []
    },
    "kernelspec": {
      "name": "python3",
      "display_name": "Python 3"
    },
    "language_info": {
      "name": "python"
    }
  },
  "cells": [
    {
      "cell_type": "code",
      "execution_count": 13,
      "metadata": {
        "colab": {
          "base_uri": "https://localhost:8080/"
        },
        "id": "7a4Rn1JG00ML",
        "outputId": "07659041-83f2-4342-e2ab-fb54e703c83a"
      },
      "outputs": [
        {
          "output_type": "stream",
          "name": "stdout",
          "text": [
            "Informe a quantidade de termos:4\n",
            "Soma:  5.676190476190476\n"
          ]
        }
      ],
      "source": [
        "#-----------------------------------------------------------------------\n",
        "# LOGICA E PROGRAMACAO DE COMPUTADORES\n",
        "# AULA 06 - PARTE 2\n",
        "# Professora: Silvia Moraes\n",
        "# Exemplo 2 : Serie\n",
        "# ----------------------------------------------------------------------\n",
        "\n",
        "nTermos = int(input('Informe a quantidade de termos:'))\n",
        "if nTermos<=0: print(\"Numero de termos invalido.\")\n",
        "else:\n",
        "  soma = 0\n",
        "  cont = 1\n",
        "  numerador = 2\n",
        "  denominador = 1\n",
        "  while cont<=nTermos:\n",
        "    soma = soma + numerador/denominador\n",
        "    cont = cont + 1\n",
        "    numerador = numerador + 2\n",
        "    denominador = denominador + 2\n",
        "\n",
        "  print(\"Soma: \", soma)"
      ]
    }
  ]
}