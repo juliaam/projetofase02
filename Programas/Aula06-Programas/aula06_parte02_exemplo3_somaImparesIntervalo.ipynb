{
  "nbformat": 4,
  "nbformat_minor": 0,
  "metadata": {
    "colab": {
      "provenance": []
    },
    "kernelspec": {
      "name": "python3",
      "display_name": "Python 3"
    },
    "language_info": {
      "name": "python"
    }
  },
  "cells": [
    {
      "cell_type": "code",
      "execution_count": 15,
      "metadata": {
        "colab": {
          "base_uri": "https://localhost:8080/"
        },
        "id": "7a4Rn1JG00ML",
        "outputId": "a75e3cee-f79e-41d7-bc6b-df0cf9a04e94"
      },
      "outputs": [
        {
          "output_type": "stream",
          "name": "stdout",
          "text": [
            "Informe o valor inicial do intervalo: 10\n",
            "Informe o valor final do intervalo: 6\n",
            "Valores impares do intervalo: \n",
            "7\n",
            "9\n",
            "Soma dos impares do intervalo:  16\n"
          ]
        }
      ],
      "source": [
        "#-----------------------------------------------------------------------\n",
        "# LOGICA E PROGRAMACAO DE COMPUTADORES\n",
        "# AULA 06 - PARTE 2\n",
        "# Professora: Silvia Moraes\n",
        "# Exemplo 3 : Soma de impares em um intervalo\n",
        "# ----------------------------------------------------------------------\n",
        "\n",
        "a = int(input(\"Informe o valor inicial do intervalo: \"))\n",
        "if a<0: print(\"O valor inicial do intervalo deve ser um valor natural.\")\n",
        "else:\n",
        "  b = int(input(\"Informe o valor final do intervalo: \"))\n",
        "  if b<0: print(\"O valor final do intervalo deve ser um valor natural.\")\n",
        "  else:\n",
        "    if a>b:\n",
        "      aux = a\n",
        "      a = b\n",
        "      b = aux\n",
        "    if a%2==0: a = a + 1\n",
        "    soma = 0\n",
        "    print(\"Valores impares do intervalo: \")\n",
        "    while a<=b:\n",
        "      print(a)\n",
        "      soma = soma + a\n",
        "      a = a + 2\n",
        "    print(\"Soma dos impares do intervalo: \", soma)"
      ]
    }
  ]
}