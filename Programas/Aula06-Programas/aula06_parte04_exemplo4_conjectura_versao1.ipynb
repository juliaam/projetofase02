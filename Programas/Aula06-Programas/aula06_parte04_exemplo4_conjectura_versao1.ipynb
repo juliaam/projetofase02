{
  "nbformat": 4,
  "nbformat_minor": 0,
  "metadata": {
    "colab": {
      "provenance": []
    },
    "kernelspec": {
      "name": "python3",
      "display_name": "Python 3"
    },
    "language_info": {
      "name": "python"
    }
  },
  "cells": [
    {
      "cell_type": "code",
      "execution_count": 35,
      "metadata": {
        "colab": {
          "base_uri": "https://localhost:8080/"
        },
        "id": "7a4Rn1JG00ML",
        "outputId": "69068c8d-5ae1-4b24-af8e-fb0a96032478"
      },
      "outputs": [
        {
          "output_type": "stream",
          "name": "stdout",
          "text": [
            "Informe um par maior que 4: 20\n",
            "Primo 1:  13  Primo 2:  7\n"
          ]
        }
      ],
      "source": [
        "#-----------------------------------------------------------------------------------------------------\n",
        "# LOGICA E PROGRAMACAO DE COMPUTADORES\n",
        "# AULA 06 - PARTE 4\n",
        "# Professora: Silvia Moraes\n",
        "# Exemplo 4 : Conjectura de Goldbach\n",
        "# ----------------------------------------------------------------------------------------------------\n",
        "num = int(input(\"Informe um par maior que 4: \"))\n",
        "while num%2!=0 or num<4:\n",
        "  num = int(input(\"Erro. Informe um par maior que 4: \"))\n",
        "\n",
        "parte1 = num//2\n",
        "parte2 = parte1\n",
        "\n",
        "while parte2<=parte1:\n",
        "  contParte1 = 0\n",
        "  d = 1\n",
        "  while d<=parte1:\n",
        "    if parte1 %d ==0: contParte1 = contParte1 + 1\n",
        "    d = d + 1\n",
        "\n",
        "  if contParte1 == 2:\n",
        "    contParte2 = 0\n",
        "    d = 1\n",
        "    while d<=parte2:\n",
        "      if parte2 %d ==0: contParte2 = contParte2 + 1\n",
        "      d = d + 1 \n",
        "\n",
        "    if contParte2== 2:\n",
        "      print(\"Primo 1: \", parte1, \" Primo 2: \", parte2)\n",
        "      break  \n",
        "    \n",
        "  parte1 = parte1 + 1\n",
        "  parte2 = parte2 - 1"
      ]
    },
    {
      "cell_type": "code",
      "source": [],
      "metadata": {
        "id": "qNJQ4M1Q3mrl"
      },
      "execution_count": null,
      "outputs": []
    }
  ]
}