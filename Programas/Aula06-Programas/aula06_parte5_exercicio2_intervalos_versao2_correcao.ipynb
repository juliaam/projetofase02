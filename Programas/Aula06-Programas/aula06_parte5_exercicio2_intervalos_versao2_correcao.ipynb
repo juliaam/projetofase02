{
  "nbformat": 4,
  "nbformat_minor": 0,
  "metadata": {
    "colab": {
      "provenance": []
    },
    "kernelspec": {
      "name": "python3",
      "display_name": "Python 3"
    },
    "language_info": {
      "name": "python"
    }
  },
  "cells": [
    {
      "cell_type": "code",
      "execution_count": 41,
      "metadata": {
        "colab": {
          "base_uri": "https://localhost:8080/"
        },
        "id": "7a4Rn1JG00ML",
        "outputId": "23bac4dd-a745-4915-fa14-c68e0c02bfcf"
      },
      "outputs": [
        {
          "output_type": "stream",
          "name": "stdout",
          "text": [
            "Informe um valor negativo para encerrar o programa.\n",
            "informe um valor inteiro: 2\n",
            "Informe um valor negativo para encerrar o programa.\n",
            "informe um valor inteiro: 6\n",
            "Informe um valor negativo para encerrar o programa.\n",
            "informe um valor inteiro: 40\n",
            "Informe um valor negativo para encerrar o programa.\n",
            "informe um valor inteiro: 70\n",
            "Informe um valor negativo para encerrar o programa.\n",
            "informe um valor inteiro: 98\n",
            "Informe um valor negativo para encerrar o programa.\n",
            "informe um valor inteiro: 300\n",
            "Informe um valor negativo para encerrar o programa.\n",
            "informe um valor inteiro: -1\n",
            "===============================================\n",
            "Quantidade de valores digitados:  6\n",
            "Quantidade de valores do intervalo [0;25]:  2\n",
            "Quantidade de valores do intervalo [26;50]:  1\n",
            "Quantidade de valores do intervalo [51;75]:  1\n",
            "Quantidade de valores do intervalo [76;100]:  1\n"
          ]
        }
      ],
      "source": [
        "#-----------------------------------------------------------------------------------------------------\n",
        "# LOGICA E PROGRAMACAO DE COMPUTADORES\n",
        "# AULA 06 - PARTE 5\n",
        "# Professora: Silvia Moraes\n",
        "# Exercicio 2: Intervalos - versao2\n",
        "# ----------------------------------------------------------------------------------------------------\n",
        "total = 0\n",
        "cont0_25 = 0\n",
        "cont26_50 = 0\n",
        "cont51_75 = 0\n",
        "cont76_100 = 0\n",
        "\n",
        "print(\"Informe um valor negativo para encerrar o programa.\")\n",
        "valor = int(input(\"informe um valor inteiro: \"))\n",
        "while valor>=0:\n",
        "  if valor<=25: cont0_25 = cont0_25 + 1\n",
        "  else:\n",
        "    if valor<=50: cont26_50 = cont26_50 + 1\n",
        "    else:\n",
        "      if valor<=75: cont51_75 = cont51_75 + 1\n",
        "      else:\n",
        "        if valor<=100: cont76_100 = cont76_100 + 1\n",
        "  total = total + 1\n",
        "  print(\"Informe um valor negativo para encerrar o programa.\")\n",
        "  valor = int(input(\"informe um valor inteiro: \"))\n",
        "\n",
        "print(\"===============================================\")\n",
        "print(\"Quantidade de valores digitados: \", total)\n",
        "print(\"Quantidade de valores do intervalo [0;25]: \", cont0_25)\n",
        "print(\"Quantidade de valores do intervalo [26;50]: \", cont26_50)\n",
        "print(\"Quantidade de valores do intervalo [51;75]: \", cont51_75)\n",
        "print(\"Quantidade de valores do intervalo [76;100]: \", cont76_100)"
      ]
    },
    {
      "cell_type": "code",
      "source": [],
      "metadata": {
        "id": "qNJQ4M1Q3mrl"
      },
      "execution_count": null,
      "outputs": []
    }
  ]
}