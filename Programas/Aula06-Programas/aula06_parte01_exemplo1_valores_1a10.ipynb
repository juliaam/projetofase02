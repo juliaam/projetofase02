{
  "nbformat": 4,
  "nbformat_minor": 0,
  "metadata": {
    "colab": {
      "provenance": []
    },
    "kernelspec": {
      "name": "python3",
      "display_name": "Python 3"
    },
    "language_info": {
      "name": "python"
    }
  },
  "cells": [
    {
      "cell_type": "code",
      "execution_count": 8,
      "metadata": {
        "colab": {
          "base_uri": "https://localhost:8080/"
        },
        "id": "7a4Rn1JG00ML",
        "outputId": "ef26d2e5-be48-4a1e-a13f-3b10248f84c5"
      },
      "outputs": [
        {
          "output_type": "stream",
          "name": "stdout",
          "text": [
            "Usando for\n",
            "1\n",
            "2\n",
            "3\n",
            "4\n",
            "5\n",
            "6\n",
            "7\n",
            "8\n",
            "9\n",
            "10\n",
            "Usando while\n",
            "1\n",
            "2\n",
            "3\n",
            "4\n",
            "5\n",
            "6\n",
            "7\n",
            "8\n",
            "9\n",
            "10\n"
          ]
        }
      ],
      "source": [
        "#-----------------------------------------------------------------------\n",
        "# LOGICA E PROGRAMACAO DE COMPUTADORES\n",
        "# AULA 06 - PARTE 1\n",
        "# Professora: Silvia Moraes\n",
        "# Exemplo 1 : Escreve valores de 1 a 10\n",
        "# ----------------------------------------------------------------------\n",
        "\n",
        "#Trecho com for\n",
        "print(\"Usando for\")\n",
        "for num in range(1,11):\n",
        "  print(num)\n",
        "\n",
        "#Trecho com while\n",
        "print(\"Usando while\")\n",
        "num=1\n",
        "while num<=10:\n",
        "  print(num)\n",
        "  num = num + 1"
      ]
    }
  ]
}