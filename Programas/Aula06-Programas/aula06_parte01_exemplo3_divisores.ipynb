{
  "nbformat": 4,
  "nbformat_minor": 0,
  "metadata": {
    "colab": {
      "provenance": []
    },
    "kernelspec": {
      "name": "python3",
      "display_name": "Python 3"
    },
    "language_info": {
      "name": "python"
    }
  },
  "cells": [
    {
      "cell_type": "code",
      "execution_count": 10,
      "metadata": {
        "colab": {
          "base_uri": "https://localhost:8080/"
        },
        "id": "7a4Rn1JG00ML",
        "outputId": "75124de6-893e-46ff-ea6d-e4e92365ef22"
      },
      "outputs": [
        {
          "output_type": "stream",
          "name": "stdout",
          "text": [
            "Informe um valor natural:10\n",
            "1  divide  10\n",
            "2  divide  10\n",
            "5  divide  10\n",
            "10  divide  10\n"
          ]
        }
      ],
      "source": [
        "#-----------------------------------------------------------------------\n",
        "# LOGICA E PROGRAMACAO DE COMPUTADORES\n",
        "# AULA 06 - PARTE 1\n",
        "# Professora: Silvia Moraes\n",
        "# Exemplo 3 : Divisores\n",
        "# ----------------------------------------------------------------------\n",
        "\n",
        "valor = int(input('Informe um valor natural:'))\n",
        "d = 1\n",
        "while d<=valor:\n",
        "  if valor % d == 0: print(d, \" divide \", valor)\n",
        "  d = d + 1"
      ]
    }
  ]
}