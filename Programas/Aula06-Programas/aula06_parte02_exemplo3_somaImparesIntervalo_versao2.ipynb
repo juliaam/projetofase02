{
  "nbformat": 4,
  "nbformat_minor": 0,
  "metadata": {
    "colab": {
      "provenance": []
    },
    "kernelspec": {
      "name": "python3",
      "display_name": "Python 3"
    },
    "language_info": {
      "name": "python"
    }
  },
  "cells": [
    {
      "cell_type": "code",
      "execution_count": 16,
      "metadata": {
        "colab": {
          "base_uri": "https://localhost:8080/"
        },
        "id": "7a4Rn1JG00ML",
        "outputId": "0a971a44-6c6a-4461-b6c4-e93b8fc818c5"
      },
      "outputs": [
        {
          "output_type": "stream",
          "name": "stdout",
          "text": [
            "Informe o valor inicial do intervalo: -1\n",
            "O valor inicial do intervalo deve ser um valor natural.\n",
            "Informe novamente o valor inicial do intervalo: 4\n",
            "Informe o valor final do intervalo: -2\n",
            "O valor final do intervalo deve ser um valor natural.\n",
            "Informe novamente o valor final do intervalo: 8\n",
            "Valores impares do intervalo: \n",
            "5\n",
            "7\n",
            "Soma dos impares do intervalo:  12\n"
          ]
        }
      ],
      "source": [
        "#-----------------------------------------------------------------------\n",
        "# LOGICA E PROGRAMACAO DE COMPUTADORES\n",
        "# AULA 06 - PARTE 2\n",
        "# Professora: Silvia Moraes\n",
        "# Exemplo 3 : Soma de impares em um intervalo\n",
        "# ----------------------------------------------------------------------\n",
        "\n",
        "a = int(input(\"Informe o valor inicial do intervalo: \"))\n",
        "while a<0: \n",
        "  print(\"O valor inicial do intervalo deve ser um valor natural.\")\n",
        "  a = int(input(\"Informe novamente o valor inicial do intervalo: \"))\n",
        "\n",
        "b = int(input(\"Informe o valor final do intervalo: \"))\n",
        "while b<0: \n",
        "  print(\"O valor final do intervalo deve ser um valor natural.\")\n",
        "  b = int(input(\"Informe novamente o valor final do intervalo: \"))\n",
        "\n",
        "if a>b:\n",
        "  aux = a\n",
        "  a = b\n",
        "  b = aux\n",
        "if a%2==0: a = a + 1\n",
        "soma = 0\n",
        "\n",
        "print(\"Valores impares do intervalo: \")\n",
        "while a<=b:\n",
        "  print(a)\n",
        "  soma = soma + a\n",
        "  a = a + 2\n",
        "print(\"Soma dos impares do intervalo: \", soma)"
      ]
    }
  ]
}