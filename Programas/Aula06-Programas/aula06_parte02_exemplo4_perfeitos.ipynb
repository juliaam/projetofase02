{
  "nbformat": 4,
  "nbformat_minor": 0,
  "metadata": {
    "colab": {
      "provenance": []
    },
    "kernelspec": {
      "name": "python3",
      "display_name": "Python 3"
    },
    "language_info": {
      "name": "python"
    }
  },
  "cells": [
    {
      "cell_type": "code",
      "execution_count": 17,
      "metadata": {
        "colab": {
          "base_uri": "https://localhost:8080/"
        },
        "id": "7a4Rn1JG00ML",
        "outputId": "44f1f45d-9621-4243-8417-a31ac2123769"
      },
      "outputs": [
        {
          "output_type": "stream",
          "name": "stdout",
          "text": [
            "Informe um valor inteiro e positivo: 28\n",
            "Numero perfeito\n"
          ]
        }
      ],
      "source": [
        "#-----------------------------------------------------------------------\n",
        "# LOGICA E PROGRAMACAO DE COMPUTADORES\n",
        "# AULA 06 - PARTE 2\n",
        "# Professora: Silvia Moraes\n",
        "# Exemplo 4 : Perfeitos\n",
        "# ----------------------------------------------------------------------\n",
        "\n",
        "num = int(input(\"Informe um valor inteiro e positivo: \"))\n",
        "while num<=0:\n",
        "  print(\"Erro, o valor deve ser positivo.\")\n",
        "  num = int(input(\"Informe um valor inteiro e positivo\"))\n",
        "\n",
        "soma = 0\n",
        "d=1\n",
        "while d<=num/2:\n",
        "  if num %d ==0: soma = soma+ d\n",
        "  d = d + 1\n",
        "\n",
        "if soma==num : print(\"Numero perfeito\")\n",
        "else: print(\"Numero nao eh perfeito\")"
      ]
    }
  ]
}