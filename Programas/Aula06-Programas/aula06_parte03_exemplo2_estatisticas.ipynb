{
  "nbformat": 4,
  "nbformat_minor": 0,
  "metadata": {
    "colab": {
      "provenance": []
    },
    "kernelspec": {
      "name": "python3",
      "display_name": "Python 3"
    },
    "language_info": {
      "name": "python"
    }
  },
  "cells": [
    {
      "cell_type": "code",
      "execution_count": 20,
      "metadata": {
        "colab": {
          "base_uri": "https://localhost:8080/"
        },
        "id": "7a4Rn1JG00ML",
        "outputId": "b8465424-d072-4a5a-fdce-839adbe39be9"
      },
      "outputs": [
        {
          "output_type": "stream",
          "name": "stdout",
          "text": [
            "Cont:  0\n",
            "Informe a idade do estudante: -2\n",
            "> Idade invalida. Deve estar no intervalo (0;120). \n",
            "> Informe novamente a idade do estudante: 20\n",
            "Informe a altura do estudante: -1\n",
            "> Altura invalida. Deve estar no intervalo (0; 2,5)\n",
            "> Informe novamente a altura do estudante: 1.63\n",
            "Informe o genero do estudante usando 1 para feminino e 2 para masculino3\n",
            "> Genero invalido. Deve ser 1 ou 2\n",
            "> Informe novamente o genero do estudante usando 1 para feminino e 2 para masculino1\n",
            "Cont:  1\n",
            "Informe a idade do estudante: 20\n",
            "Informe a altura do estudante: 1.67\n",
            "Informe o genero do estudante usando 1 para feminino e 2 para masculino1\n",
            "Cont:  2\n",
            "Informe a idade do estudante: 50\n",
            "Informe a altura do estudante: 1.89\n",
            "Informe o genero do estudante usando 1 para feminino e 2 para masculino2\n",
            "==========================================================================\n",
            "Media de idade dos estudantes:  30.0\n",
            "Media de altura das meninas:  1.65\n",
            "Percentual de alunos com mais de 20 anos:  33.333333333333336\n",
            "Altura do mais velho:  1.89  Idade do mais velho:  50\n"
          ]
        }
      ],
      "source": [
        "#-----------------------------------------------------------------------\n",
        "# LOGICA E PROGRAMACAO DE COMPUTADORES\n",
        "# AULA 06 - PARTE 3\n",
        "# Professora: Silvia Moraes\n",
        "# Exemplo 2 : Calculos de medias e percentuais para 10 estudantes\n",
        "# ----------------------------------------------------------------------\n",
        "\n",
        "somaIdade = 0\n",
        "cont = 0\n",
        "somaAltura = 0\n",
        "meninas = 0\n",
        "mais20 = 0\n",
        "maiorIdade = 0\n",
        "maiorAltura = 0\n",
        "\n",
        "while cont<10:\n",
        "  print(\"Cont: \", cont)\n",
        "  idade = int(input(\"Informe a idade do estudante: \"))\n",
        "  while idade<=0 or idade>=120:\n",
        "    print(\"> Idade invalida. Deve estar no intervalo (0;120). \")\n",
        "    idade = int(input(\"> Informe novamente a idade do estudante: \"))\n",
        "  \n",
        "  altura = float(input(\"Informe a altura do estudante: \"))\n",
        "  while altura<=0 or altura>2.5:\n",
        "    print(\"> Altura invalida. Deve estar no intervalo (0; 2,5)\")\n",
        "    altura = float(input(\"> Informe novamente a altura do estudante: \"))\n",
        "  \n",
        "  genero = int(input(\"Informe o genero do estudante usando 1 para feminino e 2 para masculino\"))\n",
        "  while genero!=1 and genero!=2:\n",
        "    print(\"> Genero invalido. Deve ser 1 ou 2\")\n",
        "    genero = int(input(\"> Informe novamente o genero do estudante usando 1 para feminino e 2 para masculino\"))\n",
        "\n",
        "  #(a)\n",
        "  somaIdade = somaIdade + idade\n",
        "  cont = cont + 1\n",
        "\n",
        "  #(b)\n",
        "  if genero == 1:\n",
        "    somaAltura = somaAltura + altura\n",
        "    meninas = meninas + 1\n",
        "  \n",
        "  #(c)\n",
        "  if idade>20: mais20 = mais20+1\n",
        "\n",
        "  #(d)\n",
        "  if idade>maiorIdade:\n",
        "    maiorIdade = idade\n",
        "    maiorAltura = altura\n",
        "\n",
        "print(\"==========================================================================\")\n",
        "print(\"Media de idade dos estudantes: \", somaIdade/cont)\n",
        "if meninas ==0: print(\"Nao foram informados dados de meninas\")\n",
        "else: print(\"Media de altura das meninas: \", somaAltura/meninas)\n",
        "print(\"Percentual de alunos com mais de 20 anos: \", mais20*100/cont)\n",
        "print(\"Altura do mais velho: \", maiorAltura, \" Idade do mais velho: \", maiorIdade)"
      ]
    },
    {
      "cell_type": "code",
      "source": [],
      "metadata": {
        "id": "qNJQ4M1Q3mrl"
      },
      "execution_count": null,
      "outputs": []
    }
  ]
}