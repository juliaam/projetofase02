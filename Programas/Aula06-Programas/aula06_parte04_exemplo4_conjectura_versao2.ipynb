{
  "nbformat": 4,
  "nbformat_minor": 0,
  "metadata": {
    "colab": {
      "provenance": []
    },
    "kernelspec": {
      "name": "python3",
      "display_name": "Python 3"
    },
    "language_info": {
      "name": "python"
    }
  },
  "cells": [
    {
      "cell_type": "code",
      "execution_count": 36,
      "metadata": {
        "colab": {
          "base_uri": "https://localhost:8080/"
        },
        "id": "7a4Rn1JG00ML",
        "outputId": "570b245b-aa40-4b54-c6fe-f2150c173d58"
      },
      "outputs": [
        {
          "output_type": "stream",
          "name": "stdout",
          "text": [
            "Informe a quantidade de valores pares: 10\n",
            "Numero:  4\n",
            "Primo 1:  2  Primo 2:  2\n",
            "Numero:  6\n",
            "Primo 1:  3  Primo 2:  3\n",
            "Numero:  8\n",
            "Primo 1:  5  Primo 2:  3\n",
            "Numero:  10\n",
            "Primo 1:  5  Primo 2:  5\n",
            "Numero:  12\n",
            "Primo 1:  7  Primo 2:  5\n",
            "Numero:  14\n",
            "Primo 1:  7  Primo 2:  7\n",
            "Numero:  16\n",
            "Primo 1:  11  Primo 2:  5\n",
            "Numero:  18\n",
            "Primo 1:  11  Primo 2:  7\n",
            "Numero:  20\n",
            "Primo 1:  13  Primo 2:  7\n",
            "Numero:  22\n",
            "Primo 1:  11  Primo 2:  11\n"
          ]
        }
      ],
      "source": [
        "#-----------------------------------------------------------------------------------------------------\n",
        "# LOGICA E PROGRAMACAO DE COMPUTADORES\n",
        "# AULA 06 - PARTE 4\n",
        "# Professora: Silvia Moraes\n",
        "# Exemplo 4 : Conjectura de Goldbach - versao 2\n",
        "# ----------------------------------------------------------------------------------------------------\n",
        "num = 4\n",
        "\n",
        "quant = int(input(\"Informe a quantidade de valores pares: \"))\n",
        "while quant<=0:\n",
        "  print(\"O valor deve ser positivo.\")\n",
        "  quant = int(input(\"Informe a quantidade de valores pares: \"))\n",
        "\n",
        "pares = 1\n",
        "while pares<=quant:\n",
        "  print(\"Numero: \", num)\n",
        "\n",
        "  parte1 = num//2\n",
        "  parte2 = parte1\n",
        "\n",
        "  while parte2<=parte1:\n",
        "    contParte1 = 0\n",
        "    d = 1\n",
        "    while d<=parte1:\n",
        "      if parte1 %d ==0: contParte1 = contParte1 + 1\n",
        "      d = d + 1\n",
        "\n",
        "    if contParte1 == 2:\n",
        "      contParte2 = 0\n",
        "      d = 1\n",
        "      while d<=parte2:\n",
        "        if parte2 %d ==0: contParte2 = contParte2 + 1\n",
        "        d = d + 1 \n",
        "\n",
        "      if contParte2== 2:\n",
        "        print(\"Primo 1: \", parte1, \" Primo 2: \", parte2)\n",
        "        pares = pares + 1\n",
        "        break  \n",
        "    \n",
        "    parte1 = parte1 + 1\n",
        "    parte2 = parte2 - 1\n",
        "  num = num + 2"
      ]
    },
    {
      "cell_type": "code",
      "source": [],
      "metadata": {
        "id": "qNJQ4M1Q3mrl"
      },
      "execution_count": null,
      "outputs": []
    }
  ]
}