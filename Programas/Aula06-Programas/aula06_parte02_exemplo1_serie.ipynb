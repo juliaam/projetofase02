{
  "nbformat": 4,
  "nbformat_minor": 0,
  "metadata": {
    "colab": {
      "provenance": []
    },
    "kernelspec": {
      "name": "python3",
      "display_name": "Python 3"
    },
    "language_info": {
      "name": "python"
    }
  },
  "cells": [
    {
      "cell_type": "code",
      "execution_count": 12,
      "metadata": {
        "colab": {
          "base_uri": "https://localhost:8080/"
        },
        "id": "7a4Rn1JG00ML",
        "outputId": "d27df072-b0d2-45cc-98f8-7f10008f0812"
      },
      "outputs": [
        {
          "output_type": "stream",
          "name": "stdout",
          "text": [
            "Informe a quantidade de termos:3\n",
            "Soma:  1.8333333333333333\n"
          ]
        }
      ],
      "source": [
        "#-----------------------------------------------------------------------\n",
        "# LOGICA E PROGRAMACAO DE COMPUTADORES\n",
        "# AULA 06 - PARTE 2\n",
        "# Professora: Silvia Moraes\n",
        "# Exemplo 1 : Serie\n",
        "# ----------------------------------------------------------------------\n",
        "\n",
        "nTermos = int(input('Informe a quantidade de termos:'))\n",
        "if nTermos<=0: print(\"Numero de termos invalido.\")\n",
        "else:\n",
        "  soma = 0\n",
        "  cont = 1\n",
        "  while cont<=nTermos:\n",
        "    soma = soma + 1/cont\n",
        "    cont = cont + 1\n",
        "    \n",
        "  print(\"Soma: \", soma)"
      ]
    }
  ]
}