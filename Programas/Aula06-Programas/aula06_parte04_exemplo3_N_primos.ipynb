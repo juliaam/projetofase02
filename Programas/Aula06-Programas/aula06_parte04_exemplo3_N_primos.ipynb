{
  "nbformat": 4,
  "nbformat_minor": 0,
  "metadata": {
    "colab": {
      "provenance": []
    },
    "kernelspec": {
      "name": "python3",
      "display_name": "Python 3"
    },
    "language_info": {
      "name": "python"
    }
  },
  "cells": [
    {
      "cell_type": "code",
      "execution_count": 27,
      "metadata": {
        "colab": {
          "base_uri": "https://localhost:8080/"
        },
        "id": "7a4Rn1JG00ML",
        "outputId": "541a9c38-4350-49c6-8723-4381dbe63b61"
      },
      "outputs": [
        {
          "output_type": "stream",
          "name": "stdout",
          "text": [
            "Informe a quantidade de numeros primos: 10\n",
            "2\n",
            "3\n",
            "5\n",
            "7\n",
            "11\n",
            "13\n",
            "17\n",
            "19\n",
            "23\n",
            "29\n"
          ]
        }
      ],
      "source": [
        "#-----------------------------------------------------------------------------------------------------\n",
        "# LOGICA E PROGRAMACAO DE COMPUTADORES\n",
        "# AULA 06 - PARTE 4\n",
        "# Professora: Silvia Moraes\n",
        "# Exemplo 3 : Mostra os n primeiros primos\n",
        "# ----------------------------------------------------------------------------------------------------\n",
        "quant = int(input(\"Informe a quantidade de numeros primos: \"))\n",
        "while quant<=0:\n",
        "  print(\"Valor invalido. A quantidade deve ser positiva.\")\n",
        "  quant = int(input(\"Informe a quantidade de numeros primos: \"))\n",
        "\n",
        "num = 2\n",
        "contPrimos = 1\n",
        "while contPrimos<=quant:\n",
        "  contaDivisores = 0\n",
        "  d = 1\n",
        "  while d<=num:\n",
        "    if num % d == 0 : contaDivisores = contaDivisores + 1\n",
        "    d = d + 1\n",
        "  if contaDivisores == 2:\n",
        "    print(num)\n",
        "    contPrimos = contPrimos + 1\n",
        "  num = num + 1"
      ]
    },
    {
      "cell_type": "code",
      "source": [],
      "metadata": {
        "id": "qNJQ4M1Q3mrl"
      },
      "execution_count": null,
      "outputs": []
    }
  ]
}