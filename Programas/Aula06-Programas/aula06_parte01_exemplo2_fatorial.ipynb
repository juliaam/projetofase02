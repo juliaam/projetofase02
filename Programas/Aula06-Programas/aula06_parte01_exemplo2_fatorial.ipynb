{
  "nbformat": 4,
  "nbformat_minor": 0,
  "metadata": {
    "colab": {
      "provenance": []
    },
    "kernelspec": {
      "name": "python3",
      "display_name": "Python 3"
    },
    "language_info": {
      "name": "python"
    }
  },
  "cells": [
    {
      "cell_type": "code",
      "execution_count": 9,
      "metadata": {
        "colab": {
          "base_uri": "https://localhost:8080/"
        },
        "id": "7a4Rn1JG00ML",
        "outputId": "f9752ef2-5632-4b94-aba3-9ebf6af2d36d"
      },
      "outputs": [
        {
          "output_type": "stream",
          "name": "stdout",
          "text": [
            "Informe um valor natural:5\n",
            "Fatorial:  120\n"
          ]
        }
      ],
      "source": [
        "#-----------------------------------------------------------------------\n",
        "# LOGICA E PROGRAMACAO DE COMPUTADORES\n",
        "# AULA 06 - PARTE 1\n",
        "# Professora: Silvia Moraes\n",
        "# Exemplo 2 : Fatorial\n",
        "# ----------------------------------------------------------------------\n",
        "\n",
        "valor = int(input('Informe um valor natural:'))\n",
        "fat = 1\n",
        "aux = 2\n",
        "while aux<=valor:\n",
        "  fat = fat * aux\n",
        "  aux = aux + 1\n",
        "print(\"Fatorial: \", fat)"
      ]
    }
  ]
}