{
  "nbformat": 4,
  "nbformat_minor": 0,
  "metadata": {
    "colab": {
      "provenance": []
    },
    "kernelspec": {
      "name": "python3",
      "display_name": "Python 3"
    },
    "language_info": {
      "name": "python"
    }
  },
  "cells": [
    {
      "cell_type": "code",
      "execution_count": 11,
      "metadata": {
        "colab": {
          "base_uri": "https://localhost:8080/"
        },
        "id": "7a4Rn1JG00ML",
        "outputId": "2e5ba87f-5bc6-4d69-d30b-cdfd1f458e98"
      },
      "outputs": [
        {
          "output_type": "stream",
          "name": "stdout",
          "text": [
            "Informe um valor natural:7\n",
            "7  eh primo\n"
          ]
        }
      ],
      "source": [
        "#-----------------------------------------------------------------------\n",
        "# LOGICA E PROGRAMACAO DE COMPUTADORES\n",
        "# AULA 06 - PARTE 1\n",
        "# Professora: Silvia Moraes\n",
        "# Exercicio 1 : Primos\n",
        "# ----------------------------------------------------------------------\n",
        "\n",
        "valor = int(input('Informe um valor natural:'))\n",
        "cont = 0\n",
        "d = 1\n",
        "while d<=valor:\n",
        "  if valor % d == 0: cont = cont + 1\n",
        "  d = d + 1\n",
        "  \n",
        "if cont==2: print( valor, \" eh primo\")\n",
        "else: print(valor, \" nao eh primo\")"
      ]
    }
  ]
}