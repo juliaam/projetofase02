{
  "nbformat": 4,
  "nbformat_minor": 0,
  "metadata": {
    "colab": {
      "provenance": []
    },
    "kernelspec": {
      "name": "python3",
      "display_name": "Python 3"
    },
    "language_info": {
      "name": "python"
    }
  },
  "cells": [
    {
      "cell_type": "code",
      "execution_count": 22,
      "metadata": {
        "colab": {
          "base_uri": "https://localhost:8080/"
        },
        "id": "7a4Rn1JG00ML",
        "outputId": "7448c338-4cf7-4111-a6c9-9e50c6207c51"
      },
      "outputs": [
        {
          "output_type": "stream",
          "name": "stdout",
          "text": [
            "Cont:  0\n",
            "Para encerrar a repeticao, informe uma idade negativa\n",
            "Informe a idade do estudante: 20\n",
            "Informe a altura do estudante: 1.65\n",
            "Informe o genero do estudante usando 1 para feminino e 2 para masculino1\n",
            "Cont:  1\n",
            "Para encerrar a repeticao, informe uma idade negativa\n",
            "Informe a idade do estudante: -1\n",
            "fim de programa\n",
            "==========================================================================\n",
            "Media de idade dos estudantes:  20.0\n",
            "Media de altura das meninas:  1.65\n",
            "Percentual de alunos com mais de 20 anos:  0.0\n",
            "Altura do mais velho:  1.65  Idade do mais velho:  20\n"
          ]
        }
      ],
      "source": [
        "#-----------------------------------------------------------------------------------------------------\n",
        "# LOGICA E PROGRAMACAO DE COMPUTADORES\n",
        "# AULA 06 - PARTE 3\n",
        "# Professora: Silvia Moraes\n",
        "# Exemplo 2 : Calculos de medias e percentuais para uma quantidade nao determinada de estudantes\n",
        "# ----------------------------------------------------------------------------------------------------\n",
        "\n",
        "somaIdade = 0\n",
        "cont = 0\n",
        "somaAltura = 0\n",
        "meninas = 0\n",
        "mais20 = 0\n",
        "maiorIdade = 0\n",
        "maiorAltura = 0\n",
        "\n",
        "while True:\n",
        "  print(\"Cont: \", cont)\n",
        "  print(\"Para encerrar a repeticao, informe uma idade negativa\")\n",
        "  idade = int(input(\"Informe a idade do estudante: \"))\n",
        "  if idade<0:\n",
        "    print(\"fim de programa\")\n",
        "    break\n",
        "\n",
        "  while idade<=0 or idade>=120:\n",
        "    print(\"> Idade invalida. Deve estar no intervalo (0;120). \")\n",
        "    idade = int(input(\"> Informe novamente a idade do estudante: \"))\n",
        "  \n",
        "  altura = float(input(\"Informe a altura do estudante: \"))\n",
        "  while altura<=0 or altura>2.5:\n",
        "    print(\"> Altura invalida. Deve estar no intervalo (0; 2,5)\")\n",
        "    altura = float(input(\"> Informe novamente a altura do estudante: \"))\n",
        "  \n",
        "  genero = int(input(\"Informe o genero do estudante usando 1 para feminino e 2 para masculino\"))\n",
        "  while genero!=1 and genero!=2:\n",
        "    print(\"> Genero invalido. Deve ser 1 ou 2\")\n",
        "    genero = int(input(\"> Informe novamente o genero do estudante usando 1 para feminino e 2 para masculino\"))\n",
        "\n",
        "  #(a)\n",
        "  somaIdade = somaIdade + idade\n",
        "  cont = cont + 1\n",
        "\n",
        "  #(b)\n",
        "  if genero == 1:\n",
        "    somaAltura = somaAltura + altura\n",
        "    meninas = meninas + 1\n",
        "  \n",
        "  #(c)\n",
        "  if idade>20: mais20 = mais20+1\n",
        "\n",
        "  #(d)\n",
        "  if idade>maiorIdade:\n",
        "    maiorIdade = idade\n",
        "    maiorAltura = altura\n",
        "\n",
        "print(\"==========================================================================\")\n",
        "if cont==0:\n",
        "  print(\"Dados nao informados\")\n",
        "else:\n",
        "  print(\"Media de idade dos estudantes: \", somaIdade/cont)\n",
        "  if meninas ==0: print(\"Nao foram informados dados de meninas\")\n",
        "  else: print(\"Media de altura das meninas: \", somaAltura/meninas)\n",
        "  print(\"Percentual de alunos com mais de 20 anos: \", mais20*100/cont)\n",
        "  print(\"Altura do mais velho: \", maiorAltura, \" Idade do mais velho: \", maiorIdade)"
      ]
    },
    {
      "cell_type": "code",
      "source": [],
      "metadata": {
        "id": "qNJQ4M1Q3mrl"
      },
      "execution_count": null,
      "outputs": []
    }
  ]
}