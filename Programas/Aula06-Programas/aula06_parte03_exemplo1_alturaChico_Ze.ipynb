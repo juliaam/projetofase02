{
  "nbformat": 4,
  "nbformat_minor": 0,
  "metadata": {
    "colab": {
      "provenance": []
    },
    "kernelspec": {
      "name": "python3",
      "display_name": "Python 3"
    },
    "language_info": {
      "name": "python"
    }
  },
  "cells": [
    {
      "cell_type": "code",
      "execution_count": 19,
      "metadata": {
        "colab": {
          "base_uri": "https://localhost:8080/"
        },
        "id": "7a4Rn1JG00ML",
        "outputId": "d3f30300-8a00-4241-9f24-354aab04f068"
      },
      "outputs": [
        {
          "output_type": "stream",
          "name": "stdout",
          "text": [
            "Anos:  41\n"
          ]
        }
      ],
      "source": [
        "#-----------------------------------------------------------------------\n",
        "# LOGICA E PROGRAMACAO DE COMPUTADORES\n",
        "# AULA 06 - PARTE 3\n",
        "# Professora: Silvia Moraes\n",
        "# Exemplo 1 : Crescimento do Chico e do Ze\n",
        "# ----------------------------------------------------------------------\n",
        "\n",
        "altChico = 150\n",
        "altZe = 110\n",
        "anos = 0\n",
        "while altZe<=altChico:\n",
        "  altChico = altChico + 2\n",
        "  altZe = altZe + 3\n",
        "  anos = anos + 1\n",
        "print(\"Anos: \", anos)"
      ]
    }
  ]
}