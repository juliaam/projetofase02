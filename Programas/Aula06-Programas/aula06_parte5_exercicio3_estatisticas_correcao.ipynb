{
  "nbformat": 4,
  "nbformat_minor": 0,
  "metadata": {
    "colab": {
      "provenance": []
    },
    "kernelspec": {
      "name": "python3",
      "display_name": "Python 3"
    },
    "language_info": {
      "name": "python"
    }
  },
  "cells": [
    {
      "cell_type": "code",
      "execution_count": 42,
      "metadata": {
        "colab": {
          "base_uri": "https://localhost:8080/"
        },
        "id": "7a4Rn1JG00ML",
        "outputId": "4b8fc996-1397-4352-bdcf-13cc879943a9"
      },
      "outputs": [
        {
          "output_type": "stream",
          "name": "stdout",
          "text": [
            "Informe uma idade negativa para encerrar o programa.\n",
            "Informe uma idade: 30\n",
            "Informe o genero, usando 1 para feminino e 2 para masculino: 1\n",
            "Informe o salario: 3000\n",
            "Informe uma idade negativa para encerrar o programa.\n",
            "Informe uma idade: 56\n",
            "Informe o genero, usando 1 para feminino e 2 para masculino: 50000\n",
            "> Genero invalido. Deve ser 1 ou 2\n",
            "> Informe novamente o genero, usando 1 para feminino e 2 para masculino: 1\n",
            "Informe o salario: 50000\n",
            "Informe uma idade negativa para encerrar o programa.\n",
            "Informe uma idade: -1\n",
            "Fim do programa\n",
            "Media de salario:  26500.0\n",
            "Maior idade:  56\n",
            "Menor idade:  30\n",
            "Quantidade de mulheres que ganham ate R$ 3500:  1\n"
          ]
        }
      ],
      "source": [
        "#-----------------------------------------------------------------------------------------------------\n",
        "# LOGICA E PROGRAMACAO DE COMPUTADORES\n",
        "# AULA 06 - PARTE 5\n",
        "# Professora: Silvia Moraes\n",
        "# Exercicio 3: Estatisticas\n",
        "# ----------------------------------------------------------------------------------------------------\n",
        "\n",
        "somaSalario = 0\n",
        "pessoas = 0\n",
        "maior = 0\n",
        "menor = 120\n",
        "mulheres = 0\n",
        "while True:\n",
        "  print(\"Informe uma idade negativa para encerrar o programa.\")\n",
        "  idade = int(input(\"Informe uma idade: \"))\n",
        "  if idade<0:\n",
        "    print(\"Fim do programa\")\n",
        "    break\n",
        "  \n",
        "  while idade<=0 or idade>120:\n",
        "    print(\">Idade invalida. Deve estar no intervalo (0;120).\")\n",
        "    idade = int(input(\"> Informe uma idade valida: \"))\n",
        "\n",
        "  genero = int(input(\"Informe o genero, usando 1 para feminino e 2 para masculino: \"))  \n",
        "  while genero!=1 and genero!=2:\n",
        "    print(\"> Genero invalido. Deve ser 1 ou 2\")\n",
        "    genero = int(input(\"> Informe novamente o genero, usando 1 para feminino e 2 para masculino: \"))  \n",
        "\n",
        "  salario = float(input(\"Informe o salario: \"))\n",
        "  while salario<0:\n",
        "    print(\"> Salario invalido\")\n",
        "    salario = float(input(\"> Informe o salario novamente: \"))\n",
        "\n",
        "  somaSalario = somaSalario + salario\n",
        "  pessoas = pessoas + 1\n",
        "  if idade > maior: maior = idade\n",
        "  if idade < menor: menor = idade\n",
        "  if genero ==1 and salario<=3500: mulheres = mulheres + 1\n",
        "\n",
        "if pessoas ==0 : print(\"Dados nao informados.\")\n",
        "else:\n",
        "  print(\"Media de salario: \", somaSalario/pessoas)\n",
        "  print(\"Maior idade: \", maior)\n",
        "  print(\"Menor idade: \", menor)\n",
        "  print(\"Quantidade de mulheres que ganham ate R$ 3500: \", mulheres)"
      ]
    },
    {
      "cell_type": "code",
      "source": [],
      "metadata": {
        "id": "qNJQ4M1Q3mrl"
      },
      "execution_count": null,
      "outputs": []
    }
  ]
}