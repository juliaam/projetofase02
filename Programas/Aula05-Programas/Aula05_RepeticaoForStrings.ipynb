{
  "cells": [
    {
      "cell_type": "markdown",
      "metadata": {
        "id": "w1a-3Riremcn"
      },
      "source": [
        "# Lógica e Programação - Aula 05\n",
        "## Graduação Online - PUCRS/UOL EdTech\n",
        "\n",
        "### Marcelo Cohen (marcelo.cohen@pucrs.br)\n",
        "### Sílvia Maria Wanderley Moraes (silvia.moraes@pucrs.br)\n"
      ]
    },
    {
      "cell_type": "markdown",
      "source": [
        "## Repetição determinada: o comando for e a função range()"
      ],
      "metadata": {
        "id": "wz5Hq_MEPmKa"
      }
    },
    {
      "cell_type": "code",
      "execution_count": null,
      "metadata": {
        "id": "FyXPvdTW-Vlh",
        "colab": {
          "base_uri": "https://localhost:8080/"
        },
        "outputId": "4e8b2b62-13af-40d8-ee91-b4dae0d44ebc"
      },
      "outputs": [
        {
          "output_type": "stream",
          "name": "stdout",
          "text": [
            "10\n",
            "9\n",
            "8\n",
            "7\n",
            "6\n",
            "5\n",
            "4\n",
            "3\n",
            "2\n",
            "1\n"
          ]
        }
      ],
      "source": [
        "# Exemplo 1: variações de range\n",
        "\n",
        "#for cont in range(10):\n",
        "#  print(cont)\n",
        "\n",
        "#for cont in range(1,13,2):\n",
        "#  print(cont)\n",
        "\n",
        "for cont in range(10,0,-1):\n",
        "  print(cont)"
      ]
    },
    {
      "cell_type": "code",
      "source": [
        "# Exemplo 2: exibindo uma tabela de resultados\n",
        "import math\n",
        "\n",
        "for num in range(1,51):\n",
        "  print(f\"{num}: {math.sqrt(num)}\")"
      ],
      "metadata": {
        "id": "2QbTauEFG0LB",
        "colab": {
          "base_uri": "https://localhost:8080/"
        },
        "outputId": "778d30d8-e077-41ad-e8f0-4290cf8c6265"
      },
      "execution_count": null,
      "outputs": [
        {
          "output_type": "stream",
          "name": "stdout",
          "text": [
            "1: 1.0\n",
            "2: 1.4142135623730951\n",
            "3: 1.7320508075688772\n",
            "4: 2.0\n",
            "5: 2.23606797749979\n",
            "6: 2.449489742783178\n",
            "7: 2.6457513110645907\n",
            "8: 2.8284271247461903\n",
            "9: 3.0\n",
            "10: 3.1622776601683795\n",
            "11: 3.3166247903554\n",
            "12: 3.4641016151377544\n",
            "13: 3.605551275463989\n",
            "14: 3.7416573867739413\n",
            "15: 3.872983346207417\n",
            "16: 4.0\n",
            "17: 4.123105625617661\n",
            "18: 4.242640687119285\n",
            "19: 4.358898943540674\n",
            "20: 4.47213595499958\n",
            "21: 4.58257569495584\n",
            "22: 4.69041575982343\n",
            "23: 4.795831523312719\n",
            "24: 4.898979485566356\n",
            "25: 5.0\n",
            "26: 5.0990195135927845\n",
            "27: 5.196152422706632\n",
            "28: 5.291502622129181\n",
            "29: 5.385164807134504\n",
            "30: 5.477225575051661\n",
            "31: 5.5677643628300215\n",
            "32: 5.656854249492381\n",
            "33: 5.744562646538029\n",
            "34: 5.830951894845301\n",
            "35: 5.916079783099616\n",
            "36: 6.0\n",
            "37: 6.082762530298219\n",
            "38: 6.164414002968976\n",
            "39: 6.244997998398398\n",
            "40: 6.324555320336759\n",
            "41: 6.4031242374328485\n",
            "42: 6.48074069840786\n",
            "43: 6.557438524302\n",
            "44: 6.6332495807108\n",
            "45: 6.708203932499369\n",
            "46: 6.782329983125268\n",
            "47: 6.855654600401044\n",
            "48: 6.928203230275509\n",
            "49: 7.0\n",
            "50: 7.0710678118654755\n"
          ]
        }
      ]
    },
    {
      "cell_type": "code",
      "source": [
        "# Formatando melhor a saída:\n",
        "\n",
        "import math\n",
        "\n",
        "for num in range(1,51):\n",
        "  print(f\"{num:6}: {math.sqrt(num):.3f}\")"
      ],
      "metadata": {
        "id": "a744tJtOHBfm",
        "colab": {
          "base_uri": "https://localhost:8080/"
        },
        "outputId": "3641a0cb-b27e-4dc1-adec-75e306d26917"
      },
      "execution_count": null,
      "outputs": [
        {
          "output_type": "stream",
          "name": "stdout",
          "text": [
            "     1: 1.000\n",
            "     2: 1.414\n",
            "     3: 1.732\n",
            "     4: 2.000\n",
            "     5: 2.236\n",
            "     6: 2.449\n",
            "     7: 2.646\n",
            "     8: 2.828\n",
            "     9: 3.000\n",
            "    10: 3.162\n",
            "    11: 3.317\n",
            "    12: 3.464\n",
            "    13: 3.606\n",
            "    14: 3.742\n",
            "    15: 3.873\n",
            "    16: 4.000\n",
            "    17: 4.123\n",
            "    18: 4.243\n",
            "    19: 4.359\n",
            "    20: 4.472\n",
            "    21: 4.583\n",
            "    22: 4.690\n",
            "    23: 4.796\n",
            "    24: 4.899\n",
            "    25: 5.000\n",
            "    26: 5.099\n",
            "    27: 5.196\n",
            "    28: 5.292\n",
            "    29: 5.385\n",
            "    30: 5.477\n",
            "    31: 5.568\n",
            "    32: 5.657\n",
            "    33: 5.745\n",
            "    34: 5.831\n",
            "    35: 5.916\n",
            "    36: 6.000\n",
            "    37: 6.083\n",
            "    38: 6.164\n",
            "    39: 6.245\n",
            "    40: 6.325\n",
            "    41: 6.403\n",
            "    42: 6.481\n",
            "    43: 6.557\n",
            "    44: 6.633\n",
            "    45: 6.708\n",
            "    46: 6.782\n",
            "    47: 6.856\n",
            "    48: 6.928\n",
            "    49: 7.000\n",
            "    50: 7.071\n"
          ]
        }
      ]
    },
    {
      "cell_type": "code",
      "source": [
        "# Exemplo 3: somatório\n",
        "\n",
        "soma = 0\n",
        "num = int(input(\"Número: \"))\n",
        "for cont in range(1,num+1):\n",
        "  soma = soma + cont\n",
        "  print(f\"{cont}: {soma}\")\n",
        "print(f\"Somatório: {soma}\")"
      ],
      "metadata": {
        "id": "gm67IGS7HPYd",
        "colab": {
          "base_uri": "https://localhost:8080/"
        },
        "outputId": "90e191b0-3f54-4056-8b6b-2907d947a06c"
      },
      "execution_count": null,
      "outputs": [
        {
          "output_type": "stream",
          "name": "stdout",
          "text": [
            "Número: 10\n",
            "1: 1\n",
            "2: 3\n",
            "3: 6\n",
            "4: 10\n",
            "5: 15\n",
            "6: 21\n",
            "7: 28\n",
            "8: 36\n",
            "9: 45\n",
            "10: 55\n",
            "Somatório: 55\n"
          ]
        }
      ]
    },
    {
      "cell_type": "code",
      "source": [
        "# Exemplo 4: algoritmo de Heron para calcular aproximação de raiz quadrada\n",
        "\n",
        "num = int(input(\"Valor desejado: \"))\n",
        "total = int(input(\"Qtd. de repetições: \"))\n",
        "\n",
        "aprox = 1\n",
        "for cont in range(1, total + 1):\n",
        "  aprox = (aprox + num/aprox) / 2\n",
        "  print(f\"{cont:3} {aprox:.5f}\")\n",
        "\n",
        "print(f\"Raiz aproximada: {aprox:.5f}\")"
      ],
      "metadata": {
        "id": "1fmRQENiHd5f",
        "colab": {
          "base_uri": "https://localhost:8080/"
        },
        "outputId": "bcb6bb79-9b37-4e0e-e2b6-49f100e9144c"
      },
      "execution_count": null,
      "outputs": [
        {
          "output_type": "stream",
          "name": "stdout",
          "text": [
            "Valor desejado: 1000000\n",
            "Qtd. de repetições: 20\n",
            "  1 500000.50000\n",
            "  2 250001.25000\n",
            "  3 125002.62499\n",
            "  4 62505.31241\n",
            "  5 31260.65553\n",
            "  6 15646.32231\n",
            "  7 7855.11755\n",
            "  8 3991.21154\n",
            "  9 2120.88102\n",
            " 10 1296.19159\n",
            " 11 1033.84124\n",
            " 12 1000.55387\n",
            " 13 1000.00015\n",
            " 14 1000.00000\n",
            " 15 1000.00000\n",
            " 16 1000.00000\n",
            " 17 1000.00000\n",
            " 18 1000.00000\n",
            " 19 1000.00000\n",
            " 20 1000.00000\n",
            "Raiz aproximada: 1000.00000\n"
          ]
        }
      ]
    },
    {
      "cell_type": "code",
      "source": [
        "# Exemplo 5: uso de break\n",
        "\n",
        "for cont in range(20):\n",
        "  if cont > 10:\n",
        "    break\n",
        "  print(cont)\n",
        "print(\"Continuação do programa\")"
      ],
      "metadata": {
        "id": "GBPS7_ttnrSW",
        "colab": {
          "base_uri": "https://localhost:8080/"
        },
        "outputId": "2469992d-6103-41d2-e23b-93e07f1a2edc"
      },
      "execution_count": null,
      "outputs": [
        {
          "output_type": "stream",
          "name": "stdout",
          "text": [
            "0\n",
            "1\n",
            "2\n",
            "3\n",
            "4\n",
            "5\n",
            "6\n",
            "7\n",
            "8\n",
            "9\n",
            "10\n",
            "Continuação do programa\n"
          ]
        }
      ]
    },
    {
      "cell_type": "code",
      "source": [
        "# Exemplo 6: uso de continue\n",
        "\n",
        "for cont in range(20):\n",
        "  if cont % 2 == 1:\n",
        "    continue\n",
        "  print(cont)\n",
        "print(\"Continuação do programa\")"
      ],
      "metadata": {
        "id": "iirCk5p5ntRn",
        "colab": {
          "base_uri": "https://localhost:8080/"
        },
        "outputId": "f593a68b-a61c-4bf4-e1e6-74730e5abe07"
      },
      "execution_count": null,
      "outputs": [
        {
          "output_type": "stream",
          "name": "stdout",
          "text": [
            "0\n",
            "2\n",
            "4\n",
            "6\n",
            "8\n",
            "10\n",
            "12\n",
            "14\n",
            "16\n",
            "18\n",
            "Continuação do programa\n"
          ]
        }
      ]
    },
    {
      "cell_type": "markdown",
      "source": [
        "## Problemas com demonstração de soluções (repetição com for)"
      ],
      "metadata": {
        "id": "4IwxSO1rdGWd"
      }
    },
    {
      "cell_type": "code",
      "source": [
        "# Exemplo 7: algoritmo de Heron que termina ao chegar em um resultado razoável\n",
        "\n",
        "num = int(input(\"Valor desejado: \"))\n",
        "total = int(input(\"Qtd. de repetições: \"))\n",
        "\n",
        "aprox = 1\n",
        "anterior = 0\n",
        "for cont in range(1, total + 1):\n",
        "  aprox = (aprox + num/aprox) / 2\n",
        "  print(f\"{cont:3} {aprox:.5f}\")\n",
        "  dif = abs(aprox-anterior)\n",
        "  if dif < 0.001:\n",
        "    break\n",
        "  anterior = aprox\n",
        "\n",
        "print(f\"Raiz aproximada: {aprox:.5f}\")"
      ],
      "metadata": {
        "id": "CX4kOUVFbYh5",
        "colab": {
          "base_uri": "https://localhost:8080/"
        },
        "outputId": "b8abfd95-31ba-4c31-fc02-2f63108f2158"
      },
      "execution_count": null,
      "outputs": [
        {
          "output_type": "stream",
          "name": "stdout",
          "text": [
            "Valor desejado: 1000000\n",
            "Qtd. de repetições: 100\n",
            "  1 500000.50000\n",
            "  2 250001.25000\n",
            "  3 125002.62499\n",
            "  4 62505.31241\n",
            "  5 31260.65553\n",
            "  6 15646.32231\n",
            "  7 7855.11755\n",
            "  8 3991.21154\n",
            "  9 2120.88102\n",
            " 10 1296.19159\n",
            " 11 1033.84124\n",
            " 12 1000.55387\n",
            " 13 1000.00015\n",
            " 14 1000.00000\n",
            "Raiz aproximada: 1000.00000\n"
          ]
        }
      ]
    },
    {
      "cell_type": "code",
      "source": [
        "# Exemplo 8: media de 10 alturas\n",
        "\n",
        "soma = 0\n",
        "for cont in range(10):\n",
        "  alt = float(input(\"Digite uma altura: \"))\n",
        "  soma = soma + alt\n",
        "\n",
        "media = soma/10\n",
        "print(f\"Media: {media:.3f}\")"
      ],
      "metadata": {
        "id": "jZCQeoCKdPO0",
        "colab": {
          "base_uri": "https://localhost:8080/"
        },
        "outputId": "f70a5029-0c60-4f9c-f4ea-738dc23089dd"
      },
      "execution_count": null,
      "outputs": [
        {
          "output_type": "stream",
          "name": "stdout",
          "text": [
            "Digite uma altura: 1.8\n",
            "Digite uma altura: 1.76\n",
            "Digite uma altura: 1.67\n",
            "Digite uma altura: 1.98\n",
            "Digite uma altura: 2.1\n",
            "Digite uma altura: 1.72\n",
            "Digite uma altura: 1.89\n",
            "Digite uma altura: 1.66\n",
            "Digite uma altura: 1.81\n",
            "Digite uma altura: 1.7\n",
            "Media: 1.809\n"
          ]
        }
      ]
    },
    {
      "cell_type": "code",
      "source": [
        "# Exemplo 9: media de 10 alturas e a maior altura\n",
        "\n",
        "import random\n",
        "\n",
        "soma = 0\n",
        "maior = 0\n",
        "\n",
        "for cont in range(100):\n",
        "  alt = random.uniform(1.50,2.1)\n",
        "  soma = soma + alt\n",
        "  if alt > maior:\n",
        "    maior = alt\n",
        "\n",
        "media = soma/100\n",
        "print(f\"Media: {media:.3f}\")\n",
        "print(f\"Maior altura: {maior:.2f}\")"
      ],
      "metadata": {
        "id": "zO8txNNriQYX",
        "colab": {
          "base_uri": "https://localhost:8080/"
        },
        "outputId": "156455f1-0d6f-4e0e-d8a5-1d9b7fa38b10"
      },
      "execution_count": null,
      "outputs": [
        {
          "output_type": "stream",
          "name": "stdout",
          "text": [
            "Media: 1.791\n",
            "Maior altura: 2.08\n"
          ]
        }
      ]
    },
    {
      "cell_type": "code",
      "source": [
        "# Exemplo 10: estatísticas sobre um grupo de alunos\n",
        "\n",
        "import random\n",
        "\n",
        "somaIdades = 0\n",
        "cursoMaisVelho = \"\"\n",
        "idadeMaisVelho = 0\n",
        "qtdAlunos5oSem = 0\n",
        "\n",
        "for cont in range(50):\n",
        "  # Sorteio\n",
        "  idade = random.randint(18, 60)\n",
        "  curso = random.choice([\"Eng. Civil\", \"Eng. Mec\", \"Eng. Química\", \"Eng. Prod.\"])\n",
        "  semestre = random.randint(1,10)\n",
        "  print(f\"{idade} {curso} {semestre}\")\n",
        "  # Coleta de estatísticas\n",
        "  # Media de idades: é necessário somar as idades\n",
        "  somaIdades += idade\n",
        "  # Curso do aluno mais velho\n",
        "  if idade > idadeMaisVelho:\n",
        "    idadeMaisVelho = idade\n",
        "    cursoMaisVelho = curso\n",
        "  # Total de alunos no 5o. semestre\n",
        "  if semestre == 5:\n",
        "    qtdAlunos5oSem += 1\n",
        "\n",
        "mediaIdades = somaIdades // 50\n",
        "print(f\"Media de idades: {mediaIdades}\") \n",
        "print(f\"Curso do aluno mais velho ({idadeMaisVelho} anos): {cursoMaisVelho}\")\n",
        "print(f\"Total de alunos no 5o. sem: {qtdAlunos5oSem}\")"
      ],
      "metadata": {
        "id": "JWqkcdNCre5_",
        "colab": {
          "base_uri": "https://localhost:8080/"
        },
        "outputId": "80d864c0-171f-4fe9-b22b-fb8a87eb0235"
      },
      "execution_count": null,
      "outputs": [
        {
          "output_type": "stream",
          "name": "stdout",
          "text": [
            "58 Eng. Prod. 4\n",
            "22 Eng. Química 5\n",
            "39 Eng. Prod. 8\n",
            "32 Eng. Prod. 9\n",
            "40 Eng. Mec 10\n",
            "32 Eng. Prod. 5\n",
            "34 Eng. Mec 10\n",
            "36 Eng. Mec 1\n",
            "36 Eng. Civil 3\n",
            "60 Eng. Civil 7\n",
            "22 Eng. Civil 5\n",
            "30 Eng. Mec 3\n",
            "52 Eng. Química 6\n",
            "28 Eng. Mec 3\n",
            "53 Eng. Civil 8\n",
            "45 Eng. Prod. 5\n",
            "43 Eng. Mec 2\n",
            "28 Eng. Civil 6\n",
            "31 Eng. Prod. 5\n",
            "18 Eng. Mec 5\n",
            "25 Eng. Mec 5\n",
            "58 Eng. Mec 5\n",
            "44 Eng. Prod. 6\n",
            "50 Eng. Química 2\n",
            "36 Eng. Prod. 6\n",
            "31 Eng. Química 2\n",
            "31 Eng. Prod. 2\n",
            "23 Eng. Química 10\n",
            "48 Eng. Mec 1\n",
            "42 Eng. Civil 9\n",
            "41 Eng. Química 7\n",
            "57 Eng. Prod. 1\n",
            "19 Eng. Prod. 10\n",
            "20 Eng. Mec 4\n",
            "20 Eng. Mec 7\n",
            "19 Eng. Civil 3\n",
            "60 Eng. Química 4\n",
            "26 Eng. Mec 7\n",
            "60 Eng. Química 6\n",
            "20 Eng. Química 7\n",
            "31 Eng. Química 8\n",
            "41 Eng. Prod. 10\n",
            "43 Eng. Prod. 4\n",
            "51 Eng. Civil 3\n",
            "42 Eng. Química 6\n",
            "41 Eng. Civil 2\n",
            "30 Eng. Prod. 5\n",
            "28 Eng. Mec 2\n",
            "58 Eng. Química 10\n",
            "45 Eng. Prod. 7\n",
            "Media de idades: 37\n",
            "Curso do aluno mais velho (60 anos): Eng. Civil\n",
            "Total de alunos no 5o. sem: 9\n"
          ]
        }
      ]
    },
    {
      "cell_type": "markdown",
      "source": [
        "## Tratamento de cadeias de caracteres (strings)"
      ],
      "metadata": {
        "id": "6CxmKl4yzson"
      }
    },
    {
      "cell_type": "code",
      "source": [
        "# Exemplo 11: acessando caracteres individuais (por índice)\n",
        "\n",
        "texto = \"Esta é uma string\"\n",
        "\n",
        "print(texto[0])\n",
        "print(texto[5])\n",
        "print(texto[-1])\n",
        "print(texto[-6])"
      ],
      "metadata": {
        "id": "abkIA_4dNabn",
        "colab": {
          "base_uri": "https://localhost:8080/"
        },
        "outputId": "fea1cd20-4911-46cd-bb83-168daa42dc5e"
      },
      "execution_count": null,
      "outputs": [
        {
          "output_type": "stream",
          "name": "stdout",
          "text": [
            "E\n",
            "é\n",
            "g\n",
            "s\n"
          ]
        }
      ]
    },
    {
      "cell_type": "code",
      "source": [
        "# Exemplo 12: operadores de concatenação e repetição\n",
        "\n",
        "texto = \"Esta\"\n",
        "print(texto + \" é uma string\")\n",
        "print(texto * 3)\n",
        "print(\"=\" * 30)\n",
        "\n",
        "# Combinando os dois operadores\n",
        "result = texto * 4 + \" é uma \" + \"String\" * 3\n",
        "print(result)\n"
      ],
      "metadata": {
        "id": "tzF-eDLYPgbT",
        "colab": {
          "base_uri": "https://localhost:8080/"
        },
        "outputId": "3de9996f-3689-4d49-8ba6-b5d713fe488f"
      },
      "execution_count": null,
      "outputs": [
        {
          "output_type": "stream",
          "name": "stdout",
          "text": [
            "Esta é uma string\n",
            "EstaEstaEsta\n",
            "==============================\n",
            "EstaEstaEstaEsta é uma StringStringString\n"
          ]
        }
      ]
    },
    {
      "cell_type": "code",
      "source": [
        "# Exemplo 13: operador de fatiamento (slicing)\n",
        "\n",
        "texto = \"Esta é uma string\"\n",
        "print(texto[0:4])\n",
        "print(texto[7:10])\n",
        "print(texto[-6:])\n",
        "print(texto[:6])\n",
        "print(texto[0:10:2])\n",
        "print(texto[::2])\n",
        "print(texto[::-1])"
      ],
      "metadata": {
        "id": "zJ8v_mnJSDEc",
        "colab": {
          "base_uri": "https://localhost:8080/"
        },
        "outputId": "e9799274-4670-481f-ff7b-f630dfb29790"
      },
      "execution_count": null,
      "outputs": [
        {
          "output_type": "stream",
          "name": "stdout",
          "text": [
            "Esta\n",
            "uma\n",
            "string\n",
            "Esta é\n",
            "Et  m\n",
            "Et  m tig\n",
            "gnirts amu é atsE\n"
          ]
        }
      ]
    },
    {
      "cell_type": "code",
      "source": [
        "# Exemplo 14: utilizando slicing para alterar o conteúdo da string\n",
        "\n",
        "texto = \"Esta é uma string\"\n",
        "#texto[3] = \"e\"\n",
        "texto = texto[:3] +  \"e\" + texto[4:]\n",
        "print(texto)"
      ],
      "metadata": {
        "id": "Bchu_J41mOTY",
        "colab": {
          "base_uri": "https://localhost:8080/"
        },
        "outputId": "eca8d49c-64c3-4fef-f44d-4e2c49f67128"
      },
      "execution_count": null,
      "outputs": [
        {
          "output_type": "stream",
          "name": "stdout",
          "text": [
            "Este é uma string\n"
          ]
        }
      ]
    },
    {
      "cell_type": "code",
      "source": [
        "# Exemplo 15: comparação de strings\n",
        "\n",
        "texto1 = \"texto\"\n",
        "texto2 = \"outro texto\"\n",
        "if texto1 < texto2:\n",
        "  print(f'\"{texto1}\" vem antes de \"{texto2}\"')\n",
        "elif texto2 < texto1:\n",
        "  print(f'\"{texto2}\" vem antes de \"{texto1}\"')\n",
        "else:\n",
        "  print(f'\"{texto1}\" é igual a \"{texto2}\"')"
      ],
      "metadata": {
        "id": "W3Z2YhnirsN0",
        "colab": {
          "base_uri": "https://localhost:8080/"
        },
        "outputId": "48833211-4e0a-4c6f-d014-4c98528d6d15"
      },
      "execution_count": null,
      "outputs": [
        {
          "output_type": "stream",
          "name": "stdout",
          "text": [
            "\"outro texto\" vem antes de \"texto\"\n"
          ]
        }
      ]
    },
    {
      "cell_type": "code",
      "source": [
        "# Exemplo 16: operador de pertencimento (in)\n",
        "\n",
        "texto1 = input(\"Digite uma frase: \")\n",
        "texto2 = input(\"Digite uma palavra: \")\n",
        "if texto2 in texto1:\n",
        "  print(f\"{texto2} está na frase\")\n",
        "else:\n",
        "  print(f\"{texto2} não está na frase...\")"
      ],
      "metadata": {
        "id": "VtH05xbtueZq",
        "colab": {
          "base_uri": "https://localhost:8080/"
        },
        "outputId": "788be99e-61ff-4af1-87dc-b1b18204adcd"
      },
      "execution_count": null,
      "outputs": [
        {
          "output_type": "stream",
          "name": "stdout",
          "text": [
            "Digite uma frase: Esta é outra frase qualquer\n",
            "Digite uma palavra: string\n",
            "string não está na frase...\n"
          ]
        }
      ]
    },
    {
      "cell_type": "code",
      "source": [
        "# Exemplo 17: obtendo o comprimento da string (função len)\n",
        "\n",
        "texto = input(\"Digite uma frase: \")\n",
        "print(f\"O comprimento da frase é {len(texto)} caracteres\")"
      ],
      "metadata": {
        "id": "ciQBt1k6vosI",
        "colab": {
          "base_uri": "https://localhost:8080/"
        },
        "outputId": "21395adc-ff94-40cd-9438-93da7a31e180"
      },
      "execution_count": null,
      "outputs": [
        {
          "output_type": "stream",
          "name": "stdout",
          "text": [
            "Digite uma frase: Esta é uma frase consideravelmente. mais longa com um tamanho maior\n",
            "O comprimento da frase é 67 caracteres\n"
          ]
        }
      ]
    },
    {
      "cell_type": "code",
      "source": [
        "# Exemplo 18: \"caminhando\" pelos caracteres usando for diretamente\n",
        "\n",
        "texto = input(\"Digite uma frase: \")\n",
        "for caractere in texto:\n",
        "  print(caractere)"
      ],
      "metadata": {
        "id": "1_tmcZHLzytc",
        "colab": {
          "base_uri": "https://localhost:8080/"
        },
        "outputId": "748e36a9-d273-4e02-8ce8-99a6cf1ca236"
      },
      "execution_count": null,
      "outputs": [
        {
          "output_type": "stream",
          "name": "stdout",
          "text": [
            "Digite uma frase: Esta é uma frase qualquer\n",
            "E\n",
            "s\n",
            "t\n",
            "a\n",
            " \n",
            "é\n",
            " \n",
            "u\n",
            "m\n",
            "a\n",
            " \n",
            "f\n",
            "r\n",
            "a\n",
            "s\n",
            "e\n",
            " \n",
            "q\n",
            "u\n",
            "a\n",
            "l\n",
            "q\n",
            "u\n",
            "e\n",
            "r\n"
          ]
        }
      ]
    },
    {
      "cell_type": "code",
      "source": [
        "# Exemplo 19: \"caminhando\" pelos caracteres usando for + range():\n",
        "\n",
        "texto = input(\"Digite uma frase: \")\n",
        "for pos in range(len(texto)):\n",
        "  print(f\"{pos}: {texto[pos]}\")"
      ],
      "metadata": {
        "id": "m0agbsWe0RC8",
        "colab": {
          "base_uri": "https://localhost:8080/"
        },
        "outputId": "66796cf2-7013-4f45-ebab-f9757f0e922f"
      },
      "execution_count": null,
      "outputs": [
        {
          "output_type": "stream",
          "name": "stdout",
          "text": [
            "Digite uma frase: Esta é uma outra frase qualquer\n",
            "0: E\n",
            "1: s\n",
            "2: t\n",
            "3: a\n",
            "4:  \n",
            "5: é\n",
            "6:  \n",
            "7: u\n",
            "8: m\n",
            "9: a\n",
            "10:  \n",
            "11: o\n",
            "12: u\n",
            "13: t\n",
            "14: r\n",
            "15: a\n",
            "16:  \n",
            "17: f\n",
            "18: r\n",
            "19: a\n",
            "20: s\n",
            "21: e\n",
            "22:  \n",
            "23: q\n",
            "24: u\n",
            "25: a\n",
            "26: l\n",
            "27: q\n",
            "28: u\n",
            "29: e\n",
            "30: r\n"
          ]
        }
      ]
    },
    {
      "cell_type": "markdown",
      "source": [
        "## Problemas com manipulação de strings"
      ],
      "metadata": {
        "id": "CQjCdrTRQcLI"
      }
    },
    {
      "cell_type": "code",
      "source": [
        "# Exemplo 20: verificar se uma string digitada é um palíndromo\n",
        "# sopapos, radar, reviver, osso, ovo, anilina, arara...\n",
        "\n",
        "texto = input(\"Digite uma frase: \")\n",
        "\n",
        "dif = False\n",
        "for pos in range(len(texto)//2):\n",
        "  if texto[pos] != texto[-1-pos]:\n",
        "      dif = True\n",
        "      break\n",
        "\n",
        "if dif:\n",
        "  print(\"A frase não é um palíndromo...\")\n",
        "else:\n",
        "  print(\"A frase é um palíndromo!\")"
      ],
      "metadata": {
        "id": "jKAia5U3QmGL",
        "colab": {
          "base_uri": "https://localhost:8080/"
        },
        "outputId": "10c15542-b635-4040-c2b3-483e7edde263"
      },
      "execution_count": null,
      "outputs": [
        {
          "output_type": "stream",
          "name": "stdout",
          "text": [
            "Digite uma frase: teste\n",
            "A frase não é um palíndromo...\n"
          ]
        }
      ]
    },
    {
      "cell_type": "code",
      "source": [
        "# Exemplo 21: verificar se uma string digitada é um palíndromo\n",
        "# sopapos, radar, reviver, osso, ovo, analina, arara...\n",
        "\n",
        "texto = input(\"Digite uma frase: \")\n",
        "\n",
        "print(f\"Invertida: {texto[::-1]}\")\n",
        "if texto != texto[::-1]:\n",
        "  print(\"A frase não é um palíndromo...\")\n",
        "else:\n",
        "  print(\"A frase é um palíndromo!\")"
      ],
      "metadata": {
        "id": "U8OAAwWOlQ2q",
        "colab": {
          "base_uri": "https://localhost:8080/"
        },
        "outputId": "dbf94f16-9a8f-47c5-9a2c-d4954be28dfd"
      },
      "execution_count": null,
      "outputs": [
        {
          "output_type": "stream",
          "name": "stdout",
          "text": [
            "Digite uma frase: teste de frase\n",
            "Invertida: esarf ed etset\n",
            "A frase não é um palíndromo...\n"
          ]
        }
      ]
    },
    {
      "cell_type": "code",
      "source": [
        "# Exemplo 22: contar a quantidade de vogais em uma string\n",
        "\n",
        "texto = input(\"Digite uma frase: \")\n",
        "\n",
        "vogais = \"aeiouAEIOU\"\n",
        "totalVogais = 0\n",
        "for letra in texto:\n",
        "  if letra in vogais:\n",
        "    totalVogais += 1\n",
        "\n",
        "print(f\"Quantidade de vogais: {totalVogais}\")"
      ],
      "metadata": {
        "id": "eUzhKudpnLUD",
        "colab": {
          "base_uri": "https://localhost:8080/"
        },
        "outputId": "24e16b03-4614-4e20-952f-7855061be287"
      },
      "execution_count": null,
      "outputs": [
        {
          "output_type": "stream",
          "name": "stdout",
          "text": [
            "Digite uma frase: Aqui temos uma frase com vogais\n",
            "Quantidade de vogais: 13\n"
          ]
        }
      ]
    },
    {
      "cell_type": "code",
      "source": [
        "# Exemplo 23: verificar se uma senha digitada é válida\n",
        "\n",
        "# Regras:\n",
        "# - mínimo de 8 caracteres\n",
        "# - pelo menos uma letra maiúscula\n",
        "# - pelo menos um dígito entre 0-9\n",
        "# - pelo menos um caractere de pontuação\n",
        "\n",
        "import string\n",
        "\n",
        "print(string.ascii_letters)\n",
        "print(string.digits)\n",
        "print(string.punctuation)\n",
        "senha = input(\"Senha: \")\n",
        "\n",
        "maiuscula = False\n",
        "digito = False\n",
        "pontuacao = False\n",
        "\n",
        "if len(senha) < 8:\n",
        "  print(\"Erro: senha muito curta\")\n",
        "else:\n",
        "  for letra in senha:\n",
        "    if letra in string.ascii_uppercase:\n",
        "      maiuscula = True\n",
        "    if letra in string.digits:\n",
        "      digito = True\n",
        "    if letra in string.punctuation:\n",
        "      pontuacao = True\n",
        "\n",
        "  if maiuscula == False or digito == False or pontuacao == False:\n",
        "    if maiuscula == False:\n",
        "      print(\"Erro: senha não tem maiúsculas\")\n",
        "    if digito == False:\n",
        "      print(\"Erro: senha não tem dígitos\")\n",
        "    if pontuacao == False:\n",
        "      print(\"Erro: senha não tem caractere de pontuação\")\n",
        "  else:\n",
        "    print(\"Senha válida!\")"
      ],
      "metadata": {
        "id": "lC6cc0ASoc9Z",
        "colab": {
          "base_uri": "https://localhost:8080/"
        },
        "outputId": "8d5fcf0c-9c0f-4938-d929-dae9d6d3ec15"
      },
      "execution_count": null,
      "outputs": [
        {
          "output_type": "stream",
          "name": "stdout",
          "text": [
            "abcdefghijklmnopqrstuvwxyzABCDEFGHIJKLMNOPQRSTUVWXYZ\n",
            "0123456789\n",
            "!\"#$%&'()*+,-./:;<=>?@[\\]^_`{|}~\n",
            "Senha: E23#$@icijs91284\n",
            "Senha válida!\n"
          ]
        }
      ]
    },
    {
      "cell_type": "code",
      "source": [
        "# Exemplo 24: mostrar as iniciais de nome e sobrenome(s)\n",
        "\n",
        "nome = input(\"Digite um nome completo: \")\n",
        "\n",
        "inicio = True\n",
        "for letra in nome:\n",
        "  if inicio:\n",
        "    print(f\"{letra}. \", end=\"\")\n",
        "    inicio = False\n",
        "  elif letra == \" \":\n",
        "    inicio = True\n"
      ],
      "metadata": {
        "id": "fiGynXuJuyqD",
        "colab": {
          "base_uri": "https://localhost:8080/"
        },
        "outputId": "64510251-39e3-4213-f9e0-3451953eaaaf"
      },
      "execution_count": null,
      "outputs": [
        {
          "output_type": "stream",
          "name": "stdout",
          "text": [
            "Digite um nome completo: João de Souza\n",
            "J. d. S. "
          ]
        }
      ]
    },
    {
      "cell_type": "markdown",
      "source": [
        "## Dinâmica: exercícios de fixação"
      ],
      "metadata": {
        "id": "Wu3Vwq4oywR7"
      }
    },
    {
      "cell_type": "code",
      "source": [
        "# Exercício 1\n",
        "\n",
        "# Jogo da adivinhação\n",
        "# - 10 tentativas para adivinhar um número sorteado entre 1 e 100\n",
        "# - Computador informa se o número é maior ou menor que o digitado\n",
        "\n",
        "import random\n",
        "\n",
        "sorteado = random.randint(1,100)\n",
        "#print(f\"Sorteado: {sorteado}\")\n",
        "\n",
        "acertou = False\n",
        "\n",
        "for tent in range(1,11):\n",
        "  print(f\"Tentativa {tent}: \", end=\"\")\n",
        "  num = int(input())\n",
        "  if num < sorteado:\n",
        "    print(\"Tente um número maior...\")\n",
        "  elif num > sorteado:\n",
        "    print(\"Tente um número menor...\")\n",
        "  else:\n",
        "    acertou = True\n",
        "    break\n",
        "\n",
        "# Neste ponto, se acertou == True => jogador ganhou\n",
        "if acertou:\n",
        "  print(\"Parabéns! Você acertou\")\n",
        "else:\n",
        "  print(f\"Que pena, você perdeu... O número era {sorteado}\")\n"
      ],
      "metadata": {
        "id": "3nR9CeKNy00p",
        "colab": {
          "base_uri": "https://localhost:8080/"
        },
        "outputId": "60acdc71-a7e4-4090-99a8-9152bdf77353"
      },
      "execution_count": null,
      "outputs": [
        {
          "output_type": "stream",
          "name": "stdout",
          "text": [
            "Tentativa 1: 50\n",
            "Tente um número menor...\n",
            "Tentativa 2: 55\n",
            "Tente um número menor...\n",
            "Tentativa 3: 60\n",
            "Tente um número menor...\n",
            "Tentativa 4: 70\n",
            "Tente um número menor...\n",
            "Tentativa 5: 80\n",
            "Tente um número menor...\n",
            "Tentativa 6: 85\n",
            "Tente um número menor...\n",
            "Tentativa 7: 90\n",
            "Tente um número menor...\n",
            "Tentativa 8: 53\n",
            "Tente um número menor...\n",
            "Tentativa 9: 49\n",
            "Tente um número menor...\n",
            "Tentativa 10: 48\n",
            "Tente um número menor...\n",
            "Que pena, você perdeu... O número era 29\n"
          ]
        }
      ]
    },
    {
      "cell_type": "code",
      "source": [
        "# Exercício 2\n",
        "\n",
        "# Foram entrevistados 2000 habitantes de uma cidade\n",
        "# De cada habitante foram coletados os seguintes dados:\n",
        "# - idade\n",
        "# - renda\n",
        "# - gênero\n",
        "# - número de filhos\n",
        "\n",
        "# Calcular:\n",
        "# a) media de renda\n",
        "# b) media de idade de quem tem mais de 3 filhos\n",
        "# c) quantidade de homens com menos de 30 anos\n",
        "# d) media do número de filhos\n",
        "# e) renda do homem mais velho\n",
        "# f) idade da mulher com maior renda \n",
        "\n",
        "import random\n",
        "\n",
        "somaRendas = 0\n",
        "somaIdades = 0\n",
        "qtdMais3Filhos = 0\n",
        "qtdHomensMenor30 = 0\n",
        "somaFilhos = 0\n",
        "rendaHomemMaisVelho = 0\n",
        "idadeHomemMaisVelho = 0\n",
        "idadeMulherMaiorRenda = 0\n",
        "mulherMaiorRenda = 0\n",
        "\n",
        "totalHab = 2000\n",
        "for cont in range(2000):\n",
        "\n",
        "  # Sorteio\n",
        "  idade = random.randint(18,80)\n",
        "  renda = random.randint(1200,12000)\n",
        "  genero = random.choice([\"m\",\"f\"])\n",
        "  filhos = random.randint(0,5)\n",
        "\n",
        "  # 1. Media de rendas\n",
        "  somaRendas += renda\n",
        "\n",
        "  # 2. Media de idade com mais de 3 filhos\n",
        "  if filhos > 3:\n",
        "    somaIdades += idade\n",
        "    qtdMais3Filhos += 1\n",
        "\n",
        "  # 3. Qtd homens com menos de 30 anos\n",
        "  if genero == \"m\" and idade < 30:\n",
        "    qtdHomensMenor30 += 1\n",
        "\n",
        "  # 4. Media no. de filhos\n",
        "  somaFilhos += filhos\n",
        "\n",
        "  # 5. Renda homem mais velho\n",
        "  if genero == \"m\" and idade > idadeHomemMaisVelho:\n",
        "      idadeHomemMaisVelho = idade\n",
        "      rendaHomemMaisVelho = renda\n",
        "\n",
        "  # 6. Idade mulher com maior renda\n",
        "  if genero == \"f\" and renda > mulherMaiorRenda:\n",
        "    idadeMulherMaiorRenda = idade\n",
        "    mulherMaiorRenda = renda \n",
        "\n",
        "# Mostra os resultados\n",
        "\n",
        "mediaRenda = somaRendas / totalHab\n",
        "mediaMais3Filhos = somaIdades // qtdMais3Filhos\n",
        "mediaFilhos = somaFilhos // totalHab\n",
        "\n",
        "print(f\"Media de renda: {mediaRenda}\")\n",
        "print(f\"Media de idade com mais de 3 filhos: {mediaMais3Filhos}\")\n",
        "print(f\"Total homens com menos de 30 anos: {qtdHomensMenor30}\")\n",
        "print(f\"Media no. de filhos: {mediaFilhos}\")\n",
        "print(f\"Renda do homem mais velho: {rendaHomemMaisVelho}\")\n",
        "print(f\"Idade da mulher com maior renda: {idadeMulherMaiorRenda}\")\n"
      ],
      "metadata": {
        "id": "XIFZ3DUDy3f4",
        "colab": {
          "base_uri": "https://localhost:8080/"
        },
        "outputId": "445f66c9-1ba7-4499-e0fd-ad10baea7134"
      },
      "execution_count": null,
      "outputs": [
        {
          "output_type": "stream",
          "name": "stdout",
          "text": [
            "Media de renda: 6638.041\n",
            "Media de idade com mais de 3 filhos: 49\n",
            "Total homens com menos de 30 anos: 207\n",
            "Media no. de filhos: 2\n",
            "Renda do homem mais velho: 8533\n",
            "Idade da mulher com maior renda: 66\n"
          ]
        }
      ]
    }
  ],
  "metadata": {
    "colab": {
      "provenance": []
    },
    "kernelspec": {
      "display_name": "Python 3 (ipykernel)",
      "language": "python",
      "name": "python3"
    },
    "language_info": {
      "codemirror_mode": {
        "name": "ipython",
        "version": 3
      },
      "file_extension": ".py",
      "mimetype": "text/x-python",
      "name": "python",
      "nbconvert_exporter": "python",
      "pygments_lexer": "ipython3",
      "version": "3.9.7"
    }
  },
  "nbformat": 4,
  "nbformat_minor": 0
}