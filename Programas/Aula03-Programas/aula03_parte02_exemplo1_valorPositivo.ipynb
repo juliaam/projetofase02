{
  "nbformat": 4,
  "nbformat_minor": 0,
  "metadata": {
    "colab": {
      "provenance": []
    },
    "kernelspec": {
      "name": "python3",
      "display_name": "Python 3"
    },
    "language_info": {
      "name": "python"
    }
  },
  "cells": [
    {
      "cell_type": "code",
      "execution_count": 30,
      "metadata": {
        "colab": {
          "base_uri": "https://localhost:8080/"
        },
        "id": "7a4Rn1JG00ML",
        "outputId": "a9e703c8-c6a7-45be-b047-26fde1d6495a"
      },
      "outputs": [
        {
          "output_type": "stream",
          "name": "stdout",
          "text": [
            "Informe um valor: -10\n",
            "Fim de programa\n"
          ]
        }
      ],
      "source": [
        "#-----------------------------------------------------------------------\n",
        "# LOGICA E PROGRAMACAO DE COMPUTADORES\n",
        "# AULA 03 - PARTE 2\n",
        "# Professora: Silvia Moraes\n",
        "# Exemplo 1 : Valor positivo \n",
        "# ----------------------------------------------------------------------\n",
        "valor = int(input('Informe um valor: '))\n",
        "if valor>0: print('O valor digitado era positivo.')\n",
        "print('Fim de programa')"
      ]
    }
  ]
}