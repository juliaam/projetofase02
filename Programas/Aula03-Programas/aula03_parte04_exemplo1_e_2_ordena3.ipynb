{
  "nbformat": 4,
  "nbformat_minor": 0,
  "metadata": {
    "colab": {
      "provenance": []
    },
    "kernelspec": {
      "name": "python3",
      "display_name": "Python 3"
    },
    "language_info": {
      "name": "python"
    }
  },
  "cells": [
    {
      "cell_type": "code",
      "execution_count": 42,
      "metadata": {
        "colab": {
          "base_uri": "https://localhost:8080/"
        },
        "id": "7a4Rn1JG00ML",
        "outputId": "37e0ed9c-6cd7-49e9-cae0-7306218c7298"
      },
      "outputs": [
        {
          "output_type": "stream",
          "name": "stdout",
          "text": [
            "Informe o primeiro valor: 9\n",
            "Informe o segundo valor: 1\n",
            "Informe o terceiro valor: 3\n",
            "Ordem crescente:  1 3 9\n",
            "Ordem decrescente:  9 3 1\n"
          ]
        }
      ],
      "source": [
        "#-----------------------------------------------------------------------\n",
        "# LOGICA E PROGRAMACAO DE COMPUTADORES\n",
        "# AULA 03 - PARTE 4\n",
        "# Professora: Silvia Moraes\n",
        "# Exemplo 1 e 2 : Ordena 3 valores\n",
        "# ----------------------------------------------------------------------\n",
        "v1 = int(input(\"Informe o primeiro valor: \"))\n",
        "v2 = int(input(\"Informe o segundo valor: \"))\n",
        "v3 = int(input(\"Informe o terceiro valor: \"))\n",
        "\n",
        "maior = v1\n",
        "if v2>maior : maior = v2\n",
        "if v3>maior : maior = v3\n",
        "\n",
        "menor = v1\n",
        "if v2 <menor : menor = v2\n",
        "if v3 <menor : menor = v3\n",
        "\n",
        "meio = v1+v2+v3 - maior - menor\n",
        "\n",
        "print('Ordem crescente: ', menor, meio, maior)\n",
        "print('Ordem decrescente: ', maior, meio, menor)"
      ]
    }
  ]
}