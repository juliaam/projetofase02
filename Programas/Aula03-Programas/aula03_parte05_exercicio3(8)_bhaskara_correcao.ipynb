{
  "nbformat": 4,
  "nbformat_minor": 0,
  "metadata": {
    "colab": {
      "provenance": []
    },
    "kernelspec": {
      "name": "python3",
      "display_name": "Python 3"
    },
    "language_info": {
      "name": "python"
    }
  },
  "cells": [
    {
      "cell_type": "code",
      "execution_count": 6,
      "metadata": {
        "colab": {
          "base_uri": "https://localhost:8080/"
        },
        "id": "7a4Rn1JG00ML",
        "outputId": "3946ae18-afa0-4e3e-d78e-91b4e9a36d0f"
      },
      "outputs": [
        {
          "output_type": "stream",
          "name": "stdout",
          "text": [
            "Informe o valor do a: 1\n",
            "Informe o valor do b: 4\n",
            "Informe o valor do c: 1\n",
            "x1:  -0.2679491924311228\n",
            "x2:  -3.732050807568877\n"
          ]
        }
      ],
      "source": [
        "#-----------------------------------------------------------------------\n",
        "# LOGICA E PROGRAMACAO DE COMPUTADORES\n",
        "# AULA 03 - PARTE 5\n",
        "# Professora: Silvia Moraes\n",
        "# Exercicio 3 (8) : Bhaskara\n",
        "# ----------------------------------------------------------------------\n",
        "import math\n",
        "a = float(input(\"Informe o valor do a: \"))\n",
        "b = float(input(\"Informe o valor do b: \"))\n",
        "c = float(input(\"Informe o valor do c: \"))\n",
        " \n",
        "delta = math.pow(b,2) - 4 * a * c\n",
        "if delta<0 or a==0: print(\"Erro. Delta negativo ou divisao por zero.\")\n",
        "else:\n",
        "  x1 = (-b + math.sqrt(delta))/(2*a)\n",
        "  x2 = (-b - math.sqrt(delta))/(2*a)\n",
        "  print(\"x1: \", x1)\n",
        "  print(\"x2: \", x2)\n"
      ]
    }
  ]
}