{
  "nbformat": 4,
  "nbformat_minor": 0,
  "metadata": {
    "colab": {
      "provenance": []
    },
    "kernelspec": {
      "name": "python3",
      "display_name": "Python 3"
    },
    "language_info": {
      "name": "python"
    }
  },
  "cells": [
    {
      "cell_type": "code",
      "execution_count": 38,
      "metadata": {
        "colab": {
          "base_uri": "https://localhost:8080/"
        },
        "id": "7a4Rn1JG00ML",
        "outputId": "dd40936f-ac60-4bf3-e802-74083ccdb1d8"
      },
      "outputs": [
        {
          "output_type": "stream",
          "name": "stdout",
          "text": [
            "Informe um valor: -10\n",
            "O valor digitado era negativo ou zero.\n",
            "Fim de programa\n"
          ]
        }
      ],
      "source": [
        "#-----------------------------------------------------------------------\n",
        "# LOGICA E PROGRAMACAO DE COMPUTADORES\n",
        "# AULA 03 - PARTE 3\n",
        "# Professora: Silvia Moraes\n",
        "# Exemplo 1 : Positivo/Negativo\n",
        "# ----------------------------------------------------------------------\n",
        "valor = int(input('Informe um valor: '))\n",
        "if valor>0: print('O valor digitado era positivo.')\n",
        "else: print('O valor digitado era negativo ou zero.')\n",
        "print('Fim de programa')"
      ]
    }
  ]
}