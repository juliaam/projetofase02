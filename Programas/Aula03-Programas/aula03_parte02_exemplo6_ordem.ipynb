{
  "nbformat": 4,
  "nbformat_minor": 0,
  "metadata": {
    "colab": {
      "provenance": []
    },
    "kernelspec": {
      "name": "python3",
      "display_name": "Python 3"
    },
    "language_info": {
      "name": "python"
    }
  },
  "cells": [
    {
      "cell_type": "code",
      "execution_count": 35,
      "metadata": {
        "colab": {
          "base_uri": "https://localhost:8080/"
        },
        "id": "7a4Rn1JG00ML",
        "outputId": "aab16caa-c1ca-48ab-d72b-d446a754c4e3"
      },
      "outputs": [
        {
          "output_type": "stream",
          "name": "stdout",
          "text": [
            "Informe o primeiro valor:\n",
            "10\n",
            "Informe o segundo valor:\n",
            "9\n",
            "9 10\n"
          ]
        }
      ],
      "source": [
        "#-----------------------------------------------------------------------\n",
        "# LOGICA E PROGRAMACAO DE COMPUTADORES\n",
        "# AULA 03 - PARTE 2\n",
        "# Professora: Silvia Moraes\n",
        "# Exemplo 6 : Ordem crescente para 2 valores\n",
        "# ----------------------------------------------------------------------\n",
        "print(\"Informe o primeiro valor:\")\n",
        "v1 = int(input())\n",
        "print(\"Informe o segundo valor:\")\n",
        "v2 = int(input())\n",
        "\n",
        "if v1>v2: \n",
        "  print(v2,v1)\n",
        "if v2>=v1:\n",
        "  print(v1,v2)\n"
      ]
    }
  ]
}