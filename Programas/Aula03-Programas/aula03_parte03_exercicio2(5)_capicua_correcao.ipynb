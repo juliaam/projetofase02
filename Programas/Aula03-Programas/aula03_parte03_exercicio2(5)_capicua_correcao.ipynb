{
  "nbformat": 4,
  "nbformat_minor": 0,
  "metadata": {
    "colab": {
      "provenance": []
    },
    "kernelspec": {
      "name": "python3",
      "display_name": "Python 3"
    },
    "language_info": {
      "name": "python"
    }
  },
  "cells": [
    {
      "cell_type": "code",
      "execution_count": 41,
      "metadata": {
        "colab": {
          "base_uri": "https://localhost:8080/"
        },
        "id": "7a4Rn1JG00ML",
        "outputId": "e2401faa-5b9d-40cf-90b5-69a39cb832c6"
      },
      "outputs": [
        {
          "output_type": "stream",
          "name": "stdout",
          "text": [
            "Informe o valor inteiro de 4 digitos: 1221\n",
            "Valor ao contrario:  1221\n",
            "Capicua\n"
          ]
        }
      ],
      "source": [
        "#-----------------------------------------------------------------------\n",
        "# LOGICA E PROGRAMACAO DE COMPUTADORES\n",
        "# AULA 03 - PARTE 3\n",
        "# Professora: Silvia Moraes\n",
        "# Exercicio 2 : Capicua\n",
        "# ----------------------------------------------------------------------\n",
        "numero = int(input(\"Informe o valor inteiro de 4 digitos: \"))\n",
        "if numero<1111 or numero>9999: print(\"Valor invalido, nao tem 4 digitos.\")\n",
        "else: \n",
        "  milhar = numero//1000\n",
        "  resto = numero%1000\n",
        "  centena = resto//100\n",
        "  resto = resto %100\n",
        "  dezena = resto//10\n",
        "  unidade = resto%10\n",
        "  invertido = unidade * 1000 + dezena * 100 + centena * 10 + milhar\n",
        "  print(\"Valor ao contrario: \", invertido)\n",
        "  if numero==invertido: print(\"Capicua\")\n",
        "  else: print(\"Nao eh capicua\")"
      ]
    }
  ]
}