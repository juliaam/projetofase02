{
  "nbformat": 4,
  "nbformat_minor": 0,
  "metadata": {
    "colab": {
      "provenance": []
    },
    "kernelspec": {
      "name": "python3",
      "display_name": "Python 3"
    },
    "language_info": {
      "name": "python"
    }
  },
  "cells": [
    {
      "cell_type": "code",
      "execution_count": 31,
      "metadata": {
        "colab": {
          "base_uri": "https://localhost:8080/"
        },
        "id": "7a4Rn1JG00ML",
        "outputId": "af90676f-ff3d-4876-ab35-20cbac8bfb9e"
      },
      "outputs": [
        {
          "output_type": "stream",
          "name": "stdout",
          "text": [
            "Informe um valor: 0\n",
            "Zero.\n"
          ]
        }
      ],
      "source": [
        "#-----------------------------------------------------------------------\n",
        "# LOGICA E PROGRAMACAO DE COMPUTADORES\n",
        "# AULA 03 - PARTE 2\n",
        "# Professora: Silvia Moraes\n",
        "# Exemplo 2 : Valor positivo, negativo u zero\n",
        "# ----------------------------------------------------------------------\n",
        "valor = int(input('Informe um valor: '))\n",
        "if valor>0: print('O valor positivo.')\n",
        "if valor<0: print('Valor negativo.')\n",
        "if valor==0: print('Zero.')\n"
      ]
    }
  ]
}