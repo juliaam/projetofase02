{
  "nbformat": 4,
  "nbformat_minor": 0,
  "metadata": {
    "colab": {
      "provenance": []
    },
    "kernelspec": {
      "name": "python3",
      "display_name": "Python 3"
    },
    "language_info": {
      "name": "python"
    }
  },
  "cells": [
    {
      "cell_type": "code",
      "execution_count": 34,
      "metadata": {
        "colab": {
          "base_uri": "https://localhost:8080/"
        },
        "id": "7a4Rn1JG00ML",
        "outputId": "d15c5fdb-63b5-4aaa-fd99-54723f39484c"
      },
      "outputs": [
        {
          "output_type": "stream",
          "name": "stdout",
          "text": [
            "Informe o primeiro valor:\n",
            "6\n",
            "Informe o segundo valor:\n",
            "9\n",
            "Informe o terceiro valor:\n",
            "9\n",
            "Informe o quarto valor:\n",
            "8\n",
            "Maior:  9\n"
          ]
        }
      ],
      "source": [
        "#-----------------------------------------------------------------------\n",
        "# LOGICA E PROGRAMACAO DE COMPUTADORES\n",
        "# AULA 03 - PARTE 2\n",
        "# Professora: Silvia Moraes\n",
        "# Exemplo 5 : Maior de 4\n",
        "# ----------------------------------------------------------------------\n",
        "print(\"Informe o primeiro valor:\")\n",
        "v1 = int(input())\n",
        "print(\"Informe o segundo valor:\")\n",
        "v2 = int(input())\n",
        "print(\"Informe o terceiro valor:\")\n",
        "v3 = int(input())\n",
        "print(\"Informe o quarto valor:\")\n",
        "v4 = int(input())\n",
        "\n",
        "maior = v1\n",
        "if v2>maior : maior = v2\n",
        "if v3>maior: maior = v3\n",
        "if v4>maior: maior = v4\n",
        "\n",
        "print('Maior: ', maior)"
      ]
    }
  ]
}