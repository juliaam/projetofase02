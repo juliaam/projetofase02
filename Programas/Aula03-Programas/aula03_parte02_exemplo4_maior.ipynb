{
  "nbformat": 4,
  "nbformat_minor": 0,
  "metadata": {
    "colab": {
      "provenance": []
    },
    "kernelspec": {
      "name": "python3",
      "display_name": "Python 3"
    },
    "language_info": {
      "name": "python"
    }
  },
  "cells": [
    {
      "cell_type": "code",
      "execution_count": 33,
      "metadata": {
        "colab": {
          "base_uri": "https://localhost:8080/"
        },
        "id": "7a4Rn1JG00ML",
        "outputId": "262b010f-4c6b-454d-b110-58143b2c2cc5"
      },
      "outputs": [
        {
          "output_type": "stream",
          "name": "stdout",
          "text": [
            "Informe o primeiro valor:\n",
            "6\n",
            "Informe o segundo valor:\n",
            "8\n",
            "Informe o terceiro valor:\n",
            "7\n",
            "Maior:  8\n"
          ]
        }
      ],
      "source": [
        "#-----------------------------------------------------------------------\n",
        "# LOGICA E PROGRAMACAO DE COMPUTADORES\n",
        "# AULA 03 - PARTE 2\n",
        "# Professora: Silvia Moraes\n",
        "# Exemplo 4 : Maior\n",
        "# ----------------------------------------------------------------------\n",
        "print(\"Informe o primeiro valor:\")\n",
        "v1 = int(input())\n",
        "print(\"Informe o segundo valor:\")\n",
        "v2 = int(input())\n",
        "print(\"Informe o terceiro valor:\")\n",
        "v3 = int(input())\n",
        "\n",
        "maior = v1\n",
        "if v2>maior : maior = v2\n",
        "if v3>maior: maior = v3\n",
        "\n",
        "print('Maior: ', maior)"
      ]
    }
  ]
}