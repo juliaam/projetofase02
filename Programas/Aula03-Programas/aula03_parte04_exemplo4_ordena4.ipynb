{
  "nbformat": 4,
  "nbformat_minor": 0,
  "metadata": {
    "colab": {
      "provenance": []
    },
    "kernelspec": {
      "name": "python3",
      "display_name": "Python 3"
    },
    "language_info": {
      "name": "python"
    }
  },
  "cells": [
    {
      "cell_type": "code",
      "execution_count": 2,
      "metadata": {
        "colab": {
          "base_uri": "https://localhost:8080/"
        },
        "id": "7a4Rn1JG00ML",
        "outputId": "7c76fa77-b6a7-4da3-f2c2-f5c2e00d7cf3"
      },
      "outputs": [
        {
          "output_type": "stream",
          "name": "stdout",
          "text": [
            "Informe o primeiro valor: 4\n",
            "Informe o segundo valor: 6\n",
            "Informe o terceiro valor: 10\n",
            "Informe o quarto valor: 7\n",
            "Ordem crescente:  4 6 7 10\n",
            "Ordem decrescente:  10 7 6 4\n"
          ]
        }
      ],
      "source": [
        "#-----------------------------------------------------------------------\n",
        "# LOGICA E PROGRAMACAO DE COMPUTADORES\n",
        "# AULA 03 - PARTE 4\n",
        "# Professora: Silvia Moraes\n",
        "# Exemplo 4 : Ordena 4 valores\n",
        "# ----------------------------------------------------------------------\n",
        "v1 = int(input(\"Informe o primeiro valor: \"))\n",
        "v2 = int(input(\"Informe o segundo valor: \"))\n",
        "v3 = int(input(\"Informe o terceiro valor: \"))\n",
        "v4 = int(input(\"Informe o quarto valor: \"))\n",
        "\n",
        "if v2<v1: \n",
        "  aux = v1\n",
        "  v1 = v2\n",
        "  v2 = aux\n",
        "\n",
        "if v3<v1:\n",
        "  aux = v1\n",
        "  v1 = v3\n",
        "  v3 = aux\n",
        "\n",
        "if v4<v1:\n",
        "  aux = v1\n",
        "  v1 = v4\n",
        "  v4 = aux\n",
        "\n",
        "if v3 <v2:\n",
        "  aux = v2\n",
        "  v2 = v3\n",
        "  v3 = aux\n",
        "\n",
        "if v4<v2:\n",
        "  aux = v2\n",
        "  v2 = v4\n",
        "  v4 = aux\n",
        "\n",
        "if v4<v3:\n",
        "  aux = v3\n",
        "  v3 = v4\n",
        "  v4 = aux\n",
        "\n",
        "print(\"Ordem crescente: \", v1, v2, v3, v4)\n",
        "print(\"Ordem decrescente: \", v4, v3, v2, v1)"
      ]
    }
  ]
}