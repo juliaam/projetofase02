{
  "nbformat": 4,
  "nbformat_minor": 0,
  "metadata": {
    "colab": {
      "provenance": []
    },
    "kernelspec": {
      "name": "python3",
      "display_name": "Python 3"
    },
    "language_info": {
      "name": "python"
    }
  },
  "cells": [
    {
      "cell_type": "code",
      "execution_count": 37,
      "metadata": {
        "colab": {
          "base_uri": "https://localhost:8080/"
        },
        "id": "7a4Rn1JG00ML",
        "outputId": "79fa2a22-56cd-431a-9a70-15db20aa4e7c"
      },
      "outputs": [
        {
          "output_type": "stream",
          "name": "stdout",
          "text": [
            "Informe a altura: 1.63\n",
            "Informe o genero, usando 1 para feminino e 2 para masculino: 1\n",
            "Peso ideal:  56.522999999999996\n"
          ]
        }
      ],
      "source": [
        "#-----------------------------------------------------------------------\n",
        "# LOGICA E PROGRAMACAO DE COMPUTADORES\n",
        "# AULA 03 - PARTE 2\n",
        "# Professora: Silvia Moraes\n",
        "# Exercicio 1 : Peso ideal\n",
        "# ----------------------------------------------------------------------\n",
        "altura = float(input(\"Informe a altura: \"))\n",
        "genero = int(input(\"Informe o genero, usando 1 para feminino e 2 para masculino: \"))\n",
        "if genero==1 : peso = 62.1 * altura - 44.7\n",
        "if genero==2 : peso = 72.7 * altura - 58\n",
        "if genero!=1 and genero!=2:\n",
        "  print(\"Genero invalido. Peso ideal nao calculado.\")\n",
        "  peso = 0\n",
        "print(\"Peso ideal: \", peso)"
      ]
    }
  ]
}