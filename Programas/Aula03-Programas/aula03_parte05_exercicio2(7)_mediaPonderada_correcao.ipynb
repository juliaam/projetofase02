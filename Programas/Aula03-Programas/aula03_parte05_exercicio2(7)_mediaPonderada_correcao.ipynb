{
  "nbformat": 4,
  "nbformat_minor": 0,
  "metadata": {
    "colab": {
      "provenance": []
    },
    "kernelspec": {
      "name": "python3",
      "display_name": "Python 3"
    },
    "language_info": {
      "name": "python"
    }
  },
  "cells": [
    {
      "cell_type": "code",
      "execution_count": 5,
      "metadata": {
        "colab": {
          "base_uri": "https://localhost:8080/"
        },
        "id": "7a4Rn1JG00ML",
        "outputId": "9b22ea7d-e433-4705-b5ff-57f1fc2c7243"
      },
      "outputs": [
        {
          "output_type": "stream",
          "name": "stdout",
          "text": [
            "Informe a nota1: 8\n",
            "Informe a nota2: 5\n",
            "Informe a nota3: 9\n",
            "Media Ponderada:  7.75\n"
          ]
        }
      ],
      "source": [
        "#-----------------------------------------------------------------------\n",
        "# LOGICA E PROGRAMACAO DE COMPUTADORES\n",
        "# AULA 03 - PARTE 5\n",
        "# Professora: Silvia Moraes\n",
        "# Exercicio 2 (7) : Media ponderada\n",
        "# ----------------------------------------------------------------------\n",
        "nota1 = float(input(\"Informe a nota1: \"))\n",
        "nota2 = float(input(\"Informe a nota2: \"))\n",
        "nota3 = float(input(\"Informe a nota3: \"))\n",
        "\n",
        "if nota1<0 or nota1>10 or nota2<0 or nota2>10 or nota3<0 or nota3>10: print(\"Notas invalidas. Elas devem estar no intervalo [0;10].\")\n",
        "else:\n",
        "  maior = nota1\n",
        "  if nota2>maior: maior = nota2\n",
        "  if nota3>maior: maior = nota3\n",
        "  media = 0.5 * maior + 0.25 * (nota1+nota2+nota3-maior)\n",
        "  print(\"Media Ponderada: \", media)\n"
      ]
    }
  ]
}