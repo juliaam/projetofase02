{
  "nbformat": 4,
  "nbformat_minor": 0,
  "metadata": {
    "colab": {
      "provenance": []
    },
    "kernelspec": {
      "name": "python3",
      "display_name": "Python 3"
    },
    "language_info": {
      "name": "python"
    }
  },
  "cells": [
    {
      "cell_type": "code",
      "execution_count": 40,
      "metadata": {
        "colab": {
          "base_uri": "https://localhost:8080/"
        },
        "id": "7a4Rn1JG00ML",
        "outputId": "8728bde1-6bd3-4f84-82b0-001115e09a7f"
      },
      "outputs": [
        {
          "output_type": "stream",
          "name": "stdout",
          "text": [
            "Informe a hora inicial do jogo: 23\n",
            "Informe a minuto inicial do jogo: 50\n",
            "Informe a hora final do jogo: 1\n",
            "Informe a minuto final do jogo: 55\n",
            "Horas:  2\n",
            "Minutos:  5\n"
          ]
        }
      ],
      "source": [
        "#-----------------------------------------------------------------------\n",
        "# LOGICA E PROGRAMACAO DE COMPUTADORES\n",
        "# AULA 03 - PARTE 3\n",
        "# Professora: Silvia Moraes\n",
        "# Exercicio 1 : Duracao do jogo\n",
        "# ----------------------------------------------------------------------\n",
        "horaInicial = int(input(\"Informe a hora inicial do jogo: \"))\n",
        "minutoInicial = int(input(\"Informe a minuto inicial do jogo: \"))\n",
        "horaFinal = int(input(\"Informe a hora final do jogo: \"))\n",
        "minutoFinal = int(input(\"Informe a minuto final do jogo: \"))\n",
        "\n",
        "horarioInicial = horaInicial * 60 + minutoInicial\n",
        "horarioFinal= horaFinal * 60 + minutoFinal\n",
        "\n",
        "if horarioInicial < horarioFinal : duracao = horarioFinal - horarioInicial\n",
        "else: duracao = 24*60 - horarioInicial + horarioFinal\n",
        "\n",
        "print('Horas: ', duracao//60)\n",
        "print('Minutos: ', duracao%60)"
      ]
    }
  ]
}