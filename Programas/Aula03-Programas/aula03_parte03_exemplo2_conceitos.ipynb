{
  "nbformat": 4,
  "nbformat_minor": 0,
  "metadata": {
    "colab": {
      "provenance": []
    },
    "kernelspec": {
      "name": "python3",
      "display_name": "Python 3"
    },
    "language_info": {
      "name": "python"
    }
  },
  "cells": [
    {
      "cell_type": "code",
      "execution_count": 39,
      "metadata": {
        "colab": {
          "base_uri": "https://localhost:8080/"
        },
        "id": "7a4Rn1JG00ML",
        "outputId": "49e76432-6418-4abc-888a-3deaedeae2a9"
      },
      "outputs": [
        {
          "output_type": "stream",
          "name": "stdout",
          "text": [
            "Informe a nota: \n",
            "8.5\n",
            "Conceito B\n"
          ]
        }
      ],
      "source": [
        "#-----------------------------------------------------------------------\n",
        "# LOGICA E PROGRAMACAO DE COMPUTADORES\n",
        "# AULA 03 - PARTE 3\n",
        "# Professora: Silvia Moraes\n",
        "# Exemplo 2 : Conceitos de A a E\n",
        "# ----------------------------------------------------------------------\n",
        "print('Informe a nota: ')\n",
        "nota = float(input())\n",
        "if nota<0 or nota>10:\n",
        "  print('Erro. Entrada invalida')\n",
        "  print('A nota deve estar no intervalo [0;10]')\n",
        "else:\n",
        "  if nota>=9 and nota<=10: print('Conceito A')\n",
        "  if nota>=7 and nota<9: print('Conceito B')\n",
        "  if nota>=5 and nota<7: print('Conceito C')\n",
        "  if nota>=3 and nota<5: print('Conceito D')\n",
        "  if nota>=0 and nota<3: print('Conceito E')"
      ]
    }
  ]
}