{
  "nbformat": 4,
  "nbformat_minor": 0,
  "metadata": {
    "colab": {
      "provenance": []
    },
    "kernelspec": {
      "name": "python3",
      "display_name": "Python 3"
    },
    "language_info": {
      "name": "python"
    }
  },
  "cells": [
    {
      "cell_type": "code",
      "execution_count": 32,
      "metadata": {
        "colab": {
          "base_uri": "https://localhost:8080/"
        },
        "id": "7a4Rn1JG00ML",
        "outputId": "b941c0c6-d250-4f46-9acc-b0b38a64327b"
      },
      "outputs": [
        {
          "output_type": "stream",
          "name": "stdout",
          "text": [
            "Informe o primeiro valor:\n",
            "9\n",
            "Informe o segundo valor:\n",
            "9\n",
            "Informe o terceiro valor:\n",
            "8\n",
            "Maior:  9\n"
          ]
        }
      ],
      "source": [
        "#-----------------------------------------------------------------------\n",
        "# LOGICA E PROGRAMACAO DE COMPUTADORES\n",
        "# AULA 03 - PARTE 2\n",
        "# Professora: Silvia Moraes\n",
        "# Exemplo 3 : Maior\n",
        "# ----------------------------------------------------------------------\n",
        "print(\"Informe o primeiro valor:\")\n",
        "v1 = int(input())\n",
        "print(\"Informe o segundo valor:\")\n",
        "v2 = int(input())\n",
        "print(\"Informe o terceiro valor:\")\n",
        "v3 = int(input())\n",
        "\n",
        "if v1>=v2 and v1>v3 : maior = v1\n",
        "if v2>v1 and v2>=v3 : maior = v2\n",
        "if v3>=v1 and v3>=v2: maior = v3\n",
        "\n",
        "print('Maior: ', maior)"
      ]
    }
  ]
}