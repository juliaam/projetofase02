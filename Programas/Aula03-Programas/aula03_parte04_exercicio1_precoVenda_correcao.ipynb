{
  "nbformat": 4,
  "nbformat_minor": 0,
  "metadata": {
    "colab": {
      "provenance": []
    },
    "kernelspec": {
      "name": "python3",
      "display_name": "Python 3"
    },
    "language_info": {
      "name": "python"
    }
  },
  "cells": [
    {
      "cell_type": "code",
      "execution_count": 3,
      "metadata": {
        "colab": {
          "base_uri": "https://localhost:8080/"
        },
        "id": "7a4Rn1JG00ML",
        "outputId": "d384639a-6549-4a2f-a605-1e24dea020e4"
      },
      "outputs": [
        {
          "output_type": "stream",
          "name": "stdout",
          "text": [
            "Informe o preco de custo:200\n",
            "preco de venda:  260.0\n"
          ]
        }
      ],
      "source": [
        "#-----------------------------------------------------------------------\n",
        "# LOGICA E PROGRAMACAO DE COMPUTADORES\n",
        "# AULA 03 - PARTE 4\n",
        "# Professora: Silvia Moraes\n",
        "# Exercicio 1 : Preco de venda\n",
        "# ----------------------------------------------------------------------\n",
        "preco = float(input(\"Informe o preco de custo:\"))\n",
        "if preco<0 : print(\"Valor invalido.\")\n",
        "else:\n",
        "  if preco<10: venda = preco * 1.7\n",
        "  if preco>=10 and preco<30: venda = preco * 1.5\n",
        "  if preco>=30 and preco<50: venda = preco * 1.4\n",
        "  if preco>=50: venda = preco * 1.3\n",
        "  print(\"preco de venda: \", venda)\n"
      ]
    }
  ]
}