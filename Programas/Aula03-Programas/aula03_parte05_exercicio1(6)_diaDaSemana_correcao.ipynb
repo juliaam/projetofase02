{
  "nbformat": 4,
  "nbformat_minor": 0,
  "metadata": {
    "colab": {
      "provenance": []
    },
    "kernelspec": {
      "name": "python3",
      "display_name": "Python 3"
    },
    "language_info": {
      "name": "python"
    }
  },
  "cells": [
    {
      "cell_type": "code",
      "execution_count": 4,
      "metadata": {
        "colab": {
          "base_uri": "https://localhost:8080/"
        },
        "id": "7a4Rn1JG00ML",
        "outputId": "853df577-c263-4826-d99f-74ebd843ccb0"
      },
      "outputs": [
        {
          "output_type": "stream",
          "name": "stdout",
          "text": [
            "Informe o dia da semana como um valor inteiro (1 a 7): 3\n",
            "Terca\n"
          ]
        }
      ],
      "source": [
        "#-----------------------------------------------------------------------\n",
        "# LOGICA E PROGRAMACAO DE COMPUTADORES\n",
        "# AULA 03 - PARTE 5\n",
        "# Professora: Silvia Moraes\n",
        "# Exercicio 1 (6) : Dia da semana\n",
        "# ----------------------------------------------------------------------\n",
        "dia = int(input(\"Informe o dia da semana como um valor inteiro (1 a 7): \"))\n",
        "if dia<1 or dia>7 : print(\"Erro. Dia invalido. Fora do intervalo de 1 a 7.\")\n",
        "else:\n",
        "  if dia==1: print(\"Domingo\")\n",
        "  if dia==2: print(\"Segunda\")\n",
        "  if dia==3: print(\"Terca\")\n",
        "  if dia==4: print(\"Quarta\")\n",
        "  if dia==5: print(\"Quinta\")\n",
        "  if dia==6: print(\"Sexta\")\n",
        "  if dia==7: print(\"Sabado\")\n"
      ]
    }
  ]
}