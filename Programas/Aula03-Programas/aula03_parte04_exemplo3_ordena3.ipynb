{
  "nbformat": 4,
  "nbformat_minor": 0,
  "metadata": {
    "colab": {
      "provenance": []
    },
    "kernelspec": {
      "name": "python3",
      "display_name": "Python 3"
    },
    "language_info": {
      "name": "python"
    }
  },
  "cells": [
    {
      "cell_type": "code",
      "execution_count": 1,
      "metadata": {
        "colab": {
          "base_uri": "https://localhost:8080/"
        },
        "id": "7a4Rn1JG00ML",
        "outputId": "51ed37be-be9c-439c-e5da-f72289c5de0e"
      },
      "outputs": [
        {
          "output_type": "stream",
          "name": "stdout",
          "text": [
            "Informe o primeiro valor: 20\n",
            "Informe o segundo valor: 1\n",
            "Informe o terceiro valor: 0\n",
            "Ordem crescente:  0 1 20\n",
            "Ordem decrescente:  20 1 0\n"
          ]
        }
      ],
      "source": [
        "#-----------------------------------------------------------------------\n",
        "# LOGICA E PROGRAMACAO DE COMPUTADORES\n",
        "# AULA 03 - PARTE 4\n",
        "# Professora: Silvia Moraes\n",
        "# Exemplo 3 : Ordena 3 valores\n",
        "# ----------------------------------------------------------------------\n",
        "v1 = int(input(\"Informe o primeiro valor: \"))\n",
        "v2 = int(input(\"Informe o segundo valor: \"))\n",
        "v3 = int(input(\"Informe o terceiro valor: \"))\n",
        "\n",
        "if v2<v1: \n",
        "  aux = v1\n",
        "  v1 = v2\n",
        "  v2 = aux\n",
        "\n",
        "if v3<v1:\n",
        "  aux = v1\n",
        "  v1 = v3\n",
        "  v3 = aux\n",
        "\n",
        "if v3 <v2:\n",
        "  aux = v2\n",
        "  v2 = v3\n",
        "  v3 = aux\n",
        "\n",
        "print(\"Ordem crescente: \", v1, v2, v3)\n",
        "print(\"Ordem decrescente: \", v3, v2, v1)"
      ]
    }
  ]
}