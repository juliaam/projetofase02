{
  "nbformat": 4,
  "nbformat_minor": 0,
  "metadata": {
    "colab": {
      "provenance": []
    },
    "kernelspec": {
      "name": "python3",
      "display_name": "Python 3"
    },
    "language_info": {
      "name": "python"
    }
  },
  "cells": [
    {
      "cell_type": "code",
      "execution_count": 7,
      "metadata": {
        "colab": {
          "base_uri": "https://localhost:8080/"
        },
        "id": "7a4Rn1JG00ML",
        "outputId": "0d5aacd4-e3ca-4388-873b-1951f9014590"
      },
      "outputs": [
        {
          "output_type": "stream",
          "name": "stdout",
          "text": [
            "Informe o saldo medio:3500\n",
            "Limite:  525.0\n"
          ]
        }
      ],
      "source": [
        "#-----------------------------------------------------------------------\n",
        "# LOGICA E PROGRAMACAO DE COMPUTADORES\n",
        "# AULA 03 - PARTE 5\n",
        "# Professora: Silvia Moraes\n",
        "# Exercicio 4 (9) : Calculo de limite\n",
        "# ----------------------------------------------------------------------\n",
        "saldo = float(input(\"Informe o saldo medio:\"))\n",
        "if saldo<500: print(\"Sem limite\")\n",
        "if saldo>=500 and saldo<1000: print(\"Limite: \", saldo *0.08)\n",
        "if saldo>1000: print(\"Limite: \", saldo*0.15)"
      ]
    }
  ]
}