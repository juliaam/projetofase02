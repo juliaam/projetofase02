{
  "nbformat": 4,
  "nbformat_minor": 0,
  "metadata": {
    "colab": {
      "provenance": []
    },
    "kernelspec": {
      "name": "python3",
      "display_name": "Python 3"
    },
    "language_info": {
      "name": "python"
    }
  },
  "cells": [
    {
      "cell_type": "code",
      "execution_count": 3,
      "metadata": {
        "colab": {
          "base_uri": "https://localhost:8080/",
          "height": 521
        },
        "id": "YN7zIiWkY7_K",
        "outputId": "f8189113-148a-4d88-9b67-ebc28bb9c349"
      },
      "outputs": [
        {
          "output_type": "stream",
          "name": "stdout",
          "text": [
            "Resultados: \n",
            "\n",
            "Iris-virginica  - amostras:  13 ( 29.545454545454547 %)\n",
            "Iris-setosa  - amostras:  19 ( 43.18181818181818 %)\n",
            "Iris-versicolor  - amostras:  12 ( 27.272727272727273 %)\n",
            "Total de amostras:  44\n",
            "\n",
            "Tipo com mais amostras:  Iris-setosa \n",
            "\n"
          ]
        },
        {
          "output_type": "display_data",
          "data": {
            "text/plain": [
              "<Figure size 432x288 with 1 Axes>"
            ],
            "image/png": "[encoded data removed]"
          },
          "metadata": {
            "needs_background": "light"
          }
        },
        {
          "output_type": "stream",
          "name": "stdout",
          "text": [
            "5.1 \t - Minimo:  4.4  - Maximo:  7.7  Media:  5.818181818181818\n",
            "3.5 \t - Minimo:  2.0  - Maximo:  4.4  Media:  3.1681818181818175\n",
            "1.4 \t - Minimo:  1.2  - Maximo:  6.7  Media:  3.4704545454545452\n",
            "0.2 \t - Minimo:  0.1  - Maximo:  2.4  Media:  1.063636363636364\n"
          ]
        }
      ],
      "source": [
        "#-----------------------------------------------------------------------------------------------------\n",
        "# LOGICA E PROGRAMACAO DE COMPUTADORES\n",
        "# AULA 10 - PARTE 3\n",
        "# Professora: Silvia Moraes\n",
        "# Exemplo 2\n",
        "# ----------------------------------------------------------------------------------------------------\n",
        "import matplotlib.pyplot as plt\n",
        "import random\n",
        "# ------------------------------------------------------------------------------------------------------------------------------------\n",
        "# Exemplo de Projeto 1\n",
        "# ------------------------------------------------------------------------------------------------------------------------------------\n",
        "# Parte I - Faça um programa em Python que processe o arquivo disponibilizado com dados da planta Iris. \n",
        "#           Gere um novo arquivo com uma amostra do arquivo original. A amostra deve ter 30% dos dados originais.\n",
        "#           \n",
        "# Parte II - Usando a amostra, calcule e escreva\n",
        "#\n",
        "# a) distribuicao em percentuais das amostras por classe (tipo de planta iris)\n",
        "# b) a classe com maior numero de amostras\n",
        "# c) exiba os dados por classe (tipo de planta iris) usando um grafico de barras \n",
        "# d) para cada atributo (campo) numerico determine o valor minimo, o valor maximo e a media\n",
        "#\n",
        "#----------------------------------------------------------------------------------------------------------------------------------------\n",
        "# Leitura do arquivo\n",
        "#----------------------------------------------------------------------------------------------------------------------------------------\n",
        "def cargaDados(nome):\n",
        "  arquivo = open(nome,\"r\")\n",
        "  dados = []\n",
        "  for linha in arquivo:\n",
        "    #print(linha)\n",
        "    linha1 = linha[:-1]  #retira \\n\n",
        "    dados.append(linha1)\n",
        "  arquivo.close()\n",
        "  return dados\n",
        "\n",
        "#----------------------------------------------------------------------------------------------------------------------------------------\n",
        "#Excluindo o cabecalho\n",
        "#----------------------------------------------------------------------------------------------------------------------------------------\n",
        "def geraListaSemCabecalho(lista):\n",
        "  nova = []\n",
        "  ind = 1\n",
        "  while ind < len(lista):\n",
        "    nova.append(lista[ind])\n",
        "    ind = ind + 1\n",
        "  return nova\n",
        "\n",
        "#----------------------------------------------------------------------------------------------------------------------------------------\n",
        "#Escreve os dados de uma lista\n",
        "#----------------------------------------------------------------------------------------------------------------------------------------\n",
        "def escreveLista(lista):\n",
        "  for item in lista:\n",
        "    print(item)\n",
        "\n",
        "#----------------------------------------------------------------------------------------------------------------------------------------\n",
        "# Conta amostras por classe\n",
        "#----------------------------------------------------------------------------------------------------------------------------------------\n",
        "def contaAmostras(amostra, tiposPlantas):  #[\"Iris-virginica\",\"Iris-setosa\",\"Iris-versicolor\"]\n",
        "  cont0 = 0\n",
        "  cont1 = 0\n",
        "  cont2 = 0\n",
        "  for item in amostra:\n",
        "    if tiposPlantas[0] in item: cont0 = cont0 + 1\n",
        "    else:\n",
        "      if tiposPlantas[1] in item: cont1 = cont1 + 1\n",
        "      else: cont2 = cont2 + 1\n",
        "  return [cont0, cont1, cont2]\n",
        "\n",
        "#----------------------------------------------------------------------------------------------------------------------------------------\n",
        "# Gera grafico por tipo\n",
        "#----------------------------------------------------------------------------------------------------------------------------------------\n",
        "def geraGrafico(tipos, quantidades):\n",
        "  plt.bar(tipos,quantidades,color=\"blue\")\n",
        "  plt.title(\"Distribuicao das amostras por tipo de planta\",color=\"blue\")\n",
        "  plt.xlabel(\"Tipos de Plantas\",color=\"blue\")\n",
        "  plt.ylabel(\"Quantidade de Amostras\",color=\"blue\")\n",
        "  plt.show()\n",
        "\n",
        "#----------------------------------------------------------------------------------------------------------------------------------------\n",
        "# Dados dos atributos numericos\n",
        "#----------------------------------------------------------------------------------------------------------------------------------------\n",
        "def analisaAtributosNumericos(cabecalho,dados):\n",
        "  lista0 = []\n",
        "  lista1 = []\n",
        "  lista2 = []\n",
        "  lista3 = []\n",
        "  for item in dados:\n",
        "    colunas = item.split(',')\n",
        "    lista0.append(float(colunas[0]))\n",
        "    lista1.append(float(colunas[1]))\n",
        "    lista2.append(float(colunas[2]))\n",
        "    lista3.append(float(colunas[3]))\n",
        "  itens = cabecalho.split(\",\")\n",
        "  print(itens[0], \"\\t - Minimo: \", min(lista0), \" - Maximo: \", max(lista0), \" Media: \", sum(lista0)/len(lista0))\n",
        "  print(itens[1], \"\\t - Minimo: \", min(lista1), \" - Maximo: \", max(lista1), \" Media: \", sum(lista1)/len(lista1))\n",
        "  print(itens[2], \"\\t - Minimo: \", min(lista2), \" - Maximo: \", max(lista2), \" Media: \", sum(lista2)/len(lista2))\n",
        "  print(itens[3], \"\\t - Minimo: \", min(lista3), \" - Maximo: \", max(lista3), \" Media: \", sum(lista3)/len(lista3))\n",
        "\n",
        "#----------------------------------------------------------------------------------------------------------------------------------------\n",
        "amostra = cargaDados(\"amostraIris.txt\")\n",
        "#escreveLista(amostra)\n",
        "cabecalho = amostra[0]\n",
        "#print(cabecalho)\n",
        "amostra1 = geraListaSemCabecalho(amostra)\n",
        "tipos = [\"Iris-virginica\",\"Iris-setosa\",\"Iris-versicolor\"]\n",
        "quantidades = contaAmostras(amostra1,tipos)\n",
        "\n",
        "ind = 0\n",
        "classe = tipos[0]\n",
        "maior = quantidades[0]\n",
        "print(\"Resultados: \\n\")\n",
        "while ind<len(tipos):\n",
        "  print(tipos[ind],\" - amostras: \", quantidades[ind], \"(\", (quantidades[ind]*100)/len(amostra1), \"%)\")\n",
        "  if quantidades[ind]>maior:\n",
        "    maior = quantidades[ind]\n",
        "    classe = tipos[ind]\n",
        "  ind = ind + 1\n",
        "print(\"Total de amostras: \", len(amostra1))\n",
        "print(\"\\nTipo com mais amostras: \", classe,\"\\n\")\n",
        "geraGrafico(tipos,quantidades)\n",
        "analisaAtributosNumericos(cabecalho,amostra1)"
      ]
    }
  ]
}