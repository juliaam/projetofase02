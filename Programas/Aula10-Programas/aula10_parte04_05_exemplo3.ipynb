{
  "nbformat": 4,
  "nbformat_minor": 0,
  "metadata": {
    "colab": {
      "provenance": []
    },
    "kernelspec": {
      "name": "python3",
      "display_name": "Python 3"
    },
    "language_info": {
      "name": "python"
    }
  },
  "cells": [
    {
      "cell_type": "code",
      "execution_count": 2,
      "metadata": {
        "colab": {
          "base_uri": "https://localhost:8080/",
          "height": 383
        },
        "id": "vYgEHf10tSkI",
        "outputId": "1b0e815e-a8eb-4fbe-e19f-6213c79b23ba"
      },
      "outputs": [
        {
          "output_type": "stream",
          "name": "stdout",
          "text": [
            "Casos Confirmados =  23157.0\n",
            "Casos de obitos =  523.0\n",
            "Cidade com mais casos novos:   Porto Alegre \n",
            "Cidade com menor mortalidade:   Teutônia \n",
            "Media de novos obitos: 0.06\n"
          ]
        },
        {
          "output_type": "display_data",
          "data": {
            "text/plain": [
              "<Figure size 432x288 with 1 Axes>"
            ],
            "image/png": "[encoded data removed]"
          },
          "metadata": {
            "needs_background": "light"
          }
        }
      ],
      "source": [
        "#-----------------------------------------------------------------------------------------------------\n",
        "# LOGICA E PROGRAMACAO DE COMPUTADORES\n",
        "# AULA 10 - PARTE 3\n",
        "# Professora: Silvia Moraes\n",
        "# Exemplo 3\n",
        "# ----------------------------------------------------------------------------------------------------\n",
        "import matplotlib.pyplot as plt\n",
        "# ------------------------------------------------------------------------------------------------------------------------------------\n",
        "# Exemplo de Projeto \n",
        "# ------------------------------------------------------------------------------------------------------------------------------------\n",
        "# Faça um programa em Python que processe o arquivo disponibilizado com dados do RS sobre o virus COVID-19, calcule e escreva:\n",
        "#\n",
        "# a) total de casos confirmados no RS (atuais e novos)\n",
        "# b) total de óbitos no RS (atuais e novos)\n",
        "# c) cidade com mais novos casos no RS\n",
        "# d) cidade com menor mortalidade no RS\n",
        "# e) média de novos óbitos no RS\n",
        "# f) gráfico de barras com a incidência dos casos no RS (5 cidades com maior incidencia)\n",
        "\n",
        "#----------------------------------------------------------------------------------------------------------------------------------------\n",
        "#Leitura do arquivo\n",
        "#----------------------------------------------------------------------------------------------------------------------------------------\n",
        "def cargaDados(nome):\n",
        "  arquivo = open(nome,\"r\")\n",
        "  dados = []\n",
        "  for linha in arquivo:\n",
        "    linha1 = linha[:-1]  #retira \\n\n",
        "    linha2 = linha1[1:len(linha1)] #substring 1 ate o final para cortar a virgula (,)\n",
        "    dados.append(linha2)\n",
        "  arquivo.close()\n",
        "  return dados\n",
        "\n",
        "#----------------------------------------------------------------------------------------------------------------------------------------\n",
        "#Escreve os dados de uma lista\n",
        "#----------------------------------------------------------------------------------------------------------------------------------------\n",
        "def escreveLista(lista):\n",
        "  for item in lista:\n",
        "    print(item)\n",
        "\n",
        "#----------------------------------------------------------------------------------------------------------------------------------------\n",
        "#Transformando e estruturando os dados em tuplas\n",
        "#----------------------------------------------------------------------------------------------------------------------------------------\n",
        "def transformaDados(linha):\n",
        "  itens = linha.split(',')\n",
        "  itensTransformados = [itens[0]] #Municipio foi colocado na lista \n",
        "  cont = 1\n",
        "  while cont < len(itens):\n",
        "    itensTransformados.append(float(itens[cont])) #converte para float demais itens\n",
        "    cont = cont + 1\n",
        "  return itensTransformados\n",
        "\n",
        "#----------------------------------------------------------------------------------------------------------------------------------------\n",
        "#Lista de lista com os dados\n",
        "#----------------------------------------------------------------------------------------------------------------------------------------\n",
        "def transformaLista(lista):\n",
        "  listaDeItens = []\n",
        "  cont = 1             #pula o cabecalho\n",
        "  while cont< len(lista):\n",
        "    listaDeItens.append(transformaDados(lista[cont]))\n",
        "    cont = cont + 1\n",
        "  return listaDeItens\n",
        "\n",
        "#----------------------------------------------------------------------------------------------------------------------------------------\n",
        "#Casos confirmados\n",
        "#----------------------------------------------------------------------------------------------------------------------------------------\n",
        "def totalConfirmados(lista):\n",
        "  confirmados = 0\n",
        "  novosConfirmados = 0\n",
        "  for item in lista:\n",
        "    #print(item[1], item[2])\n",
        "    confirmados = confirmados + item[1]\n",
        "    novosConfirmados = novosConfirmados + item[2]\n",
        "  return (confirmados + novosConfirmados)\n",
        "\n",
        "#----------------------------------------------------------------------------------------------------------------------------------------\n",
        "#Casos de obitos\n",
        "#----------------------------------------------------------------------------------------------------------------------------------------\n",
        "def totalObitos(lista):\n",
        "  obitos = 0\n",
        "  novosObitos = 0\n",
        "  for item in lista:\n",
        "   # print(item[4], item[5])\n",
        "    obitos = obitos + item[4]\n",
        "    novosObitos = novosObitos + item[5]\n",
        "  return (obitos + novosObitos)\n",
        "\n",
        "#----------------------------------------------------------------------------------------------------------------------------------------\n",
        "#Cidade com mais casos novos\n",
        "#----------------------------------------------------------------------------------------------------------------------------------------\n",
        "def cidadeComMaisNovosCasos(lista):\n",
        "  cidade = lista[0][0]\n",
        "  maisNovosCasos = lista[0][2]\n",
        "  for item in lista:\n",
        "    if item[2]> maisNovosCasos:\n",
        "      maisNovosCasos = item[2]\n",
        "      cidade = item[0]\n",
        "  return cidade\n",
        "\n",
        "#----------------------------------------------------------------------------------------------------------------------------------------\n",
        "#Cidade com menor mortalidade\n",
        "#----------------------------------------------------------------------------------------------------------------------------------------\n",
        "def cidadeComMenorMortalidade(lista):\n",
        "  cidade = lista[0][0]\n",
        "  menor = lista[0][6]\n",
        "  for item in lista:\n",
        "    if item[6]<menor:\n",
        "      menor = item[6]\n",
        "      cidade = item[0]\n",
        "  return cidade\n",
        "\n",
        "#----------------------------------------------------------------------------------------------------------------------------------------\n",
        "#Media de novos obitos\n",
        "#----------------------------------------------------------------------------------------------------------------------------------------\n",
        "def mediaNovosObitos(lista):\n",
        "  soma = 0\n",
        "  for item in lista:\n",
        "    soma = soma + item[5]\n",
        "  return soma/len(lista)\n",
        "\n",
        "#----------------------------------------------------------------------------------------------------------------------------------------\n",
        "#Busca as maiores incidencias\n",
        "#----------------------------------------------------------------------------------------------------------------------------------------\n",
        "def trataIncidencias(lista, quantidade):\n",
        "  cidades = []\n",
        "  incidencias = []\n",
        "  for item in lista:\n",
        "    cidades.append(item[0])\n",
        "    incidencias.append(item[3])  \n",
        "  #print(\"Antes da ordenacao\")\n",
        "  #print(cidades)\n",
        "  #print(incidencias) \n",
        "  ordenaPorIncidencia(cidades,incidencias)\n",
        "  #print(\"Apos a ordenacao\")\n",
        "  #print(cidades)\n",
        "  #print(incidencias)\n",
        "  geraGrafico(cidades,incidencias,quantidade)\n",
        "#----------------------------------------------------------------------------------------------------------------------------------------\n",
        "#Bubblet sort\n",
        "#----------------------------------------------------------------------------------------------------------------------------------------\n",
        "def ordenaPorIncidencia(cidades,incidencias):\n",
        "  for i in range(0,len(incidencias)-1):\n",
        "    for j in range(0,len(incidencias)-1-i):\n",
        "      if incidencias[j]<incidencias[j+1]:  #decrescente\n",
        "        aux = incidencias[j]\n",
        "        incidencias[j] = incidencias[j+1]\n",
        "        incidencias[j+1] = aux\n",
        "        aux = cidades[j]\n",
        "        cidades[j] = cidades[j+1]\n",
        "        cidades[j+1] = aux\n",
        "\n",
        "#----------------------------------------------------------------------------------------------------------------------------------------\n",
        "#Graficos de incidencias\n",
        "#----------------------------------------------------------------------------------------------------------------------------------------\n",
        "def geraGrafico(cidades,incidencias, quantidade):\n",
        "  cidades2 = []\n",
        "  incidencias2 = []\n",
        "  ind = 0\n",
        "  while ind<quantidade:\n",
        "    cidades2.append(cidades[ind])\n",
        "    incidencias2.append(incidencias[ind])\n",
        "    ind = ind+1\n",
        "  plt.plot(cidades2,incidencias2) #plot é para gráfico de linhas\n",
        "  plt.title(\"Incidencias por 100mil/habitantes no RS\")\n",
        "  plt.xlabel(\"Cidades\")\n",
        "  plt.ylabel(\"Incidencias\")\n",
        "  plt.show()\n",
        "\n",
        "#----------------------------------------------------------------------------------------------------------------------------------------\n",
        "dadosBrutos = cargaDados('SESRS - Coronavírus_v1.csv')\n",
        "#escreveLista(dadosBrutos)\n",
        "cabecalho = dadosBrutos[0].split(',')\n",
        "#print(cabecalho)\n",
        "dados = transformaLista(dadosBrutos)\n",
        "#escreveLista(dados)\n",
        "\n",
        "print(\"Casos Confirmados = \", totalConfirmados(dados))\n",
        "print(\"Casos de obitos = \", totalObitos(dados))\n",
        "print(\"Cidade com mais casos novos: \", cidadeComMaisNovosCasos(dados))\n",
        "print(\"Cidade com menor mortalidade: \", cidadeComMenorMortalidade(dados))\n",
        "media = mediaNovosObitos(dados)\n",
        "print(f'Media de novos obitos: {media:,.2f}')\n",
        "\n",
        "trataIncidencias(dados,5)"
      ]
    },
    {
      "cell_type": "markdown",
      "source": [
        "# Nova seção"
      ],
      "metadata": {
        "id": "1Fv2chc-oxJY"
      }
    },
    {
      "cell_type": "markdown",
      "source": [
        "# Nova seção"
      ],
      "metadata": {
        "id": "qrcsmWLP9Esu"
      }
    },
    {
      "cell_type": "markdown",
      "source": [
        "# Nova seção"
      ],
      "metadata": {
        "id": "KIxSivJN9FOG"
      }
    }
  ]
}