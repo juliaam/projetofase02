{
  "nbformat": 4,
  "nbformat_minor": 0,
  "metadata": {
    "colab": {
      "provenance": []
    },
    "kernelspec": {
      "name": "python3",
      "display_name": "Python 3"
    },
    "language_info": {
      "name": "python"
    }
  },
  "cells": [
    {
      "cell_type": "code",
      "execution_count": 11,
      "metadata": {
        "colab": {
          "base_uri": "https://localhost:8080/"
        },
        "id": "7a4Rn1JG00ML",
        "outputId": "a6401b33-74e7-4cf1-9303-eaf1e9aaa082"
      },
      "outputs": [
        {
          "output_type": "stream",
          "name": "stdout",
          "text": [
            "1000.0\n",
            "9.797958971132712\n"
          ]
        }
      ],
      "source": [
        "#-----------------------------------------------------------------------\n",
        "# LOGICA E PROGRAMACAO DE COMPUTADORES\n",
        "# AULA 02 - PARTE 3\n",
        "# Professora: Silvia Moraes\n",
        "# Exemplo 2 : Funcoes \n",
        "# ----------------------------------------------------------------------\n",
        "import math\n",
        "\n",
        "b=10\n",
        "a=1\n",
        "c=1\n",
        "#O exemplo a seguir nao eh da baskara\n",
        "resultado = math.pow(b,2*a+c)\n",
        "print(resultado)\n",
        "\n",
        "#O exemplo abaixo eh da baskara\n",
        "resultado = math.sqrt(math.pow(b,2)-4*a*c)\n",
        "print(resultado)"
      ]
    }
  ]
}