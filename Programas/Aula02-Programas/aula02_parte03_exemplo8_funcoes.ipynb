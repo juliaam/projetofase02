{
  "nbformat": 4,
  "nbformat_minor": 0,
  "metadata": {
    "colab": {
      "provenance": []
    },
    "kernelspec": {
      "name": "python3",
      "display_name": "Python 3"
    },
    "language_info": {
      "name": "python"
    }
  },
  "cells": [
    {
      "cell_type": "code",
      "execution_count": 21,
      "metadata": {
        "colab": {
          "base_uri": "https://localhost:8080/"
        },
        "id": "7a4Rn1JG00ML",
        "outputId": "64c28719-b92d-4f5c-f573-b07c1c2380ae"
      },
      "outputs": [
        {
          "output_type": "stream",
          "name": "stdout",
          "text": [
            "3.141592653589793\n"
          ]
        }
      ],
      "source": [
        "#-----------------------------------------------------------------------\n",
        "# LOGICA E PROGRAMACAO DE COMPUTADORES\n",
        "# AULA 02 - PARTE 3\n",
        "# Professora: Silvia Moraes\n",
        "# Exemplo 8 : Funcoes \n",
        "# ----------------------------------------------------------------------\n",
        "import math\n",
        "\n",
        "print(math.pi)\n"
      ]
    }
  ]
}