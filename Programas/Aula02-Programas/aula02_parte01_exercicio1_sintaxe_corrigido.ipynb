{
  "nbformat": 4,
  "nbformat_minor": 0,
  "metadata": {
    "colab": {
      "provenance": []
    },
    "kernelspec": {
      "name": "python3",
      "display_name": "Python 3"
    },
    "language_info": {
      "name": "python"
    }
  },
  "cells": [
    {
      "cell_type": "code",
      "execution_count": 5,
      "metadata": {
        "colab": {
          "base_uri": "https://localhost:8080/"
        },
        "id": "7a4Rn1JG00ML",
        "outputId": "17b49e29-031b-41b1-cbbe-b2627b42e702"
      },
      "outputs": [
        {
          "output_type": "stream",
          "name": "stdout",
          "text": [
            "informe o seu nome\n",
            "Silvia\n",
            "Nome:  Silvia\n"
          ]
        }
      ],
      "source": [
        "#-----------------------------------------------------------------------\n",
        "# LOGICA E PROGRAMACAO DE COMPUTADORES\n",
        "# AULA 02 - PARTE 1\n",
        "# Professora: Silvia Moraes\n",
        "# Exercicio 1 : Erros de sintaxe \n",
        "# ----------------------------------------------------------------------\n",
        "print('informe o seu nome')\n",
        "nome = input()\n",
        "print('Nome: ', nome)"
      ]
    }
  ]
}