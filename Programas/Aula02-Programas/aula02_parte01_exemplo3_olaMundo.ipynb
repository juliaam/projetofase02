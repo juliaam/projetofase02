{
  "nbformat": 4,
  "nbformat_minor": 0,
  "metadata": {
    "colab": {
      "provenance": []
    },
    "kernelspec": {
      "name": "python3",
      "display_name": "Python 3"
    },
    "language_info": {
      "name": "python"
    }
  },
  "cells": [
    {
      "cell_type": "code",
      "execution_count": 3,
      "metadata": {
        "colab": {
          "base_uri": "https://localhost:8080/"
        },
        "id": "7a4Rn1JG00ML",
        "outputId": "d4588675-86c4-43e8-b21f-2845b7bcd104"
      },
      "outputs": [
        {
          "output_type": "stream",
          "name": "stdout",
          "text": [
            "Codificando em Python\n",
            "Ola, mundo!\n"
          ]
        }
      ],
      "source": [
        "#-----------------------------------------------------------------------\n",
        "# LOGICA E PROGRAMACAO DE COMPUTADORES\n",
        "# AULA 02 - PARTE 1\n",
        "# Professora: Silvia Moraes\n",
        "# Exemplo 3 : Ola mundo\n",
        "# ----------------------------------------------------------------------\n",
        "print('Codificando em Python')\n",
        "print('Ola, mundo!')"
      ]
    }
  ]
}