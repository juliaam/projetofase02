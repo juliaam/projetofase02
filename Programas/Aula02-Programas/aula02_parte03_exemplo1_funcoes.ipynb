{
  "nbformat": 4,
  "nbformat_minor": 0,
  "metadata": {
    "colab": {
      "provenance": []
    },
    "kernelspec": {
      "name": "python3",
      "display_name": "Python 3"
    },
    "language_info": {
      "name": "python"
    }
  },
  "cells": [
    {
      "cell_type": "code",
      "execution_count": 9,
      "metadata": {
        "colab": {
          "base_uri": "https://localhost:8080/"
        },
        "id": "7a4Rn1JG00ML",
        "outputId": "8c3ff681-f1a3-4664-a9bf-751a0fe2a2a1"
      },
      "outputs": [
        {
          "output_type": "stream",
          "name": "stdout",
          "text": [
            "4.47213595499958\n",
            "9.797958971132712\n"
          ]
        }
      ],
      "source": [
        "#-----------------------------------------------------------------------\n",
        "# LOGICA E PROGRAMACAO DE COMPUTADORES\n",
        "# AULA 02 - PARTE 3\n",
        "# Professora: Silvia Moraes\n",
        "# Exemplo 1 : Funcoes \n",
        "# ----------------------------------------------------------------------\n",
        "import math\n",
        "x = 10\n",
        "resultado = math.sqrt(2*x)\n",
        "print(resultado)\n",
        "\n",
        "b=10\n",
        "a=1\n",
        "c=1\n",
        "resultado = math.sqrt(b*b-4*a*c)\n",
        "print(resultado)"
      ]
    }
  ]
}