{
  "nbformat": 4,
  "nbformat_minor": 0,
  "metadata": {
    "colab": {
      "provenance": []
    },
    "kernelspec": {
      "name": "python3",
      "display_name": "Python 3"
    },
    "language_info": {
      "name": "python"
    }
  },
  "cells": [
    {
      "cell_type": "code",
      "execution_count": 8,
      "metadata": {
        "colab": {
          "base_uri": "https://localhost:8080/"
        },
        "id": "7a4Rn1JG00ML",
        "outputId": "f9a927fa-0a5a-4e8d-f8f2-7ed397e35659"
      },
      "outputs": [
        {
          "output_type": "stream",
          "name": "stdout",
          "text": [
            "200\n",
            "100\n"
          ]
        }
      ],
      "source": [
        "#-----------------------------------------------------------------------\n",
        "# LOGICA E PROGRAMACAO DE COMPUTADORES\n",
        "# AULA 02 - PARTE 2\n",
        "# Professora: Silvia Moraes\n",
        "# Exemplo 2 : Atribuicao \n",
        "# ----------------------------------------------------------------------\n",
        "val = 100\n",
        "num = 200\n",
        "aux = val\n",
        "val = num\n",
        "num = aux\n",
        "print(val)\n",
        "print(num)"
      ]
    }
  ]
}