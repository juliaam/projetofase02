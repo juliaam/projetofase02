{
  "nbformat": 4,
  "nbformat_minor": 0,
  "metadata": {
    "colab": {
      "provenance": []
    },
    "kernelspec": {
      "name": "python3",
      "display_name": "Python 3"
    },
    "language_info": {
      "name": "python"
    }
  },
  "cells": [
    {
      "cell_type": "code",
      "execution_count": 28,
      "metadata": {
        "colab": {
          "base_uri": "https://localhost:8080/"
        },
        "id": "7a4Rn1JG00ML",
        "outputId": "15aeb026-da69-4655-f972-e9b5c339fb44"
      },
      "outputs": [
        {
          "output_type": "stream",
          "name": "stdout",
          "text": [
            "Digite um valor inteiro de 4 digitos:\n",
            "1234\n",
            "Valor invertido:  4321\n"
          ]
        }
      ],
      "source": [
        "#-----------------------------------------------------------------------\n",
        "# LOGICA E PROGRAMACAO DE COMPUTADORES\n",
        "# AULA 02 - PARTE 5\n",
        "# Professora: Silvia Moraes\n",
        "# Exercicio 4 : inversao do valor  \n",
        "# ----------------------------------------------------------------------\n",
        "print('Digite um valor inteiro de 4 digitos:')\n",
        "valor = int(input())\n",
        "milhar = valor//1000\n",
        "resto = valor%1000\n",
        "centena = resto//100\n",
        "resto = resto%100\n",
        "dezena = resto//10\n",
        "unidade = resto%10\n",
        "print('Valor invertido: ', unidade*1000 + dezena*100 + centena*10 + milhar)"
      ]
    }
  ]
}