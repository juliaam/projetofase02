{
  "nbformat": 4,
  "nbformat_minor": 0,
  "metadata": {
    "colab": {
      "provenance": []
    },
    "kernelspec": {
      "name": "python3",
      "display_name": "Python 3"
    },
    "language_info": {
      "name": "python"
    }
  },
  "cells": [
    {
      "cell_type": "code",
      "execution_count": 6,
      "metadata": {
        "colab": {
          "base_uri": "https://localhost:8080/"
        },
        "id": "7a4Rn1JG00ML",
        "outputId": "4b9c7b0a-5220-44ff-dfdb-2f3baf57b76c"
      },
      "outputs": [
        {
          "output_type": "stream",
          "name": "stdout",
          "text": [
            "informe o primeiro valor: \n",
            "7\n",
            "informe o segundo valor: \n",
            "8\n",
            "Media aritmetica =  7.5\n"
          ]
        }
      ],
      "source": [
        "#-----------------------------------------------------------------------\n",
        "# LOGICA E PROGRAMACAO DE COMPUTADORES\n",
        "# AULA 02 - PARTE 1\n",
        "# Professora: Silvia Moraes\n",
        "# Exercicio 2 : Erro de logica \n",
        "# ----------------------------------------------------------------------\n",
        "print('informe o primeiro valor: ')\n",
        "valor1 = int(input())\n",
        "print('informe o segundo valor: ')\n",
        "valor2 = int(input())\n",
        "soma = (valor1+valor2)/2\n",
        "print('Media aritmetica = ', soma)"
      ]
    }
  ]
}