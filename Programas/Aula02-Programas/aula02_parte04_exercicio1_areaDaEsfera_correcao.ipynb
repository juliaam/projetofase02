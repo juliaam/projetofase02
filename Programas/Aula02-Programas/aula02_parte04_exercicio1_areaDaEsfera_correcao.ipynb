{
  "nbformat": 4,
  "nbformat_minor": 0,
  "metadata": {
    "colab": {
      "provenance": []
    },
    "kernelspec": {
      "name": "python3",
      "display_name": "Python 3"
    },
    "language_info": {
      "name": "python"
    }
  },
  "cells": [
    {
      "cell_type": "code",
      "execution_count": 25,
      "metadata": {
        "colab": {
          "base_uri": "https://localhost:8080/"
        },
        "id": "7a4Rn1JG00ML",
        "outputId": "309fdda6-038f-4ad5-d867-be01f9efd7f2"
      },
      "outputs": [
        {
          "output_type": "stream",
          "name": "stdout",
          "text": [
            "Informe o valor do raio:\n",
            "3\n",
            "Area da esfera:  113.09733552923255\n"
          ]
        }
      ],
      "source": [
        "#-----------------------------------------------------------------------\n",
        "# LOGICA E PROGRAMACAO DE COMPUTADORES\n",
        "# AULA 02 - PARTE 4\n",
        "# Professora: Silvia Moraes\n",
        "# Exercicio1 : Area da esfera  \n",
        "# ----------------------------------------------------------------------\n",
        "import math\n",
        "\n",
        "print('Informe o valor do raio:')\n",
        "raio = float(input())\n",
        "area = 4 * math.pi * raio**2\n",
        "print('Area da esfera: ', area)\n"
      ]
    }
  ]
}