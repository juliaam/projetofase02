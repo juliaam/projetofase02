{
  "nbformat": 4,
  "nbformat_minor": 0,
  "metadata": {
    "colab": {
      "provenance": []
    },
    "kernelspec": {
      "name": "python3",
      "display_name": "Python 3"
    },
    "language_info": {
      "name": "python"
    }
  },
  "cells": [
    {
      "cell_type": "code",
      "execution_count": 26,
      "metadata": {
        "colab": {
          "base_uri": "https://localhost:8080/"
        },
        "id": "7a4Rn1JG00ML",
        "outputId": "e2a8b1f7-dd34-4cb1-8c99-057136741146"
      },
      "outputs": [
        {
          "output_type": "stream",
          "name": "stdout",
          "text": [
            "Informe um valor: \n",
            "2.5\n",
            "Quadrado do valor = 6.25\n",
            "Cubo do valor =  15.625\n",
            "Valor na quarta =  39.0625\n"
          ]
        }
      ],
      "source": [
        "#-----------------------------------------------------------------------\n",
        "# LOGICA E PROGRAMACAO DE COMPUTADORES\n",
        "# AULA 02 - PARTE 4\n",
        "# Professora: Silvia Moraes\n",
        "# Exercicio 2 : n^2, n^3 e n^4  \n",
        "# ----------------------------------------------------------------------\n",
        "print('Informe um valor: ')\n",
        "valor = float(input())\n",
        "print('Quadrado do valor =', valor**2)\n",
        "print('Cubo do valor = ', valor ** 3)\n",
        "print('Valor na quarta = ', valor ** 4)"
      ]
    }
  ]
}