{
  "nbformat": 4,
  "nbformat_minor": 0,
  "metadata": {
    "colab": {
      "provenance": []
    },
    "kernelspec": {
      "name": "python3",
      "display_name": "Python 3"
    },
    "language_info": {
      "name": "python"
    }
  },
  "cells": [
    {
      "cell_type": "code",
      "execution_count": 27,
      "metadata": {
        "colab": {
          "base_uri": "https://localhost:8080/"
        },
        "id": "7a4Rn1JG00ML",
        "outputId": "3fe87a98-f1e6-4f20-d429-e45996a75b68"
      },
      "outputs": [
        {
          "output_type": "stream",
          "name": "stdout",
          "text": [
            "Informe o valor em farenheit:\n",
            "100\n",
            "Celsius: 37.77777777777778\n"
          ]
        }
      ],
      "source": [
        "#-----------------------------------------------------------------------\n",
        "# LOGICA E PROGRAMACAO DE COMPUTADORES\n",
        "# AULA 02 - PARTE 5\n",
        "# Professora: Silvia Moraes\n",
        "# Exercicio 2 : calculos  \n",
        "# ----------------------------------------------------------------------\n",
        "import math\n",
        "\n",
        "print('Informe o primeiro valor: ')\n",
        "valor1 = int(input())\n",
        "print('Informe o segundo valor:')\n",
        "valor2 = int(input())\n",
        "print('Soma: ', valor1+valor2)\n",
        "print('Diferenca: ', valor1-valor2)\n",
        "print('Media: ', (valor1+valor2)/2)\n",
        "print('Distancia: ', math.fabs(valor1-valor2))\n",
        "print('Maior: ' , (valor1+valor2+math.fabs(valor1-valor2))/2)\n",
        "print('Menor: ' , (valor1+valor2-math.fabs(valor1-valor2))/2)"
      ]
    }
  ]
}