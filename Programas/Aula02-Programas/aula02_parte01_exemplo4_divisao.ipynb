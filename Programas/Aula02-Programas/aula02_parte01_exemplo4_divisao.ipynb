{
  "nbformat": 4,
  "nbformat_minor": 0,
  "metadata": {
    "colab": {
      "provenance": []
    },
    "kernelspec": {
      "name": "python3",
      "display_name": "Python 3"
    },
    "language_info": {
      "name": "python"
    }
  },
  "cells": [
    {
      "cell_type": "code",
      "execution_count": 4,
      "metadata": {
        "colab": {
          "base_uri": "https://localhost:8080/"
        },
        "id": "7a4Rn1JG00ML",
        "outputId": "942ca9f6-0bad-44ae-b75c-fc4e74c3a185"
      },
      "outputs": [
        {
          "output_type": "stream",
          "name": "stdout",
          "text": [
            "0.5\n"
          ]
        }
      ],
      "source": [
        "#-----------------------------------------------------------------------\n",
        "# LOGICA E PROGRAMACAO DE COMPUTADORES\n",
        "# AULA 02 - PARTE 1\n",
        "# Professora: Silvia Moraes\n",
        "# Exemplo 4 : Divisao entre valores\n",
        "# ----------------------------------------------------------------------\n",
        "num1 = 10\n",
        "num2 = 20\n",
        "resultado = num1/num2\n",
        "print(resultado)"
      ]
    }
  ]
}