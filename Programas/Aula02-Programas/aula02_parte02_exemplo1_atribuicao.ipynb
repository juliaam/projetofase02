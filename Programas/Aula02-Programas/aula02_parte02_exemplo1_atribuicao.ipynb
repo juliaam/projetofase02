{
  "nbformat": 4,
  "nbformat_minor": 0,
  "metadata": {
    "colab": {
      "provenance": []
    },
    "kernelspec": {
      "name": "python3",
      "display_name": "Python 3"
    },
    "language_info": {
      "name": "python"
    }
  },
  "cells": [
    {
      "cell_type": "code",
      "execution_count": 7,
      "metadata": {
        "colab": {
          "base_uri": "https://localhost:8080/"
        },
        "id": "7a4Rn1JG00ML",
        "outputId": "625ab841-aaa4-4949-bbc4-005f83e0f6f7"
      },
      "outputs": [
        {
          "output_type": "stream",
          "name": "stdout",
          "text": [
            "10\n",
            "20\n",
            "1.5\n",
            "texto\n"
          ]
        }
      ],
      "source": [
        "#-----------------------------------------------------------------------\n",
        "# LOGICA E PROGRAMACAO DE COMPUTADORES\n",
        "# AULA 02 - PARTE 2\n",
        "# Professora: Silvia Moraes\n",
        "# Exemplo 1 : Atribuicao \n",
        "# ----------------------------------------------------------------------\n",
        "val = 10\n",
        "print(val)\n",
        "val = 20\n",
        "print(val)\n",
        "num = 1.5\n",
        "print(num)\n",
        "msg = 'texto'\n",
        "print(msg)"
      ]
    }
  ]
}