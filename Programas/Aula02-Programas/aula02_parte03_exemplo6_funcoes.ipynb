{
  "nbformat": 4,
  "nbformat_minor": 0,
  "metadata": {
    "colab": {
      "provenance": []
    },
    "kernelspec": {
      "name": "python3",
      "display_name": "Python 3"
    },
    "language_info": {
      "name": "python"
    }
  },
  "cells": [
    {
      "cell_type": "code",
      "execution_count": 19,
      "metadata": {
        "colab": {
          "base_uri": "https://localhost:8080/"
        },
        "id": "7a4Rn1JG00ML",
        "outputId": "52b9a881-75e0-43fe-d094-c9f645181890"
      },
      "outputs": [
        {
          "output_type": "stream",
          "name": "stdout",
          "text": [
            "10\n",
            "10\n",
            "10\n",
            "9\n",
            "9\n",
            "9\n"
          ]
        }
      ],
      "source": [
        "#-----------------------------------------------------------------------\n",
        "# LOGICA E PROGRAMACAO DE COMPUTADORES\n",
        "# AULA 02 - PARTE 3\n",
        "# Professora: Silvia Moraes\n",
        "# Exemplo 6 : Funcoes \n",
        "# ----------------------------------------------------------------------\n",
        "import math\n",
        "\n",
        "print(math.ceil(9.1))\n",
        "print(math.ceil(9.8))\n",
        "print(math.ceil(9.5))\n",
        "\n",
        "print(math.trunc(9.1))\n",
        "print(math.trunc(9.8))\n",
        "print(math.trunc(9.5))"
      ]
    }
  ]
}