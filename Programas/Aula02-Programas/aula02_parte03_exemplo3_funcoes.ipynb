{
  "nbformat": 4,
  "nbformat_minor": 0,
  "metadata": {
    "colab": {
      "provenance": []
    },
    "kernelspec": {
      "name": "python3",
      "display_name": "Python 3"
    },
    "language_info": {
      "name": "python"
    }
  },
  "cells": [
    {
      "cell_type": "code",
      "execution_count": 12,
      "metadata": {
        "colab": {
          "base_uri": "https://localhost:8080/"
        },
        "id": "7a4Rn1JG00ML",
        "outputId": "0cb93b61-7ea2-433c-e4b8-25b95b10d9fb"
      },
      "outputs": [
        {
          "output_type": "stream",
          "name": "stdout",
          "text": [
            "9.0\n",
            "5.0\n"
          ]
        }
      ],
      "source": [
        "#-----------------------------------------------------------------------\n",
        "# LOGICA E PROGRAMACAO DE COMPUTADORES\n",
        "# AULA 02 - PARTE 3\n",
        "# Professora: Silvia Moraes\n",
        "# Exemplo 3 : Funcoes \n",
        "# ----------------------------------------------------------------------\n",
        "import math\n",
        "\n",
        "b=1\n",
        "a=1\n",
        "c=3\n",
        "\n",
        "resultado = math.fabs(math.pow(b,3)-10)\n",
        "print(resultado)\n",
        "\n",
        "resultado = math.fabs(a - 2*c)\n",
        "print(resultado)"
      ]
    }
  ]
}