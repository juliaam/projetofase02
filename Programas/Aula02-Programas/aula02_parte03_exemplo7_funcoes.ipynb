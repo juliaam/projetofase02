{
  "nbformat": 4,
  "nbformat_minor": 0,
  "metadata": {
    "colab": {
      "provenance": []
    },
    "kernelspec": {
      "name": "python3",
      "display_name": "Python 3"
    },
    "language_info": {
      "name": "python"
    }
  },
  "cells": [
    {
      "cell_type": "code",
      "execution_count": 20,
      "metadata": {
        "colab": {
          "base_uri": "https://localhost:8080/"
        },
        "id": "7a4Rn1JG00ML",
        "outputId": "89b7fd10-e89f-4f02-889d-1c2fcbc82fa2"
      },
      "outputs": [
        {
          "output_type": "stream",
          "name": "stdout",
          "text": [
            "0.8414709848078965\n",
            "0.8939966636005579\n",
            "-0.8011526357338304\n",
            "0.5403023058681398\n",
            "-0.4480736161291701\n",
            "-0.5984600690578581\n"
          ]
        }
      ],
      "source": [
        "#-----------------------------------------------------------------------\n",
        "# LOGICA E PROGRAMACAO DE COMPUTADORES\n",
        "# AULA 02 - PARTE 3\n",
        "# Professora: Silvia Moraes\n",
        "# Exemplo 7 : Funcoes \n",
        "# ----------------------------------------------------------------------\n",
        "import math\n",
        "\n",
        "print(math.sin(1))\n",
        "print(math.sin(90))\n",
        "print(math.sin(180))\n",
        "\n",
        "print(math.cos(1))\n",
        "print(math.cos(90))\n",
        "print(math.cos(180))\n"
      ]
    }
  ]
}