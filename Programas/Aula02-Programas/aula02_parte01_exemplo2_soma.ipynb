{
  "nbformat": 4,
  "nbformat_minor": 0,
  "metadata": {
    "colab": {
      "provenance": []
    },
    "kernelspec": {
      "name": "python3",
      "display_name": "Python 3"
    },
    "language_info": {
      "name": "python"
    }
  },
  "cells": [
    {
      "cell_type": "code",
      "execution_count": 2,
      "metadata": {
        "colab": {
          "base_uri": "https://localhost:8080/"
        },
        "id": "7a4Rn1JG00ML",
        "outputId": "74e64724-1114-4fd0-af40-5757735e5db6"
      },
      "outputs": [
        {
          "output_type": "stream",
          "name": "stdout",
          "text": [
            "Informe o primeiro valor: \n",
            "10\n",
            "Informe o segundo valor: \n",
            "20\n",
            "Soma =  30\n"
          ]
        }
      ],
      "source": [
        "#-----------------------------------------------------------------------\n",
        "# LOGICA E PROGRAMACAO DE COMPUTADORES\n",
        "# AULA 02 - PARTE 1\n",
        "# Professora: Silvia Moraes\n",
        "# Exemplo 2 : Soma de dois valores inteiros\n",
        "# ----------------------------------------------------------------------\n",
        "print(\"Informe o primeiro valor: \")\n",
        "valor1 = int(input())\n",
        "print(\"Informe o segundo valor: \")\n",
        "valor2 = int(input())\n",
        "soma = valor1 + valor2\n",
        "print(\"Soma = \" , soma)"
      ]
    }
  ]
}