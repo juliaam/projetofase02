{
  "nbformat": 4,
  "nbformat_minor": 0,
  "metadata": {
    "colab": {
      "provenance": []
    },
    "kernelspec": {
      "name": "python3",
      "display_name": "Python 3"
    },
    "language_info": {
      "name": "python"
    }
  },
  "cells": [
    {
      "cell_type": "code",
      "execution_count": 14,
      "metadata": {
        "colab": {
          "base_uri": "https://localhost:8080/"
        },
        "id": "7a4Rn1JG00ML",
        "outputId": "54fc6baa-b4ea-4de2-8f70-1176a8149379"
      },
      "outputs": [
        {
          "output_type": "stream",
          "name": "stdout",
          "text": [
            "120\n",
            "3.0\n"
          ]
        }
      ],
      "source": [
        "#-----------------------------------------------------------------------\n",
        "# LOGICA E PROGRAMACAO DE COMPUTADORES\n",
        "# AULA 02 - PARTE 3\n",
        "# Professora: Silvia Moraes\n",
        "# Exemplo 4 : Funcoes \n",
        "# ----------------------------------------------------------------------\n",
        "import math\n",
        "\n",
        "a=5\n",
        "n=3\n",
        "p=2\n",
        "\n",
        "resultado = math.factorial(a)\n",
        "print(resultado)\n",
        "\n",
        "resultado = math.factorial(n)/(math.factorial(n-p)*math.factorial(p))\n",
        "print(resultado)"
      ]
    }
  ]
}