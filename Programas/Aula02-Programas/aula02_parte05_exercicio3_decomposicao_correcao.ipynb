{
  "nbformat": 4,
  "nbformat_minor": 0,
  "metadata": {
    "colab": {
      "provenance": []
    },
    "kernelspec": {
      "name": "python3",
      "display_name": "Python 3"
    },
    "language_info": {
      "name": "python"
    }
  },
  "cells": [
    {
      "cell_type": "code",
      "execution_count": 29,
      "metadata": {
        "colab": {
          "base_uri": "https://localhost:8080/"
        },
        "id": "7a4Rn1JG00ML",
        "outputId": "8b3eab24-b3ed-4e94-a7fe-bdfd4ee5aab6"
      },
      "outputs": [
        {
          "output_type": "stream",
          "name": "stdout",
          "text": [
            "Informe o tempo do evento em segundos: \n",
            "2876\n",
            "Horas: 0\n",
            "Minutos: 47\n",
            "Segundos:  56\n"
          ]
        }
      ],
      "source": [
        "#-----------------------------------------------------------------------\n",
        "# LOGICA E PROGRAMACAO DE COMPUTADORES\n",
        "# AULA 02 - PARTE 5\n",
        "# Professora: Silvia Moraes\n",
        "# Exercicio 3 : Decomposicao do tempo em hora,minuto e segundo  \n",
        "# ----------------------------------------------------------------------\n",
        "print('Informe o tempo do evento em segundos: ')\n",
        "tempo = int(input())\n",
        "horas = tempo//3600\n",
        "print('Horas:', horas)\n",
        "resto = tempo%3600\n",
        "minutos = resto//60\n",
        "print('Minutos:', minutos)\n",
        "segundos = resto % 60\n",
        "print('Segundos: ', segundos)"
      ]
    }
  ]
}