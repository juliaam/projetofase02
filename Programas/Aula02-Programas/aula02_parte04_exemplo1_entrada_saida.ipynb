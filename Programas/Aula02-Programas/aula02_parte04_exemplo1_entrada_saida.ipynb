{
  "nbformat": 4,
  "nbformat_minor": 0,
  "metadata": {
    "colab": {
      "provenance": []
    },
    "kernelspec": {
      "name": "python3",
      "display_name": "Python 3"
    },
    "language_info": {
      "name": "python"
    }
  },
  "cells": [
    {
      "cell_type": "code",
      "execution_count": 22,
      "metadata": {
        "colab": {
          "base_uri": "https://localhost:8080/"
        },
        "id": "7a4Rn1JG00ML",
        "outputId": "f4b3a3ba-82f2-43a8-a5c8-2638ec5abf38"
      },
      "outputs": [
        {
          "output_type": "stream",
          "name": "stdout",
          "text": [
            "Informe o nome: \n",
            "Silvia\n",
            "Informe um valor inteiro10\n",
            "Informe a nota da P1: 9.5\n",
            "Silvia\n",
            "10\n",
            "9.5\n"
          ]
        }
      ],
      "source": [
        "#-----------------------------------------------------------------------\n",
        "# LOGICA E PROGRAMACAO DE COMPUTADORES\n",
        "# AULA 02 - PARTE 4\n",
        "# Professora: Silvia Moraes\n",
        "# Exemplo 1 : E/S \n",
        "# ----------------------------------------------------------------------\n",
        "\n",
        "print(\"Informe o nome: \")\n",
        "nome = input()\n",
        "valor = int(input(\"Informe um valor inteiro\"))\n",
        "nota = float(input(\"Informe a nota da P1: \"))\n",
        "\n",
        "print(nome)\n",
        "print(valor)\n",
        "print(nota)\n"
      ]
    }
  ]
}