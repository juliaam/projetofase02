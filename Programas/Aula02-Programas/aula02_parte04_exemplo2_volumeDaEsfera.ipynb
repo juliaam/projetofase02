{
  "nbformat": 4,
  "nbformat_minor": 0,
  "metadata": {
    "colab": {
      "provenance": []
    },
    "kernelspec": {
      "name": "python3",
      "display_name": "Python 3"
    },
    "language_info": {
      "name": "python"
    }
  },
  "cells": [
    {
      "cell_type": "code",
      "execution_count": 24,
      "metadata": {
        "colab": {
          "base_uri": "https://localhost:8080/"
        },
        "id": "7a4Rn1JG00ML",
        "outputId": "320a1afe-b6a9-41c0-f3ba-14eaa908b5b6"
      },
      "outputs": [
        {
          "output_type": "stream",
          "name": "stdout",
          "text": [
            "Informe o valor do raio:\n",
            "3\n",
            "Volume:  113.09733552923254\n"
          ]
        }
      ],
      "source": [
        "#-----------------------------------------------------------------------\n",
        "# LOGICA E PROGRAMACAO DE COMPUTADORES\n",
        "# AULA 02 - PARTE 4\n",
        "# Professora: Silvia Moraes\n",
        "# Exemplo 2 : Volume da esfera  \n",
        "# ----------------------------------------------------------------------\n",
        "import math\n",
        "print('Informe o valor do raio:')\n",
        "raio = float(input())\n",
        "volume = 4/3 * math.pi * math.pow(raio,3)\n",
        "print('Volume: ', volume)\n"
      ]
    }
  ]
}