{
  "nbformat": 4,
  "nbformat_minor": 0,
  "metadata": {
    "colab": {
      "provenance": []
    },
    "kernelspec": {
      "name": "python3",
      "display_name": "Python 3"
    },
    "language_info": {
      "name": "python"
    }
  },
  "cells": [
    {
      "cell_type": "code",
      "execution_count": 1,
      "metadata": {
        "colab": {
          "base_uri": "https://localhost:8080/"
        },
        "id": "7a4Rn1JG00ML",
        "outputId": "d0ffa19c-7314-4e2a-cb3c-856e06639249"
      },
      "outputs": [
        {
          "output_type": "stream",
          "name": "stdout",
          "text": [
            "Informe o primeiro valor: 10\n",
            "Informe o segundo valor: 20\n",
            "Soma: 30\n"
          ]
        }
      ],
      "source": [
        "#-----------------------------------------------------------------------\n",
        "# LOGICA E PROGRAMACAO DE COMPUTADORES\n",
        "# AULA 02 - PARTE 1\n",
        "# Professora: Silvia Moraes\n",
        "# Exemplo 1 : Soma de dois valores inteiros\n",
        "# ----------------------------------------------------------------------\n",
        "valor1 = int(input(\"Informe o primeiro valor: \"))\n",
        "valor2 = int(input(\"Informe o segundo valor: \"))\n",
        "print(\"Soma: \" + str(valor1+valor2))"
      ]
    }
  ]
}