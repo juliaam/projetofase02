{
  "nbformat": 4,
  "nbformat_minor": 0,
  "metadata": {
    "colab": {
      "provenance": []
    },
    "kernelspec": {
      "name": "python3",
      "display_name": "Python 3"
    }
  },
  "cells": [
    {
      "cell_type": "markdown",
      "metadata": {
        "id": "VQsJH2jbn2Bp"
      },
      "source": [
        "# Lógica e Programação - Aula 09\n",
        "## Graduação Online - PUCRS/UOL EdTech\n",
        "\n",
        "## Dinâmica - Exercício de Fixação (Eleições Municipais)\n",
        "\n",
        "### Marcelo Cohen (marcelo.cohen@pucrs.br)\n",
        "### Sílvia Maria Wanderley Moraes (silvia.moraes@pucrs.br)\n",
        "\n"
      ]
    },
    {
      "cell_type": "markdown",
      "source": [
        "## Enunciado"
      ],
      "metadata": {
        "id": "Ey-d0t9_ZVjB"
      }
    },
    {
      "cell_type": "markdown",
      "source": [
        "Você tem acesso aos dados completos de votação das Eleições Municipais, para todo o estado do RS, bem como à lista de partidos.\n",
        "\n",
        "O arquivo de dados de votação possui o seguinte formato\n",
        "\n",
        "```\n",
        "numero_turno,nome_municipio,sigla_partido,descricao_cargo,nome,total_votos\n",
        "1,AUREA,PR,PREFEITO,ANTONIO PINTO ANDREOLA OLIBONI,1513\n",
        "1,AUREA,PV,PREFEITO,ITO ROST DE BORBA,1213\n",
        "1,AUREA,PR,VEREADOR,JOAO BORGES,122\n",
        "1,AUREA,PR,VEREADOR,VANJA ANTONIO VARGAS,268\n",
        "... \n",
        "```\n",
        "\n",
        "Onde:\n",
        "\n",
        "  - 1: turno (pode ser 1 ou 2, para vereador os votos estão sempre no 1o. turno)\n",
        "  - AUREA: nome da cidade\n",
        "  - PR: sigla do partido\n",
        "  - PREFEITO: cargo (pode ser VEREADOR ou PREFEITO)\n",
        "  - ANTONIO PINTO ANDREOLA OLIBONI: nome do(a) candidato(a)\n",
        "  - 1513: total de votos neste grupo de urnas\n",
        "\n",
        "Pode haver repetição de nomes, pois as urnas foram separadas em grupos (provavelmente de diversas seções eleitorais), portanto é preciso somar todas as linhas que se referirem a uma determinada pessoa.\n",
        "\n",
        "O arquivo de partidos, fornecido para facilitar a exibição posterior dos dados, usa o seguinte formato:\n",
        "\n",
        "```\n",
        "sigla,nome\n",
        "PR,PARTIDO RENASCENTISTA\n",
        "PV,PARTIDO VIAJANTE\n",
        "PG,PARTIDO GRANDIOSO\n",
        "PSF,PARTIDO SOCIAL FELIZ\n",
        "...\n",
        "```\n",
        "\n",
        "O objetivo desta contabilização é determinar a composição da Câmara Municipal de uma determinada cidade.\n",
        "\n",
        "A eleição de vereadores segue o chamado **sistema proporcional**, isto é, os partidos que tiveram mais votos terão direito a mais vagas. Com isso, um(a) candidato(a) que tenha tido uma quantidade expressiva de votos pode até não se eleger, por seu partido não ter vagas suficientes.\n",
        "\n",
        "Esse sistema se baseia nos chamados quocientes eleitoral e partidário.\n",
        "\n",
        "O **quociente eleitoral** é calculado através do número de votos válidos registrados (ou seja, descartando-se os brancos e nulos), dividido pelo número de vagas. Por exemplo, se um município contabilizou 10000 votos válidos e sua câmara só tem 10 vagas, o quociente eleitoral será 1000.\n",
        "\n",
        "Já o **quociente partidário** nos dá quantas vezes um determinado partido ultrapassou o quociente eleitoral, e portanto, a quantidade de vagas que esse partido terá direito. Por exemplo, suponha o seguinte resultado:\n",
        "\n",
        "  - Partido A: recebeu 3 mil votos\n",
        "  - Partido B: recebeu 1,5 mil votos\n",
        "  - Partido C: recebeu 900 votos\n",
        "\n",
        "Nessa situação, o partido A terá direito a 3 vagas (3000/1000), o partido B terá direito a uma vaga (1500/1000) e o partido C não terá direito a nenhuma (900/1000)\n",
        "\n",
        "Geralmente, porém, esse sistema não preenche todas as vagas. As vagas restantes serão preenchidas pelo cálculo da media: o número de votos válidos recebido pelo partido dividido pelo número de vereadores que elegeu mais um.\n",
        "\n",
        "Ou seja, o partido A terá uma media de 750 (resultado de 3 mil votos divididos por 3 vagas conquistadas + 1); o partido B também terá uma media de 750 (1,5 mil dividido por 1 + 1); e o C terá uma media de 900 (900 dividido por 0 + 1). Nesse caso, a primeira vaga remanescente caberia ao partido C, que obteve a maior media - e assim por diante, até completar todas as vagas.\n",
        "\n",
        "O seu programa deverá realizar as tarefas descritas abaixo, em ordem."
      ],
      "metadata": {
        "id": "txl-J0T6Y_Eg"
      }
    },
    {
      "cell_type": "code",
      "metadata": {
        "id": "Hv1f32-XotUs",
        "colab": {
          "base_uri": "https://localhost:8080/"
        },
        "outputId": "249cbd21-94a0-41cf-8528-55383f518355"
      },
      "source": [
        "!curl https://raw.githubusercontent.com/mflash/logicaeprogramacao/main/aula09/partidos-fake.csv -o partidos-fake.csv\n",
        "!curl https://raw.githubusercontent.com/mflash/logicaeprogramacao/main/aula09/eleicoes-municipais-fake.csv -o eleicoes-municipais-fake.csv"
      ],
      "execution_count": null,
      "outputs": [
        {
          "output_type": "stream",
          "name": "stdout",
          "text": [
            "  % Total    % Received % Xferd  Average Speed   Time    Time     Time  Current\n",
            "                                 Dload  Upload   Total   Spent    Left  Speed\n",
            "100  1078  100  1078    0     0  14567      0 --:--:-- --:--:-- --:--:-- 14567\n",
            "  % Total    % Received % Xferd  Average Speed   Time    Time     Time  Current\n",
            "                                 Dload  Upload   Total   Spent    Left  Speed\n",
            "100 1980k  100 1980k    0     0  17.4M      0 --:--:-- --:--:-- --:--:-- 17.4M\n"
          ]
        }
      ]
    },
    {
      "cell_type": "markdown",
      "metadata": {
        "id": "-zX69zPWoh_Z"
      },
      "source": [
        "## Parte 1\n",
        "\n",
        "1. Ler os dados da votação e dos partidos, usando listas e/ou dicionários.\n",
        "\n",
        "2. Perguntar ao usuário qual é a cidade desejada e o total de vagas na Câmara. Isso é necessário, pois a quantidade de vagas varia de acordo com o tamanho do município. Por exemplo, em Porto Alegre há 36 vagas, já em Caxias do Sul há 23, e em Viamão há 21. Você pode experimentar com outras cidades, basta saber o número exato.\n",
        "\n",
        "3. Contabilizar os votos para cada partido, e para cada candidato(a) individual"
      ]
    },
    {
      "cell_type": "code",
      "metadata": {
        "id": "UJCeUCW0pMtX",
        "colab": {
          "base_uri": "https://localhost:8080/"
        },
        "outputId": "bf6e7df0-fbd2-4f25-dbf2-8dd8276d2976"
      },
      "source": [
        "cid = input(\"Cidade:\").upper()\n",
        "vagas = int(input(\"Vagas:\"))\n",
        "\n",
        "partidos = {}   # nome, total de votos, vagas (quoc. part) e media\n",
        "votos = {}      # sigla e total de votos\n",
        "totalGeral = 0\n",
        "\n",
        "with open(\"partidos-fake.csv\") as csv:\n",
        "  csv.readline()\n",
        "  for linha in csv:\n",
        "    dados = linha[:-1].split(\",\")\n",
        "    aux = { 'nome': dados[1], 'votos': 0, 'vagas': 0,\n",
        "           'media': 0}\n",
        "    partidos[dados[0]] = aux\n",
        "\n",
        "with open(\"eleicoes-municipais-fake.csv\") as csv:\n",
        "  csv.readline()\n",
        "  for linha in csv:\n",
        "    dados = linha[:-1].split(\",\")\n",
        "    cidade = dados[1]\n",
        "    sigla = dados[2]\n",
        "    cargo = dados[3]\n",
        "    nome = dados[4]\n",
        "    totalVotos = int(dados[5])\n",
        "    if cidade != cid or cargo != \"VEREADOR\":\n",
        "      continue\n",
        "    if nome not in votos:\n",
        "      votos[nome] = { \"sigla\": sigla, \"votos\": 0}\n",
        "    votos[nome][\"votos\"] += totalVotos\n",
        "    partidos[sigla][\"votos\"] += totalVotos\n",
        "    totalGeral += totalVotos\n"
      ],
      "execution_count": null,
      "outputs": [
        {
          "name": "stdout",
          "output_type": "stream",
          "text": [
            "Cidade:porto alegre\n",
            "Vagas:36\n"
          ]
        }
      ]
    },
    {
      "cell_type": "markdown",
      "metadata": {
        "id": "H9JU0aJcsDaz"
      },
      "source": [
        "## Parte 2\n",
        "\n",
        "4. Calcular o quociente eleitoral (geral)...\n",
        "\n",
        "$$qe = \\frac{validos}{vagas}$$"
      ]
    },
    {
      "cell_type": "code",
      "metadata": {
        "id": "TNwvkxsEv4xf",
        "colab": {
          "base_uri": "https://localhost:8080/"
        },
        "outputId": "25a6b02a-a15a-4b08-e762-02132d43ce9a"
      },
      "source": [
        "print(f\"Total votos: {totalGeral}\")\n",
        "qe = totalGeral//vagas\n",
        "print(f\"QE: {qe}\")"
      ],
      "execution_count": null,
      "outputs": [
        {
          "output_type": "stream",
          "name": "stdout",
          "text": [
            "Total votos: 621331\n",
            "QE: 17259\n"
          ]
        }
      ]
    },
    {
      "cell_type": "markdown",
      "metadata": {
        "id": "AE_m5HlGwYEI"
      },
      "source": [
        "4. ...e partidário (para cada partido).\n",
        "\n",
        "$$qp = \\frac{votosPartido}{qe}$$\n",
        "\n",
        "5. Com base nesses cálculos, determinar quantas vagas cada partido receberá inicialmente.\n",
        "\n",
        "$$vagasPartido = qp$$"
      ]
    },
    {
      "cell_type": "code",
      "metadata": {
        "colab": {
          "base_uri": "https://localhost:8080/"
        },
        "id": "2LjoAIDEw3ce",
        "outputId": "db54a23a-cec6-4439-f83a-b001a446b299"
      },
      "source": [
        "# Calcula as vagas iniciais\n",
        "somaVagas = 0\n",
        "\n",
        "for sigla,dados in partidos.items():\n",
        "  qp = dados['votos']//qe\n",
        "  if qp > 0:\n",
        "    dados['vagas'] = qp\n",
        "    somaVagas += qp\n",
        "    print(sigla,dados)\n",
        "# ...\n",
        "\n",
        "print()\n",
        "print(\"Total de vagas já ocupadas:\",somaVagas)\n",
        "print()"
      ],
      "execution_count": null,
      "outputs": [
        {
          "output_type": "stream",
          "name": "stdout",
          "text": [
            "PR {'nome': 'PARTIDO RENASCENTISTA', 'votos': 55276, 'vagas': 3, 'media': 0}\n",
            "PV {'nome': 'PARTIDO VIAJANTE', 'votos': 58136, 'vagas': 3, 'media': 0}\n",
            "PG {'nome': 'PARTIDO GRANDIOSO ', 'votos': 46495, 'vagas': 2, 'media': 0}\n",
            "PSF {'nome': 'PARTIDO SOCIAL FELIZ', 'votos': 18684, 'vagas': 1, 'media': 0}\n",
            "PVN {'nome': 'PARTIDO VIGILANTE NACIONAL', 'votos': 72397, 'vagas': 4, 'media': 0}\n",
            "PGB {'nome': 'PARTIDO GRANDE BRASILEIRO', 'votos': 68148, 'vagas': 3, 'media': 0}\n",
            "PST {'nome': 'PARTIDO SOCIAL DA TERRA', 'votos': 51590, 'vagas': 2, 'media': 0}\n",
            "PEN {'nome': 'PARTIDO DO EMPREGO NACIONAL', 'votos': 26856, 'vagas': 1, 'media': 0}\n",
            "MFT {'nome': 'MOVIMENTO FELIZ E TRABALHADOR', 'votos': 28043, 'vagas': 1, 'media': 0}\n",
            "PAC {'nome': 'PARTIDO DA AÇÃO COMUNITÁRIA', 'votos': 18131, 'vagas': 1, 'media': 0}\n",
            "PPF {'nome': 'PARTIDO DAS PESSOAS FELIZES', 'votos': 20069, 'vagas': 1, 'media': 0}\n",
            "PLI {'nome': 'PARTIDO DA LIBERDADE INDIVIDUAL', 'votos': 51429, 'vagas': 2, 'media': 0}\n",
            "PPP {'nome': 'PARTIDO DA PATRIA PERFEITA', 'votos': 17753, 'vagas': 1, 'media': 0}\n",
            "PIA {'nome': 'PARTIDO DOS IRRESPONSÁVEIS ARREPENDIDOS', 'votos': 26363, 'vagas': 1, 'media': 0}\n",
            "\n",
            "Total de vagas já ocupadas: 26\n",
            "\n"
          ]
        }
      ]
    },
    {
      "cell_type": "code",
      "source": [],
      "metadata": {
        "id": "vn2Oc6OOahC9"
      },
      "execution_count": null,
      "outputs": []
    },
    {
      "cell_type": "markdown",
      "metadata": {
        "id": "tR_2WcmFwxjT"
      },
      "source": [
        "## Parte 3\n",
        "\n",
        "6. Considerando as vagas que restam, atribui-las a cada partido, de acordo com o cálculo da média ( número de votos válidos recebido pelo partido dividido pelo total de vagas já recebidas + 1).\n",
        "\n",
        "$$mediaPartido = \\frac{votosPartido}{vagasPartido+1}$$"
      ]
    },
    {
      "cell_type": "code",
      "metadata": {
        "id": "Zs3vDkGGxAfx"
      },
      "source": [
        "# Calcula a média de cada partido, de acordo com o total de votos e as vagas já recebidas\n",
        "\n",
        "for sigla,dados in partidos.items():\n",
        "  me = dados['votos']//(dados['vagas']+1)\n",
        "  dados['media'] = me\n",
        "  #print(sigla,dados)\n",
        "\n",
        "# Distribuir vagas disponíveis para cada partido, em ordem decrescente\n",
        "# de media\n",
        "for sigla,dados in sorted(partidos.items(), key=lambda x:x[1]['media'],\n",
        "                          reverse=True):\n",
        "  if somaVagas < vagas:\n",
        "    dados['vagas'] += 1\n",
        "    somaVagas += 1\n",
        "\n",
        "#print(f\"Total vagas ocup.: {somaVagas}\")\n",
        "# ... \n",
        "\n",
        "salvaVagas = {} # armazena o total de vagas original para cada partido\n",
        "for p in partidos:\n",
        "  salvaVagas[p] = partidos[p]['vagas']"
      ],
      "execution_count": null,
      "outputs": []
    },
    {
      "cell_type": "markdown",
      "metadata": {
        "id": "OSeUxWDZwx5C"
      },
      "source": [
        "7. Determinar os(as) candidatos(as) eleitos(as), apresentando uma tabela com o nome, total de votos recebidos e nome completo do partido. É necessário percorrer todos os candidatos, em ordem decrescente de votos - enquanto houver vagas para o partido, indica que o candidato foi eleito."
      ]
    },
    {
      "cell_type": "code",
      "metadata": {
        "id": "GwtFZOYaxckj",
        "colab": {
          "base_uri": "https://localhost:8080/"
        },
        "outputId": "36da6176-52d9-4195-ad2d-cd3f0572488f"
      },
      "source": [
        "# Finalmente, passa por todos os candidatos, em ordem decrescente de votos,\n",
        "# e enquanto houver vagas para o partido, mostra que foi eleito (e diminui uma\n",
        "# vaga do partido)\n",
        "\n",
        "for nome,dados in sorted(votos.items(), key=lambda x:x[1]['votos'], reverse=True):\n",
        "  sigla = dados['sigla']\n",
        "  if partidos[sigla]['vagas'] > 0:\n",
        "    print(f\"{nome:40} {sigla:4} {dados['votos']} votos\")\n",
        "    partidos[sigla]['vagas'] -= 1\n",
        "\n",
        "# ..."
      ],
      "execution_count": null,
      "outputs": [
        {
          "output_type": "stream",
          "name": "stdout",
          "text": [
            "FERNANDA DE JESUS OLIVEIRA HENRIQUES     PLI  14630 votos\n",
            "MAURO ADRIANA LIPPERT DA SILVA           PG   13551 votos\n",
            "THIAGO DA SILVA VERNIERI                 MFT  12669 votos\n",
            "RODRIGO ALMEIDA VIEIRA                   PO   11770 votos\n",
            "FELIPE FERREIRA ABRAO                    PIA  10488 votos\n",
            "ELIZANDRO PAULA PINHEIRO BRUNO           PGB  9845 votos\n",
            "SOFIA ALTHAUS                            PV   9670 votos\n",
            "VALTER NOE FURTADO DE FRAGA              PVN  9300 votos\n",
            "CARLOS OSMAR DOS SANTOS LUIZ             PLI  8354 votos\n",
            "JOSE VIEIRA DE VARGAS                    PSF  7728 votos\n",
            "MARCELO RICARDO STURMER                  PV   7585 votos\n",
            "MONICA PRIGOL RIBEIRO                    PR   7254 votos\n",
            "JOSE FRAINS DE LIMA                      PPP  7106 votos\n",
            "ANDRE VINICIUS FRANQUI VARGAS            PVN  6882 votos\n",
            "MARCIO PAULA VELHO                       PG   6858 votos\n",
            "NADIA BRAGA COFFI                        PVN  6809 votos\n",
            "PABLO FRANCA DE OLIVEIRA                 PVN  6691 votos\n",
            "IDENIR AMARAL GOMES                      PVN  6342 votos\n",
            "RICARDO ANTONIO DE SOUZA NETTO           PR   5822 votos\n",
            "JOAO CARLOS BITELO                       PR   5346 votos\n",
            "CLAUDIO CESAR SANTOS DA SILVA            PPF  5288 votos\n",
            "CASSIO COLOMBY POLLNOW                   PGB  5144 votos\n",
            "AIRTO EDUARDO DA COSTA SOUSA             PST  5125 votos\n",
            "HUMBERTO DE DEUS FLORES                  PGB  4995 votos\n",
            "JOAO OLIVEIRA FERNANDES                  PG   4993 votos\n",
            "MAURO FRANTZ JUNIOR                      PPI  4984 votos\n",
            "PAULO HELENA ALIATTI PELEGRINI           PGB  4850 votos\n",
            "RAMIRO LONDERO                           PEN  4676 votos\n",
            "REGINALDO APARECIDA MACHADO CAMPOS       MFT  3772 votos\n",
            "ALEXSANDER CENTOFANTE                    PLI  3710 votos\n",
            "JUSSARA PRATES                           PCT  3698 votos\n",
            "PAULO DEON                               PST  3691 votos\n",
            "ALDACIR MARI VOGEL                       PV   3569 votos\n",
            "ADELI MARIA GOULARTE FEIJO               PV   3387 votos\n",
            "LETICIA PAULA PIOTROWSKI                 PST  3195 votos\n",
            "GILSOMAR GOBATTO                         PAC  2827 votos\n"
          ]
        }
      ]
    },
    {
      "cell_type": "markdown",
      "metadata": {
        "id": "1wElZwewwyFa"
      },
      "source": [
        "## Parte 4\n",
        "\n",
        "8. Desenhar, em um gráfico de barras, a distribuição de vagas na Câmara para cada partido (partidos sem vagas não devem sem exibidos). Pode ser em ordem de vagas, ou não."
      ]
    },
    {
      "cell_type": "code",
      "metadata": {
        "colab": {
          "base_uri": "https://localhost:8080/",
          "height": 363
        },
        "id": "ieGF8yNOxxld",
        "outputId": "5ece8949-d14b-482b-ae1c-a02abe4c8926"
      },
      "source": [
        "import matplotlib.pyplot as plt\n",
        "\n",
        "print(salvaVagas)\n",
        "\n",
        "totalFinalVagas = 0\n",
        "nomes = []\n",
        "valores = []\n",
        "\n",
        "# Monta a lista de nomes (siglas) e valores (total de votos)\n",
        "# para o gráfico\n",
        "\n",
        "for p in salvaVagas:\n",
        "  if salvaVagas[p] > 0:\n",
        "    nomes.append(p)\n",
        "    valores.append(salvaVagas[p])\n",
        "    totalFinalVagas += salvaVagas[p]\n",
        "\n",
        "# ...\n",
        "\n",
        "print()\n",
        "print(\"Total de vagas ocupadas:\",totalFinalVagas)\n",
        "print()\n",
        "    \n",
        "plt.figure(figsize=(10,4))\n",
        "plt.xticks(rotation=30, ha='right')\n",
        "plt.bar(nomes,valores)\n",
        "plt.show()"
      ],
      "execution_count": null,
      "outputs": [
        {
          "output_type": "stream",
          "name": "stdout",
          "text": [
            "{'PR': 3, 'PV': 4, 'PG': 3, 'PSF': 1, 'PVN': 5, 'PGB': 4, 'PST': 3, 'PEN': 1, 'PPL': 0, 'PGDB': 0, 'PSO': 0, 'MFT': 2, 'PAC': 1, 'PPI': 1, 'PMMA': 0, 'PCT': 1, 'PPF': 1, 'PA': 0, 'PO': 1, 'PRB': 0, 'PLI': 3, 'PE': 0, 'PSN': 0, 'PPC': 0, 'PPO': 0, 'PPP': 1, 'PUB': 0, 'PEC': 0, 'PLB': 0, 'PS': 0, 'PEB': 0, 'PIA': 1, 'PCN': 0}\n",
            "\n",
            "Total de vagas ocupadas: 36\n",
            "\n"
          ]
        },
        {
          "output_type": "display_data",
          "data": {
            "text/plain": [
              "<Figure size 720x288 with 1 Axes>"
            ],
            "image/png": "[encoded data removed]"
          },
          "metadata": {
            "needs_background": "light"
          }
        }
      ]
    }
  ]
}