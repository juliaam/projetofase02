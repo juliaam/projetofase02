{
  "cells": [
    {
      "cell_type": "markdown",
      "metadata": {
        "id": "w1a-3Riremcn"
      },
      "source": [
        "# Lógica e Programação - Aula 04\n",
        "## Graduação Online - PUCRS/UOL EdTech\n",
        "\n",
        "### Marcelo Cohen (marcelo.cohen@pucrs.br)\n",
        "### Sílvia Maria Wanderley Moraes (silvia.moraes@pucrs.br)\n"
      ]
    },
    {
      "cell_type": "markdown",
      "source": [
        "## Seleção Simples\n",
        "\n",
        "Se a expressão lógica for **verdadeira**, executa um comando ou bloco de comandos."
      ],
      "metadata": {
        "id": "wz5Hq_MEPmKa"
      }
    },
    {
      "cell_type": "code",
      "execution_count": null,
      "metadata": {
        "colab": {
          "base_uri": "https://localhost:8080/"
        },
        "id": "FyXPvdTW-Vlh",
        "outputId": "09476773-9450-47d0-ff62-cfaf443cf282"
      },
      "outputs": [
        {
          "name": "stdout",
          "output_type": "stream",
          "text": [
            "Digite um número: 12\n"
          ]
        }
      ],
      "source": [
        "# Seleção simples\n",
        "\n",
        "num = int(input(\"Digite um número: \"))\n",
        "if num < 0:\n",
        "  print(\"O número é negativo\")"
      ]
    },
    {
      "cell_type": "markdown",
      "source": [
        "## Seleção composta\n",
        "\n",
        "Se a expressão lógica for **verdadeira**, executa um comando ou bloco de comandos. Caso contrário, executa outro comando ou bloco."
      ],
      "metadata": {
        "id": "3-OBdHcLQMwZ"
      }
    },
    {
      "cell_type": "code",
      "source": [
        "# Seleção composta\n",
        "\n",
        "num = int(input(\"Digite um número: \"))\n",
        "if num % 2 == 0:\n",
        "  print(\"O número é par\")\n",
        "else:\n",
        "  print(\"O número é ímpar\")"
      ],
      "metadata": {
        "colab": {
          "base_uri": "https://localhost:8080/"
        },
        "id": "xeS14DdRQWvx",
        "outputId": "95dea2ae-6817-48eb-e737-b666ab9290fe"
      },
      "execution_count": null,
      "outputs": [
        {
          "output_type": "stream",
          "name": "stdout",
          "text": [
            "Digite um número: 22\n",
            "O número é par\n"
          ]
        }
      ]
    },
    {
      "cell_type": "markdown",
      "source": [
        "## Seleção aninhada (*nested*)\n",
        "\n",
        "Ocorre sempre que tivermos um comando *if* **dentro** de um bloco de outro comando *if*.\n",
        "\n"
      ],
      "metadata": {
        "id": "Rr_ek3OdSul6"
      }
    },
    {
      "cell_type": "code",
      "source": [
        "# Exemplo 1: determinar o maior de 3 valores\n",
        "\n",
        "a = int(input(\"A: \"))\n",
        "b = int(input(\"B: \"))\n",
        "c = int(input(\"C: \"))\n",
        "\n",
        "if a>b and a>c:\n",
        "  print(f\"Maior é {a}\")\n",
        "else:\n",
        "  if b>a and b>c:\n",
        "    print(f\"Maior é {b}\")\n",
        "  else:\n",
        "    print(f\"Maior é {c}\")"
      ],
      "metadata": {
        "id": "mySIxGX8aDnR",
        "colab": {
          "base_uri": "https://localhost:8080/"
        },
        "outputId": "0ae69542-655a-4b3a-838f-9a8fb6833fa6"
      },
      "execution_count": null,
      "outputs": [
        {
          "output_type": "stream",
          "name": "stdout",
          "text": [
            "A: 9\n",
            "B: 7\n",
            "C: 4\n",
            "Maior é 9\n"
          ]
        }
      ]
    },
    {
      "cell_type": "code",
      "source": [
        "# Exemplo 2: cálculo de raízes de eq. quadrática\n",
        "import math\n",
        "\n",
        "a = float(input(\"A: \"))\n",
        "b = float(input(\"B: \"))\n",
        "c = float(input(\"C: \"))\n",
        "\n",
        "delta = b*b - 4*a*c\n",
        "\n",
        "if delta < 0:\n",
        "  print(\"Não há raízes reais\")\n",
        "else:\n",
        "  if delta == 0:\n",
        "    x = -b/(2*a)\n",
        "    print(f\"Raiz é {x}\")\n",
        "  else:\n",
        "    x1 = (-b + math.sqrt(delta))/(2*a)\n",
        "    x2 = (-b - math.sqrt(delta))/(2*a)\n",
        "    print(f\"Raízes são {x1} e {x2}\")"
      ],
      "metadata": {
        "id": "WexCn4s8aSzX",
        "colab": {
          "base_uri": "https://localhost:8080/"
        },
        "outputId": "c445dd8d-d5f3-4da5-a50a-d29df1bfb687"
      },
      "execution_count": null,
      "outputs": [
        {
          "output_type": "stream",
          "name": "stdout",
          "text": [
            "A: 3\n",
            "B: 2\n",
            "C: 5\n",
            "Não há raízes reais\n"
          ]
        }
      ]
    },
    {
      "cell_type": "code",
      "source": [
        "# Exemplo 3"
      ],
      "metadata": {
        "id": "JVTrHe9Cab8D"
      },
      "execution_count": null,
      "outputs": []
    },
    {
      "cell_type": "markdown",
      "source": [
        "## Problemas com seleção aninhada"
      ],
      "metadata": {
        "id": "H9yGc6fTakmj"
      }
    },
    {
      "cell_type": "code",
      "source": [
        "# Exemplo 4: aprovação por nota e frequência\n",
        "\n",
        "p1 = float(input(\"P1: \"))\n",
        "p2 = float(input(\"P2: \"))\n",
        "p3 = float(input(\"P3: \"))\n",
        "freq = float(input(\"Freq: \"))\n",
        "\n",
        "g1 = (p1+p2+p3)/3\n",
        "\n",
        "print(f\"Media G1: {g1}\")\n",
        "\n",
        "if freq < 75:\n",
        "  print(f\"Reprovado por faltas: {freq}\")\n",
        "else:\n",
        "  if g1 >= 7:\n",
        "    print(f\"Aprovado por media: {g1}\")\n",
        "  else:\n",
        "    if g1 < 4:\n",
        "      print(f\"Reprovado por media: {g1}\")\n",
        "    else:\n",
        "      # Em exame (g2)\n",
        "      g2 = float(input(\"G2: \"))\n",
        "      final = (g1+g2)/2\n",
        "      if final >= 5:\n",
        "        print(f\"Aprovado em G2: {final}\")\n",
        "      else:\n",
        "        print(f\"Reprovado em G2: {final}\")"
      ],
      "metadata": {
        "id": "5qSqDNB4aor4",
        "colab": {
          "base_uri": "https://localhost:8080/"
        },
        "outputId": "29c7a84e-124b-4da0-bd6e-ddfe61022ee4"
      },
      "execution_count": null,
      "outputs": [
        {
          "output_type": "stream",
          "name": "stdout",
          "text": [
            "P1: 8\n",
            "P2: 7.8\n",
            "P3: 8\n",
            "Freq: 50\n",
            "Media G1: 7.933333333333334\n",
            "Reprovado por faltas: 50.0\n"
          ]
        }
      ]
    },
    {
      "cell_type": "code",
      "source": [
        "# Exemplo 5: conceito em função da nota\n",
        "\n",
        "nota = int(input(\"Nota: \"))\n",
        "\n",
        "if nota >= 90:\n",
        "  print(\"Conceito A\")\n",
        "else:\n",
        "  if nota >= 80:\n",
        "    print(\"Conceito B\")\n",
        "  else:\n",
        "    if nota >= 70:\n",
        "      print(\"Conceito C\")\n",
        "    else:\n",
        "      if nota >= 60:\n",
        "        print(\"Conceito D\")\n",
        "      else:\n",
        "        print(\"Conceito F\")\n"
      ],
      "metadata": {
        "id": "Yo3SFVt_apxK",
        "colab": {
          "base_uri": "https://localhost:8080/"
        },
        "outputId": "254e827e-2abd-448a-b440-b1250a53d401"
      },
      "execution_count": null,
      "outputs": [
        {
          "output_type": "stream",
          "name": "stdout",
          "text": [
            "Nota: 45\n",
            "Conceito F\n"
          ]
        }
      ]
    },
    {
      "cell_type": "code",
      "source": [
        "# Exemplo 6: determinar a dia da Páscoa em um ano específico\n",
        "\n",
        "ano = int(input(\"Ano: \"))\n",
        "if ano < 1900 or ano > 2099:\n",
        "  print(\"Impossível calcular!\")\n",
        "else:\n",
        "  a = ano % 19\n",
        "  b = ano % 4\n",
        "  c = ano % 7\n",
        "  d = (19 * a + 24) % 30\n",
        "  e = (2 * b + 4 * c + 6 * d + 5) % 7\n",
        "  dia = 22 + d + e\n",
        "  if ano == 1954 or ano == 1981 or ano == 2049 or ano == 2076:\n",
        "    dia = dia - 7\n",
        "  if dia > 31:\n",
        "    dia = dia - 31\n",
        "    print(f\"Dia da Páscoa: {dia} de abril\")\n",
        "  else:\n",
        "    print(f\"Dia da Páscoa: {dia} de março\")"
      ],
      "metadata": {
        "id": "Z3Yb3w4Xa26i",
        "colab": {
          "base_uri": "https://localhost:8080/"
        },
        "outputId": "492fcaca-6e54-4d03-9c82-7d9b9a4e97fe"
      },
      "execution_count": null,
      "outputs": [
        {
          "output_type": "stream",
          "name": "stdout",
          "text": [
            "Ano: 2005\n",
            "Dia da Páscoa: 27 de março\n"
          ]
        }
      ]
    },
    {
      "cell_type": "markdown",
      "source": [
        "## Seleção encadeada (*chained*)\n",
        "\n",
        "Variação da seleção aninhada, juntando a construção *if..else..if* através do comando **elif**.\n",
        "\n"
      ],
      "metadata": {
        "id": "2Ge1jqi6Zrpq"
      }
    },
    {
      "cell_type": "code",
      "source": [
        "# Exemplo 7: variação do exemplo 5\n",
        "\n",
        "nota = int(input(\"Nota: \"))\n",
        "\n",
        "if nota >= 90:\n",
        "  print(\"Conceito A\")\n",
        "elif nota >= 80:\n",
        "  print(\"Conceito B\")\n",
        "elif nota >= 70:\n",
        "  print(\"Conceito C\")\n",
        "elif nota >= 60:\n",
        "  print(\"Conceito D\")\n",
        "else:\n",
        "  print(\"Conceito F\")"
      ],
      "metadata": {
        "id": "TlZmSRUPoKwk",
        "colab": {
          "base_uri": "https://localhost:8080/"
        },
        "outputId": "db9e7415-400b-476e-fc89-462c61d471fe"
      },
      "execution_count": null,
      "outputs": [
        {
          "output_type": "stream",
          "name": "stdout",
          "text": [
            "Nota: 59\n",
            "Conceito F\n"
          ]
        }
      ]
    },
    {
      "cell_type": "code",
      "source": [
        "# Exemplo 8: total de dias em um mês qualquer (sem bissextos)\n",
        "\n",
        "mes = int(input(\"Mês: \"))\n",
        "if mes == 2:\n",
        "  dias = 28\n",
        "elif mes == 4 or mes == 6 or mes == 9 or mes == 11:\n",
        "  dias = 30\n",
        "else:\n",
        "  dias = 31\n",
        "print(f\"Total de dias: {dias}\")"
      ],
      "metadata": {
        "id": "vSl2cDOVaf8M",
        "colab": {
          "base_uri": "https://localhost:8080/"
        },
        "outputId": "7d3ad412-6c8a-437e-861b-0bbab01a76c0"
      },
      "execution_count": null,
      "outputs": [
        {
          "output_type": "stream",
          "name": "stdout",
          "text": [
            "Mês: 9\n",
            "Total de dias: 30\n"
          ]
        }
      ]
    },
    {
      "cell_type": "code",
      "source": [
        "# Exemplo 9: classificação a partir do cálculo do IMC\n",
        "\n",
        "altura = float(input(\"Altura (m): \"))\n",
        "peso = float(input(\"Peso (kg): \"))\n",
        "\n",
        "imc = peso/altura**2\n",
        "\n",
        "print(f\"Seu IMC é {imc}\")\n",
        "\n",
        "if imc < 18.6:\n",
        "  print(\"Abaixo do peso\")\n",
        "elif imc < 25:\n",
        "  print(\"Peso normal\")\n",
        "elif imc < 30:\n",
        "  print(\"Sobrepeso\")\n",
        "elif imc < 35:\n",
        "  print(\"Obesidade grau I\")\n",
        "elif imc < 40:\n",
        "  print(\"Obesidade grau II\")\n",
        "else:\n",
        "  print(\"Obesidade grau III\")"
      ],
      "metadata": {
        "id": "Q0VQt7hyahD4",
        "colab": {
          "base_uri": "https://localhost:8080/"
        },
        "outputId": "ec773489-3f73-4581-c37f-5a9425a415b7"
      },
      "execution_count": null,
      "outputs": [
        {
          "output_type": "stream",
          "name": "stdout",
          "text": [
            "Altura (m): 1.9\n",
            "Peso (kg): 120\n",
            "Seu IMC é 33.2409972299169\n",
            "Obesidade grau I\n"
          ]
        }
      ]
    },
    {
      "cell_type": "markdown",
      "source": [
        "## Problemas com seleção encadeada"
      ],
      "metadata": {
        "id": "0yDwv-TNbIh5"
      }
    },
    {
      "cell_type": "code",
      "source": [
        "# Exemplo 10: pedra, papel, tesoura\n",
        "\n",
        "import random\n",
        "\n",
        "jogador = input(\"Sua escolha [Pe]dra, [Pa]pel, [T]esoura? \")\n",
        "comp = random.choice([\"Pe\",\"Pa\",\"T\"])\n",
        "print(f\"Computador escolheu: {comp}\")\n",
        "\n",
        "if jogador == comp:\n",
        "  print(f\"Empate!\")\n",
        "elif jogador == \"Pe\":\n",
        "  if comp == \"T\":\n",
        "    print(\"Pe quebra T! Você ganhou!\")\n",
        "  else:\n",
        "    print(\"Pa cobre Pe! Você perdeu\")\n",
        "elif jogador == \"Pa\":\n",
        "  if comp == \"Pe\":\n",
        "    print(\"Pa cobre Pe! Você ganhou!\")\n",
        "  else:\n",
        "    print(\"T corta Pa! Você perdeu\")\n",
        "elif comp == \"Pa\":\n",
        "  print(\"T corta Pa! Você ganhou!\")\n",
        "else:\n",
        "  print(\"Pe quebra T! Você perdeu\")\n"
      ],
      "metadata": {
        "id": "EtiXoVRPbL5A",
        "colab": {
          "base_uri": "https://localhost:8080/"
        },
        "outputId": "deb35b61-e56e-4e67-e115-7ee64cf3821e"
      },
      "execution_count": null,
      "outputs": [
        {
          "output_type": "stream",
          "name": "stdout",
          "text": [
            "Sua escolha [Pe]dra, [Pa]pel, [T]esoura? T\n",
            "Computador escolheu: Pe\n",
            "Pe quebra T! Você perdeu\n"
          ]
        }
      ]
    },
    {
      "cell_type": "code",
      "source": [
        "# Exemplo 11: determinação da situação em função da pressão arterial\n",
        "\n",
        "sist = int(input(\"Sistólica: \"))\n",
        "diast = int(input(\"Diastólica: \"))\n",
        "\n",
        "if diast >= 120 or sist >= 180:\n",
        "  print(\"Crise hipertensiva\")\n",
        "elif (diast >= 90 and diast < 120) or (sist >= 140 and sist <180):\n",
        "  print(\"Hipertensão estágio 2\")\n",
        "elif (diast >= 80 and diast < 90) or (sist >= 130 and sist < 140):\n",
        "  print(\"Hipertensão estágio 1\")\n",
        "elif diast< 80 and sist < 130 and sist >= 120:\n",
        "  print(\"Elevada\")\n",
        "elif diast < 80 and sist < 120:\n",
        "  print(\"Normal\")\n"
      ],
      "metadata": {
        "id": "HCAtA3JTbSkK",
        "colab": {
          "base_uri": "https://localhost:8080/"
        },
        "outputId": "57fa283d-af01-4f3f-e462-37dfe7a3f939"
      },
      "execution_count": null,
      "outputs": [
        {
          "output_type": "stream",
          "name": "stdout",
          "text": [
            "Sistólica: 150\n",
            "Diastólica: 120\n",
            "Crise hipertensiva\n"
          ]
        }
      ]
    },
    {
      "cell_type": "markdown",
      "source": [
        "## Dinâmica: exercícios de fixação"
      ],
      "metadata": {
        "id": "HwZ91Fw_btmC"
      }
    },
    {
      "cell_type": "code",
      "source": [
        "# Exercício 1: determinar se um ano é bissexto ou não\n",
        "\n",
        "ano = int(input(\"Ano: \"))\n",
        "if (ano % 4 == 0 and ano % 100 != 0) or (ano % 400 == 0):\n",
        "  print(\"É bissexto!\")\n",
        "else:\n",
        "  print(\"Não é bissexto...\")"
      ],
      "metadata": {
        "id": "q38G29e4byWH",
        "colab": {
          "base_uri": "https://localhost:8080/"
        },
        "outputId": "da9558e3-72fe-486c-bed0-9884f7ea4228"
      },
      "execution_count": null,
      "outputs": [
        {
          "output_type": "stream",
          "name": "stdout",
          "text": [
            "Ano: 1900\n",
            "Não é bissexto...\n"
          ]
        }
      ]
    },
    {
      "cell_type": "code",
      "source": [
        "# Exercício 2: determinar o total de dias em um mês e ano\n",
        "\n",
        "mes = int(input(\"Mês: \"))\n",
        "ano = int(input(\"Ano: \"))\n",
        "if mes == 2:\n",
        "  if (ano % 4 == 0 and ano % 100 != 0) or (ano % 400 == 0):\n",
        "    dias = 29\n",
        "  else:\n",
        "    dias = 28\n",
        "elif mes == 4 or mes == 6 or mes == 9 or mes == 11:\n",
        "  dias = 30\n",
        "else:\n",
        "  dias = 31\n",
        "print(f\"Total de dias: {dias}\")"
      ],
      "metadata": {
        "id": "8WBtBhSqb0Ti",
        "colab": {
          "base_uri": "https://localhost:8080/"
        },
        "outputId": "2a8fa2f3-bff4-404b-fe4e-d56df26090f0"
      },
      "execution_count": null,
      "outputs": [
        {
          "output_type": "stream",
          "name": "stdout",
          "text": [
            "Mês: 2\n",
            "Ano: 2004\n",
            "Total de dias: 29\n"
          ]
        }
      ]
    },
    {
      "cell_type": "code",
      "source": [
        "# Exercício 3: cálculo do salário líquido\n",
        "\n",
        "bruto = float(input(\"Salário bruto: \"))\n",
        "dep   = int(input(\"Total dependentes: \"))\n",
        "\n",
        "# De acordo com a faixa de salário, determina\n",
        "# a alíquota do INSS e a parcela a deduzir\n",
        "if bruto < 1212.01:\n",
        "    alinss = 0.075\n",
        "    parcinss = 0\n",
        "\t\t#inss = bruto * 0.075\n",
        "elif bruto <= 2427.35:\n",
        "    alinss = 0.09\n",
        "    parcinss = 18.18\n",
        "\t\t#inss = bruto * 0.09 - 18.18\n",
        "elif bruto <= 3641.03:\n",
        "    alinss = 0.12\n",
        "    parcinss = 91\n",
        "\t\t#inss = bruto * 0.12 - 91\n",
        "else:\n",
        "    alinss = 0.14\n",
        "    parcinss = 163.82\n",
        "\t\t#inss = bruto * 0.14 - 163.82\n",
        "\n",
        "inss = bruto * alinss - parcinss\n",
        "\n",
        "# Verifica se desconto do INSS não passou do teto da última faixa\n",
        "if inss > 828.39:\n",
        "    inss = 828.39 # nesse caso, limita\n",
        "\n",
        "print(\"INSS:\", inss)\n",
        "\n",
        "# Base para cálculo do IRRF\n",
        "base = bruto - inss - 189.59 * dep\n",
        "\n",
        "print(\"Base para cálculo IRRF:\", base)\n",
        "\n",
        "# De acordo com a faixa de salário, determina\n",
        "# a alíquota do imposto e a parcela a deduzir\n",
        "if base <= 1903.98:\n",
        "    aliqirrf = 0\n",
        "    parcirrf = 0\n",
        "elif base <= 2826.65:\n",
        "    aliqirrf = 0.075\n",
        "    parcirrf = 142.8\n",
        "elif base <= 3751.05:\n",
        "    aliqirrf = 0.15\n",
        "    parcirrf = 354.8\n",
        "elif base <= 4664.68:\n",
        "    aliqirrf = 0.225\n",
        "    parcirrf = 636.13\n",
        "else:\n",
        "    aliqirrf = 0.275\n",
        "    parcirrf = 869.36\n",
        "\n",
        "# IRRF é a alíquota (%) aplicada à base de cálculo, subtraída da\n",
        "# parcela a deduzir\n",
        "irrf = base * aliqirrf - parcirrf\n",
        "\n",
        "print(\"Imposto retido na fonte:\", irrf)\n",
        "\n",
        "# Salário líquido é o bruto, subtraído do inss e do IRRF calculado\n",
        "liquido = bruto - inss - irrf\n",
        "\n",
        "print(\"Salário líquido:\", liquido)"
      ],
      "metadata": {
        "id": "MEaw3w8jb1QX",
        "colab": {
          "base_uri": "https://localhost:8080/"
        },
        "outputId": "17e764ee-4183-4efb-de94-fcee3e881f46"
      },
      "execution_count": null,
      "outputs": [
        {
          "output_type": "stream",
          "name": "stdout",
          "text": [
            "Salário bruto: 2000\n",
            "Total dependentes: 2\n",
            "INSS: 161.82\n",
            "Base para cálculo IRRF: 1459.0\n",
            "Imposto retido na fonte: 0.0\n",
            "Salário líquido: 1838.18\n"
          ]
        }
      ]
    }
  ],
  "metadata": {
    "colab": {
      "provenance": []
    },
    "kernelspec": {
      "display_name": "Python 3 (ipykernel)",
      "language": "python",
      "name": "python3"
    },
    "language_info": {
      "codemirror_mode": {
        "name": "ipython",
        "version": 3
      },
      "file_extension": ".py",
      "mimetype": "text/x-python",
      "name": "python",
      "nbconvert_exporter": "python",
      "pygments_lexer": "ipython3",
      "version": "3.9.7"
    }
  },
  "nbformat": 4,
  "nbformat_minor": 0
}