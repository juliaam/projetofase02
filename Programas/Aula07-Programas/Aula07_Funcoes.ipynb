{
  "cells": [
    {
      "cell_type": "markdown",
      "metadata": {
        "id": "w1a-3Riremcn"
      },
      "source": [
        "# Lógica e Programação - Aula 07\n",
        "## Graduação Online - PUCRS/UOL EdTech\n",
        "\n",
        "### Marcelo Cohen (marcelo.cohen@pucrs.br)\n",
        "### Sílvia Maria Wanderley Moraes (silvia.moraes@pucrs.br)\n"
      ]
    },
    {
      "cell_type": "markdown",
      "source": [
        "## 1. Introdução ao uso de funções"
      ],
      "metadata": {
        "id": "wz5Hq_MEPmKa"
      }
    },
    {
      "cell_type": "code",
      "execution_count": null,
      "metadata": {
        "id": "FyXPvdTW-Vlh",
        "colab": {
          "base_uri": "https://localhost:8080/"
        },
        "outputId": "63c2857f-9fe5-428b-eacb-90cd4f3c1c0d"
      },
      "outputs": [
        {
          "output_type": "stream",
          "name": "stdout",
          "text": [
            "Mensagem\n",
            "Mensagem\n",
            "Outra mensagem\n",
            "Mensagem\n"
          ]
        }
      ],
      "source": [
        "# Exemplo 1: definindo uma função simples\n",
        "\n",
        "def exibe():\n",
        "  \"\"\"Exibe uma mensagem\"\"\" \n",
        "  print(\"Mensagem\")\n",
        "\n",
        "exibe()\n",
        "exibe()\n",
        "print(\"Outra mensagem\")\n",
        "exibe()"
      ]
    },
    {
      "cell_type": "code",
      "source": [
        "# Instalação do pacote ColabTurtlePlus no notebook\n",
        "!pip install ColabTurtlePlus\n",
        "from ColabTurtlePlus import *"
      ],
      "metadata": {
        "id": "xZXd01TJCS78",
        "colab": {
          "base_uri": "https://localhost:8080/"
        },
        "outputId": "f59e1b3d-268b-4678-f6ed-33b27d67b2fa"
      },
      "execution_count": null,
      "outputs": [
        {
          "output_type": "stream",
          "name": "stdout",
          "text": [
            "Looking in indexes: https://pypi.org/simple, https://us-python.pkg.dev/colab-wheels/public/simple/\n",
            "Requirement already satisfied: ColabTurtlePlus in /usr/local/lib/python3.7/dist-packages (2.0.1)\n"
          ]
        }
      ]
    },
    {
      "cell_type": "code",
      "source": [
        "# Exemplo 2: desenhando com funções do Turtle\n",
        "\n",
        "from ColabTurtlePlus.Turtle import *\n",
        "\n",
        "clearscreen()\n",
        "setup(600,400)\n",
        "bob = Turtle()\n",
        "bob.speed(2)\n",
        "for lado in range(4):\n",
        "  bob.forward(50)\n",
        "  bob.right(90)"
      ],
      "metadata": {
        "id": "dNacya5LCZ3_",
        "colab": {
          "base_uri": "https://localhost:8080/",
          "height": 441
        },
        "outputId": "cbdcf70c-b87c-4dc5-81e1-396b6d02a822"
      },
      "execution_count": null,
      "outputs": [
        {
          "output_type": "display_data",
          "data": {
            "text/plain": [
              "<IPython.core.display.HTML object>"
            ],
            "text/html": [
              "\n",
              "      <svg width=\"600\" height=\"400\">  \n",
              "        <rect width=\"100%\" height=\"100%\" style=\"fill:white;stroke:;stroke-width:1\"/>\n",
              "        \n",
              "        \n",
              "        <line x1=\"300.0\" y1=\"200.0\" x2=\"350.0\" y2=\"200.0\" stroke-linecap=\"round\" style=\"stroke:black;stroke-width:1\" /><line x1=\"350.0\" y1=\"200.0\" x2=\"350.0\" y2=\"250.0\" stroke-linecap=\"round\" style=\"stroke:black;stroke-width:1\" /><line x1=\"350.0\" y1=\"250.0\" x2=\"300.0\" y2=\"250.0\" stroke-linecap=\"round\" style=\"stroke:black;stroke-width:1\" /><line x1=\"300.0\" y1=\"250.0\" x2=\"300.0\" y2=\"200.0\" stroke-linecap=\"round\" style=\"stroke:black;stroke-width:1\" />\n",
              "        \n",
              "        \n",
              "        <g id=\"classic\" visibility=\"visible\" transform=\"rotate(180,300.0,200.0) translate(300.0, 200.0)\">\n",
              "<polygon points=\"-5,-4.5 0,-2.5 5,-4.5 0,4.5\" transform=\"skewX(0) scale(1,1)\" style=\"stroke:black;fill:black;stroke-width:1\" />\n",
              "<animateTransform id = \"one\" attributeName=\"transform\" \n",
              "                      type=\"scale\"\n",
              "                      from=\"1 1\" to=\"1 1\"\n",
              "                      begin=\"0s\" dur=\"0.01s\"\n",
              "                      repeatCount=\"1\"\n",
              "                      additive=\"sum\"\n",
              "                      fill=\"freeze\"\n",
              "                /><animateTransform attributeName=\"transform\"\n",
              "                    type=\"rotate\"\n",
              "                    from=\"0 0 0\" to =\"90 0 0\"\n",
              "                    begin=\"one.end\" dur=\"0.8s\"\n",
              "                    repeatCount=\"1\"\n",
              "                    additive=\"sum\"\n",
              "                    fill=\"freeze\"\n",
              "                /></g>\n",
              "      </svg>\n",
              "    "
            ]
          },
          "metadata": {}
        }
      ]
    },
    {
      "cell_type": "code",
      "source": [
        "# Exemplo 3: desenhando vários quadrados\n",
        "\n",
        "from ColabTurtlePlus.Turtle import *\n",
        "\n",
        "clearscreen()\n",
        "setup(600,400)\n",
        "bob = Turtle()\n",
        "bob.speed(8)\n",
        "\n",
        "for quad in range(4):\n",
        "  for lado in range(4):\n",
        "    bob.forward(50)\n",
        "    bob.right(90)\n",
        "\n",
        "  bob.penup()\n",
        "  bob.left(90)\n",
        "  bob.forward(50)\n",
        "  bob.right(90)\n",
        "  bob.pendown()"
      ],
      "metadata": {
        "id": "yVPnFDA8JlLD",
        "colab": {
          "base_uri": "https://localhost:8080/",
          "height": 441
        },
        "outputId": "8c8b61f8-df10-4baa-a9b6-075baba71692"
      },
      "execution_count": null,
      "outputs": [
        {
          "output_type": "display_data",
          "data": {
            "text/plain": [
              "<IPython.core.display.HTML object>"
            ],
            "text/html": [
              "\n",
              "      <svg width=\"600\" height=\"400\">  \n",
              "        <rect width=\"100%\" height=\"100%\" style=\"fill:white;stroke:;stroke-width:1\"/>\n",
              "        \n",
              "        \n",
              "        <line x1=\"300.0\" y1=\"200.0\" x2=\"350.0\" y2=\"200.0\" stroke-linecap=\"round\" style=\"stroke:black;stroke-width:1\" /><line x1=\"350.0\" y1=\"200.0\" x2=\"350.0\" y2=\"250.0\" stroke-linecap=\"round\" style=\"stroke:black;stroke-width:1\" /><line x1=\"350.0\" y1=\"250.0\" x2=\"300.0\" y2=\"250.0\" stroke-linecap=\"round\" style=\"stroke:black;stroke-width:1\" /><line x1=\"300.0\" y1=\"250.0\" x2=\"300.0\" y2=\"200.0\" stroke-linecap=\"round\" style=\"stroke:black;stroke-width:1\" /><line x1=\"300.0\" y1=\"150.0\" x2=\"350.0\" y2=\"150.0\" stroke-linecap=\"round\" style=\"stroke:black;stroke-width:1\" /><line x1=\"350.0\" y1=\"150.0\" x2=\"350.0\" y2=\"200.0\" stroke-linecap=\"round\" style=\"stroke:black;stroke-width:1\" /><line x1=\"350.0\" y1=\"200.0\" x2=\"300.0\" y2=\"200.0\" stroke-linecap=\"round\" style=\"stroke:black;stroke-width:1\" /><line x1=\"300.0\" y1=\"200.0\" x2=\"300.0\" y2=\"150.0\" stroke-linecap=\"round\" style=\"stroke:black;stroke-width:1\" /><line x1=\"300.0\" y1=\"100.0\" x2=\"350.0\" y2=\"100.0\" stroke-linecap=\"round\" style=\"stroke:black;stroke-width:1\" /><line x1=\"350.0\" y1=\"100.0\" x2=\"350.0\" y2=\"150.0\" stroke-linecap=\"round\" style=\"stroke:black;stroke-width:1\" /><line x1=\"350.0\" y1=\"150.0\" x2=\"300.0\" y2=\"150.0\" stroke-linecap=\"round\" style=\"stroke:black;stroke-width:1\" /><line x1=\"300.0\" y1=\"150.0\" x2=\"300.0\" y2=\"100.0\" stroke-linecap=\"round\" style=\"stroke:black;stroke-width:1\" /><line x1=\"300.0\" y1=\"50.0\" x2=\"350.0\" y2=\"50.0\" stroke-linecap=\"round\" style=\"stroke:black;stroke-width:1\" /><line x1=\"350.0\" y1=\"50.0\" x2=\"350.0\" y2=\"100.0\" stroke-linecap=\"round\" style=\"stroke:black;stroke-width:1\" /><line x1=\"350.0\" y1=\"100.0\" x2=\"300.0\" y2=\"100.0\" stroke-linecap=\"round\" style=\"stroke:black;stroke-width:1\" /><line x1=\"300.0\" y1=\"100.0\" x2=\"300.0\" y2=\"50.0\" stroke-linecap=\"round\" style=\"stroke:black;stroke-width:1\" />\n",
              "        \n",
              "        \n",
              "        <g id=\"classic\" visibility=\"visible\" transform=\"rotate(180,300.0,0.0) translate(300.0, 0.0)\">\n",
              "<polygon points=\"-5,-4.5 0,-2.5 5,-4.5 0,4.5\" transform=\"skewX(0) scale(1,1)\" style=\"stroke:black;fill:black;stroke-width:1\" />\n",
              "<animateTransform id = \"one\" attributeName=\"transform\" \n",
              "                      type=\"scale\"\n",
              "                      from=\"1 1\" to=\"1 1\"\n",
              "                      begin=\"0s\" dur=\"0.01s\"\n",
              "                      repeatCount=\"1\"\n",
              "                      additive=\"sum\"\n",
              "                      fill=\"freeze\"\n",
              "                /><animateTransform attributeName=\"transform\"\n",
              "                    type=\"rotate\"\n",
              "                    from=\"0 0 0\" to =\"90 0 0\"\n",
              "                    begin=\"one.end\" dur=\"0.125s\"\n",
              "                    repeatCount=\"1\"\n",
              "                    additive=\"sum\"\n",
              "                    fill=\"freeze\"\n",
              "                /></g>\n",
              "      </svg>\n",
              "    "
            ]
          },
          "metadata": {}
        }
      ]
    },
    {
      "cell_type": "code",
      "source": [
        "# Exemplo 4: desenhando vários quadrados com uma função\n",
        "\n",
        "from ColabTurtlePlus.Turtle import *\n",
        "\n",
        "clearscreen()\n",
        "setup(600,400)\n",
        "bob = Turtle()\n",
        "bob.speed(8)\n",
        "\n",
        "def quadrado():\n",
        "  for lado in range(4):\n",
        "    bob.forward(50)\n",
        "    bob.right(90)\n",
        "\n",
        "for quad in range(4):\n",
        "  quadrado()\n",
        "  bob.penup()\n",
        "  bob.left(90)\n",
        "  bob.forward(70)\n",
        "  bob.right(90)\n",
        "  bob.pendown()"
      ],
      "metadata": {
        "id": "NxX6j8XLMS63",
        "colab": {
          "base_uri": "https://localhost:8080/",
          "height": 441
        },
        "outputId": "486a7251-bed7-42b8-da42-289851b04395"
      },
      "execution_count": null,
      "outputs": [
        {
          "output_type": "display_data",
          "data": {
            "text/plain": [
              "<IPython.core.display.HTML object>"
            ],
            "text/html": [
              "\n",
              "      <svg width=\"600\" height=\"400\">  \n",
              "        <rect width=\"100%\" height=\"100%\" style=\"fill:white;stroke:;stroke-width:1\"/>\n",
              "        \n",
              "        \n",
              "        <line x1=\"300.0\" y1=\"200.0\" x2=\"350.0\" y2=\"200.0\" stroke-linecap=\"round\" style=\"stroke:black;stroke-width:1\" /><line x1=\"350.0\" y1=\"200.0\" x2=\"350.0\" y2=\"250.0\" stroke-linecap=\"round\" style=\"stroke:black;stroke-width:1\" /><line x1=\"350.0\" y1=\"250.0\" x2=\"300.0\" y2=\"250.0\" stroke-linecap=\"round\" style=\"stroke:black;stroke-width:1\" /><line x1=\"300.0\" y1=\"250.0\" x2=\"300.0\" y2=\"200.0\" stroke-linecap=\"round\" style=\"stroke:black;stroke-width:1\" /><line x1=\"300.0\" y1=\"130.0\" x2=\"350.0\" y2=\"130.0\" stroke-linecap=\"round\" style=\"stroke:black;stroke-width:1\" /><line x1=\"350.0\" y1=\"130.0\" x2=\"350.0\" y2=\"180.0\" stroke-linecap=\"round\" style=\"stroke:black;stroke-width:1\" /><line x1=\"350.0\" y1=\"180.0\" x2=\"300.0\" y2=\"180.0\" stroke-linecap=\"round\" style=\"stroke:black;stroke-width:1\" /><line x1=\"300.0\" y1=\"180.0\" x2=\"300.0\" y2=\"130.0\" stroke-linecap=\"round\" style=\"stroke:black;stroke-width:1\" /><line x1=\"300.0\" y1=\"60.0\" x2=\"350.0\" y2=\"60.0\" stroke-linecap=\"round\" style=\"stroke:black;stroke-width:1\" /><line x1=\"350.0\" y1=\"60.0\" x2=\"350.0\" y2=\"110.0\" stroke-linecap=\"round\" style=\"stroke:black;stroke-width:1\" /><line x1=\"350.0\" y1=\"110.0\" x2=\"300.0\" y2=\"110.0\" stroke-linecap=\"round\" style=\"stroke:black;stroke-width:1\" /><line x1=\"300.0\" y1=\"110.0\" x2=\"300.0\" y2=\"60.0\" stroke-linecap=\"round\" style=\"stroke:black;stroke-width:1\" /><line x1=\"300.0\" y1=\"-10.0\" x2=\"350.0\" y2=\"-10.0\" stroke-linecap=\"round\" style=\"stroke:black;stroke-width:1\" /><line x1=\"350.0\" y1=\"-10.0\" x2=\"350.0\" y2=\"40.0\" stroke-linecap=\"round\" style=\"stroke:black;stroke-width:1\" /><line x1=\"350.0\" y1=\"40.0\" x2=\"300.0\" y2=\"40.0\" stroke-linecap=\"round\" style=\"stroke:black;stroke-width:1\" /><line x1=\"300.0\" y1=\"40.0\" x2=\"300.0\" y2=\"-10.0\" stroke-linecap=\"round\" style=\"stroke:black;stroke-width:1\" />\n",
              "        \n",
              "        \n",
              "        <g id=\"classic\" visibility=\"visible\" transform=\"rotate(180,300.0,-80.0) translate(300.0, -80.0)\">\n",
              "<polygon points=\"-5,-4.5 0,-2.5 5,-4.5 0,4.5\" transform=\"skewX(0) scale(1,1)\" style=\"stroke:black;fill:black;stroke-width:1\" />\n",
              "<animateTransform id = \"one\" attributeName=\"transform\" \n",
              "                      type=\"scale\"\n",
              "                      from=\"1 1\" to=\"1 1\"\n",
              "                      begin=\"0s\" dur=\"0.01s\"\n",
              "                      repeatCount=\"1\"\n",
              "                      additive=\"sum\"\n",
              "                      fill=\"freeze\"\n",
              "                /><animateTransform attributeName=\"transform\"\n",
              "                    type=\"rotate\"\n",
              "                    from=\"0 0 0\" to =\"90 0 0\"\n",
              "                    begin=\"one.end\" dur=\"0.125s\"\n",
              "                    repeatCount=\"1\"\n",
              "                    additive=\"sum\"\n",
              "                    fill=\"freeze\"\n",
              "                /></g>\n",
              "      </svg>\n",
              "    "
            ]
          },
          "metadata": {}
        }
      ]
    },
    {
      "cell_type": "code",
      "source": [
        "# Exemplo 5: adicionando um parâmetro à função quadrado\n",
        "\n",
        "from ColabTurtlePlus.Turtle import *\n",
        "\n",
        "clearscreen()\n",
        "setup(600,400)\n",
        "bob = Turtle()\n",
        "bob.speed(8)\n",
        "\n",
        "def quadrado(lado):\n",
        "  for cont in range(4):\n",
        "    bob.forward(lado)\n",
        "    bob.right(90)\n",
        "\n",
        "for quad in range(4):\n",
        "  quadrado(60)\n",
        "  bob.penup()\n",
        "  bob.left(90)\n",
        "  bob.forward(50)\n",
        "  bob.right(90)\n",
        "  bob.pendown()"
      ],
      "metadata": {
        "id": "Zd5-5YJJX7i6",
        "colab": {
          "base_uri": "https://localhost:8080/",
          "height": 441
        },
        "outputId": "40027250-d28a-408f-ed9b-0e32bbd081a6"
      },
      "execution_count": null,
      "outputs": [
        {
          "output_type": "display_data",
          "data": {
            "text/plain": [
              "<IPython.core.display.HTML object>"
            ],
            "text/html": [
              "\n",
              "      <svg width=\"600\" height=\"400\">  \n",
              "        <rect width=\"100%\" height=\"100%\" style=\"fill:white;stroke:;stroke-width:1\"/>\n",
              "        \n",
              "        \n",
              "        <line x1=\"300.0\" y1=\"200.0\" x2=\"360.0\" y2=\"200.0\" stroke-linecap=\"round\" style=\"stroke:black;stroke-width:1\" /><line x1=\"360.0\" y1=\"200.0\" x2=\"360.0\" y2=\"260.0\" stroke-linecap=\"round\" style=\"stroke:black;stroke-width:1\" /><line x1=\"360.0\" y1=\"260.0\" x2=\"300.0\" y2=\"260.0\" stroke-linecap=\"round\" style=\"stroke:black;stroke-width:1\" /><line x1=\"300.0\" y1=\"260.0\" x2=\"300.0\" y2=\"200.0\" stroke-linecap=\"round\" style=\"stroke:black;stroke-width:1\" /><line x1=\"300.0\" y1=\"150.0\" x2=\"360.0\" y2=\"150.0\" stroke-linecap=\"round\" style=\"stroke:black;stroke-width:1\" /><line x1=\"360.0\" y1=\"150.0\" x2=\"360.0\" y2=\"210.0\" stroke-linecap=\"round\" style=\"stroke:black;stroke-width:1\" /><line x1=\"360.0\" y1=\"210.0\" x2=\"300.0\" y2=\"210.0\" stroke-linecap=\"round\" style=\"stroke:black;stroke-width:1\" /><line x1=\"300.0\" y1=\"210.0\" x2=\"300.0\" y2=\"150.0\" stroke-linecap=\"round\" style=\"stroke:black;stroke-width:1\" /><line x1=\"300.0\" y1=\"100.0\" x2=\"360.0\" y2=\"100.0\" stroke-linecap=\"round\" style=\"stroke:black;stroke-width:1\" /><line x1=\"360.0\" y1=\"100.0\" x2=\"360.0\" y2=\"160.0\" stroke-linecap=\"round\" style=\"stroke:black;stroke-width:1\" /><line x1=\"360.0\" y1=\"160.0\" x2=\"300.0\" y2=\"160.0\" stroke-linecap=\"round\" style=\"stroke:black;stroke-width:1\" /><line x1=\"300.0\" y1=\"160.0\" x2=\"300.0\" y2=\"100.0\" stroke-linecap=\"round\" style=\"stroke:black;stroke-width:1\" /><line x1=\"300.0\" y1=\"50.0\" x2=\"360.0\" y2=\"50.0\" stroke-linecap=\"round\" style=\"stroke:black;stroke-width:1\" /><line x1=\"360.0\" y1=\"50.0\" x2=\"360.0\" y2=\"110.0\" stroke-linecap=\"round\" style=\"stroke:black;stroke-width:1\" /><line x1=\"360.0\" y1=\"110.0\" x2=\"300.0\" y2=\"110.0\" stroke-linecap=\"round\" style=\"stroke:black;stroke-width:1\" /><line x1=\"300.0\" y1=\"110.0\" x2=\"300.0\" y2=\"50.0\" stroke-linecap=\"round\" style=\"stroke:black;stroke-width:1\" />\n",
              "        \n",
              "        \n",
              "        <g id=\"classic\" visibility=\"visible\" transform=\"rotate(180,300.0,0.0) translate(300.0, 0.0)\">\n",
              "<polygon points=\"-5,-4.5 0,-2.5 5,-4.5 0,4.5\" transform=\"skewX(0) scale(1,1)\" style=\"stroke:black;fill:black;stroke-width:1\" />\n",
              "<animateTransform id = \"one\" attributeName=\"transform\" \n",
              "                      type=\"scale\"\n",
              "                      from=\"1 1\" to=\"1 1\"\n",
              "                      begin=\"0s\" dur=\"0.01s\"\n",
              "                      repeatCount=\"1\"\n",
              "                      additive=\"sum\"\n",
              "                      fill=\"freeze\"\n",
              "                /><animateTransform attributeName=\"transform\"\n",
              "                    type=\"rotate\"\n",
              "                    from=\"0 0 0\" to =\"90 0 0\"\n",
              "                    begin=\"one.end\" dur=\"0.125s\"\n",
              "                    repeatCount=\"1\"\n",
              "                    additive=\"sum\"\n",
              "                    fill=\"freeze\"\n",
              "                /></g>\n",
              "      </svg>\n",
              "    "
            ]
          },
          "metadata": {}
        }
      ]
    },
    {
      "cell_type": "code",
      "source": [
        "# Exemplo 6: variando o tamanho do lado\n",
        "\n",
        "from ColabTurtlePlus.Turtle import *\n",
        "\n",
        "clearscreen()\n",
        "setup(600,400)\n",
        "bob = Turtle()\n",
        "bob.speed(6)\n",
        "\n",
        "def quadrado(lado):\n",
        "  for cont in range(4):\n",
        "    bob.forward(lado)\n",
        "    bob.right(90)\n",
        "\n",
        "tamanho = 20  # tamanho do menor quadrado\n",
        "for i in range(15):\n",
        "    quadrado(tamanho)\n",
        "    tamanho = tamanho + 10\n",
        "    bob.forward(10)\n",
        "    bob.right(18) "
      ],
      "metadata": {
        "id": "8y3S59YCfuXg",
        "colab": {
          "base_uri": "https://localhost:8080/",
          "height": 441
        },
        "outputId": "86eaafbc-82c0-4e7f-b4d5-731110e87453"
      },
      "execution_count": null,
      "outputs": [
        {
          "output_type": "display_data",
          "data": {
            "text/plain": [
              "<IPython.core.display.HTML object>"
            ],
            "text/html": [
              "\n",
              "      <svg width=\"600\" height=\"400\">  \n",
              "        <rect width=\"100%\" height=\"100%\" style=\"fill:white;stroke:;stroke-width:1\"/>\n",
              "        \n",
              "        \n",
              "        <line x1=\"300.0\" y1=\"200.0\" x2=\"320.0\" y2=\"200.0\" stroke-linecap=\"round\" style=\"stroke:black;stroke-width:1\" /><line x1=\"320.0\" y1=\"200.0\" x2=\"320.0\" y2=\"220.0\" stroke-linecap=\"round\" style=\"stroke:black;stroke-width:1\" /><line x1=\"320.0\" y1=\"220.0\" x2=\"300.0\" y2=\"220.0\" stroke-linecap=\"round\" style=\"stroke:black;stroke-width:1\" /><line x1=\"300.0\" y1=\"220.0\" x2=\"300.0\" y2=\"200.0\" stroke-linecap=\"round\" style=\"stroke:black;stroke-width:1\" /><line x1=\"300.0\" y1=\"200.0\" x2=\"310.0\" y2=\"200.0\" stroke-linecap=\"round\" style=\"stroke:black;stroke-width:1\" /><line x1=\"310.0\" y1=\"200.0\" x2=\"338.532\" y2=\"209.271\" stroke-linecap=\"round\" style=\"stroke:black;stroke-width:1\" /><line x1=\"338.532\" y1=\"209.271\" x2=\"329.261\" y2=\"237.803\" stroke-linecap=\"round\" style=\"stroke:black;stroke-width:1\" /><line x1=\"329.261\" y1=\"237.803\" x2=\"300.729\" y2=\"228.532\" stroke-linecap=\"round\" style=\"stroke:black;stroke-width:1\" /><line x1=\"300.729\" y1=\"228.532\" x2=\"310.0\" y2=\"200.0\" stroke-linecap=\"round\" style=\"stroke:black;stroke-width:1\" /><line x1=\"310.0\" y1=\"200.0\" x2=\"319.511\" y2=\"203.09\" stroke-linecap=\"round\" style=\"stroke:black;stroke-width:1\" /><line x1=\"319.511\" y1=\"203.09\" x2=\"351.872\" y2=\"226.601\" stroke-linecap=\"round\" style=\"stroke:black;stroke-width:1\" /><line x1=\"351.872\" y1=\"226.601\" x2=\"328.361\" y2=\"258.962\" stroke-linecap=\"round\" style=\"stroke:black;stroke-width:1\" /><line x1=\"328.361\" y1=\"258.962\" x2=\"296.0\" y2=\"235.451\" stroke-linecap=\"round\" style=\"stroke:black;stroke-width:1\" /><line x1=\"296.0\" y1=\"235.451\" x2=\"319.511\" y2=\"203.09\" stroke-linecap=\"round\" style=\"stroke:black;stroke-width:1\" /><line x1=\"319.511\" y1=\"203.09\" x2=\"327.601\" y2=\"208.968\" stroke-linecap=\"round\" style=\"stroke:black;stroke-width:1\" /><line x1=\"327.601\" y1=\"208.968\" x2=\"356.99\" y2=\"249.419\" stroke-linecap=\"round\" style=\"stroke:black;stroke-width:1\" /><line x1=\"356.99\" y1=\"249.419\" x2=\"316.539\" y2=\"278.808\" stroke-linecap=\"round\" style=\"stroke:black;stroke-width:1\" /><line x1=\"316.539\" y1=\"278.808\" x2=\"287.15\" y2=\"238.357\" stroke-linecap=\"round\" style=\"stroke:black;stroke-width:1\" /><line x1=\"287.15\" y1=\"238.357\" x2=\"327.601\" y2=\"208.968\" stroke-linecap=\"round\" style=\"stroke:black;stroke-width:1\" /><line x1=\"327.601\" y1=\"208.968\" x2=\"333.479\" y2=\"217.058\" stroke-linecap=\"round\" style=\"stroke:black;stroke-width:1\" /><line x1=\"333.479\" y1=\"217.058\" x2=\"352.02\" y2=\"274.121\" stroke-linecap=\"round\" style=\"stroke:black;stroke-width:1\" /><line x1=\"352.02\" y1=\"274.121\" x2=\"294.957\" y2=\"292.662\" stroke-linecap=\"round\" style=\"stroke:black;stroke-width:1\" /><line x1=\"294.957\" y1=\"292.662\" x2=\"276.416\" y2=\"235.599\" stroke-linecap=\"round\" style=\"stroke:black;stroke-width:1\" /><line x1=\"276.416\" y1=\"235.599\" x2=\"333.479\" y2=\"217.058\" stroke-linecap=\"round\" style=\"stroke:black;stroke-width:1\" /><line x1=\"333.479\" y1=\"217.058\" x2=\"336.569\" y2=\"226.569\" stroke-linecap=\"round\" style=\"stroke:black;stroke-width:1\" /><line x1=\"336.569\" y1=\"226.569\" x2=\"336.569\" y2=\"296.569\" stroke-linecap=\"round\" style=\"stroke:black;stroke-width:1\" /><line x1=\"336.569\" y1=\"296.569\" x2=\"266.569\" y2=\"296.569\" stroke-linecap=\"round\" style=\"stroke:black;stroke-width:1\" /><line x1=\"266.569\" y1=\"296.569\" x2=\"266.569\" y2=\"226.569\" stroke-linecap=\"round\" style=\"stroke:black;stroke-width:1\" /><line x1=\"266.569\" y1=\"226.569\" x2=\"336.569\" y2=\"226.569\" stroke-linecap=\"round\" style=\"stroke:black;stroke-width:1\" /><line x1=\"336.569\" y1=\"226.569\" x2=\"336.569\" y2=\"236.569\" stroke-linecap=\"round\" style=\"stroke:black;stroke-width:1\" /><line x1=\"336.569\" y1=\"236.569\" x2=\"311.848\" y2=\"312.654\" stroke-linecap=\"round\" style=\"stroke:black;stroke-width:1\" /><line x1=\"311.848\" y1=\"312.654\" x2=\"235.763\" y2=\"287.933\" stroke-linecap=\"round\" style=\"stroke:black;stroke-width:1\" /><line x1=\"235.763\" y1=\"287.933\" x2=\"260.484\" y2=\"211.848\" stroke-linecap=\"round\" style=\"stroke:black;stroke-width:1\" /><line x1=\"260.484\" y1=\"211.848\" x2=\"336.569\" y2=\"236.569\" stroke-linecap=\"round\" style=\"stroke:black;stroke-width:1\" /><line x1=\"336.569\" y1=\"236.569\" x2=\"333.479\" y2=\"246.08\" stroke-linecap=\"round\" style=\"stroke:black;stroke-width:1\" /><line x1=\"333.479\" y1=\"246.08\" x2=\"280.578\" y2=\"318.892\" stroke-linecap=\"round\" style=\"stroke:black;stroke-width:1\" /><line x1=\"280.578\" y1=\"318.892\" x2=\"207.766\" y2=\"265.991\" stroke-linecap=\"round\" style=\"stroke:black;stroke-width:1\" /><line x1=\"207.766\" y1=\"265.991\" x2=\"260.667\" y2=\"193.179\" stroke-linecap=\"round\" style=\"stroke:black;stroke-width:1\" /><line x1=\"260.667\" y1=\"193.179\" x2=\"333.479\" y2=\"246.08\" stroke-linecap=\"round\" style=\"stroke:black;stroke-width:1\" /><line x1=\"333.479\" y1=\"246.08\" x2=\"327.601\" y2=\"254.17\" stroke-linecap=\"round\" style=\"stroke:black;stroke-width:1\" /><line x1=\"327.601\" y1=\"254.17\" x2=\"246.699\" y2=\"312.949\" stroke-linecap=\"round\" style=\"stroke:black;stroke-width:1\" /><line x1=\"246.699\" y1=\"312.949\" x2=\"187.92\" y2=\"232.047\" stroke-linecap=\"round\" style=\"stroke:black;stroke-width:1\" /><line x1=\"187.92\" y1=\"232.047\" x2=\"268.822\" y2=\"173.268\" stroke-linecap=\"round\" style=\"stroke:black;stroke-width:1\" /><line x1=\"268.822\" y1=\"173.268\" x2=\"327.601\" y2=\"254.17\" stroke-linecap=\"round\" style=\"stroke:black;stroke-width:1\" /><line x1=\"327.601\" y1=\"254.17\" x2=\"319.511\" y2=\"260.048\" stroke-linecap=\"round\" style=\"stroke:black;stroke-width:1\" /><line x1=\"319.511\" y1=\"260.048\" x2=\"214.895\" y2=\"294.04\" stroke-linecap=\"round\" style=\"stroke:black;stroke-width:1\" /><line x1=\"214.895\" y1=\"294.04\" x2=\"180.903\" y2=\"189.424\" stroke-linecap=\"round\" style=\"stroke:black;stroke-width:1\" /><line x1=\"180.903\" y1=\"189.424\" x2=\"285.519\" y2=\"155.432\" stroke-linecap=\"round\" style=\"stroke:black;stroke-width:1\" /><line x1=\"285.519\" y1=\"155.432\" x2=\"319.511\" y2=\"260.048\" stroke-linecap=\"round\" style=\"stroke:black;stroke-width:1\" /><line x1=\"319.511\" y1=\"260.048\" x2=\"310.0\" y2=\"263.138\" stroke-linecap=\"round\" style=\"stroke:black;stroke-width:1\" /><line x1=\"310.0\" y1=\"263.138\" x2=\"190.0\" y2=\"263.138\" stroke-linecap=\"round\" style=\"stroke:black;stroke-width:1\" /><line x1=\"190.0\" y1=\"263.138\" x2=\"190.0\" y2=\"143.138\" stroke-linecap=\"round\" style=\"stroke:black;stroke-width:1\" /><line x1=\"190.0\" y1=\"143.138\" x2=\"310.0\" y2=\"143.138\" stroke-linecap=\"round\" style=\"stroke:black;stroke-width:1\" /><line x1=\"310.0\" y1=\"143.138\" x2=\"310.0\" y2=\"263.138\" stroke-linecap=\"round\" style=\"stroke:black;stroke-width:1\" /><line x1=\"310.0\" y1=\"263.138\" x2=\"300.0\" y2=\"263.138\" stroke-linecap=\"round\" style=\"stroke:black;stroke-width:1\" /><line x1=\"300.0\" y1=\"263.138\" x2=\"176.363\" y2=\"222.966\" stroke-linecap=\"round\" style=\"stroke:black;stroke-width:1\" /><line x1=\"176.363\" y1=\"222.966\" x2=\"216.535\" y2=\"99.329\" stroke-linecap=\"round\" style=\"stroke:black;stroke-width:1\" /><line x1=\"216.535\" y1=\"99.329\" x2=\"340.172\" y2=\"139.501\" stroke-linecap=\"round\" style=\"stroke:black;stroke-width:1\" /><line x1=\"340.172\" y1=\"139.501\" x2=\"300.0\" y2=\"263.138\" stroke-linecap=\"round\" style=\"stroke:black;stroke-width:1\" /><line x1=\"300.0\" y1=\"263.138\" x2=\"290.489\" y2=\"260.048\" stroke-linecap=\"round\" style=\"stroke:black;stroke-width:1\" /><line x1=\"290.489\" y1=\"260.048\" x2=\"177.227\" y2=\"177.758\" stroke-linecap=\"round\" style=\"stroke:black;stroke-width:1\" /><line x1=\"177.227\" y1=\"177.758\" x2=\"259.517\" y2=\"64.496\" stroke-linecap=\"round\" style=\"stroke:black;stroke-width:1\" /><line x1=\"259.517\" y1=\"64.496\" x2=\"372.779\" y2=\"146.786\" stroke-linecap=\"round\" style=\"stroke:black;stroke-width:1\" /><line x1=\"372.779\" y1=\"146.786\" x2=\"290.489\" y2=\"260.048\" stroke-linecap=\"round\" style=\"stroke:black;stroke-width:1\" /><line x1=\"290.489\" y1=\"260.048\" x2=\"282.399\" y2=\"254.17\" stroke-linecap=\"round\" style=\"stroke:black;stroke-width:1\" /><line x1=\"282.399\" y1=\"254.17\" x2=\"194.231\" y2=\"132.817\" stroke-linecap=\"round\" style=\"stroke:black;stroke-width:1\" /><line x1=\"194.231\" y1=\"132.817\" x2=\"315.584\" y2=\"44.649\" stroke-linecap=\"round\" style=\"stroke:black;stroke-width:1\" /><line x1=\"315.584\" y1=\"44.649\" x2=\"403.752\" y2=\"166.002\" stroke-linecap=\"round\" style=\"stroke:black;stroke-width:1\" /><line x1=\"403.752\" y1=\"166.002\" x2=\"282.399\" y2=\"254.17\" stroke-linecap=\"round\" style=\"stroke:black;stroke-width:1\" /><line x1=\"282.399\" y1=\"254.17\" x2=\"276.521\" y2=\"246.08\" stroke-linecap=\"round\" style=\"stroke:black;stroke-width:1\" /><line x1=\"276.521\" y1=\"246.08\" x2=\"227.078\" y2=\"93.911\" stroke-linecap=\"round\" style=\"stroke:black;stroke-width:1\" /><line x1=\"227.078\" y1=\"93.911\" x2=\"379.247\" y2=\"44.468\" stroke-linecap=\"round\" style=\"stroke:black;stroke-width:1\" /><line x1=\"379.247\" y1=\"44.468\" x2=\"428.69\" y2=\"196.637\" stroke-linecap=\"round\" style=\"stroke:black;stroke-width:1\" /><line x1=\"428.69\" y1=\"196.637\" x2=\"276.521\" y2=\"246.08\" stroke-linecap=\"round\" style=\"stroke:black;stroke-width:1\" /><line x1=\"276.521\" y1=\"246.08\" x2=\"273.431\" y2=\"236.569\" stroke-linecap=\"round\" style=\"stroke:black;stroke-width:1\" />\n",
              "        \n",
              "        \n",
              "        <g id=\"classic\" visibility=\"visible\" transform=\"rotate(162,273.431,236.569) translate(273.431, 236.569)\">\n",
              "<polygon points=\"-5,-4.5 0,-2.5 5,-4.5 0,4.5\" transform=\"skewX(0) scale(1,1)\" style=\"stroke:black;fill:black;stroke-width:1\" />\n",
              "<animateTransform id = \"one\" attributeName=\"transform\" \n",
              "                      type=\"scale\"\n",
              "                      from=\"1 1\" to=\"1 1\"\n",
              "                      begin=\"0s\" dur=\"0.01s\"\n",
              "                      repeatCount=\"1\"\n",
              "                      additive=\"sum\"\n",
              "                      fill=\"freeze\"\n",
              "                /><animateTransform attributeName=\"transform\"\n",
              "                    type=\"rotate\"\n",
              "                    from=\"0 0 0\" to =\"18 0 0\"\n",
              "                    begin=\"one.end\" dur=\"0.04s\"\n",
              "                    repeatCount=\"1\"\n",
              "                    additive=\"sum\"\n",
              "                    fill=\"freeze\"\n",
              "                /></g>\n",
              "      </svg>\n",
              "    "
            ]
          },
          "metadata": {}
        }
      ]
    },
    {
      "cell_type": "markdown",
      "source": [
        "## 2. Problemas com funções e parâmetros"
      ],
      "metadata": {
        "id": "4IwxSO1rdGWd"
      }
    },
    {
      "cell_type": "code",
      "source": [
        "# Exemplo 7: desenhando um círculo\n",
        "\n",
        "from ColabTurtlePlus.Turtle import *\n",
        "\n",
        "clearscreen()\n",
        "setup(600,400)\n",
        "bob = Turtle()\n",
        "bob.speed(13)\n",
        "for cont in range(18):\n",
        "  bob.forward(20)\n",
        "  bob.right(20)"
      ],
      "metadata": {
        "id": "r7VzEcaETZLk",
        "colab": {
          "base_uri": "https://localhost:8080/",
          "height": 441
        },
        "outputId": "f5b97aa7-5d2e-4700-9df9-671a57aad211"
      },
      "execution_count": null,
      "outputs": [
        {
          "output_type": "display_data",
          "data": {
            "text/plain": [
              "<IPython.core.display.HTML object>"
            ],
            "text/html": [
              "\n",
              "      <svg width=\"600\" height=\"400\">  \n",
              "        <rect width=\"100%\" height=\"100%\" style=\"fill:white;stroke:;stroke-width:1\"/>\n",
              "        \n",
              "        \n",
              "        <line x1=\"300.0\" y1=\"200.0\" x2=\"320.0\" y2=\"200.0\" stroke-linecap=\"round\" style=\"stroke:black;stroke-width:1\" /><line x1=\"320.0\" y1=\"200.0\" x2=\"338.794\" y2=\"206.84\" stroke-linecap=\"round\" style=\"stroke:black;stroke-width:1\" /><line x1=\"338.794\" y1=\"206.84\" x2=\"354.115\" y2=\"219.696\" stroke-linecap=\"round\" style=\"stroke:black;stroke-width:1\" /><line x1=\"354.115\" y1=\"219.696\" x2=\"364.115\" y2=\"237.017\" stroke-linecap=\"round\" style=\"stroke:black;stroke-width:1\" /><line x1=\"364.115\" y1=\"237.017\" x2=\"367.588\" y2=\"256.713\" stroke-linecap=\"round\" style=\"stroke:black;stroke-width:1\" /><line x1=\"367.588\" y1=\"256.713\" x2=\"364.115\" y2=\"276.409\" stroke-linecap=\"round\" style=\"stroke:black;stroke-width:1\" /><line x1=\"364.115\" y1=\"276.409\" x2=\"354.115\" y2=\"293.73\" stroke-linecap=\"round\" style=\"stroke:black;stroke-width:1\" /><line x1=\"354.115\" y1=\"293.73\" x2=\"338.794\" y2=\"306.586\" stroke-linecap=\"round\" style=\"stroke:black;stroke-width:1\" /><line x1=\"338.794\" y1=\"306.586\" x2=\"320.0\" y2=\"313.426\" stroke-linecap=\"round\" style=\"stroke:black;stroke-width:1\" /><line x1=\"320.0\" y1=\"313.426\" x2=\"300.0\" y2=\"313.426\" stroke-linecap=\"round\" style=\"stroke:black;stroke-width:1\" /><line x1=\"300.0\" y1=\"313.426\" x2=\"281.206\" y2=\"306.586\" stroke-linecap=\"round\" style=\"stroke:black;stroke-width:1\" /><line x1=\"281.206\" y1=\"306.586\" x2=\"265.885\" y2=\"293.73\" stroke-linecap=\"round\" style=\"stroke:black;stroke-width:1\" /><line x1=\"265.885\" y1=\"293.73\" x2=\"255.885\" y2=\"276.409\" stroke-linecap=\"round\" style=\"stroke:black;stroke-width:1\" /><line x1=\"255.885\" y1=\"276.409\" x2=\"252.412\" y2=\"256.713\" stroke-linecap=\"round\" style=\"stroke:black;stroke-width:1\" /><line x1=\"252.412\" y1=\"256.713\" x2=\"255.885\" y2=\"237.017\" stroke-linecap=\"round\" style=\"stroke:black;stroke-width:1\" /><line x1=\"255.885\" y1=\"237.017\" x2=\"265.885\" y2=\"219.696\" stroke-linecap=\"round\" style=\"stroke:black;stroke-width:1\" /><line x1=\"265.885\" y1=\"219.696\" x2=\"281.206\" y2=\"206.84\" stroke-linecap=\"round\" style=\"stroke:black;stroke-width:1\" /><line x1=\"281.206\" y1=\"206.84\" x2=\"300.0\" y2=\"200.0\" stroke-linecap=\"round\" style=\"stroke:black;stroke-width:1\" />\n",
              "        \n",
              "        \n",
              "        <g id=\"classic\" visibility=\"visible\" transform=\"rotate(250,300.0,200.0) translate(300.0, 200.0)\">\n",
              "<polygon points=\"-5,-4.5 0,-2.5 5,-4.5 0,4.5\" transform=\"skewX(0) scale(1,1)\" style=\"stroke:black;fill:black;stroke-width:1\" />\n",
              "<animateTransform id = \"one\" attributeName=\"transform\" \n",
              "                      type=\"scale\"\n",
              "                      from=\"1 1\" to=\"1 1\"\n",
              "                      begin=\"0s\" dur=\"0.01s\"\n",
              "                      repeatCount=\"1\"\n",
              "                      additive=\"sum\"\n",
              "                      fill=\"freeze\"\n",
              "                /><animateTransform attributeName=\"transform\"\n",
              "                    type=\"rotate\"\n",
              "                    from=\"0 0 0\" to =\"20 0 0\"\n",
              "                    begin=\"one.end\" dur=\"0.0011111111111111111s\"\n",
              "                    repeatCount=\"1\"\n",
              "                    additive=\"sum\"\n",
              "                    fill=\"freeze\"\n",
              "                /></g>\n",
              "      </svg>\n",
              "    "
            ]
          },
          "metadata": {}
        }
      ]
    },
    {
      "cell_type": "code",
      "source": [
        "# Exemplo 8: desenhando polígonos\n",
        "\n",
        "from ColabTurtlePlus.Turtle import *\n",
        "\n",
        "def poligono(tam, lados):\n",
        "  for lado in range(lados):\n",
        "    ang = 360/lados\n",
        "    bob.forward(tam)\n",
        "    bob.right(ang)\n",
        "\n",
        "clearscreen()\n",
        "setup(600,400)\n",
        "bob = Turtle()\n",
        "bob.speed(13)\n",
        "for lados in range(3,7):\n",
        "  poligono(50,lados)\n",
        "  bob.penup()\n",
        "  bob.forward(70)\n",
        "  bob.pendown()"
      ],
      "metadata": {
        "id": "-F6iIaDgP6Wl",
        "colab": {
          "base_uri": "https://localhost:8080/",
          "height": 441
        },
        "outputId": "3519a2e5-efe7-4675-eb3b-53fc6063ab72"
      },
      "execution_count": null,
      "outputs": [
        {
          "output_type": "display_data",
          "data": {
            "text/plain": [
              "<IPython.core.display.HTML object>"
            ],
            "text/html": [
              "\n",
              "      <svg width=\"600\" height=\"400\">  \n",
              "        <rect width=\"100%\" height=\"100%\" style=\"fill:white;stroke:;stroke-width:1\"/>\n",
              "        \n",
              "        \n",
              "        <line x1=\"300.0\" y1=\"200.0\" x2=\"350.0\" y2=\"200.0\" stroke-linecap=\"round\" style=\"stroke:black;stroke-width:1\" /><line x1=\"350.0\" y1=\"200.0\" x2=\"325.0\" y2=\"243.301\" stroke-linecap=\"round\" style=\"stroke:black;stroke-width:1\" /><line x1=\"325.0\" y1=\"243.301\" x2=\"300.0\" y2=\"200.0\" stroke-linecap=\"round\" style=\"stroke:black;stroke-width:1\" /><line x1=\"370.0\" y1=\"200.0\" x2=\"420.0\" y2=\"200.0\" stroke-linecap=\"round\" style=\"stroke:black;stroke-width:1\" /><line x1=\"420.0\" y1=\"200.0\" x2=\"420.0\" y2=\"250.0\" stroke-linecap=\"round\" style=\"stroke:black;stroke-width:1\" /><line x1=\"420.0\" y1=\"250.0\" x2=\"370.0\" y2=\"250.0\" stroke-linecap=\"round\" style=\"stroke:black;stroke-width:1\" /><line x1=\"370.0\" y1=\"250.0\" x2=\"370.0\" y2=\"200.0\" stroke-linecap=\"round\" style=\"stroke:black;stroke-width:1\" /><line x1=\"440.0\" y1=\"200.0\" x2=\"490.0\" y2=\"200.0\" stroke-linecap=\"round\" style=\"stroke:black;stroke-width:1\" /><line x1=\"490.0\" y1=\"200.0\" x2=\"505.451\" y2=\"247.553\" stroke-linecap=\"round\" style=\"stroke:black;stroke-width:1\" /><line x1=\"505.451\" y1=\"247.553\" x2=\"465.0\" y2=\"276.942\" stroke-linecap=\"round\" style=\"stroke:black;stroke-width:1\" /><line x1=\"465.0\" y1=\"276.942\" x2=\"424.549\" y2=\"247.553\" stroke-linecap=\"round\" style=\"stroke:black;stroke-width:1\" /><line x1=\"424.549\" y1=\"247.553\" x2=\"440.0\" y2=\"200.0\" stroke-linecap=\"round\" style=\"stroke:black;stroke-width:1\" /><line x1=\"510.0\" y1=\"200.0\" x2=\"560.0\" y2=\"200.0\" stroke-linecap=\"round\" style=\"stroke:black;stroke-width:1\" /><line x1=\"560.0\" y1=\"200.0\" x2=\"585.0\" y2=\"243.301\" stroke-linecap=\"round\" style=\"stroke:black;stroke-width:1\" /><line x1=\"585.0\" y1=\"243.301\" x2=\"560.0\" y2=\"286.602\" stroke-linecap=\"round\" style=\"stroke:black;stroke-width:1\" /><line x1=\"560.0\" y1=\"286.602\" x2=\"510.0\" y2=\"286.602\" stroke-linecap=\"round\" style=\"stroke:black;stroke-width:1\" /><line x1=\"510.0\" y1=\"286.602\" x2=\"485.0\" y2=\"243.301\" stroke-linecap=\"round\" style=\"stroke:black;stroke-width:1\" /><line x1=\"485.0\" y1=\"243.301\" x2=\"510.0\" y2=\"200.0\" stroke-linecap=\"round\" style=\"stroke:black;stroke-width:1\" />\n",
              "        \n",
              "        \n",
              "        <g id=\"classic\" visibility=\"visible\" transform=\"rotate(-90.0,580.0,200.0) translate(580.0, 200.0)\">\n",
              "<polygon points=\"-5,-4.5 0,-2.5 5,-4.5 0,4.5\" transform=\"skewX(0) scale(1,1)\" style=\"stroke:black;fill:black;stroke-width:1\" />\n",
              "</g>\n",
              "      </svg>\n",
              "    "
            ]
          },
          "metadata": {}
        }
      ]
    },
    {
      "cell_type": "code",
      "source": [
        "# Exemplo 9: utilizando funções dentro de outras funções\n",
        "\n",
        "from ColabTurtlePlus.Turtle import *\n",
        "\n",
        "def retangulo(tamHoriz, tamVert):\n",
        "  for lado in range(2):\n",
        "    bob.forward(tamHoriz)\n",
        "    bob.right(90)\n",
        "    bob.forward(tamVert)\n",
        "    bob.right(90)\n",
        "\n",
        "def quadrado(tam):\n",
        "  retangulo(tam,tam)\n",
        "\n",
        "def poligono(tam, lados):\n",
        "  for lado in range(lados):\n",
        "    ang = 360/lados\n",
        "    bob.forward(tam)\n",
        "    bob.right(ang)\n",
        "\n",
        "def casa():\n",
        "  quadrado(50)\n",
        "  bob.forward(50)\n",
        "  bob.right(180)\n",
        "  poligono(50,3)\n",
        "  bob.penup()\n",
        "  bob.forward(25)\n",
        "  bob.left(90)\n",
        "  bob.forward(50)\n",
        "  bob.pendown()\n",
        "  bob.right(90)\n",
        "  retangulo(15,20)\n",
        "\n",
        "clearscreen()\n",
        "setup(600,400)\n",
        "bob = Turtle()\n",
        "bob.speed(13)\n",
        "casa()"
      ],
      "metadata": {
        "id": "fXSezx-8eVh1",
        "colab": {
          "base_uri": "https://localhost:8080/",
          "height": 441
        },
        "outputId": "4443633c-20e2-4033-d416-b612744a0bec"
      },
      "execution_count": null,
      "outputs": [
        {
          "output_type": "display_data",
          "data": {
            "text/plain": [
              "<IPython.core.display.HTML object>"
            ],
            "text/html": [
              "\n",
              "      <svg width=\"600\" height=\"400\">  \n",
              "        <rect width=\"100%\" height=\"100%\" style=\"fill:white;stroke:;stroke-width:1\"/>\n",
              "        \n",
              "        \n",
              "        <line x1=\"300.0\" y1=\"200.0\" x2=\"350.0\" y2=\"200.0\" stroke-linecap=\"round\" style=\"stroke:black;stroke-width:1\" /><line x1=\"350.0\" y1=\"200.0\" x2=\"350.0\" y2=\"250.0\" stroke-linecap=\"round\" style=\"stroke:black;stroke-width:1\" /><line x1=\"350.0\" y1=\"250.0\" x2=\"300.0\" y2=\"250.0\" stroke-linecap=\"round\" style=\"stroke:black;stroke-width:1\" /><line x1=\"300.0\" y1=\"250.0\" x2=\"300.0\" y2=\"200.0\" stroke-linecap=\"round\" style=\"stroke:black;stroke-width:1\" /><line x1=\"300.0\" y1=\"200.0\" x2=\"350.0\" y2=\"200.0\" stroke-linecap=\"round\" style=\"stroke:black;stroke-width:1\" /><line x1=\"350.0\" y1=\"200.0\" x2=\"300.0\" y2=\"200.0\" stroke-linecap=\"round\" style=\"stroke:black;stroke-width:1\" /><line x1=\"300.0\" y1=\"200.0\" x2=\"325.0\" y2=\"156.699\" stroke-linecap=\"round\" style=\"stroke:black;stroke-width:1\" /><line x1=\"325.0\" y1=\"156.699\" x2=\"350.0\" y2=\"200.0\" stroke-linecap=\"round\" style=\"stroke:black;stroke-width:1\" /><line x1=\"325.0\" y1=\"250.0\" x2=\"310.0\" y2=\"250.0\" stroke-linecap=\"round\" style=\"stroke:black;stroke-width:1\" /><line x1=\"310.0\" y1=\"250.0\" x2=\"310.0\" y2=\"230.0\" stroke-linecap=\"round\" style=\"stroke:black;stroke-width:1\" /><line x1=\"310.0\" y1=\"230.0\" x2=\"325.0\" y2=\"230.0\" stroke-linecap=\"round\" style=\"stroke:black;stroke-width:1\" /><line x1=\"325.0\" y1=\"230.0\" x2=\"325.0\" y2=\"250.0\" stroke-linecap=\"round\" style=\"stroke:black;stroke-width:1\" />\n",
              "        \n",
              "        \n",
              "        <g id=\"classic\" visibility=\"visible\" transform=\"rotate(0.0,325.0,250.0) translate(325.0, 250.0)\">\n",
              "<polygon points=\"-5,-4.5 0,-2.5 5,-4.5 0,4.5\" transform=\"skewX(0) scale(1,1)\" style=\"stroke:black;fill:black;stroke-width:1\" />\n",
              "<animateTransform id = \"one\" attributeName=\"transform\" \n",
              "                      type=\"scale\"\n",
              "                      from=\"1 1\" to=\"1 1\"\n",
              "                      begin=\"0s\" dur=\"0.01s\"\n",
              "                      repeatCount=\"1\"\n",
              "                      additive=\"sum\"\n",
              "                      fill=\"freeze\"\n",
              "                /><animateTransform attributeName=\"transform\"\n",
              "                    type=\"rotate\"\n",
              "                    from=\"0 0 0\" to =\"90 0 0\"\n",
              "                    begin=\"one.end\" dur=\"0.005s\"\n",
              "                    repeatCount=\"1\"\n",
              "                    additive=\"sum\"\n",
              "                    fill=\"freeze\"\n",
              "                /></g>\n",
              "      </svg>\n",
              "    "
            ]
          },
          "metadata": {}
        }
      ]
    },
    {
      "cell_type": "code",
      "source": [
        "# Exemplo 10: reutilizando a função casa\n",
        "\n",
        "clearscreen()\n",
        "setup(600,400)\n",
        "bob = Turtle()\n",
        "bob.speed(13)\n",
        "for x in range(-300,250,70):\n",
        "  bob.penup()\n",
        "  bob.setposition(x,0)\n",
        "  bob.setheading(0)\n",
        "  bob.pendown()\n",
        "  casa()"
      ],
      "metadata": {
        "id": "o43qoujO9Sx4",
        "colab": {
          "base_uri": "https://localhost:8080/",
          "height": 441
        },
        "outputId": "fa4794b0-2267-4032-b2bc-ee797e39f4de"
      },
      "execution_count": null,
      "outputs": [
        {
          "output_type": "display_data",
          "data": {
            "text/plain": [
              "<IPython.core.display.HTML object>"
            ],
            "text/html": [
              "\n",
              "      <svg width=\"600\" height=\"400\">  \n",
              "        <rect width=\"100%\" height=\"100%\" style=\"fill:white;stroke:;stroke-width:1\"/>\n",
              "        \n",
              "        \n",
              "        <line x1=\"0.0\" y1=\"200.0\" x2=\"50.0\" y2=\"200.0\" stroke-linecap=\"round\" style=\"stroke:black;stroke-width:1\" /><line x1=\"50.0\" y1=\"200.0\" x2=\"50.0\" y2=\"250.0\" stroke-linecap=\"round\" style=\"stroke:black;stroke-width:1\" /><line x1=\"50.0\" y1=\"250.0\" x2=\"0.0\" y2=\"250.0\" stroke-linecap=\"round\" style=\"stroke:black;stroke-width:1\" /><line x1=\"0.0\" y1=\"250.0\" x2=\"-0.0\" y2=\"200.0\" stroke-linecap=\"round\" style=\"stroke:black;stroke-width:1\" /><line x1=\"-0.0\" y1=\"200.0\" x2=\"50.0\" y2=\"200.0\" stroke-linecap=\"round\" style=\"stroke:black;stroke-width:1\" /><line x1=\"50.0\" y1=\"200.0\" x2=\"0.0\" y2=\"200.0\" stroke-linecap=\"round\" style=\"stroke:black;stroke-width:1\" /><line x1=\"0.0\" y1=\"200.0\" x2=\"25.0\" y2=\"156.699\" stroke-linecap=\"round\" style=\"stroke:black;stroke-width:1\" /><line x1=\"25.0\" y1=\"156.699\" x2=\"50.0\" y2=\"200.0\" stroke-linecap=\"round\" style=\"stroke:black;stroke-width:1\" /><line x1=\"25.0\" y1=\"250.0\" x2=\"10.0\" y2=\"250.0\" stroke-linecap=\"round\" style=\"stroke:black;stroke-width:1\" /><line x1=\"10.0\" y1=\"250.0\" x2=\"10.0\" y2=\"230.0\" stroke-linecap=\"round\" style=\"stroke:black;stroke-width:1\" /><line x1=\"10.0\" y1=\"230.0\" x2=\"25.0\" y2=\"230.0\" stroke-linecap=\"round\" style=\"stroke:black;stroke-width:1\" /><line x1=\"25.0\" y1=\"230.0\" x2=\"25.0\" y2=\"250.0\" stroke-linecap=\"round\" style=\"stroke:black;stroke-width:1\" /><line x1=\"70.0\" y1=\"200.0\" x2=\"120.0\" y2=\"200.0\" stroke-linecap=\"round\" style=\"stroke:black;stroke-width:1\" /><line x1=\"120.0\" y1=\"200.0\" x2=\"120.0\" y2=\"250.0\" stroke-linecap=\"round\" style=\"stroke:black;stroke-width:1\" /><line x1=\"120.0\" y1=\"250.0\" x2=\"70.0\" y2=\"250.0\" stroke-linecap=\"round\" style=\"stroke:black;stroke-width:1\" /><line x1=\"70.0\" y1=\"250.0\" x2=\"70.0\" y2=\"200.0\" stroke-linecap=\"round\" style=\"stroke:black;stroke-width:1\" /><line x1=\"70.0\" y1=\"200.0\" x2=\"120.0\" y2=\"200.0\" stroke-linecap=\"round\" style=\"stroke:black;stroke-width:1\" /><line x1=\"120.0\" y1=\"200.0\" x2=\"70.0\" y2=\"200.0\" stroke-linecap=\"round\" style=\"stroke:black;stroke-width:1\" /><line x1=\"70.0\" y1=\"200.0\" x2=\"95.0\" y2=\"156.699\" stroke-linecap=\"round\" style=\"stroke:black;stroke-width:1\" /><line x1=\"95.0\" y1=\"156.699\" x2=\"120.0\" y2=\"200.0\" stroke-linecap=\"round\" style=\"stroke:black;stroke-width:1\" /><line x1=\"95.0\" y1=\"250.0\" x2=\"80.0\" y2=\"250.0\" stroke-linecap=\"round\" style=\"stroke:black;stroke-width:1\" /><line x1=\"80.0\" y1=\"250.0\" x2=\"80.0\" y2=\"230.0\" stroke-linecap=\"round\" style=\"stroke:black;stroke-width:1\" /><line x1=\"80.0\" y1=\"230.0\" x2=\"95.0\" y2=\"230.0\" stroke-linecap=\"round\" style=\"stroke:black;stroke-width:1\" /><line x1=\"95.0\" y1=\"230.0\" x2=\"95.0\" y2=\"250.0\" stroke-linecap=\"round\" style=\"stroke:black;stroke-width:1\" /><line x1=\"140.0\" y1=\"200.0\" x2=\"190.0\" y2=\"200.0\" stroke-linecap=\"round\" style=\"stroke:black;stroke-width:1\" /><line x1=\"190.0\" y1=\"200.0\" x2=\"190.0\" y2=\"250.0\" stroke-linecap=\"round\" style=\"stroke:black;stroke-width:1\" /><line x1=\"190.0\" y1=\"250.0\" x2=\"140.0\" y2=\"250.0\" stroke-linecap=\"round\" style=\"stroke:black;stroke-width:1\" /><line x1=\"140.0\" y1=\"250.0\" x2=\"140.0\" y2=\"200.0\" stroke-linecap=\"round\" style=\"stroke:black;stroke-width:1\" /><line x1=\"140.0\" y1=\"200.0\" x2=\"190.0\" y2=\"200.0\" stroke-linecap=\"round\" style=\"stroke:black;stroke-width:1\" /><line x1=\"190.0\" y1=\"200.0\" x2=\"140.0\" y2=\"200.0\" stroke-linecap=\"round\" style=\"stroke:black;stroke-width:1\" /><line x1=\"140.0\" y1=\"200.0\" x2=\"165.0\" y2=\"156.699\" stroke-linecap=\"round\" style=\"stroke:black;stroke-width:1\" /><line x1=\"165.0\" y1=\"156.699\" x2=\"190.0\" y2=\"200.0\" stroke-linecap=\"round\" style=\"stroke:black;stroke-width:1\" /><line x1=\"165.0\" y1=\"250.0\" x2=\"150.0\" y2=\"250.0\" stroke-linecap=\"round\" style=\"stroke:black;stroke-width:1\" /><line x1=\"150.0\" y1=\"250.0\" x2=\"150.0\" y2=\"230.0\" stroke-linecap=\"round\" style=\"stroke:black;stroke-width:1\" /><line x1=\"150.0\" y1=\"230.0\" x2=\"165.0\" y2=\"230.0\" stroke-linecap=\"round\" style=\"stroke:black;stroke-width:1\" /><line x1=\"165.0\" y1=\"230.0\" x2=\"165.0\" y2=\"250.0\" stroke-linecap=\"round\" style=\"stroke:black;stroke-width:1\" /><line x1=\"210.0\" y1=\"200.0\" x2=\"260.0\" y2=\"200.0\" stroke-linecap=\"round\" style=\"stroke:black;stroke-width:1\" /><line x1=\"260.0\" y1=\"200.0\" x2=\"260.0\" y2=\"250.0\" stroke-linecap=\"round\" style=\"stroke:black;stroke-width:1\" /><line x1=\"260.0\" y1=\"250.0\" x2=\"210.0\" y2=\"250.0\" stroke-linecap=\"round\" style=\"stroke:black;stroke-width:1\" /><line x1=\"210.0\" y1=\"250.0\" x2=\"210.0\" y2=\"200.0\" stroke-linecap=\"round\" style=\"stroke:black;stroke-width:1\" /><line x1=\"210.0\" y1=\"200.0\" x2=\"260.0\" y2=\"200.0\" stroke-linecap=\"round\" style=\"stroke:black;stroke-width:1\" /><line x1=\"260.0\" y1=\"200.0\" x2=\"210.0\" y2=\"200.0\" stroke-linecap=\"round\" style=\"stroke:black;stroke-width:1\" /><line x1=\"210.0\" y1=\"200.0\" x2=\"235.0\" y2=\"156.699\" stroke-linecap=\"round\" style=\"stroke:black;stroke-width:1\" /><line x1=\"235.0\" y1=\"156.699\" x2=\"260.0\" y2=\"200.0\" stroke-linecap=\"round\" style=\"stroke:black;stroke-width:1\" /><line x1=\"235.0\" y1=\"250.0\" x2=\"220.0\" y2=\"250.0\" stroke-linecap=\"round\" style=\"stroke:black;stroke-width:1\" /><line x1=\"220.0\" y1=\"250.0\" x2=\"220.0\" y2=\"230.0\" stroke-linecap=\"round\" style=\"stroke:black;stroke-width:1\" /><line x1=\"220.0\" y1=\"230.0\" x2=\"235.0\" y2=\"230.0\" stroke-linecap=\"round\" style=\"stroke:black;stroke-width:1\" /><line x1=\"235.0\" y1=\"230.0\" x2=\"235.0\" y2=\"250.0\" stroke-linecap=\"round\" style=\"stroke:black;stroke-width:1\" /><line x1=\"280.0\" y1=\"200.0\" x2=\"330.0\" y2=\"200.0\" stroke-linecap=\"round\" style=\"stroke:black;stroke-width:1\" /><line x1=\"330.0\" y1=\"200.0\" x2=\"330.0\" y2=\"250.0\" stroke-linecap=\"round\" style=\"stroke:black;stroke-width:1\" /><line x1=\"330.0\" y1=\"250.0\" x2=\"280.0\" y2=\"250.0\" stroke-linecap=\"round\" style=\"stroke:black;stroke-width:1\" /><line x1=\"280.0\" y1=\"250.0\" x2=\"280.0\" y2=\"200.0\" stroke-linecap=\"round\" style=\"stroke:black;stroke-width:1\" /><line x1=\"280.0\" y1=\"200.0\" x2=\"330.0\" y2=\"200.0\" stroke-linecap=\"round\" style=\"stroke:black;stroke-width:1\" /><line x1=\"330.0\" y1=\"200.0\" x2=\"280.0\" y2=\"200.0\" stroke-linecap=\"round\" style=\"stroke:black;stroke-width:1\" /><line x1=\"280.0\" y1=\"200.0\" x2=\"305.0\" y2=\"156.699\" stroke-linecap=\"round\" style=\"stroke:black;stroke-width:1\" /><line x1=\"305.0\" y1=\"156.699\" x2=\"330.0\" y2=\"200.0\" stroke-linecap=\"round\" style=\"stroke:black;stroke-width:1\" /><line x1=\"305.0\" y1=\"250.0\" x2=\"290.0\" y2=\"250.0\" stroke-linecap=\"round\" style=\"stroke:black;stroke-width:1\" /><line x1=\"290.0\" y1=\"250.0\" x2=\"290.0\" y2=\"230.0\" stroke-linecap=\"round\" style=\"stroke:black;stroke-width:1\" /><line x1=\"290.0\" y1=\"230.0\" x2=\"305.0\" y2=\"230.0\" stroke-linecap=\"round\" style=\"stroke:black;stroke-width:1\" /><line x1=\"305.0\" y1=\"230.0\" x2=\"305.0\" y2=\"250.0\" stroke-linecap=\"round\" style=\"stroke:black;stroke-width:1\" /><line x1=\"350.0\" y1=\"200.0\" x2=\"400.0\" y2=\"200.0\" stroke-linecap=\"round\" style=\"stroke:black;stroke-width:1\" /><line x1=\"400.0\" y1=\"200.0\" x2=\"400.0\" y2=\"250.0\" stroke-linecap=\"round\" style=\"stroke:black;stroke-width:1\" /><line x1=\"400.0\" y1=\"250.0\" x2=\"350.0\" y2=\"250.0\" stroke-linecap=\"round\" style=\"stroke:black;stroke-width:1\" /><line x1=\"350.0\" y1=\"250.0\" x2=\"350.0\" y2=\"200.0\" stroke-linecap=\"round\" style=\"stroke:black;stroke-width:1\" /><line x1=\"350.0\" y1=\"200.0\" x2=\"400.0\" y2=\"200.0\" stroke-linecap=\"round\" style=\"stroke:black;stroke-width:1\" /><line x1=\"400.0\" y1=\"200.0\" x2=\"350.0\" y2=\"200.0\" stroke-linecap=\"round\" style=\"stroke:black;stroke-width:1\" /><line x1=\"350.0\" y1=\"200.0\" x2=\"375.0\" y2=\"156.699\" stroke-linecap=\"round\" style=\"stroke:black;stroke-width:1\" /><line x1=\"375.0\" y1=\"156.699\" x2=\"400.0\" y2=\"200.0\" stroke-linecap=\"round\" style=\"stroke:black;stroke-width:1\" /><line x1=\"375.0\" y1=\"250.0\" x2=\"360.0\" y2=\"250.0\" stroke-linecap=\"round\" style=\"stroke:black;stroke-width:1\" /><line x1=\"360.0\" y1=\"250.0\" x2=\"360.0\" y2=\"230.0\" stroke-linecap=\"round\" style=\"stroke:black;stroke-width:1\" /><line x1=\"360.0\" y1=\"230.0\" x2=\"375.0\" y2=\"230.0\" stroke-linecap=\"round\" style=\"stroke:black;stroke-width:1\" /><line x1=\"375.0\" y1=\"230.0\" x2=\"375.0\" y2=\"250.0\" stroke-linecap=\"round\" style=\"stroke:black;stroke-width:1\" /><line x1=\"420.0\" y1=\"200.0\" x2=\"470.0\" y2=\"200.0\" stroke-linecap=\"round\" style=\"stroke:black;stroke-width:1\" /><line x1=\"470.0\" y1=\"200.0\" x2=\"470.0\" y2=\"250.0\" stroke-linecap=\"round\" style=\"stroke:black;stroke-width:1\" /><line x1=\"470.0\" y1=\"250.0\" x2=\"420.0\" y2=\"250.0\" stroke-linecap=\"round\" style=\"stroke:black;stroke-width:1\" /><line x1=\"420.0\" y1=\"250.0\" x2=\"420.0\" y2=\"200.0\" stroke-linecap=\"round\" style=\"stroke:black;stroke-width:1\" /><line x1=\"420.0\" y1=\"200.0\" x2=\"470.0\" y2=\"200.0\" stroke-linecap=\"round\" style=\"stroke:black;stroke-width:1\" /><line x1=\"470.0\" y1=\"200.0\" x2=\"420.0\" y2=\"200.0\" stroke-linecap=\"round\" style=\"stroke:black;stroke-width:1\" /><line x1=\"420.0\" y1=\"200.0\" x2=\"445.0\" y2=\"156.699\" stroke-linecap=\"round\" style=\"stroke:black;stroke-width:1\" /><line x1=\"445.0\" y1=\"156.699\" x2=\"470.0\" y2=\"200.0\" stroke-linecap=\"round\" style=\"stroke:black;stroke-width:1\" /><line x1=\"445.0\" y1=\"250.0\" x2=\"430.0\" y2=\"250.0\" stroke-linecap=\"round\" style=\"stroke:black;stroke-width:1\" /><line x1=\"430.0\" y1=\"250.0\" x2=\"430.0\" y2=\"230.0\" stroke-linecap=\"round\" style=\"stroke:black;stroke-width:1\" /><line x1=\"430.0\" y1=\"230.0\" x2=\"445.0\" y2=\"230.0\" stroke-linecap=\"round\" style=\"stroke:black;stroke-width:1\" /><line x1=\"445.0\" y1=\"230.0\" x2=\"445.0\" y2=\"250.0\" stroke-linecap=\"round\" style=\"stroke:black;stroke-width:1\" /><line x1=\"490.0\" y1=\"200.0\" x2=\"540.0\" y2=\"200.0\" stroke-linecap=\"round\" style=\"stroke:black;stroke-width:1\" /><line x1=\"540.0\" y1=\"200.0\" x2=\"540.0\" y2=\"250.0\" stroke-linecap=\"round\" style=\"stroke:black;stroke-width:1\" /><line x1=\"540.0\" y1=\"250.0\" x2=\"490.0\" y2=\"250.0\" stroke-linecap=\"round\" style=\"stroke:black;stroke-width:1\" /><line x1=\"490.0\" y1=\"250.0\" x2=\"490.0\" y2=\"200.0\" stroke-linecap=\"round\" style=\"stroke:black;stroke-width:1\" /><line x1=\"490.0\" y1=\"200.0\" x2=\"540.0\" y2=\"200.0\" stroke-linecap=\"round\" style=\"stroke:black;stroke-width:1\" /><line x1=\"540.0\" y1=\"200.0\" x2=\"490.0\" y2=\"200.0\" stroke-linecap=\"round\" style=\"stroke:black;stroke-width:1\" /><line x1=\"490.0\" y1=\"200.0\" x2=\"515.0\" y2=\"156.699\" stroke-linecap=\"round\" style=\"stroke:black;stroke-width:1\" /><line x1=\"515.0\" y1=\"156.699\" x2=\"540.0\" y2=\"200.0\" stroke-linecap=\"round\" style=\"stroke:black;stroke-width:1\" /><line x1=\"515.0\" y1=\"250.0\" x2=\"500.0\" y2=\"250.0\" stroke-linecap=\"round\" style=\"stroke:black;stroke-width:1\" /><line x1=\"500.0\" y1=\"250.0\" x2=\"500.0\" y2=\"230.0\" stroke-linecap=\"round\" style=\"stroke:black;stroke-width:1\" /><line x1=\"500.0\" y1=\"230.0\" x2=\"515.0\" y2=\"230.0\" stroke-linecap=\"round\" style=\"stroke:black;stroke-width:1\" /><line x1=\"515.0\" y1=\"230.0\" x2=\"515.0\" y2=\"250.0\" stroke-linecap=\"round\" style=\"stroke:black;stroke-width:1\" />\n",
              "        \n",
              "        \n",
              "        <g id=\"classic\" visibility=\"visible\" transform=\"rotate(0.0,515.0,250.0) translate(515.0, 250.0)\">\n",
              "<polygon points=\"-5,-4.5 0,-2.5 5,-4.5 0,4.5\" transform=\"skewX(0) scale(1,1)\" style=\"stroke:black;fill:black;stroke-width:1\" />\n",
              "<animateTransform id = \"one\" attributeName=\"transform\" \n",
              "                      type=\"scale\"\n",
              "                      from=\"1 1\" to=\"1 1\"\n",
              "                      begin=\"0s\" dur=\"0.01s\"\n",
              "                      repeatCount=\"1\"\n",
              "                      additive=\"sum\"\n",
              "                      fill=\"freeze\"\n",
              "                /><animateTransform attributeName=\"transform\"\n",
              "                    type=\"rotate\"\n",
              "                    from=\"0 0 0\" to =\"90 0 0\"\n",
              "                    begin=\"one.end\" dur=\"0.005s\"\n",
              "                    repeatCount=\"1\"\n",
              "                    additive=\"sum\"\n",
              "                    fill=\"freeze\"\n",
              "                /></g>\n",
              "      </svg>\n",
              "    "
            ]
          },
          "metadata": {}
        }
      ]
    },
    {
      "cell_type": "code",
      "source": [
        "# Exemplo 11: desenhando uma espiral\n",
        "\n",
        "from ColabTurtlePlus.Turtle import *\n",
        "\n",
        "def espiral(total):\n",
        "  for cont in range(120):\n",
        "    dist = 2+cont/4\n",
        "    ang = 30-cont/12\n",
        "    bob.forward(dist)\n",
        "    bob.left(ang)\n",
        "\n",
        "clearscreen()\n",
        "setup(600,400)\n",
        "bob = Turtle()\n",
        "bob.speed(13)\n",
        "\n",
        "espiral(120)"
      ],
      "metadata": {
        "id": "pgc_fYg0b7Be",
        "colab": {
          "base_uri": "https://localhost:8080/",
          "height": 441
        },
        "outputId": "347ed75b-64ce-4993-f0b9-b94f774afeba"
      },
      "execution_count": null,
      "outputs": [
        {
          "output_type": "display_data",
          "data": {
            "text/plain": [
              "<IPython.core.display.HTML object>"
            ],
            "text/html": [
              "\n",
              "      <svg width=\"600\" height=\"400\">  \n",
              "        <rect width=\"100%\" height=\"100%\" style=\"fill:white;stroke:;stroke-width:1\"/>\n",
              "        \n",
              "        \n",
              "        <line x1=\"300.0\" y1=\"200.0\" x2=\"302.0\" y2=\"200.0\" stroke-linecap=\"round\" style=\"stroke:black;stroke-width:1\" /><line x1=\"302.0\" y1=\"200.0\" x2=\"303.949\" y2=\"198.875\" stroke-linecap=\"round\" style=\"stroke:black;stroke-width:1\" /><line x1=\"303.949\" y1=\"198.875\" x2=\"305.202\" y2=\"196.712\" stroke-linecap=\"round\" style=\"stroke:black;stroke-width:1\" /><line x1=\"305.202\" y1=\"196.712\" x2=\"305.214\" y2=\"193.962\" stroke-linecap=\"round\" style=\"stroke:black;stroke-width:1\" /><line x1=\"305.214\" y1=\"193.962\" x2=\"303.737\" y2=\"191.351\" stroke-linecap=\"round\" style=\"stroke:black;stroke-width:1\" /><line x1=\"303.737\" y1=\"191.351\" x2=\"300.946\" y2=\"189.685\" stroke-linecap=\"round\" style=\"stroke:black;stroke-width:1\" /><line x1=\"300.946\" y1=\"189.685\" x2=\"297.447\" y2=\"189.609\" stroke-linecap=\"round\" style=\"stroke:black;stroke-width:1\" /><line x1=\"297.447\" y1=\"189.609\" x2=\"294.144\" y2=\"191.384\" stroke-linecap=\"round\" style=\"stroke:black;stroke-width:1\" /><line x1=\"294.144\" y1=\"191.384\" x2=\"292.005\" y2=\"194.764\" stroke-linecap=\"round\" style=\"stroke:black;stroke-width:1\" /><line x1=\"292.005\" y1=\"194.764\" x2=\"291.783\" y2=\"199.008\" stroke-linecap=\"round\" style=\"stroke:black;stroke-width:1\" /><line x1=\"291.783\" y1=\"199.008\" x2=\"293.773\" y2=\"203.044\" stroke-linecap=\"round\" style=\"stroke:black;stroke-width:1\" /><line x1=\"293.773\" y1=\"203.044\" x2=\"297.684\" y2=\"205.74\" stroke-linecap=\"round\" style=\"stroke:black;stroke-width:1\" /><line x1=\"297.684\" y1=\"205.74\" x2=\"302.661\" y2=\"206.219\" stroke-linecap=\"round\" style=\"stroke:black;stroke-width:1\" /><line x1=\"302.661\" y1=\"206.219\" x2=\"307.476\" y2=\"204.126\" stroke-linecap=\"round\" style=\"stroke:black;stroke-width:1\" /><line x1=\"307.476\" y1=\"204.126\" x2=\"310.831\" y2=\"199.767\" stroke-linecap=\"round\" style=\"stroke:black;stroke-width:1\" /><line x1=\"310.831\" y1=\"199.767\" x2=\"311.706\" y2=\"194.084\" stroke-linecap=\"round\" style=\"stroke:black;stroke-width:1\" /><line x1=\"311.706\" y1=\"194.084\" x2=\"309.654\" y2=\"188.446\" stroke-linecap=\"round\" style=\"stroke:black;stroke-width:1\" /><line x1=\"309.654\" y1=\"188.446\" x2=\"304.961\" y2=\"184.318\" stroke-linecap=\"round\" style=\"stroke:black;stroke-width:1\" /><line x1=\"304.961\" y1=\"184.318\" x2=\"298.621\" y2=\"182.883\" stroke-linecap=\"round\" style=\"stroke:black;stroke-width:1\" /><line x1=\"298.621\" y1=\"182.883\" x2=\"292.124\" y2=\"184.715\" stroke-linecap=\"round\" style=\"stroke:black;stroke-width:1\" /><line x1=\"292.124\" y1=\"184.715\" x2=\"287.103\" y2=\"189.592\" stroke-linecap=\"round\" style=\"stroke:black;stroke-width:1\" /><line x1=\"287.103\" y1=\"189.592\" x2=\"284.923\" y2=\"196.506\" stroke-linecap=\"round\" style=\"stroke:black;stroke-width:1\" /><line x1=\"284.923\" y1=\"196.506\" x2=\"286.322\" y2=\"203.874\" stroke-linecap=\"round\" style=\"stroke:black;stroke-width:1\" /><line x1=\"286.322\" y1=\"203.874\" x2=\"291.19\" y2=\"209.904\" stroke-linecap=\"round\" style=\"stroke:black;stroke-width:1\" /><line x1=\"291.19\" y1=\"209.904\" x2=\"298.554\" y2=\"213.03\" stroke-linecap=\"round\" style=\"stroke:black;stroke-width:1\" /><line x1=\"298.554\" y1=\"213.03\" x2=\"306.773\" y2=\"212.311\" stroke-linecap=\"round\" style=\"stroke:black;stroke-width:1\" /><line x1=\"306.773\" y1=\"212.311\" x2=\"313.908\" y2=\"207.692\" stroke-linecap=\"round\" style=\"stroke:black;stroke-width:1\" /><line x1=\"313.908\" y1=\"207.692\" x2=\"318.183\" y2=\"200.058\" stroke-linecap=\"round\" style=\"stroke:black;stroke-width:1\" /><line x1=\"318.183\" y1=\"200.058\" x2=\"318.419\" y2=\"191.061\" stroke-linecap=\"round\" style=\"stroke:black;stroke-width:1\" /><line x1=\"318.419\" y1=\"191.061\" x2=\"314.34\" y2=\"182.759\" stroke-linecap=\"round\" style=\"stroke:black;stroke-width:1\" /><line x1=\"314.34\" y1=\"182.759\" x2=\"306.679\" y2=\"177.142\" stroke-linecap=\"round\" style=\"stroke:black;stroke-width:1\" /><line x1=\"306.679\" y1=\"177.142\" x2=\"297.042\" y2=\"175.659\" stroke-linecap=\"round\" style=\"stroke:black;stroke-width:1\" /><line x1=\"297.042\" y1=\"175.659\" x2=\"287.568\" y2=\"178.86\" stroke-linecap=\"round\" style=\"stroke:black;stroke-width:1\" /><line x1=\"287.568\" y1=\"178.86\" x2=\"280.448\" y2=\"186.233\" stroke-linecap=\"round\" style=\"stroke:black;stroke-width:1\" /><line x1=\"280.448\" y1=\"186.233\" x2=\"277.422\" y2=\"196.287\" stroke-linecap=\"round\" style=\"stroke:black;stroke-width:1\" /><line x1=\"277.422\" y1=\"196.287\" x2=\"279.366\" y2=\"206.86\" stroke-linecap=\"round\" style=\"stroke:black;stroke-width:1\" /><line x1=\"279.366\" y1=\"206.86\" x2=\"286.062\" y2=\"215.587\" stroke-linecap=\"round\" style=\"stroke:black;stroke-width:1\" /><line x1=\"286.062\" y1=\"215.587\" x2=\"296.216\" y2=\"220.43\" stroke-linecap=\"round\" style=\"stroke:black;stroke-width:1\" /><line x1=\"296.216\" y1=\"220.43\" x2=\"307.712\" y2=\"220.146\" stroke-linecap=\"round\" style=\"stroke:black;stroke-width:1\" /><line x1=\"307.712\" y1=\"220.146\" x2=\"318.062\" y2=\"214.584\" stroke-linecap=\"round\" style=\"stroke:black;stroke-width:1\" /><line x1=\"318.062\" y1=\"214.584\" x2=\"324.945\" y2=\"204.754\" stroke-linecap=\"round\" style=\"stroke:black;stroke-width:1\" /><line x1=\"324.945\" y1=\"204.754\" x2=\"326.72\" y2=\"192.633\" stroke-linecap=\"round\" style=\"stroke:black;stroke-width:1\" /><line x1=\"326.72\" y1=\"192.633\" x2=\"322.805\" y2=\"180.762\" stroke-linecap=\"round\" style=\"stroke:black;stroke-width:1\" /><line x1=\"322.805\" y1=\"180.762\" x2=\"313.829\" y2=\"171.707\" stroke-linecap=\"round\" style=\"stroke:black;stroke-width:1\" /><line x1=\"313.829\" y1=\"171.707\" x2=\"301.525\" y2=\"167.51\" stroke-linecap=\"round\" style=\"stroke:black;stroke-width:1\" /><line x1=\"301.525\" y1=\"167.51\" x2=\"288.388\" y2=\"169.239\" stroke-linecap=\"round\" style=\"stroke:black;stroke-width:1\" /><line x1=\"288.388\" y1=\"169.239\" x2=\"277.163\" y2=\"176.739\" stroke-linecap=\"round\" style=\"stroke:black;stroke-width:1\" /><line x1=\"277.163\" y1=\"176.739\" x2=\"270.271\" y2=\"188.637\" stroke-linecap=\"round\" style=\"stroke:black;stroke-width:1\" /><line x1=\"270.271\" y1=\"188.637\" x2=\"269.294\" y2=\"202.603\" stroke-linecap=\"round\" style=\"stroke:black;stroke-width:1\" /><line x1=\"269.294\" y1=\"202.603\" x2=\"274.632\" y2=\"215.815\" stroke-linecap=\"round\" style=\"stroke:black;stroke-width:1\" /><line x1=\"274.632\" y1=\"215.815\" x2=\"285.393\" y2=\"225.533\" stroke-linecap=\"round\" style=\"stroke:black;stroke-width:1\" /><line x1=\"285.393\" y1=\"225.533\" x2=\"299.554\" y2=\"229.66\" stroke-linecap=\"round\" style=\"stroke:black;stroke-width:1\" /><line x1=\"299.554\" y1=\"229.66\" x2=\"314.348\" y2=\"227.184\" stroke-linecap=\"round\" style=\"stroke:black;stroke-width:1\" /><line x1=\"314.348\" y1=\"227.184\" x2=\"326.815\" y2=\"218.401\" stroke-linecap=\"round\" style=\"stroke:black;stroke-width:1\" /><line x1=\"326.815\" y1=\"218.401\" x2=\"334.389\" y2=\"204.877\" stroke-linecap=\"round\" style=\"stroke:black;stroke-width:1\" /><line x1=\"334.389\" y1=\"204.877\" x2=\"335.419\" y2=\"189.161\" stroke-linecap=\"round\" style=\"stroke:black;stroke-width:1\" /><line x1=\"335.419\" y1=\"189.161\" x2=\"329.512\" y2=\"174.291\" stroke-linecap=\"round\" style=\"stroke:black;stroke-width:1\" /><line x1=\"329.512\" y1=\"174.291\" x2=\"317.628\" y2=\"163.209\" stroke-linecap=\"round\" style=\"stroke:black;stroke-width:1\" /><line x1=\"317.628\" y1=\"163.209\" x2=\"301.913\" y2=\"158.179\" stroke-linecap=\"round\" style=\"stroke:black;stroke-width:1\" /><line x1=\"301.913\" y1=\"158.179\" x2=\"285.303\" y2=\"160.341\" stroke-linecap=\"round\" style=\"stroke:black;stroke-width:1\" /><line x1=\"285.303\" y1=\"160.341\" x2=\"270.965\" y2=\"169.475\" stroke-linecap=\"round\" style=\"stroke:black;stroke-width:1\" /><line x1=\"270.965\" y1=\"169.475\" x2=\"261.697\" y2=\"184.024\" stroke-linecap=\"round\" style=\"stroke:black;stroke-width:1\" /><line x1=\"261.697\" y1=\"184.024\" x2=\"259.388\" y2=\"201.371\" stroke-linecap=\"round\" style=\"stroke:black;stroke-width:1\" /><line x1=\"259.388\" y1=\"201.371\" x2=\"264.652\" y2=\"218.323\" stroke-linecap=\"round\" style=\"stroke:black;stroke-width:1\" /><line x1=\"264.652\" y1=\"218.323\" x2=\"276.696\" y2=\"231.7\" stroke-linecap=\"round\" style=\"stroke:black;stroke-width:1\" /><line x1=\"276.696\" y1=\"231.7\" x2=\"293.453\" y2=\"238.928\" stroke-linecap=\"round\" style=\"stroke:black;stroke-width:1\" /><line x1=\"293.453\" y1=\"238.928\" x2=\"311.949\" y2=\"238.524\" stroke-linecap=\"round\" style=\"stroke:black;stroke-width:1\" /><line x1=\"311.949\" y1=\"238.524\" x2=\"328.837\" y2=\"230.378\" stroke-linecap=\"round\" style=\"stroke:black;stroke-width:1\" /><line x1=\"328.837\" y1=\"230.378\" x2=\"341.008\" y2=\"215.788\" stroke-linecap=\"round\" style=\"stroke:black;stroke-width:1\" /><line x1=\"341.008\" y1=\"215.788\" x2=\"346.152\" y2=\"197.238\" stroke-linecap=\"round\" style=\"stroke:black;stroke-width:1\" /><line x1=\"346.152\" y1=\"197.238\" x2=\"343.186\" y2=\"177.965\" stroke-linecap=\"round\" style=\"stroke:black;stroke-width:1\" /><line x1=\"343.186\" y1=\"177.965\" x2=\"332.453\" y2=\"161.386\" stroke-linecap=\"round\" style=\"stroke:black;stroke-width:1\" /><line x1=\"332.453\" y1=\"161.386\" x2=\"315.68\" y2=\"150.493\" stroke-linecap=\"round\" style=\"stroke:black;stroke-width:1\" /><line x1=\"315.68\" y1=\"150.493\" x2=\"295.679\" y2=\"147.325\" stroke-linecap=\"round\" style=\"stroke:black;stroke-width:1\" /><line x1=\"295.679\" y1=\"147.325\" x2=\"275.87\" y2=\"152.602\" stroke-linecap=\"round\" style=\"stroke:black;stroke-width:1\" /><line x1=\"275.87\" y1=\"152.602\" x2=\"259.687\" y2=\"165.59\" stroke-linecap=\"round\" style=\"stroke:black;stroke-width:1\" /><line x1=\"259.687\" y1=\"165.59\" x2=\"249.99\" y2=\"184.217\" stroke-linecap=\"round\" style=\"stroke:black;stroke-width:1\" /><line x1=\"249.99\" y1=\"184.217\" x2=\"248.569\" y2=\"205.419\" stroke-linecap=\"round\" style=\"stroke:black;stroke-width:1\" /><line x1=\"248.569\" y1=\"205.419\" x2=\"255.834\" y2=\"225.654\" stroke-linecap=\"round\" style=\"stroke:black;stroke-width:1\" /><line x1=\"255.834\" y1=\"225.654\" x2=\"270.737\" y2=\"241.496\" stroke-linecap=\"round\" style=\"stroke:black;stroke-width:1\" /><line x1=\"270.737\" y1=\"241.496\" x2=\"290.938\" y2=\"250.21\" stroke-linecap=\"round\" style=\"stroke:black;stroke-width:1\" /><line x1=\"290.938\" y1=\"250.21\" x2=\"313.188\" y2=\"250.21\" stroke-linecap=\"round\" style=\"stroke:black;stroke-width:1\" /><line x1=\"313.188\" y1=\"250.21\" x2=\"333.861\" y2=\"241.328\" stroke-linecap=\"round\" style=\"stroke:black;stroke-width:1\" /><line x1=\"333.861\" y1=\"241.328\" x2=\"349.545\" y2=\"224.849\" stroke-linecap=\"round\" style=\"stroke:black;stroke-width:1\" /><line x1=\"349.545\" y1=\"224.849\" x2=\"357.6\" y2=\"203.306\" stroke-linecap=\"round\" style=\"stroke:black;stroke-width:1\" /><line x1=\"357.6\" y1=\"203.306\" x2=\"356.586\" y2=\"180.078\" stroke-linecap=\"round\" style=\"stroke:black;stroke-width:1\" /><line x1=\"356.586\" y1=\"180.078\" x2=\"346.5\" y2=\"158.853\" stroke-linecap=\"round\" style=\"stroke:black;stroke-width:1\" /><line x1=\"346.5\" y1=\"158.853\" x2=\"328.781\" y2=\"143.038\" stroke-linecap=\"round\" style=\"stroke:black;stroke-width:1\" /><line x1=\"328.781\" y1=\"143.038\" x2=\"306.089\" y2=\"135.224\" stroke-linecap=\"round\" style=\"stroke:black;stroke-width:1\" /><line x1=\"306.089\" y1=\"135.224\" x2=\"281.889\" y2=\"136.775\" stroke-linecap=\"round\" style=\"stroke:black;stroke-width:1\" /><line x1=\"281.889\" y1=\"136.775\" x2=\"259.916\" y2=\"147.611\" stroke-linecap=\"round\" style=\"stroke:black;stroke-width:1\" /><line x1=\"259.916\" y1=\"147.611\" x2=\"243.597\" y2=\"166.219\" stroke-linecap=\"round\" style=\"stroke:black;stroke-width:1\" /><line x1=\"243.597\" y1=\"166.219\" x2=\"235.527\" y2=\"189.881\" stroke-linecap=\"round\" style=\"stroke:black;stroke-width:1\" /><line x1=\"235.527\" y1=\"189.881\" x2=\"237.068\" y2=\"215.084\" stroke-linecap=\"round\" style=\"stroke:black;stroke-width:1\" /><line x1=\"237.068\" y1=\"215.084\" x2=\"248.146\" y2=\"238.052\" stroke-linecap=\"round\" style=\"stroke:black;stroke-width:1\" /><line x1=\"248.146\" y1=\"238.052\" x2=\"267.257\" y2=\"255.31\" stroke-linecap=\"round\" style=\"stroke:black;stroke-width:1\" /><line x1=\"267.257\" y1=\"255.31\" x2=\"291.689\" y2=\"264.203\" stroke-linecap=\"round\" style=\"stroke:black;stroke-width:1\" /><line x1=\"291.689\" y1=\"264.203\" x2=\"317.923\" y2=\"263.287\" stroke-linecap=\"round\" style=\"stroke:black;stroke-width:1\" /><line x1=\"317.923\" y1=\"263.287\" x2=\"342.148\" y2=\"252.544\" stroke-linecap=\"round\" style=\"stroke:black;stroke-width:1\" /><line x1=\"342.148\" y1=\"252.544\" x2=\"360.814\" y2=\"233.383\" stroke-linecap=\"round\" style=\"stroke:black;stroke-width:1\" /><line x1=\"360.814\" y1=\"233.383\" x2=\"371.146\" y2=\"208.438\" stroke-linecap=\"round\" style=\"stroke:black;stroke-width:1\" /><line x1=\"371.146\" y1=\"208.438\" x2=\"371.542\" y2=\"181.191\" stroke-linecap=\"round\" style=\"stroke:black;stroke-width:1\" /><line x1=\"371.542\" y1=\"181.191\" x2=\"361.799\" y2=\"155.475\" stroke-linecap=\"round\" style=\"stroke:black;stroke-width:1\" /><line x1=\"361.799\" y1=\"155.475\" x2=\"343.141\" y2=\"134.934\" stroke-linecap=\"round\" style=\"stroke:black;stroke-width:1\" /><line x1=\"343.141\" y1=\"134.934\" x2=\"318.047\" y2=\"122.513\" stroke-linecap=\"round\" style=\"stroke:black;stroke-width:1\" /><line x1=\"318.047\" y1=\"122.513\" x2=\"289.904\" y2=\"120.051\" stroke-linecap=\"round\" style=\"stroke:black;stroke-width:1\" /><line x1=\"289.904\" y1=\"120.051\" x2=\"262.543\" y2=\"128.026\" stroke-linecap=\"round\" style=\"stroke:black;stroke-width:1\" /><line x1=\"262.543\" y1=\"128.026\" x2=\"239.709\" y2=\"145.495\" stroke-linecap=\"round\" style=\"stroke:black;stroke-width:1\" /><line x1=\"239.709\" y1=\"145.495\" x2=\"224.557\" y2=\"170.222\" stroke-linecap=\"round\" style=\"stroke:black;stroke-width:1\" /><line x1=\"224.557\" y1=\"170.222\" x2=\"219.227\" y2=\"198.982\" stroke-linecap=\"round\" style=\"stroke:black;stroke-width:1\" /><line x1=\"219.227\" y1=\"198.982\" x2=\"224.561\" y2=\"227.996\" stroke-linecap=\"round\" style=\"stroke:black;stroke-width:1\" /><line x1=\"224.561\" y1=\"227.996\" x2=\"239.995\" y2=\"253.43\" stroke-linecap=\"round\" style=\"stroke:black;stroke-width:1\" /><line x1=\"239.995\" y1=\"253.43\" x2=\"263.635\" y2=\"271.9\" stroke-linecap=\"round\" style=\"stroke:black;stroke-width:1\" /><line x1=\"263.635\" y1=\"271.9\" x2=\"292.511\" y2=\"280.912\" stroke-linecap=\"round\" style=\"stroke:black;stroke-width:1\" /><line x1=\"292.511\" y1=\"280.912\" x2=\"322.962\" y2=\"279.183\" stroke-linecap=\"round\" style=\"stroke:black;stroke-width:1\" /><line x1=\"322.962\" y1=\"279.183\" x2=\"351.108\" y2=\"266.799\" stroke-linecap=\"round\" style=\"stroke:black;stroke-width:1\" /><line x1=\"351.108\" y1=\"266.799\" x2=\"373.345\" y2=\"245.2\" stroke-linecap=\"round\" style=\"stroke:black;stroke-width:1\" /><line x1=\"373.345\" y1=\"245.2\" x2=\"386.798\" y2=\"216.994\" stroke-linecap=\"round\" style=\"stroke:black;stroke-width:1\" /><line x1=\"386.798\" y1=\"216.994\" x2=\"389.68\" y2=\"185.626\" stroke-linecap=\"round\" style=\"stroke:black;stroke-width:1\" /><line x1=\"389.68\" y1=\"185.626\" x2=\"381.507\" y2=\"154.946\" stroke-linecap=\"round\" style=\"stroke:black;stroke-width:1\" />\n",
              "        \n",
              "        \n",
              "        <g id=\"classic\" visibility=\"visible\" transform=\"rotate(165.0833333333333,381.507,154.946) translate(381.507, 154.946)\">\n",
              "<polygon points=\"-5,-4.5 0,-2.5 5,-4.5 0,4.5\" transform=\"skewX(0) scale(1,1)\" style=\"stroke:black;fill:black;stroke-width:1\" />\n",
              "<animateTransform id = \"one\" attributeName=\"transform\" \n",
              "                      type=\"scale\"\n",
              "                      from=\"1 1\" to=\"1 1\"\n",
              "                      begin=\"0s\" dur=\"0.01s\"\n",
              "                      repeatCount=\"1\"\n",
              "                      additive=\"sum\"\n",
              "                      fill=\"freeze\"\n",
              "                /><animateTransform attributeName=\"transform\"\n",
              "                    type=\"rotate\"\n",
              "                    from=\"0 0 0\" to =\"-20.083333333333336 0 0\"\n",
              "                    begin=\"one.end\" dur=\"0.001115740740740741s\"\n",
              "                    repeatCount=\"1\"\n",
              "                    additive=\"sum\"\n",
              "                    fill=\"freeze\"\n",
              "                /></g>\n",
              "      </svg>\n",
              "    "
            ]
          },
          "metadata": {}
        }
      ]
    },
    {
      "cell_type": "markdown",
      "source": [
        "## 3. Funções com retorno, escopo de variáveis"
      ],
      "metadata": {
        "id": "6CxmKl4yzson"
      }
    },
    {
      "cell_type": "code",
      "source": [
        "# Exemplo 12: função com retorno nulo\n",
        "\n",
        "def exibe():\n",
        "    print(\"Mensagem\")\n",
        "\n",
        "x = exibe()\n",
        "print(x)"
      ],
      "metadata": {
        "id": "v5PFqL3DURNl",
        "colab": {
          "base_uri": "https://localhost:8080/"
        },
        "outputId": "96021526-e517-43b8-cb99-3f195fb261fe"
      },
      "execution_count": null,
      "outputs": [
        {
          "output_type": "stream",
          "name": "stdout",
          "text": [
            "Mensagem\n",
            "None\n"
          ]
        }
      ]
    },
    {
      "cell_type": "code",
      "source": [
        "# Exemplo 13: função com retorno (cálculo do IMC)\n",
        "\n",
        "def imc(peso, altura):\n",
        "  return peso / altura ** 2\n",
        "\n",
        "p = float(input(\"Peso: \"))\n",
        "a = float(input(\"Altura: \"))\n",
        "print(f\"IMC: {imc(p,a)}\")"
      ],
      "metadata": {
        "id": "rnjP82I7Z16Z",
        "colab": {
          "base_uri": "https://localhost:8080/"
        },
        "outputId": "e73d265e-ea57-48c5-8241-20e184713417"
      },
      "execution_count": null,
      "outputs": [
        {
          "output_type": "stream",
          "name": "stdout",
          "text": [
            "Peso: 85\n",
            "Altura: 1.7\n",
            "IMC: 29.411764705882355\n"
          ]
        }
      ]
    },
    {
      "cell_type": "code",
      "source": [
        "# Exemplo 14: funções retornando valores para outras funções\n",
        "\n",
        "def potencia(num):\n",
        "  return num ** 2\n",
        "\n",
        "def somaPotencias(a,b,c):\n",
        "  return potencia(a) + potencia(b) + potencia(c)\n",
        "\n",
        "val1 = int(input(\"Valor 1: \"))\n",
        "val2 = int(input(\"Valor 2: \"))\n",
        "val3 = int(input(\"Valor 3: \"))\n",
        "result = somaPotencias(val1,val2,val3)\n",
        "print(f\"Soma das potências: {result}\")"
      ],
      "metadata": {
        "id": "48ifXXFtc7rs",
        "colab": {
          "base_uri": "https://localhost:8080/"
        },
        "outputId": "03802dc7-05f6-4528-e076-2fe256fb51a1"
      },
      "execution_count": null,
      "outputs": [
        {
          "output_type": "stream",
          "name": "stdout",
          "text": [
            "Valor 1: 1\n",
            "Valor 2: 2\n",
            "Valor 3: 3\n",
            "Soma das potências: 14\n"
          ]
        }
      ]
    },
    {
      "cell_type": "code",
      "source": [
        "# Exemplo 15: varíaveis com escopo local (juros compostos)\n",
        "\n",
        "def calcula(base,taxa,duracao):\n",
        "  final = base * (1+taxa) ** duracao\n",
        "  return final\n",
        "\n",
        "b = float(input(\"Valor inicial: \"))\n",
        "t = float(input(\"Taxa de juros mensal: \"))\n",
        "d = int(input(\"Duração (meses): \"))\n",
        "\n",
        "res = calcula(b,t,d)\n",
        "print(f\"Valor no final do período: {res:.2f}\")"
      ],
      "metadata": {
        "id": "whMWPL4KCf6D",
        "colab": {
          "base_uri": "https://localhost:8080/"
        },
        "outputId": "9644d68d-88ba-4694-d558-3a1398f0b721"
      },
      "execution_count": null,
      "outputs": [
        {
          "output_type": "stream",
          "name": "stdout",
          "text": [
            "Valor inicial: 1000\n",
            "Taxa de juros mensal: 0.1\n",
            "Duração (meses): 12\n",
            "Valor no final do período: 3138.43\n"
          ]
        }
      ]
    },
    {
      "cell_type": "code",
      "source": [
        "# Exemplo 16: acessando uma variável global dentro de uma função\n",
        "\n",
        "def calcula(base,duracao):\n",
        "  final = base * (1+taxa) ** duracao\n",
        "  return final\n",
        "\n",
        "b    = float(input(\"Valor inicial: \"))\n",
        "taxa = float(input(\"Taxa de juros mensal: \"))\n",
        "d    = int(input(\"Duração (meses): \"))\n",
        "\n",
        "res = calcula(b,d)\n",
        "print(f\"Valor no final do período: {res:.2f}\")"
      ],
      "metadata": {
        "id": "0twTxziAGcFu",
        "colab": {
          "base_uri": "https://localhost:8080/"
        },
        "outputId": "6165bc14-d3fa-485c-aa1c-526be60857b3"
      },
      "execution_count": null,
      "outputs": [
        {
          "output_type": "stream",
          "name": "stdout",
          "text": [
            "Valor inicial: 1000\n",
            "Taxa de juros mensal: 0.1\n",
            "Duração (meses): 12\n",
            "Valor no final do período: 3138.43\n"
          ]
        }
      ]
    },
    {
      "cell_type": "code",
      "source": [
        "# Exemplo 17: sobrepondo o valor de uma variável global dentro de uma função\n",
        "\n",
        "def calcula(base,duracao):\n",
        "  taxa = 0.2\n",
        "  final = base * (1+taxa) ** duracao\n",
        "  return final\n",
        "\n",
        "b    = float(input(\"Valor inicial: \"))\n",
        "taxa = float(input(\"Taxa de juros mensal: \"))\n",
        "d    = int(input(\"Duração (meses): \"))\n",
        "\n",
        "res = calcula(b,d)\n",
        "print(f\"Valor no final do período: {res:.2f}\")"
      ],
      "metadata": {
        "id": "rQflppgEVJEs",
        "colab": {
          "base_uri": "https://localhost:8080/"
        },
        "outputId": "71e8f68d-720b-4544-f517-7d8ed4e4bfa1"
      },
      "execution_count": null,
      "outputs": [
        {
          "output_type": "stream",
          "name": "stdout",
          "text": [
            "Valor inicial: 1000\n",
            "Taxa de juros mensal: 0.1\n",
            "Duração (meses): 12\n",
            "Valor no final do período: 8916.10\n"
          ]
        }
      ]
    },
    {
      "cell_type": "code",
      "source": [
        "# Exemplo 18: tentando alterar o valor de uma variável global dentro de uma função\n",
        "\n",
        "def calcula(base,duracao):\n",
        "  taxa = taxa + 0.1\n",
        "  final = base * (1+taxa) ** duracao\n",
        "  return final\n",
        "\n",
        "b    = float(input(\"Valor inicial: \"))\n",
        "taxa = float(input(\"Taxa de juros mensal: \"))\n",
        "d    = int(input(\"Duração (meses): \"))\n",
        "\n",
        "res = calcula(b,d)\n",
        "print(f\"Valor no final do período: {res:.2f}\")"
      ],
      "metadata": {
        "id": "ZBNmWNJ6Vjcq",
        "colab": {
          "base_uri": "https://localhost:8080/",
          "height": 434
        },
        "outputId": "804d1027-270a-4a57-addd-1959040bcf32"
      },
      "execution_count": null,
      "outputs": [
        {
          "name": "stdout",
          "output_type": "stream",
          "text": [
            "Valor inicial: 1000\n",
            "Taxa de juros mensal: 0.1\n",
            "Duração (meses): 12\n"
          ]
        },
        {
          "output_type": "error",
          "ename": "UnboundLocalError",
          "evalue": "ignored",
          "traceback": [
            "\u001b[0;31m---------------------------------------------------------------------------\u001b[0m",
            "\u001b[0;31mUnboundLocalError\u001b[0m                         Traceback (most recent call last)",
            "\u001b[0;32m<ipython-input-141-9dd61cc51d27>\u001b[0m in \u001b[0;36m<module>\u001b[0;34m\u001b[0m\n\u001b[1;32m     10\u001b[0m \u001b[0md\u001b[0m    \u001b[0;34m=\u001b[0m \u001b[0mint\u001b[0m\u001b[0;34m(\u001b[0m\u001b[0minput\u001b[0m\u001b[0;34m(\u001b[0m\u001b[0;34m\"Duração (meses): \"\u001b[0m\u001b[0;34m)\u001b[0m\u001b[0;34m)\u001b[0m\u001b[0;34m\u001b[0m\u001b[0;34m\u001b[0m\u001b[0m\n\u001b[1;32m     11\u001b[0m \u001b[0;34m\u001b[0m\u001b[0m\n\u001b[0;32m---> 12\u001b[0;31m \u001b[0mres\u001b[0m \u001b[0;34m=\u001b[0m \u001b[0mcalcula\u001b[0m\u001b[0;34m(\u001b[0m\u001b[0mb\u001b[0m\u001b[0;34m,\u001b[0m\u001b[0md\u001b[0m\u001b[0;34m)\u001b[0m\u001b[0;34m\u001b[0m\u001b[0;34m\u001b[0m\u001b[0m\n\u001b[0m\u001b[1;32m     13\u001b[0m \u001b[0mprint\u001b[0m\u001b[0;34m(\u001b[0m\u001b[0;34mf\"Valor no final do período: {res:.2f}\"\u001b[0m\u001b[0;34m)\u001b[0m\u001b[0;34m\u001b[0m\u001b[0;34m\u001b[0m\u001b[0m\n\u001b[1;32m     14\u001b[0m \u001b[0;34m\u001b[0m\u001b[0m\n",
            "\u001b[0;32m<ipython-input-141-9dd61cc51d27>\u001b[0m in \u001b[0;36mcalcula\u001b[0;34m(base, duracao)\u001b[0m\n\u001b[1;32m      2\u001b[0m \u001b[0;34m\u001b[0m\u001b[0m\n\u001b[1;32m      3\u001b[0m \u001b[0;32mdef\u001b[0m \u001b[0mcalcula\u001b[0m\u001b[0;34m(\u001b[0m\u001b[0mbase\u001b[0m\u001b[0;34m,\u001b[0m\u001b[0mduracao\u001b[0m\u001b[0;34m)\u001b[0m\u001b[0;34m:\u001b[0m\u001b[0;34m\u001b[0m\u001b[0;34m\u001b[0m\u001b[0m\n\u001b[0;32m----> 4\u001b[0;31m   \u001b[0mtaxa\u001b[0m \u001b[0;34m=\u001b[0m \u001b[0mtaxa\u001b[0m \u001b[0;34m+\u001b[0m \u001b[0;36m0.1\u001b[0m\u001b[0;34m\u001b[0m\u001b[0;34m\u001b[0m\u001b[0m\n\u001b[0m\u001b[1;32m      5\u001b[0m   \u001b[0mfinal\u001b[0m \u001b[0;34m=\u001b[0m \u001b[0mbase\u001b[0m \u001b[0;34m*\u001b[0m \u001b[0;34m(\u001b[0m\u001b[0;36m1\u001b[0m\u001b[0;34m+\u001b[0m\u001b[0mtaxa\u001b[0m\u001b[0;34m)\u001b[0m \u001b[0;34m**\u001b[0m \u001b[0mduracao\u001b[0m\u001b[0;34m\u001b[0m\u001b[0;34m\u001b[0m\u001b[0m\n\u001b[1;32m      6\u001b[0m   \u001b[0;32mreturn\u001b[0m \u001b[0mfinal\u001b[0m\u001b[0;34m\u001b[0m\u001b[0;34m\u001b[0m\u001b[0m\n",
            "\u001b[0;31mUnboundLocalError\u001b[0m: local variable 'taxa' referenced before assignment"
          ]
        }
      ]
    },
    {
      "cell_type": "code",
      "source": [
        "# Exemplo 19: usando o comando global\n",
        "\n",
        "def calcula(base,duracao):\n",
        "  global taxa\n",
        "  taxa = taxa + 0.1\n",
        "  final = base * (1+taxa) ** duracao\n",
        "  return final\n",
        "\n",
        "b    = float(input(\"Valor inicial: \"))\n",
        "taxa = float(input(\"Taxa de juros mensal: \"))\n",
        "d    = int(input(\"Duração (meses): \"))\n",
        "\n",
        "res = calcula(b,d)\n",
        "print(f\"Valor no final do período: {res:.2f}\")\n",
        "print(f\"Valor da taxa de juros: {taxa}\")"
      ],
      "metadata": {
        "id": "eGy6bykoWzjy",
        "colab": {
          "base_uri": "https://localhost:8080/"
        },
        "outputId": "d50543a2-628c-4d59-eb70-9d723bbedb01"
      },
      "execution_count": null,
      "outputs": [
        {
          "output_type": "stream",
          "name": "stdout",
          "text": [
            "Valor inicial: 1000\n",
            "Taxa de juros mensal: 0.1\n",
            "Duração (meses): 12\n",
            "Valor no final do período: 8916.10\n",
            "Valor da taxa de juros: 0.2\n"
          ]
        }
      ]
    },
    {
      "cell_type": "code",
      "source": [
        "# Exemplo 20: uso de parâmetros default\n",
        "\n",
        "def calcula(base, taxa=0.1, duracao=12):\n",
        "  final = base * (1+taxa) ** duracao\n",
        "  return final\n",
        "\n",
        "b = float(input(\"Valor inicial: \"))\n",
        "#t = float(input(\"Taxa de juros mensal: \"))\n",
        "d = int(input(\"Duração (meses): \"))\n",
        "\n",
        "res = calcula(b,duracao=d)\n",
        "print(f\"Valor no final do período: {res:.2f}\")"
      ],
      "metadata": {
        "id": "8SmDTmMFG5QJ",
        "colab": {
          "base_uri": "https://localhost:8080/"
        },
        "outputId": "36b5abbf-c214-4ec0-a095-6f61bc1d999e"
      },
      "execution_count": null,
      "outputs": [
        {
          "output_type": "stream",
          "name": "stdout",
          "text": [
            "Valor inicial: 1000\n",
            "Duração (meses): 6\n",
            "Valor no final do período: 1771.56\n"
          ]
        }
      ]
    },
    {
      "cell_type": "markdown",
      "source": [
        "## 4. Mais problemas com funções"
      ],
      "metadata": {
        "id": "CQjCdrTRQcLI"
      }
    },
    {
      "cell_type": "code",
      "source": [
        "# Exemplo 21: conjectura de Goldbach com funções\n",
        "\n",
        "def primo(numero):\n",
        "  for div in range(2, numero//2 + 1):\n",
        "    if numero % div == 0:\n",
        "      return False\n",
        "  return True\n",
        "\n",
        "def goldbach(numero):\n",
        "  for v1 in range(2, numero):\n",
        "    v2 = numero - v1\n",
        "    if primo(v1) and primo(v2):\n",
        "      return v1, v2\n",
        "\n",
        "for num in range(4,100,2):\n",
        "  primo1, primo2 = goldbach(num)\n",
        "  print(f\"{num:3}: {primo1} + {primo2}\")"
      ],
      "metadata": {
        "id": "E1kb573lViPH",
        "colab": {
          "base_uri": "https://localhost:8080/"
        },
        "outputId": "845995f7-1baa-428f-fd47-211e07cb9a2c"
      },
      "execution_count": null,
      "outputs": [
        {
          "output_type": "stream",
          "name": "stdout",
          "text": [
            "  4: 2 + 2\n",
            "  6: 3 + 3\n",
            "  8: 3 + 5\n",
            " 10: 3 + 7\n",
            " 12: 5 + 7\n",
            " 14: 3 + 11\n",
            " 16: 3 + 13\n",
            " 18: 5 + 13\n",
            " 20: 3 + 17\n",
            " 22: 3 + 19\n",
            " 24: 5 + 19\n",
            " 26: 3 + 23\n",
            " 28: 5 + 23\n",
            " 30: 7 + 23\n",
            " 32: 3 + 29\n",
            " 34: 3 + 31\n",
            " 36: 5 + 31\n",
            " 38: 7 + 31\n",
            " 40: 3 + 37\n",
            " 42: 5 + 37\n",
            " 44: 3 + 41\n",
            " 46: 3 + 43\n",
            " 48: 5 + 43\n",
            " 50: 3 + 47\n",
            " 52: 5 + 47\n",
            " 54: 7 + 47\n",
            " 56: 3 + 53\n",
            " 58: 5 + 53\n",
            " 60: 7 + 53\n",
            " 62: 3 + 59\n",
            " 64: 3 + 61\n",
            " 66: 5 + 61\n",
            " 68: 7 + 61\n",
            " 70: 3 + 67\n",
            " 72: 5 + 67\n",
            " 74: 3 + 71\n",
            " 76: 3 + 73\n",
            " 78: 5 + 73\n",
            " 80: 7 + 73\n",
            " 82: 3 + 79\n",
            " 84: 5 + 79\n",
            " 86: 3 + 83\n",
            " 88: 5 + 83\n",
            " 90: 7 + 83\n",
            " 92: 3 + 89\n",
            " 94: 5 + 89\n",
            " 96: 7 + 89\n",
            " 98: 19 + 79\n"
          ]
        }
      ]
    },
    {
      "cell_type": "code",
      "source": [
        "# Exemplo 22: função para calcular distância entre 2 pontos\n",
        "\n",
        "import math\n",
        "\n",
        "def distancia(x1,y1,x2,y2):\n",
        "  deltax = x1-x2\n",
        "  deltay = y1-y2\n",
        "  dist = math.sqrt(deltax**2 + deltay**2)\n",
        "  return dist\n",
        "\n",
        "x1 = float(input(\"x1: \"))\n",
        "y1 = float(input(\"y1: \"))\n",
        "x2 = float(input(\"x2: \"))\n",
        "y2 = float(input(\"y2: \"))\n",
        "d = distancia(x1,y1,x2,y2)\n",
        "print(f\"Distância entre ({x1},{y1}) e ({x2},{y2}): {d:.5f}\")"
      ],
      "metadata": {
        "id": "j1fHUbWXQBIb",
        "colab": {
          "base_uri": "https://localhost:8080/"
        },
        "outputId": "aa2cf92e-7b60-41f8-8bcb-3f50af1fe243"
      },
      "execution_count": null,
      "outputs": [
        {
          "output_type": "stream",
          "name": "stdout",
          "text": [
            "x1: 0\n",
            "y1: 10\n",
            "x2: 100\n",
            "y2: 10\n",
            "Distância entre (0.0,10.0) e (100.0,10.0): 100.00000\n"
          ]
        }
      ]
    },
    {
      "cell_type": "code",
      "source": [
        "# Exemplo 23: visualizando os pontos\n",
        "\n",
        "def ponto(t,x,y,tam):\n",
        "  tam = tam / 2\n",
        "  t.penup()\n",
        "  t.setposition(x-tam,y-tam)\n",
        "  t.pendown()\n",
        "  retangulo(tam*2,tam*2)\n",
        "\n",
        "clearscreen()\n",
        "setup(600,400)\n",
        "bob = Turtle()\n",
        "bob.speed(13)\n",
        "\n",
        "x1 = 0\n",
        "y1 = 0\n",
        "x2 = 100\n",
        "y2 = 100\n",
        "\n",
        "ponto(bob,x1,y1,8)\n",
        "ponto(bob,x2,y2,8)"
      ],
      "metadata": {
        "id": "KJnX29feRYT-",
        "colab": {
          "base_uri": "https://localhost:8080/",
          "height": 441
        },
        "outputId": "02a763d9-936a-4b41-90f4-dfcccb446970"
      },
      "execution_count": null,
      "outputs": [
        {
          "output_type": "display_data",
          "data": {
            "text/plain": [
              "<IPython.core.display.HTML object>"
            ],
            "text/html": [
              "\n",
              "      <svg width=\"600\" height=\"400\">  \n",
              "        <rect width=\"100%\" height=\"100%\" style=\"fill:white;stroke:;stroke-width:1\"/>\n",
              "        \n",
              "        \n",
              "        <line x1=\"296.0\" y1=\"204.0\" x2=\"304.0\" y2=\"204.0\" stroke-linecap=\"round\" style=\"stroke:black;stroke-width:1\" /><line x1=\"304.0\" y1=\"204.0\" x2=\"304.0\" y2=\"212.0\" stroke-linecap=\"round\" style=\"stroke:black;stroke-width:1\" /><line x1=\"304.0\" y1=\"212.0\" x2=\"296.0\" y2=\"212.0\" stroke-linecap=\"round\" style=\"stroke:black;stroke-width:1\" /><line x1=\"296.0\" y1=\"212.0\" x2=\"296.0\" y2=\"204.0\" stroke-linecap=\"round\" style=\"stroke:black;stroke-width:1\" /><line x1=\"396.0\" y1=\"104.0\" x2=\"404.0\" y2=\"104.0\" stroke-linecap=\"round\" style=\"stroke:black;stroke-width:1\" /><line x1=\"404.0\" y1=\"104.0\" x2=\"404.0\" y2=\"112.0\" stroke-linecap=\"round\" style=\"stroke:black;stroke-width:1\" /><line x1=\"404.0\" y1=\"112.0\" x2=\"396.0\" y2=\"112.0\" stroke-linecap=\"round\" style=\"stroke:black;stroke-width:1\" /><line x1=\"396.0\" y1=\"112.0\" x2=\"396.0\" y2=\"104.0\" stroke-linecap=\"round\" style=\"stroke:black;stroke-width:1\" />\n",
              "        \n",
              "        \n",
              "        <g id=\"classic\" visibility=\"visible\" transform=\"rotate(180,396.0,104.0) translate(396.0, 104.0)\">\n",
              "<polygon points=\"-5,-4.5 0,-2.5 5,-4.5 0,4.5\" transform=\"skewX(0) scale(1,1)\" style=\"stroke:black;fill:black;stroke-width:1\" />\n",
              "<animateTransform id = \"one\" attributeName=\"transform\" \n",
              "                      type=\"scale\"\n",
              "                      from=\"1 1\" to=\"1 1\"\n",
              "                      begin=\"0s\" dur=\"0.01s\"\n",
              "                      repeatCount=\"1\"\n",
              "                      additive=\"sum\"\n",
              "                      fill=\"freeze\"\n",
              "                /><animateTransform attributeName=\"transform\"\n",
              "                    type=\"rotate\"\n",
              "                    from=\"0 0 0\" to =\"90 0 0\"\n",
              "                    begin=\"one.end\" dur=\"0.005s\"\n",
              "                    repeatCount=\"1\"\n",
              "                    additive=\"sum\"\n",
              "                    fill=\"freeze\"\n",
              "                /></g>\n",
              "      </svg>\n",
              "    "
            ]
          },
          "metadata": {}
        }
      ]
    },
    {
      "cell_type": "code",
      "source": [
        "# Exemplo 24: determinar a menor distância entre 3 pontos\n",
        "\n",
        "def menorDist(x1,y1,x2,y2,x3,y3):\n",
        "  d12 = distancia(x1,y1,x2,y2)\n",
        "  d13 = distancia(x1,y1,x3,y3)\n",
        "  d23 = distancia(x2,y2,x3,y3)\n",
        "  return min(d12,d13,d23)\n",
        "\n",
        "x1 = 0\n",
        "y1 = 0\n",
        "x2 = 100\n",
        "y2 = 100\n",
        "x3 = 150\n",
        "y3 = 40\n",
        "\n",
        "clearscreen()\n",
        "setup(600,400)\n",
        "bob = Turtle()\n",
        "bob.speed(13)\n",
        "\n",
        "ponto(bob,x1,y1,8)\n",
        "ponto(bob,x2,y2,8)\n",
        "ponto(bob,x3,y3,8)\n",
        "minDist = menorDist(x1,y1,x2,y2,x3,y3)\n",
        "print(f\"Menor distância: {minDist:.5f}\")"
      ],
      "metadata": {
        "id": "q0c1UPfSWMUt",
        "colab": {
          "base_uri": "https://localhost:8080/",
          "height": 459
        },
        "outputId": "cae7c871-34b9-4eb0-eaeb-66ff4657cad3"
      },
      "execution_count": null,
      "outputs": [
        {
          "output_type": "display_data",
          "data": {
            "text/plain": [
              "<IPython.core.display.HTML object>"
            ],
            "text/html": [
              "\n",
              "      <svg width=\"600\" height=\"400\">  \n",
              "        <rect width=\"100%\" height=\"100%\" style=\"fill:white;stroke:;stroke-width:1\"/>\n",
              "        \n",
              "        \n",
              "        <line x1=\"296.0\" y1=\"204.0\" x2=\"304.0\" y2=\"204.0\" stroke-linecap=\"round\" style=\"stroke:black;stroke-width:1\" /><line x1=\"304.0\" y1=\"204.0\" x2=\"304.0\" y2=\"212.0\" stroke-linecap=\"round\" style=\"stroke:black;stroke-width:1\" /><line x1=\"304.0\" y1=\"212.0\" x2=\"296.0\" y2=\"212.0\" stroke-linecap=\"round\" style=\"stroke:black;stroke-width:1\" /><line x1=\"296.0\" y1=\"212.0\" x2=\"296.0\" y2=\"204.0\" stroke-linecap=\"round\" style=\"stroke:black;stroke-width:1\" /><line x1=\"396.0\" y1=\"104.0\" x2=\"404.0\" y2=\"104.0\" stroke-linecap=\"round\" style=\"stroke:black;stroke-width:1\" /><line x1=\"404.0\" y1=\"104.0\" x2=\"404.0\" y2=\"112.0\" stroke-linecap=\"round\" style=\"stroke:black;stroke-width:1\" /><line x1=\"404.0\" y1=\"112.0\" x2=\"396.0\" y2=\"112.0\" stroke-linecap=\"round\" style=\"stroke:black;stroke-width:1\" /><line x1=\"396.0\" y1=\"112.0\" x2=\"396.0\" y2=\"104.0\" stroke-linecap=\"round\" style=\"stroke:black;stroke-width:1\" /><line x1=\"446.0\" y1=\"164.0\" x2=\"454.0\" y2=\"164.0\" stroke-linecap=\"round\" style=\"stroke:black;stroke-width:1\" /><line x1=\"454.0\" y1=\"164.0\" x2=\"454.0\" y2=\"172.0\" stroke-linecap=\"round\" style=\"stroke:black;stroke-width:1\" /><line x1=\"454.0\" y1=\"172.0\" x2=\"446.0\" y2=\"172.0\" stroke-linecap=\"round\" style=\"stroke:black;stroke-width:1\" /><line x1=\"446.0\" y1=\"172.0\" x2=\"446.0\" y2=\"164.0\" stroke-linecap=\"round\" style=\"stroke:black;stroke-width:1\" />\n",
              "        \n",
              "        \n",
              "        <g id=\"classic\" visibility=\"visible\" transform=\"rotate(180,446.0,164.0) translate(446.0, 164.0)\">\n",
              "<polygon points=\"-5,-4.5 0,-2.5 5,-4.5 0,4.5\" transform=\"skewX(0) scale(1,1)\" style=\"stroke:black;fill:black;stroke-width:1\" />\n",
              "<animateTransform id = \"one\" attributeName=\"transform\" \n",
              "                      type=\"scale\"\n",
              "                      from=\"1 1\" to=\"1 1\"\n",
              "                      begin=\"0s\" dur=\"0.01s\"\n",
              "                      repeatCount=\"1\"\n",
              "                      additive=\"sum\"\n",
              "                      fill=\"freeze\"\n",
              "                /><animateTransform attributeName=\"transform\"\n",
              "                    type=\"rotate\"\n",
              "                    from=\"0 0 0\" to =\"90 0 0\"\n",
              "                    begin=\"one.end\" dur=\"0.005s\"\n",
              "                    repeatCount=\"1\"\n",
              "                    additive=\"sum\"\n",
              "                    fill=\"freeze\"\n",
              "                /></g>\n",
              "      </svg>\n",
              "    "
            ]
          },
          "metadata": {}
        },
        {
          "output_type": "stream",
          "name": "stdout",
          "text": [
            "Menor distância: 78.10250\n"
          ]
        }
      ]
    },
    {
      "cell_type": "code",
      "source": [
        "# Exemplo 25: coeficiente binomial\n",
        "\n",
        "def fatorial(num):\n",
        "\tfat = 1\n",
        "\tfor cont in range(1,num+1):\n",
        "\t\tfat = fat * cont\n",
        "\treturn fat\n",
        "\n",
        "def binomial(n,k):\n",
        "\treturn fatorial(n)//(fatorial(k)*fatorial(n-k))\n",
        "\n",
        "print(binomial(4,2))\n",
        "print(binomial(20,10))"
      ],
      "metadata": {
        "id": "7DpPjU4tfysd",
        "colab": {
          "base_uri": "https://localhost:8080/"
        },
        "outputId": "ab0fc3fe-a49a-4ef6-9852-81cea48a4e29"
      },
      "execution_count": null,
      "outputs": [
        {
          "output_type": "stream",
          "name": "stdout",
          "text": [
            "6\n",
            "184756\n"
          ]
        }
      ]
    },
    {
      "cell_type": "code",
      "source": [
        "# Exemplo 26: coeficiente binomial (melhorado)\n",
        "\n",
        "def binomial2(n,k):\n",
        "  prod = 1\n",
        "  total = k\n",
        "  if n-k < k:\n",
        "    total = n-k\n",
        "  for i in range(1,total+1):\n",
        "    prod = prod * ((n+1-i)/i)\n",
        "  return int(prod)\n",
        "\n",
        "print(binomial2(4,2))\n",
        "print(binomial2(20,10))\n",
        "\n",
        "#%timeit binomial2(70,50)\n",
        "#%timeit binomial(70,50)"
      ],
      "metadata": {
        "id": "KVyaWwH3iOJd",
        "colab": {
          "base_uri": "https://localhost:8080/"
        },
        "outputId": "daa150af-c1f1-4c01-cec4-48d87caef86d"
      },
      "execution_count": null,
      "outputs": [
        {
          "output_type": "stream",
          "name": "stdout",
          "text": [
            "6\n",
            "184756\n"
          ]
        }
      ]
    },
    {
      "cell_type": "code",
      "source": [
        "# Exemplo 27: Triângulo de Pascal\n",
        "\n",
        "def pascal(linhas):\n",
        "  for linha in range(linhas):\n",
        "    # Cada coluna tem n+1 valores (linha+1)\n",
        "    for coluna in range(linha+1):\n",
        "      # Exibe a linha e coluna atuais\n",
        "      # (use a função binomial2 para obter o valor desejado)\n",
        "      valor = binomial2(linha,coluna)\n",
        "      print(f\"{valor} \",end=\"\")\n",
        "    print()\n",
        "\n",
        "pascal(15) "
      ],
      "metadata": {
        "id": "l9HpNeYnt448",
        "colab": {
          "base_uri": "https://localhost:8080/"
        },
        "outputId": "96a1ed35-cc41-4ecf-b17b-ac75a155e4ee"
      },
      "execution_count": null,
      "outputs": [
        {
          "output_type": "stream",
          "name": "stdout",
          "text": [
            "1 \n",
            "1 1 \n",
            "1 2 1 \n",
            "1 3 3 1 \n",
            "1 4 6 4 1 \n",
            "1 5 10 10 5 1 \n",
            "1 6 15 20 15 6 1 \n",
            "1 7 21 35 35 21 7 1 \n",
            "1 8 28 56 70 56 28 8 1 \n",
            "1 9 36 84 126 126 84 36 9 1 \n",
            "1 10 45 120 210 252 210 120 45 10 1 \n",
            "1 11 55 165 330 461 461 330 165 55 11 1 \n",
            "1 12 66 220 495 792 924 792 495 220 66 12 1 \n",
            "1 13 78 286 715 1287 1716 1716 1287 715 286 78 13 1 \n",
            "1 14 91 364 1001 2002 3003 3432 3003 2002 1001 364 91 14 1 \n"
          ]
        }
      ]
    },
    {
      "cell_type": "markdown",
      "source": [
        "## 5. Dinâmica: exercício de fixação"
      ],
      "metadata": {
        "id": "Wu3Vwq4oywR7"
      }
    },
    {
      "cell_type": "code",
      "source": [
        "# Exercício\n",
        "\n",
        "# Jogo da forca\n",
        "\n",
        "import random\n",
        "\n",
        "def sorteio():\n",
        "  return random.choice([\"amarelo\", \"amiga\", \"amor\", \"ave\", \"bala\", \"bela\", \"bolo\", \"branco\",\n",
        "     \"cama\", \"caneca\", \"celular\", \"clube\", \"copo\", \"doce\", \"elefante\", \"escola\",\n",
        "     \"estojo\", \"faca\", \"foto\", \"garfo\", \"geleia\", \"girafa\", \"janela\", \"limonada\",\n",
        "     \"meia\", \"noite\", \"ovo\", \"pai\", \"parque\", \"passarinho\", \"peixe\",\n",
        "     \"pijama\", \"rato\", \"umbigo\"])\n",
        "\n",
        "def forca(vidas):\n",
        "  if vidas == 0:\n",
        "    print('''\n",
        "  +---+\n",
        "  |   |\n",
        "  O   |\n",
        " /|\\  |\n",
        " / \\  |\n",
        "      |\n",
        "=========\n",
        "''')\n",
        "  elif vidas == 1:\n",
        "    print('''\n",
        "  +---+\n",
        "  |   |\n",
        "  O   |\n",
        " /|\\  |\n",
        " /    |\n",
        "      |\n",
        "=========\n",
        "''')\n",
        "  elif vidas == 2:\n",
        "    print('''\n",
        "  +---+\n",
        "  |   |\n",
        "  O   |\n",
        " /|\\  |\n",
        "      |\n",
        "      |\n",
        "=========\n",
        "''')\n",
        "  elif vidas == 3:\n",
        "    print('''\n",
        "  +---+\n",
        "  |   |\n",
        "  O   |\n",
        " /|   |\n",
        "      |\n",
        "      |\n",
        "=========''')\n",
        "  elif vidas == 4:\n",
        "    print('''\n",
        "  +---+\n",
        "  |   |\n",
        "  O   |\n",
        "  |   |\n",
        "      |\n",
        "      |\n",
        "=========\n",
        "''')\n",
        "  elif vidas == 5:\n",
        "    print('''\n",
        "  +---+\n",
        "  |   |\n",
        "  O   |\n",
        "      |\n",
        "      |\n",
        "      |\n",
        "=========\n",
        "''')\n",
        "  else:\n",
        "    print('''\n",
        "  +---+\n",
        "  |   |\n",
        "      |\n",
        "      |\n",
        "      |\n",
        "      |\n",
        "=========\n",
        "''')\n",
        "\n",
        "# 1. Sorteia a palavra\n",
        "palavra = sorteio()\n",
        "print(palavra)\n",
        "\n",
        "# 2. Gera uma palavra com _\n",
        "tam = len(palavra)\n",
        "adivinhada = \"_\" * tam # letras já adivinhadas\n",
        "vidas = 6\n",
        "letras = \"\"  # letras já escolhidas\n",
        "#print(adivinhada)\n",
        "\n",
        "jogoAtivo = True\n",
        "# 3. Enquanto o jogo estiver ativo:\n",
        "while jogoAtivo:\n",
        "\n",
        "  # 4. Exibe estado do jogo\n",
        "  print()\n",
        "  forca(vidas)\n",
        "  print(adivinhada)\n",
        "  print()\n",
        "  print(f\"Letras já escolhidas: {letras}\")\n",
        "\n",
        "  # 5. Aguarda a digitação de uma letra válida (ainda não escolhida)\n",
        "  valida = False\n",
        "  while not valida:\n",
        "    letra = input(\"Escolha uma letra: \")\n",
        "    if letra not in letras:\n",
        "      valida = True\n",
        "    else:\n",
        "      print(\"Esta letra já foi escolhida!\")\n",
        "  \n",
        "  # Registra a letra digitada\n",
        "  letras += letra\n",
        "\n",
        "  # 6. Verifica se a letra está na palavra:\n",
        "  if letra in palavra:\n",
        "    # - Se estiver, troca os _\n",
        "    for pos in range(tam):\n",
        "      if letra == palavra[pos]:\n",
        "        adivinhada = adivinhada[:pos] + letra + adivinhada[pos+1:]\n",
        "  else:\n",
        "    # - Se não estiver, perde uma vida e verifica se o jogador perdeu\n",
        "    print(\"Esta letra não está na palavra...\")\n",
        "    vidas -= 1\n",
        "    if vidas == 0:\n",
        "      forca(vidas)\n",
        "      print(\"Infelizmente você perdeu...\")\n",
        "      jogoAtivo = False\n",
        "  \n",
        "  # 7. Verifica se o jogador ganhou\n",
        "  if \"_\" not in adivinhada:\n",
        "    print(\"Parabéns, você acertou!\")\n",
        "    jogoAtivo = False\n",
        "\n",
        "# 8. Mostra a palavra sorteada\n",
        "print(f\"A palavra sorteada era {palavra}\")\n"
      ],
      "metadata": {
        "id": "3nR9CeKNy00p",
        "colab": {
          "base_uri": "https://localhost:8080/"
        },
        "outputId": "ed8e4baf-9ee2-490d-97c9-a2d77033e1e1"
      },
      "execution_count": null,
      "outputs": [
        {
          "output_type": "stream",
          "name": "stdout",
          "text": [
            "ovo\n",
            "\n",
            "\n",
            "  +---+\n",
            "  |   |\n",
            "      |\n",
            "      |\n",
            "      |\n",
            "      |\n",
            "=========\n",
            "\n",
            "___\n",
            "\n",
            "Letras já escolhidas: \n",
            "Escolha uma letra: a\n",
            "Esta letra não está na palavra...\n",
            "\n",
            "\n",
            "  +---+\n",
            "  |   |\n",
            "  O   |\n",
            "      |\n",
            "      |\n",
            "      |\n",
            "=========\n",
            "\n",
            "___\n",
            "\n",
            "Letras já escolhidas: a\n",
            "Escolha uma letra: o\n",
            "\n",
            "\n",
            "  +---+\n",
            "  |   |\n",
            "  O   |\n",
            "      |\n",
            "      |\n",
            "      |\n",
            "=========\n",
            "\n",
            "o_o\n",
            "\n",
            "Letras já escolhidas: ao\n",
            "Escolha uma letra: x\n",
            "Esta letra não está na palavra...\n",
            "\n",
            "\n",
            "  +---+\n",
            "  |   |\n",
            "  O   |\n",
            "  |   |\n",
            "      |\n",
            "      |\n",
            "=========\n",
            "\n",
            "o_o\n",
            "\n",
            "Letras já escolhidas: aox\n",
            "Escolha uma letra: p\n",
            "Esta letra não está na palavra...\n",
            "\n",
            "\n",
            "  +---+\n",
            "  |   |\n",
            "  O   |\n",
            " /|   |\n",
            "      |\n",
            "      |\n",
            "=========\n",
            "o_o\n",
            "\n",
            "Letras já escolhidas: aoxp\n",
            "Escolha uma letra: f\n",
            "Esta letra não está na palavra...\n",
            "\n",
            "\n",
            "  +---+\n",
            "  |   |\n",
            "  O   |\n",
            " /|\\  |\n",
            "      |\n",
            "      |\n",
            "=========\n",
            "\n",
            "o_o\n",
            "\n",
            "Letras já escolhidas: aoxpf\n",
            "Escolha uma letra: v\n",
            "Parabéns, você acertou!\n",
            "A palavra sorteada era ovo\n"
          ]
        }
      ]
    }
  ],
  "metadata": {
    "colab": {
      "provenance": []
    },
    "kernelspec": {
      "display_name": "Python 3 (ipykernel)",
      "language": "python",
      "name": "python3"
    },
    "language_info": {
      "codemirror_mode": {
        "name": "ipython",
        "version": 3
      },
      "file_extension": ".py",
      "mimetype": "text/x-python",
      "name": "python",
      "nbconvert_exporter": "python",
      "pygments_lexer": "ipython3",
      "version": "3.9.7"
    }
  },
  "nbformat": 4,
  "nbformat_minor": 0
}